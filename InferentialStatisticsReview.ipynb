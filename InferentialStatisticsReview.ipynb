{
 "cells": [
  {
   "cell_type": "markdown",
   "metadata": {},
   "source": [
    "# Inferential statistics"
   ]
  },
  {
   "cell_type": "markdown",
   "metadata": {},
   "source": [
    "Inferential statistics measures helps us draw inferences about the larger population from the sample data. You rarely have access to full population datasets. \n",
    "\n",
    "Consider the following: The evidence linking cigarrette smoking and lung disease is almost irrefutable. Based upon this information, what proportion of Americans have given up smoking? One way to answer this question would be to survey the entire population of the United States. It would be impossible from the standpoint of time and cost-effectiveness. Mathematicians have created methods of estimating population parameters from samples drawn from target populations that adequautely represent the large population.\n",
    "\n",
    "In inferential statistics, we answer questions (test hypotheses) about populations based upon sample or prior data. Since parameters of populations are generally not available, we must rely on sampling techniques to estimate them. "
   ]
  },
  {
   "cell_type": "markdown",
   "metadata": {},
   "source": [
    "## Sampling Distributions\n",
    "\n",
    "A sampling distribution is a theoretical distribution that would result if we were to take all possible samples from a given population. Suppose we were able to draw a representative sample using 20 individuals (N = 20) from a population. We could then calculate what is referred to as a sampling distribution. We typically draw fewer samples with knowledge that there will be some error. This error term can be calculated and will be used in inference. \n",
    "\n",
    "For example, how do we know the average height of males in this country is 5'9? If we were to draw one hundred different samples of 10 males at random, we will find a certain amount of difference among the means and standard deviations of the samples. Imagine that the standard deviation of our sample means is 2.25'. We have what is called the \"standard error of the mean\". It can be defined as the theoretical standard deviation of sample means of a given sample drawn from a population. \n",
    "\n",
    "When a researcher asserts something he/she is inferring, he/she does so with the knowledge that there will be a calculated error. They generally designate 2 cutoff points for error based upon normal distributions and they are called significance levels. Some researchers conclude that if the event would occur by chance 5% of the time or less, then the event can be attributed to non-chance factors. In other settings, researchers conclude that if the event would occur by chance 1% of the time or less, then the event can be attributed to non-chance factors. These are 0.5 and 0.1 significance levels, respectively. The problem/data domain and other factors drive the required significance levels for a particular statistical evaluation. "
   ]
  },
  {
   "cell_type": "markdown",
   "metadata": {},
   "source": [
    "### Example\n",
    "\n",
    "In the case of male heights, we could choose at random 10 males and their average height would fall 69' $\\pm$ 2.25' (1.96). In other words, from 64.59' to 73.41'. The sample standard deviation is multiplied by 1.96 since a Z-Score of $\\pm$ 1.96 would encompass 95% of the normal distribution. Here, if we are using 0.5 signficance level, we would theoritically be correct 95% of the time. Also, we would know that 5% of the samples we chose would have a mean height or greater than 73.41' or less than 64.59'\n",
    "\n",
    "When dealing with two tailed tests, sometimes alpha levels/significance levels are referred to as confidence intervals. The 0.5 alpha level is the 95% confidence band. You might say that you are 95% confident in asserting your hypothesis. \n",
    "\n",
    "In order to perform inferential statistics or parametrics tests of significance, we'll have to use sampling distributions. In order to create a sampling distribution, we would need to draw all possible samples of size N from a given population. Once we have calculated the mean for each distribution, the resulting distribution would be the sampling distribution of means. \n",
    "\n",
    "Sampling distributions have 3 characteristics:\n",
    "* The mean of the sampling distribution will not change with the change in sample size. If the mean from the sampling distribution of means is 20 when N = 10, it will remain 20 whether you increase or descrease the size of the samples. Simply put, the mean of the sampling distribution is equal to the mean of the population. \n",
    "* As the sample size in the sampling distribution of means increases, the dispersion of sample means will becomes less. The larger the N, the more compact the distribution of sample means. As N increaes, the standard error of the mean decreases. \n",
    "* If the sampling distribution of means is taken from a normally distributed population, the sample means will also be bell-shaped. \n",
    "\n",
    "Based on the above 3 issues, the Central Limit Theorem states: If random samples of fixed N are drawn from any population, as N becomes larger, the distribution of sample means approaches normality with the overall mean approaching $\\mu$.\n",
    "The standard error of the sample means is equal to\n",
    "\n",
    "$$\\sigma_{\\bar{x}} = \\frac{\\sigma}{\\sqrt(N)}$$\n",
    "\n",
    "and z-statistic is given as \n",
    "\n",
    "$$Z = \\frac{\\bar{X}-\\mu}{\\sigma_{\\bar{x}}}$$\n",
    "\n",
    "where,\n",
    "* $\\bar{X}$ = sample mean,\n",
    "* $\\mu$ = population mean and  \n",
    "* $\\sigma_{\\bar{x}}$ = population standard deviation  \n"
   ]
  },
  {
   "cell_type": "markdown",
   "metadata": {
    "collapsed": true
   },
   "source": [
    "## Hypothesis\n",
    "\n",
    "Null hypothesis: The null hypothesis specifies values for parameters. Generally referred to as \"no significant difference\" hypothesis. I personally call it the \"dull\" hypothesis. Most analyses are set up to reject or not reject the null hypothesis. \n",
    "\n",
    "Alternate hypothesis: The alternative hypothesis states that the population parameters are something other than the one hypothesized. A statement like \"this class is different from other statistics classes\" is an example of an alternate hypothesis. \n",
    "\n",
    "### Statistical error (Type I, Alpha & Type II, Beta)\n",
    "\n",
    "#### Type I: \n",
    "When we reject the null hypothesis and it is really true, it is called a Type I error. A Type I error is equal to the alpha level set and sometimes referred to as the alpha error. If we set the alpha level at 0.5, our chance of making a type I error is 5%. \n",
    "\n",
    "#### Type II: \n",
    "When we fail to reject the null hypothesis when it is actually false, it is called a Type II error (beta error). A Type II error is more likely to be made than a Type I error. The lower we set the alpha level, the less likely we are to make a Type I error and more likely we are to make a Type II error. "
   ]
  },
  {
   "cell_type": "markdown",
   "metadata": {},
   "source": [
    "Let's find out the inference with which we can draw from the body dimensions (bdims) dataset. The dataset contains body dimensions data from 247 men and 260 women. \n",
    "\n",
    "Let's pretend we want to check the significance of the variable sex for hypothesis testing. Assume that males (sex = 1) have higher weight than the average population weight. \n",
    "\n",
    "To verify this assumption, let's use z-test and see if males are actually heavier than the overall population. \n",
    "\n",
    "H0 = Null Hypothesis = There is no significant difference in weights of men and women. \n",
    "\n",
    "H1 = Alternative Hypothesis = There is a better chance of men being heavier than average population weight. \n",
    "\n",
    "* Datasource = http://www.openintro.org/stat/data/bdims.RData\n",
    "* Details = http://www.openintro.org/stat/data/bdims.php"
   ]
  },
  {
   "cell_type": "code",
   "execution_count": 1,
   "metadata": {
    "collapsed": true
   },
   "outputs": [],
   "source": [
    "download.file(\"http://www.openintro.org/stat/data/bdims.RData\", destfile = \"bdims.RData\")"
   ]
  },
  {
   "cell_type": "code",
   "execution_count": 2,
   "metadata": {
    "collapsed": true
   },
   "outputs": [],
   "source": [
    "load(\"bdims.RData\")"
   ]
  },
  {
   "cell_type": "code",
   "execution_count": 4,
   "metadata": {},
   "outputs": [
    {
     "data": {
      "text/html": [
       "<table>\n",
       "<thead><tr><th></th><th scope=col>1</th><th scope=col>2</th><th scope=col>3</th><th scope=col>4</th><th scope=col>5</th><th scope=col>6</th></tr></thead>\n",
       "<tbody>\n",
       "\t<tr><th scope=row>bia.di</th><td>42.9 </td><td>43.7 </td><td>40.1 </td><td>44.3 </td><td>42.5 </td><td>43.3 </td></tr>\n",
       "\t<tr><th scope=row>bii.di</th><td>26.0 </td><td>28.5 </td><td>28.2 </td><td>29.9 </td><td>29.9 </td><td>27.0 </td></tr>\n",
       "\t<tr><th scope=row>bit.di</th><td>31.5 </td><td>33.5 </td><td>33.3 </td><td>34.0 </td><td>34.0 </td><td>31.5 </td></tr>\n",
       "\t<tr><th scope=row>che.de</th><td>17.7 </td><td>16.9 </td><td>20.9 </td><td>18.4 </td><td>21.5 </td><td>19.6 </td></tr>\n",
       "\t<tr><th scope=row>che.di</th><td>28.0 </td><td>30.8 </td><td>31.7 </td><td>28.2 </td><td>29.4 </td><td>31.3 </td></tr>\n",
       "\t<tr><th scope=row>elb.di</th><td>13.1 </td><td>14.0 </td><td>13.9 </td><td>13.9 </td><td>15.2 </td><td>14.0 </td></tr>\n",
       "\t<tr><th scope=row>wri.di</th><td>10.4 </td><td>11.8 </td><td>10.9 </td><td>11.2 </td><td>11.6 </td><td>11.5 </td></tr>\n",
       "\t<tr><th scope=row>kne.di</th><td>18.8 </td><td>20.6 </td><td>19.7 </td><td>20.9 </td><td>20.7 </td><td>18.8 </td></tr>\n",
       "\t<tr><th scope=row>ank.di</th><td>14.1 </td><td>15.1 </td><td>14.1 </td><td>15.0 </td><td>14.9 </td><td>13.9 </td></tr>\n",
       "\t<tr><th scope=row>sho.gi</th><td>106.2</td><td>110.5</td><td>115.1</td><td>104.5</td><td>107.5</td><td>119.8</td></tr>\n",
       "\t<tr><th scope=row>che.gi</th><td>89.5 </td><td>97.0 </td><td>97.5 </td><td>97.0 </td><td>97.5 </td><td>99.9 </td></tr>\n",
       "\t<tr><th scope=row>wai.gi</th><td>71.5 </td><td>79.0 </td><td>83.2 </td><td>77.8 </td><td>80.0 </td><td>82.5 </td></tr>\n",
       "\t<tr><th scope=row>nav.gi</th><td>74.5 </td><td>86.5 </td><td>82.9 </td><td>78.8 </td><td>82.5 </td><td>80.1 </td></tr>\n",
       "\t<tr><th scope=row>hip.gi</th><td>93.5 </td><td>94.8 </td><td>95.0 </td><td>94.0 </td><td>98.5 </td><td>95.3 </td></tr>\n",
       "\t<tr><th scope=row>thi.gi</th><td>51.5 </td><td>51.5 </td><td>57.3 </td><td>53.0 </td><td>55.4 </td><td>57.5 </td></tr>\n",
       "\t<tr><th scope=row>bic.gi</th><td>32.5 </td><td>34.4 </td><td>33.4 </td><td>31.0 </td><td>32.0 </td><td>33.0 </td></tr>\n",
       "\t<tr><th scope=row>for.gi</th><td>26.0 </td><td>28.0 </td><td>28.8 </td><td>26.2 </td><td>28.4 </td><td>28.0 </td></tr>\n",
       "\t<tr><th scope=row>kne.gi</th><td>34.5 </td><td>36.5 </td><td>37.0 </td><td>37.0 </td><td>37.7 </td><td>36.6 </td></tr>\n",
       "\t<tr><th scope=row>cal.gi</th><td>36.5 </td><td>37.5 </td><td>37.3 </td><td>34.8 </td><td>38.6 </td><td>36.1 </td></tr>\n",
       "\t<tr><th scope=row>ank.gi</th><td>23.5 </td><td>24.5 </td><td>21.9 </td><td>23.0 </td><td>24.4 </td><td>23.5 </td></tr>\n",
       "\t<tr><th scope=row>wri.gi</th><td>16.5 </td><td>17.0 </td><td>16.9 </td><td>16.6 </td><td>18.0 </td><td>16.9 </td></tr>\n",
       "\t<tr><th scope=row>age</th><td>21   </td><td>23   </td><td>28   </td><td>23   </td><td>22   </td><td>21   </td></tr>\n",
       "\t<tr><th scope=row>wgt</th><td>65.6 </td><td>71.8 </td><td>80.7 </td><td>72.6 </td><td>78.8 </td><td>74.8 </td></tr>\n",
       "\t<tr><th scope=row>hgt</th><td>174.0</td><td>175.3</td><td>193.5</td><td>186.5</td><td>187.2</td><td>181.5</td></tr>\n",
       "\t<tr><th scope=row>sex</th><td>1    </td><td>1    </td><td>1    </td><td>1    </td><td>1    </td><td>1    </td></tr>\n",
       "</tbody>\n",
       "</table>\n"
      ],
      "text/latex": [
       "\\begin{tabular}{r|llllll}\n",
       "  & 1 & 2 & 3 & 4 & 5 & 6\\\\\n",
       "\\hline\n",
       "\tbia.di & 42.9  & 43.7  & 40.1  & 44.3  & 42.5  & 43.3 \\\\\n",
       "\tbii.di & 26.0  & 28.5  & 28.2  & 29.9  & 29.9  & 27.0 \\\\\n",
       "\tbit.di & 31.5  & 33.5  & 33.3  & 34.0  & 34.0  & 31.5 \\\\\n",
       "\tche.de & 17.7  & 16.9  & 20.9  & 18.4  & 21.5  & 19.6 \\\\\n",
       "\tche.di & 28.0  & 30.8  & 31.7  & 28.2  & 29.4  & 31.3 \\\\\n",
       "\telb.di & 13.1  & 14.0  & 13.9  & 13.9  & 15.2  & 14.0 \\\\\n",
       "\twri.di & 10.4  & 11.8  & 10.9  & 11.2  & 11.6  & 11.5 \\\\\n",
       "\tkne.di & 18.8  & 20.6  & 19.7  & 20.9  & 20.7  & 18.8 \\\\\n",
       "\tank.di & 14.1  & 15.1  & 14.1  & 15.0  & 14.9  & 13.9 \\\\\n",
       "\tsho.gi & 106.2 & 110.5 & 115.1 & 104.5 & 107.5 & 119.8\\\\\n",
       "\tche.gi & 89.5  & 97.0  & 97.5  & 97.0  & 97.5  & 99.9 \\\\\n",
       "\twai.gi & 71.5  & 79.0  & 83.2  & 77.8  & 80.0  & 82.5 \\\\\n",
       "\tnav.gi & 74.5  & 86.5  & 82.9  & 78.8  & 82.5  & 80.1 \\\\\n",
       "\thip.gi & 93.5  & 94.8  & 95.0  & 94.0  & 98.5  & 95.3 \\\\\n",
       "\tthi.gi & 51.5  & 51.5  & 57.3  & 53.0  & 55.4  & 57.5 \\\\\n",
       "\tbic.gi & 32.5  & 34.4  & 33.4  & 31.0  & 32.0  & 33.0 \\\\\n",
       "\tfor.gi & 26.0  & 28.0  & 28.8  & 26.2  & 28.4  & 28.0 \\\\\n",
       "\tkne.gi & 34.5  & 36.5  & 37.0  & 37.0  & 37.7  & 36.6 \\\\\n",
       "\tcal.gi & 36.5  & 37.5  & 37.3  & 34.8  & 38.6  & 36.1 \\\\\n",
       "\tank.gi & 23.5  & 24.5  & 21.9  & 23.0  & 24.4  & 23.5 \\\\\n",
       "\twri.gi & 16.5  & 17.0  & 16.9  & 16.6  & 18.0  & 16.9 \\\\\n",
       "\tage & 21    & 23    & 28    & 23    & 22    & 21   \\\\\n",
       "\twgt & 65.6  & 71.8  & 80.7  & 72.6  & 78.8  & 74.8 \\\\\n",
       "\thgt & 174.0 & 175.3 & 193.5 & 186.5 & 187.2 & 181.5\\\\\n",
       "\tsex & 1     & 1     & 1     & 1     & 1     & 1    \\\\\n",
       "\\end{tabular}\n"
      ],
      "text/markdown": [
       "\n",
       "| <!--/--> | 1 | 2 | 3 | 4 | 5 | 6 | \n",
       "|---|---|---|---|---|---|---|---|---|---|---|---|---|---|---|---|---|---|---|---|---|---|---|---|---|\n",
       "| bia.di | 42.9  | 43.7  | 40.1  | 44.3  | 42.5  | 43.3  | \n",
       "| bii.di | 26.0  | 28.5  | 28.2  | 29.9  | 29.9  | 27.0  | \n",
       "| bit.di | 31.5  | 33.5  | 33.3  | 34.0  | 34.0  | 31.5  | \n",
       "| che.de | 17.7  | 16.9  | 20.9  | 18.4  | 21.5  | 19.6  | \n",
       "| che.di | 28.0  | 30.8  | 31.7  | 28.2  | 29.4  | 31.3  | \n",
       "| elb.di | 13.1  | 14.0  | 13.9  | 13.9  | 15.2  | 14.0  | \n",
       "| wri.di | 10.4  | 11.8  | 10.9  | 11.2  | 11.6  | 11.5  | \n",
       "| kne.di | 18.8  | 20.6  | 19.7  | 20.9  | 20.7  | 18.8  | \n",
       "| ank.di | 14.1  | 15.1  | 14.1  | 15.0  | 14.9  | 13.9  | \n",
       "| sho.gi | 106.2 | 110.5 | 115.1 | 104.5 | 107.5 | 119.8 | \n",
       "| che.gi | 89.5  | 97.0  | 97.5  | 97.0  | 97.5  | 99.9  | \n",
       "| wai.gi | 71.5  | 79.0  | 83.2  | 77.8  | 80.0  | 82.5  | \n",
       "| nav.gi | 74.5  | 86.5  | 82.9  | 78.8  | 82.5  | 80.1  | \n",
       "| hip.gi | 93.5  | 94.8  | 95.0  | 94.0  | 98.5  | 95.3  | \n",
       "| thi.gi | 51.5  | 51.5  | 57.3  | 53.0  | 55.4  | 57.5  | \n",
       "| bic.gi | 32.5  | 34.4  | 33.4  | 31.0  | 32.0  | 33.0  | \n",
       "| for.gi | 26.0  | 28.0  | 28.8  | 26.2  | 28.4  | 28.0  | \n",
       "| kne.gi | 34.5  | 36.5  | 37.0  | 37.0  | 37.7  | 36.6  | \n",
       "| cal.gi | 36.5  | 37.5  | 37.3  | 34.8  | 38.6  | 36.1  | \n",
       "| ank.gi | 23.5  | 24.5  | 21.9  | 23.0  | 24.4  | 23.5  | \n",
       "| wri.gi | 16.5  | 17.0  | 16.9  | 16.6  | 18.0  | 16.9  | \n",
       "| age | 21    | 23    | 28    | 23    | 22    | 21    | \n",
       "| wgt | 65.6  | 71.8  | 80.7  | 72.6  | 78.8  | 74.8  | \n",
       "| hgt | 174.0 | 175.3 | 193.5 | 186.5 | 187.2 | 181.5 | \n",
       "| sex | 1     | 1     | 1     | 1     | 1     | 1     | \n",
       "\n",
       "\n"
      ],
      "text/plain": [
       "       1     2     3     4     5     6    \n",
       "bia.di 42.9  43.7  40.1  44.3  42.5  43.3 \n",
       "bii.di 26.0  28.5  28.2  29.9  29.9  27.0 \n",
       "bit.di 31.5  33.5  33.3  34.0  34.0  31.5 \n",
       "che.de 17.7  16.9  20.9  18.4  21.5  19.6 \n",
       "che.di 28.0  30.8  31.7  28.2  29.4  31.3 \n",
       "elb.di 13.1  14.0  13.9  13.9  15.2  14.0 \n",
       "wri.di 10.4  11.8  10.9  11.2  11.6  11.5 \n",
       "kne.di 18.8  20.6  19.7  20.9  20.7  18.8 \n",
       "ank.di 14.1  15.1  14.1  15.0  14.9  13.9 \n",
       "sho.gi 106.2 110.5 115.1 104.5 107.5 119.8\n",
       "che.gi 89.5  97.0  97.5  97.0  97.5  99.9 \n",
       "wai.gi 71.5  79.0  83.2  77.8  80.0  82.5 \n",
       "nav.gi 74.5  86.5  82.9  78.8  82.5  80.1 \n",
       "hip.gi 93.5  94.8  95.0  94.0  98.5  95.3 \n",
       "thi.gi 51.5  51.5  57.3  53.0  55.4  57.5 \n",
       "bic.gi 32.5  34.4  33.4  31.0  32.0  33.0 \n",
       "for.gi 26.0  28.0  28.8  26.2  28.4  28.0 \n",
       "kne.gi 34.5  36.5  37.0  37.0  37.7  36.6 \n",
       "cal.gi 36.5  37.5  37.3  34.8  38.6  36.1 \n",
       "ank.gi 23.5  24.5  21.9  23.0  24.4  23.5 \n",
       "wri.gi 16.5  17.0  16.9  16.6  18.0  16.9 \n",
       "age    21    23    28    23    22    21   \n",
       "wgt    65.6  71.8  80.7  72.6  78.8  74.8 \n",
       "hgt    174.0 175.3 193.5 186.5 187.2 181.5\n",
       "sex    1     1     1     1     1     1    "
      ]
     },
     "metadata": {},
     "output_type": "display_data"
    }
   ],
   "source": [
    "t(head(bdims))"
   ]
  },
  {
   "cell_type": "code",
   "execution_count": 5,
   "metadata": {},
   "outputs": [
    {
     "data": {
      "text/plain": [
       "     bia.di          bii.di          bit.di          che.de     \n",
       " Min.   :32.40   Min.   :18.70   Min.   :24.70   Min.   :14.30  \n",
       " 1st Qu.:36.20   1st Qu.:26.50   1st Qu.:30.60   1st Qu.:17.30  \n",
       " Median :38.70   Median :28.00   Median :32.00   Median :19.00  \n",
       " Mean   :38.81   Mean   :27.83   Mean   :31.98   Mean   :19.23  \n",
       " 3rd Qu.:41.15   3rd Qu.:29.25   3rd Qu.:33.35   3rd Qu.:20.90  \n",
       " Max.   :47.40   Max.   :34.70   Max.   :38.00   Max.   :27.50  \n",
       "     che.di          elb.di          wri.di          kne.di     \n",
       " Min.   :22.20   Min.   : 9.90   Min.   : 8.10   Min.   :15.70  \n",
       " 1st Qu.:25.65   1st Qu.:12.40   1st Qu.: 9.80   1st Qu.:17.90  \n",
       " Median :27.80   Median :13.30   Median :10.50   Median :18.70  \n",
       " Mean   :27.97   Mean   :13.39   Mean   :10.54   Mean   :18.81  \n",
       " 3rd Qu.:29.95   3rd Qu.:14.40   3rd Qu.:11.20   3rd Qu.:19.60  \n",
       " Max.   :35.60   Max.   :16.70   Max.   :13.30   Max.   :24.30  \n",
       "     ank.di          sho.gi           che.gi           wai.gi      \n",
       " Min.   : 9.90   Min.   : 85.90   Min.   : 72.60   Min.   : 57.90  \n",
       " 1st Qu.:13.00   1st Qu.: 99.45   1st Qu.: 85.30   1st Qu.: 68.00  \n",
       " Median :13.80   Median :108.20   Median : 91.60   Median : 75.80  \n",
       " Mean   :13.86   Mean   :108.20   Mean   : 93.33   Mean   : 76.98  \n",
       " 3rd Qu.:14.80   3rd Qu.:116.55   3rd Qu.:101.15   3rd Qu.: 84.50  \n",
       " Max.   :17.20   Max.   :134.80   Max.   :118.70   Max.   :113.20  \n",
       "     nav.gi           hip.gi           thi.gi          bic.gi     \n",
       " Min.   : 64.00   Min.   : 78.80   Min.   :46.30   Min.   :22.40  \n",
       " 1st Qu.: 78.85   1st Qu.: 92.00   1st Qu.:53.70   1st Qu.:27.60  \n",
       " Median : 84.60   Median : 96.00   Median :56.30   Median :31.00  \n",
       " Mean   : 85.65   Mean   : 96.68   Mean   :56.86   Mean   :31.17  \n",
       " 3rd Qu.: 91.60   3rd Qu.:101.00   3rd Qu.:59.50   3rd Qu.:34.45  \n",
       " Max.   :121.10   Max.   :128.30   Max.   :75.70   Max.   :42.40  \n",
       "     for.gi          kne.gi          cal.gi          ank.gi          wri.gi    \n",
       " Min.   :19.60   Min.   :29.00   Min.   :28.40   Min.   :16.40   Min.   :13.0  \n",
       " 1st Qu.:23.60   1st Qu.:34.40   1st Qu.:34.10   1st Qu.:21.00   1st Qu.:15.0  \n",
       " Median :25.80   Median :36.00   Median :36.00   Median :22.00   Median :16.1  \n",
       " Mean   :25.94   Mean   :36.20   Mean   :36.08   Mean   :22.16   Mean   :16.1  \n",
       " 3rd Qu.:28.40   3rd Qu.:37.95   3rd Qu.:38.00   3rd Qu.:23.30   3rd Qu.:17.1  \n",
       " Max.   :32.50   Max.   :49.00   Max.   :47.70   Max.   :29.30   Max.   :19.6  \n",
       "      age             wgt              hgt        sex    \n",
       " Min.   :18.00   Min.   : 42.00   Min.   :147.2   0:260  \n",
       " 1st Qu.:23.00   1st Qu.: 58.40   1st Qu.:163.8   1:247  \n",
       " Median :27.00   Median : 68.20   Median :170.3          \n",
       " Mean   :30.18   Mean   : 69.15   Mean   :171.1          \n",
       " 3rd Qu.:36.00   3rd Qu.: 78.85   3rd Qu.:177.8          \n",
       " Max.   :67.00   Max.   :116.40   Max.   :198.1          "
      ]
     },
     "metadata": {},
     "output_type": "display_data"
    }
   ],
   "source": [
    "summary(bdims)"
   ]
  },
  {
   "cell_type": "markdown",
   "metadata": {},
   "source": [
    "Let's create 2 different datasets. male and female"
   ]
  },
  {
   "cell_type": "code",
   "execution_count": 6,
   "metadata": {
    "collapsed": true
   },
   "outputs": [],
   "source": [
    "male <- subset(bdims, sex == 1)\n",
    "female <- subset(bdims, sex == 0)"
   ]
  },
  {
   "cell_type": "markdown",
   "metadata": {},
   "source": [
    "### Calculating Z-Score\n",
    "\n",
    "A z-score is a measure of how many standard deviations below or above the population mean an observation is or the number of standard deviations from the mean a data point is. \n",
    "\n",
    "Variance is the average difference squared from the mean and the standard deviation is then the square root of the variance. "
   ]
  },
  {
   "cell_type": "code",
   "execution_count": 9,
   "metadata": {},
   "outputs": [
    {
     "name": "stdout",
     "output_type": "stream",
     "text": [
      "[1] 78.14453\n"
     ]
    }
   ],
   "source": [
    "sample_mean <- mean(male$wgt)\n",
    "print(sample_mean)"
   ]
  },
  {
   "cell_type": "code",
   "execution_count": 10,
   "metadata": {},
   "outputs": [
    {
     "name": "stdout",
     "output_type": "stream",
     "text": [
      "[1] 69.14753\n"
     ]
    }
   ],
   "source": [
    "pop_mean <- mean(bdims$wgt)\n",
    "print(pop_mean)"
   ]
  },
  {
   "cell_type": "code",
   "execution_count": 11,
   "metadata": {},
   "outputs": [
    {
     "name": "stdout",
     "output_type": "stream",
     "text": [
      "[1] 178.1094\n"
     ]
    }
   ],
   "source": [
    "pop_var <- var(bdims$wgt)\n",
    "print(pop_var)"
   ]
  },
  {
   "cell_type": "code",
   "execution_count": 12,
   "metadata": {},
   "outputs": [
    {
     "name": "stdout",
     "output_type": "stream",
     "text": [
      "[1] 0.6741466\n"
     ]
    }
   ],
   "source": [
    "zscore <- (sample_mean - pop_mean) / (sqrt(pop_var))\n",
    "print(zscore)"
   ]
  },
  {
   "cell_type": "code",
   "execution_count": 14,
   "metadata": {
    "collapsed": true
   },
   "outputs": [],
   "source": [
    "# function to do that for me\n",
    "\n",
    "z.score <- function(sam, pop){\n",
    "    sample_mean <- mean(sam)\n",
    "    pop_mean <- mean(pop)\n",
    "    pop_var <- var(pop)\n",
    "    zscore <- (sample_mean - pop_mean) / (sqrt(pop_var))\n",
    "    return(zscore)    \n",
    "}"
   ]
  },
  {
   "cell_type": "code",
   "execution_count": 15,
   "metadata": {},
   "outputs": [
    {
     "data": {
      "text/html": [
       "0.67414656194716"
      ],
      "text/latex": [
       "0.67414656194716"
      ],
      "text/markdown": [
       "0.67414656194716"
      ],
      "text/plain": [
       "[1] 0.6741466"
      ]
     },
     "metadata": {},
     "output_type": "display_data"
    }
   ],
   "source": [
    "z.score(male$wgt, bdims$wgt)"
   ]
  },
  {
   "cell_type": "markdown",
   "metadata": {},
   "source": [
    "The z score is 0.67 after rounding it. Now, we need to work out the percentage of men that weigh more and less than the population mean. We can refer to the standard normal distribution table to find out this percentage value (Z score table).\n",
    "\n",
    "A z-score of 0.67 gives us 0.7486 = 74.86% of the population. So 74.86% of the population is lower than the average weight of men. \n",
    "\n",
    "This allows us to reject the null hypothesis and affirms our alternate hypothesis that males tend to weigh more than the general population. "
   ]
  },
  {
   "cell_type": "code",
   "execution_count": 16,
   "metadata": {
    "collapsed": true
   },
   "outputs": [],
   "source": [
    "sample_mean <- mean(male$wgt)\n",
    "pop_mean <- mean(bdims$wgt)\n",
    "pop_sd <- sd(bdims$wgt)"
   ]
  },
  {
   "cell_type": "code",
   "execution_count": 18,
   "metadata": {},
   "outputs": [
    {
     "name": "stdout",
     "output_type": "stream",
     "text": [
      "[1] 0.7498909\n"
     ]
    }
   ],
   "source": [
    "# we can use R probability under normal distribution for sameple measure, \n",
    "# mean, and standard deviation\n",
    "p = pnorm(sample_mean, mean = pop_mean, sd = pop_sd, lower.tail = TRUE)\n",
    "print(p)"
   ]
  },
  {
   "cell_type": "code",
   "execution_count": 20,
   "metadata": {},
   "outputs": [
    {
     "name": "stdout",
     "output_type": "stream",
     "text": [
      "[1] \"Probability 0.749890930193527\"\n",
      "[1] \"Mean male weight 78.1445344129555\"\n",
      "[1] \"Mean pop weight 69.1475345167653\"\n"
     ]
    }
   ],
   "source": [
    "print(paste(\"Probability\", p))\n",
    "print(paste(\"Mean male weight\", mean(male$wgt)))\n",
    "print(paste(\"Mean pop weight\", mean(bdims$wgt)))"
   ]
  },
  {
   "cell_type": "markdown",
   "metadata": {},
   "source": [
    "### Chi-Square analysis\n",
    "\n",
    "A non parametric test of significance is one that makes no assumption concerning the shape of the population distribution and is commonly referred to as a distribution-free test of significance. Non parametric procedures are more suitable when data is categorical and for group comparison research. "
   ]
  },
  {
   "cell_type": "code",
   "execution_count": null,
   "metadata": {
    "collapsed": true
   },
   "outputs": [],
   "source": []
  }
 ],
 "metadata": {
  "kernelspec": {
   "display_name": "R",
   "language": "R",
   "name": "ir"
  },
  "language_info": {
   "codemirror_mode": "r",
   "file_extension": ".r",
   "mimetype": "text/x-r-source",
   "name": "R",
   "pygments_lexer": "r",
   "version": "3.4.1"
  }
 },
 "nbformat": 4,
 "nbformat_minor": 2
}
