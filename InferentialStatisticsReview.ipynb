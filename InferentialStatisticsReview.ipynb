{
 "cells": [
  {
   "cell_type": "markdown",
   "metadata": {},
   "source": [
    "# Inferential statistics"
   ]
  },
  {
   "cell_type": "markdown",
   "metadata": {},
   "source": [
    "Inferential statistics measures helps us draw inferences about the larger population from the sample data. You rarely have access to full population datasets. \n",
    "\n",
    "Consider the following: The evidence linking cigarrette smoking and lung disease is almost irrefutable. Based upon this information, what proportion of Americans have given up smoking? One way to answer this question would be to survey the entire population of the United States. It would be impossible from the standpoint of time and cost-effectiveness. Mathematicians have created methods of estimating population parameters from samples drawn from target populations that adequautely represent the large population.\n",
    "\n",
    "In inferential statistics, we answer questions (test hypotheses) about populations based upon sample or prior data. Since parameters of populations are generally not available, we must rely on sampling techniques to estimate them. "
   ]
  },
  {
   "cell_type": "markdown",
   "metadata": {},
   "source": [
    "## Sampling Distributions\n",
    "\n",
    "A sampling distribution is a theoretical distribution that would result if we were to take all possible samples from a given population. Suppose we were able to draw a representative sample using 20 individuals (N = 20) from a population. We could then calculate what is referred to as a sampling distribution. We typically draw fewer samples with knowledge that there will be some error. This error term can be calculated and will be used in inference. \n",
    "\n",
    "For example, how do we know the average height of males in this country is 5'9? If we were to draw one hundred different samples of 10 males at random, we will find a certain amount of difference among the means and standard deviations of the samples. Imagine that the standard deviation of our sample means is 2.25'. We have what is called the \"standard error of the mean\". It can be defined as the theoretical standard deviation of sample means of a given sample drawn from a population. \n",
    "\n",
    "When a researcher asserts something he/she is inferring, he/she does so with the knowledge that there will be a calculated error. They generally designate 2 cutoff points for error based upon normal distributions and they are called significance levels. Some researchers conclude that if the event would occur by chance 5% of the time or less, then the event can be attributed to non-chance factors. In other settings, researchers conclude that if the event would occur by chance 1% of the time or less, then the event can be attributed to non-chance factors. These are 0.5 and 0.1 significance levels, respectively. The problem/data domain and other factors drive the required significance levels for a particular statistical evaluation. "
   ]
  },
  {
   "cell_type": "markdown",
   "metadata": {},
   "source": [
    "### Example\n",
    "\n",
    "In the case of male heights, we could choose at random 10 males and their average height would fall 69' $\\pm$ 2.25' (1.96). In other words, from 64.59' to 73.41'. The sample standard deviation is multiplied by 1.96 since a Z-Score of $\\pm$ 1.96 would encompass 95% of the normal distribution. Here, if we are using 0.5 signficance level, we would theoritically be correct 95% of the time. Also, we would know that 5% of the samples we chose would have a mean height or greater than 73.41' or less than 64.59'\n",
    "\n",
    "When dealing with two tailed tests, sometimes alpha levels/significance levels are referred to as confidence intervals. The 0.5 alpha level is the 95% confidence band. You might say that you are 95% confident in asserting your hypothesis. \n",
    "\n",
    "In order to perform inferential statistics or parametrics tests of significance, we'll have to use sampling distributions. In order to create a sampling distribution, we would need to draw all possible samples of size N from a given population. Once we have calculated the mean for each distribution, the resulting distribution would be the sampling distribution of means. \n",
    "\n",
    "Sampling distributions have 3 characteristics:\n",
    "* The mean of the sampling distribution will not change with the change in sample size. If the mean from the sampling distribution of means is 20 when N = 10, it will remain 20 whether you increase or descrease the size of the samples. Simply put, the mean of the sampling distribution is equal to the mean of the population. \n",
    "* As the sample size in the sampling distribution of means increases, the dispersion of sample means will becomes less. The larger the N, the more compact the distribution of sample means. As N increaes, the standard error of the mean decreases. \n",
    "* If the sampling distribution of means is taken from a normally distributed population, the sample means will also be bell-shaped. \n",
    "\n",
    "Based on the above 3 issues, the Central Limit Theorem states: If random samples of fixed N are drawn from any population, as N becomes larger, the distribution of sample means approaches normality with the overall mean approaching $\\mu$.\n",
    "The standard error of the sample means is equal to\n",
    "\n",
    "$$\\sigma_{\\bar{x}} = \\frac{\\sigma}{\\sqrt(N)}$$\n",
    "\n",
    "and z-statistic is given as \n",
    "\n",
    "$$Z = \\frac{\\bar{X}-\\mu}{\\sigma_{\\bar{x}}}$$\n",
    "\n",
    "where,\n",
    "* $\\bar{X}$ = sample mean,\n",
    "* $\\mu$ = population mean and  \n",
    "* $\\sigma_{\\bar{x}}$ = population standard deviation  \n"
   ]
  },
  {
   "cell_type": "markdown",
   "metadata": {},
   "source": [
    "TODO: Hypothesis testing"
   ]
  },
  {
   "cell_type": "code",
   "execution_count": null,
   "metadata": {
    "collapsed": true
   },
   "outputs": [],
   "source": []
  }
 ],
 "metadata": {
  "kernelspec": {
   "display_name": "R",
   "language": "R",
   "name": "ir"
  },
  "language_info": {
   "codemirror_mode": "r",
   "file_extension": ".r",
   "mimetype": "text/x-r-source",
   "name": "R",
   "pygments_lexer": "r",
   "version": "3.4.1"
  }
 },
 "nbformat": 4,
 "nbformat_minor": 2
}
