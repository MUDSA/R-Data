{
 "cells": [
  {
   "cell_type": "markdown",
   "metadata": {},
   "source": [
    "# Probability Review\n",
    "\n",
    "http://onlinestatbook.com/2/probability/probability_intro.html\n",
    "\n",
    "In many events, there are no definite outcomes so the outcome can't be predicted with total certainty. What we can say is how likely the outcomes are to happen, using the idea of probability? Inferential statistics is built on the foundation of probability theory and has been remarkably successful in guiding opinion about the conclusions to be drawn from data. \n",
    "\n",
    "One conception of probability is drawn from the idea of symmetrical outcomes. For example, the 2 possible outcomes of tossing a fair coin seem not to be distinguishable in any way that affects which side will land up or down. Therefore, the probability of heads is taken to be 1/2 (same as tails). In general, if there are N symmetrical outcomes, the probability of any given one of them occurring is taken to be 1/N. Thus, if a six-sided die is rolled, the probability of any one of the six sides coming up is 1/6. \n",
    "\n",
    "If the oil prices is traded at $100 a barrel 70% of the time in the last year then the probability of it being around $100 would be 70% higher for the next year. This is a common conclusion but could be unreasonable if there is more data available to decide whether it will be trading at $100 a barrel tomorrow. For example, if the supply increased in the last day then the price would fall. We should consider only the days in last year where oil production matches. Even this information is not enough since decrease in oil prices depends on consumption too (The prices will fall if consumption is low). So, we should consider only the prior occurrences of matching oil production and similar consumption. As we keep considering more factors affecting the outcomes, you can see that the sample of prior cases will soon be reduced to the empty set. \n",
    "\n",
    "In some cases, probability should be though of as subjective. Questions such as \"What is the probability the Starbucks coffee is better than McDonalds coffee\" can't be answer using summetry or frequency approaches to probability. Assigning a probability of 0.9 for example to this event reflects the speaker's personal opinion. Such an approach to probability, however, seems to lose the objective content of the idea of chance; probability becomes mere opinion. "
   ]
  },
  {
   "cell_type": "markdown",
   "metadata": {
    "collapsed": true
   },
   "source": [
    "### Sample Spaces\n",
    "\n",
    "For a random experiment E, the set of all possible outcomes of E is called the sample space and is denoted by the letter S. \n",
    "For a coin-toss experiment, S would be the results “Head” and “Tail”, which we may represent by $S = {H, T}$. Formally, the performance of a random experiment is the unpredictable selection of an outcome in S.\n",
    "\n",
    "The R package `prob` has all the functions to find probability of different basic events. \n",
    "A sample space is (usually) represented by a data frame.\n",
    "Each row of the data frame corresponds to an outcome of the experiment.\n",
    "\n",
    "Consider the random experiment of tossing a coin.\n",
    "The outcomes are H and T. \n",
    "We can set up the sample space quickly with the tosscoin function:"
   ]
  },
  {
   "cell_type": "code",
   "execution_count": 9,
   "metadata": {},
   "outputs": [
    {
     "name": "stderr",
     "output_type": "stream",
     "text": [
      "Loading required package: combinat\n",
      "\n",
      "Attaching package: 'combinat'\n",
      "\n",
      "The following object is masked from 'package:utils':\n",
      "\n",
      "    combn\n",
      "\n",
      "\n",
      "Attaching package: 'prob'\n",
      "\n",
      "The following objects are masked from 'package:base':\n",
      "\n",
      "    intersect, setdiff, union\n",
      "\n"
     ]
    }
   ],
   "source": [
    "library(prob)"
   ]
  },
  {
   "cell_type": "code",
   "execution_count": 12,
   "metadata": {},
   "outputs": [
    {
     "data": {
      "text/html": [
       "<table>\n",
       "<thead><tr><th scope=col>toss1</th></tr></thead>\n",
       "<tbody>\n",
       "\t<tr><td>H</td></tr>\n",
       "\t<tr><td>T</td></tr>\n",
       "</tbody>\n",
       "</table>\n"
      ],
      "text/latex": [
       "\\begin{tabular}{r|l}\n",
       " toss1\\\\\n",
       "\\hline\n",
       "\t H\\\\\n",
       "\t T\\\\\n",
       "\\end{tabular}\n"
      ],
      "text/markdown": [
       "\n",
       "toss1 | \n",
       "|---|---|\n",
       "| H | \n",
       "| T | \n",
       "\n",
       "\n"
      ],
      "text/plain": [
       "  toss1\n",
       "1 H    \n",
       "2 T    "
      ]
     },
     "metadata": {},
     "output_type": "display_data"
    }
   ],
   "source": [
    "tosscoin(1)"
   ]
  },
  {
   "cell_type": "markdown",
   "metadata": {},
   "source": [
    "The number 1 tells tosscoin that we only want to toss the coin once. We could toss it more times, like tosscoin(3), to get the output below..."
   ]
  },
  {
   "cell_type": "code",
   "execution_count": 11,
   "metadata": {},
   "outputs": [
    {
     "data": {
      "text/html": [
       "<table>\n",
       "<thead><tr><th scope=col>toss1</th><th scope=col>toss2</th><th scope=col>toss3</th></tr></thead>\n",
       "<tbody>\n",
       "\t<tr><td>H</td><td>H</td><td>H</td></tr>\n",
       "\t<tr><td>T</td><td>H</td><td>H</td></tr>\n",
       "\t<tr><td>H</td><td>T</td><td>H</td></tr>\n",
       "\t<tr><td>T</td><td>T</td><td>H</td></tr>\n",
       "\t<tr><td>H</td><td>H</td><td>T</td></tr>\n",
       "\t<tr><td>T</td><td>H</td><td>T</td></tr>\n",
       "\t<tr><td>H</td><td>T</td><td>T</td></tr>\n",
       "\t<tr><td>T</td><td>T</td><td>T</td></tr>\n",
       "</tbody>\n",
       "</table>\n"
      ],
      "text/latex": [
       "\\begin{tabular}{r|lll}\n",
       " toss1 & toss2 & toss3\\\\\n",
       "\\hline\n",
       "\t H & H & H\\\\\n",
       "\t T & H & H\\\\\n",
       "\t H & T & H\\\\\n",
       "\t T & T & H\\\\\n",
       "\t H & H & T\\\\\n",
       "\t T & H & T\\\\\n",
       "\t H & T & T\\\\\n",
       "\t T & T & T\\\\\n",
       "\\end{tabular}\n"
      ],
      "text/markdown": [
       "\n",
       "toss1 | toss2 | toss3 | \n",
       "|---|---|---|---|---|---|---|---|\n",
       "| H | H | H | \n",
       "| T | H | H | \n",
       "| H | T | H | \n",
       "| T | T | H | \n",
       "| H | H | T | \n",
       "| T | H | T | \n",
       "| H | T | T | \n",
       "| T | T | T | \n",
       "\n",
       "\n"
      ],
      "text/plain": [
       "  toss1 toss2 toss3\n",
       "1 H     H     H    \n",
       "2 T     H     H    \n",
       "3 H     T     H    \n",
       "4 T     T     H    \n",
       "5 H     H     T    \n",
       "6 T     H     T    \n",
       "7 H     T     T    \n",
       "8 T     T     T    "
      ]
     },
     "metadata": {},
     "output_type": "display_data"
    }
   ],
   "source": [
    "tosscoin(3)"
   ]
  },
  {
   "cell_type": "code",
   "execution_count": null,
   "metadata": {
    "collapsed": true
   },
   "outputs": [],
   "source": []
  }
 ],
 "metadata": {
  "kernelspec": {
   "display_name": "R",
   "language": "R",
   "name": "ir"
  },
  "language_info": {
   "codemirror_mode": "r",
   "file_extension": ".r",
   "mimetype": "text/x-r-source",
   "name": "R",
   "pygments_lexer": "r",
   "version": "3.4.1"
  }
 },
 "nbformat": 4,
 "nbformat_minor": 2
}
