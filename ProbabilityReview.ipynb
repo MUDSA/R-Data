{
 "cells": [
  {
   "cell_type": "markdown",
   "metadata": {},
   "source": [
    "# Probability Review\n",
    "\n",
    "http://onlinestatbook.com/2/probability/probability_intro.html\n",
    "\n",
    "In many events, there are no definite outcomes so the outcome can't be predicted with total certainty. What we can say is how likely the outcomes are to happen, using the idea of probability? Inferential statistics is built on the foundation of probability theory and has been remarkably successful in guiding opinion about the conclusions to be drawn from data. \n",
    "\n",
    "One conception of probability is drawn from the idea of symmetrical outcomes. For example, the 2 possible outcomes of tossing a fair coin seem not to be distinguishable in any way that affects which side will land up or down. Therefore, the probability of heads is taken to be 1/2 (same as tails). In general, if there are N symmetrical outcomes, the probability of any given one of them occurring is taken to be 1/N. Thus, if a six-sided die is rolled, the probability of any one of the six sides coming up is 1/6. \n",
    "\n",
    "If the oil prices is traded at $100 a barrel 70% of the time in the last year then the probability of it being around $100 would be 70% higher for the next year. This is a common conclusion but could be unreasonable if there is more data available to decide whether it will be trading at $100 a barrel tomorrow. For example, if the supply increased in the last day then the price would fall. We should consider only the days in last year where oil production matches. Even this information is not enough since decrease in oil prices depends on consumption too (The prices will fall if consumption is low). So, we should consider only the prior occurrences of matching oil production and similar consumption. As we keep considering more factors affecting the outcomes, you can see that the sample of prior cases will soon be reduced to the empty set. \n",
    "\n",
    "In some cases, probability should be though of as subjective. Questions such as \"What is the probability the Starbucks coffee is better than McDonalds coffee\" can't be answer using summetry or frequency approaches to probability. Assigning a probability of 0.9 for example to this event reflects the speaker's personal opinion. Such an approach to probability, however, seems to lose the objective content of the idea of chance; probability becomes mere opinion. "
   ]
  },
  {
   "cell_type": "code",
   "execution_count": null,
   "metadata": {
    "collapsed": true
   },
   "outputs": [],
   "source": []
  }
 ],
 "metadata": {
  "kernelspec": {
   "display_name": "R",
   "language": "R",
   "name": "ir"
  },
  "language_info": {
   "codemirror_mode": "r",
   "file_extension": ".r",
   "mimetype": "text/x-r-source",
   "name": "R",
   "pygments_lexer": "r",
   "version": "3.4.1"
  }
 },
 "nbformat": 4,
 "nbformat_minor": 2
}
