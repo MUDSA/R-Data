{
 "cells": [
  {
   "cell_type": "code",
   "execution_count": 1,
   "metadata": {},
   "outputs": [
    {
     "name": "stderr",
     "output_type": "stream",
     "text": [
      "Warning message:\n",
      "\"package 'rgdal' was built under R version 3.4.2\"Warning message:\n",
      "\"package 'sp' was built under R version 3.4.2\"Warning message:\n",
      "\"package 'spdep' was built under R version 3.4.2\"Warning message:\n",
      "\"package 'raster' was built under R version 3.4.2\""
     ]
    }
   ],
   "source": [
    "# Load relevant R packages\n",
    "inLibraries = list('repr','rgdal','spdep','raster')\n",
    "for (rpack in inLibraries) {\n",
    "  if (is.element(rpack,installed.packages()[,1])){           \n",
    "      #Load the library into R\n",
    "      suppressMessages(library(rpack,character.only = TRUE))\n",
    "    }\n",
    "    else {\n",
    "        print(paste(\"Warning:  \",rpack,\" is not an installed package\"))\n",
    "    }\n",
    "}\n",
    "#resize plot area\n",
    "options(repr.plot.width=6, repr.plot.height=6)"
   ]
  },
  {
   "cell_type": "code",
   "execution_count": 2,
   "metadata": {
    "collapsed": true
   },
   "outputs": [],
   "source": [
    "rasName <- \"datasets/taneycomo/lulc6.tif\""
   ]
  },
  {
   "cell_type": "code",
   "execution_count": 3,
   "metadata": {
    "collapsed": true
   },
   "outputs": [],
   "source": [
    "ras <- raster(rasName, value = FALSE)"
   ]
  },
  {
   "cell_type": "code",
   "execution_count": null,
   "metadata": {
    "collapsed": true
   },
   "outputs": [],
   "source": []
  }
 ],
 "metadata": {
  "kernelspec": {
   "display_name": "R",
   "language": "R",
   "name": "ir"
  },
  "language_info": {
   "codemirror_mode": "r",
   "file_extension": ".r",
   "mimetype": "text/x-r-source",
   "name": "R",
   "pygments_lexer": "r",
   "version": "3.4.1"
  }
 },
 "nbformat": 4,
 "nbformat_minor": 2
}
