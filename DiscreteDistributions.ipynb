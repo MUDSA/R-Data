{
 "cells": [
  {
   "cell_type": "markdown",
   "metadata": {},
   "source": [
    "# Discrete Distributions\n",
    "\n",
    "Content based on: http://people.stern.nyu.edu/adamodar/New_Home_Page/StatFile/statdistns.htm\n",
    "\n",
    "There are many types of data distributions. Many of them look similar and are hard to differentiate if one has no intuitive basis for differentiating between them, which can be very frustrating. One has to understand statistical properties like moments, characteristic functions, and cumulative distributions to differentiate them.\n",
    "\n",
    "#### Fitting the distribution\n",
    "\n",
    "If you wnat to fit a distribution to a dataset, start by answering the following 4 questions about the data:\n",
    "\n",
    "1) Does the data take on only discrete values or is the data continuous?\n",
    "2) Looking at the symmetry of the data and if there is symmetry, which direction does it lie in? In other words, are positive and negative outliers equally likely or is one more likely than the other?\n",
    "3) What are the upper and lower limits on the data? For example, salary cannot be lower than zero wheras others like grades cannot exeed 100%. \n",
    "4) What is the likelihood of observing extreme values in the distribution? In some data, extreme values occur rarely but in others, they occur very often"
   ]
  },
  {
   "cell_type": "markdown",
   "metadata": {},
   "source": [
    "## Data is discrete or continuous?\n",
    "\n",
    "Consider a financial dataset about companies. Market size, market share, and profit margins, for instance, are all continuous variables. However, there are some variables that can take on only discrete forms, including regulatory actions. For example, the regulatory authority may dispense one of 2 or more decisions each year. Another example could be the year value in a dataset, where the year cannot be 2018.5. Each year is a discrete value. "
   ]
  },
  {
   "cell_type": "markdown",
   "metadata": {},
   "source": [
    "### Discrete random functions:\n",
    "\n",
    "#### Probability mass functions:\n",
    "Discrete random variables are characterized by their supports, which take the form:\n",
    "$$S_x = {u_1, u_2, ... u_k}$$\n",
    "\n",
    "Every discrete random variable X has associated with it a probability mass function (PMF) $f_x : S_x \\rightarrow [0, 1]$ defined by\n",
    "\n",
    "$$f_x(x) = P(X = x), x \\in S_x$$"
   ]
  },
  {
   "cell_type": "code",
   "execution_count": null,
   "metadata": {
    "collapsed": true
   },
   "outputs": [],
   "source": []
  }
 ],
 "metadata": {
  "kernelspec": {
   "display_name": "R",
   "language": "R",
   "name": "ir"
  },
  "language_info": {
   "codemirror_mode": "r",
   "file_extension": ".r",
   "mimetype": "text/x-r-source",
   "name": "R",
   "pygments_lexer": "r",
   "version": "3.4.1"
  }
 },
 "nbformat": 4,
 "nbformat_minor": 2
}
