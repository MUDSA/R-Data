{
 "cells": [
  {
   "cell_type": "markdown",
   "metadata": {},
   "source": [
    "# Summarizing vectors"
   ]
  },
  {
   "cell_type": "code",
   "execution_count": 1,
   "metadata": {
    "collapsed": true
   },
   "outputs": [],
   "source": [
    "housing_prices <- read.csv(\"datasets/kc_house_data.csv\")"
   ]
  },
  {
   "cell_type": "code",
   "execution_count": 2,
   "metadata": {},
   "outputs": [
    {
     "data": {
      "text/html": [
       "<table>\n",
       "<thead><tr><th scope=col>X</th><th scope=col>id</th><th scope=col>date</th><th scope=col>price</th><th scope=col>bedrooms</th><th scope=col>bathrooms</th><th scope=col>sqft_living</th><th scope=col>sqft_lot</th><th scope=col>floors</th><th scope=col>waterfront</th><th scope=col>...</th><th scope=col>grade</th><th scope=col>sqft_above</th><th scope=col>sqft_basement</th><th scope=col>yr_built</th><th scope=col>yr_renovated</th><th scope=col>zipcode</th><th scope=col>lat</th><th scope=col>long</th><th scope=col>sqft_living15</th><th scope=col>sqft_lot15</th></tr></thead>\n",
       "<tbody>\n",
       "\t<tr><td>1              </td><td>7129300520     </td><td>20141013T000000</td><td> 221900        </td><td>3              </td><td>1.00           </td><td>1180           </td><td>  5650         </td><td>1              </td><td>0              </td><td>...            </td><td> 7             </td><td>1180           </td><td>   0           </td><td>1955           </td><td>   0           </td><td>98178          </td><td>47.5112        </td><td>-122.257       </td><td>1340           </td><td>  5650         </td></tr>\n",
       "\t<tr><td>2              </td><td>6414100192     </td><td>20141209T000000</td><td> 538000        </td><td>3              </td><td>2.25           </td><td>2570           </td><td>  7242         </td><td>2              </td><td>0              </td><td>...            </td><td> 7             </td><td>2170           </td><td> 400           </td><td>1951           </td><td>1991           </td><td>98125          </td><td>47.7210        </td><td>-122.319       </td><td>1690           </td><td>  7639         </td></tr>\n",
       "\t<tr><td>3              </td><td>5631500400     </td><td>20150225T000000</td><td> 180000        </td><td>2              </td><td>1.00           </td><td> 770           </td><td> 10000         </td><td>1              </td><td>0              </td><td>...            </td><td> 6             </td><td> 770           </td><td>   0           </td><td>1933           </td><td>   0           </td><td>98028          </td><td>47.7379        </td><td>-122.233       </td><td>2720           </td><td>  8062         </td></tr>\n",
       "\t<tr><td>4              </td><td>2487200875     </td><td>20141209T000000</td><td> 604000        </td><td>4              </td><td>3.00           </td><td>1960           </td><td>  5000         </td><td>1              </td><td>0              </td><td>...            </td><td> 7             </td><td>1050           </td><td> 910           </td><td>1965           </td><td>   0           </td><td>98136          </td><td>47.5208        </td><td>-122.393       </td><td>1360           </td><td>  5000         </td></tr>\n",
       "\t<tr><td>5              </td><td>1954400510     </td><td>20150218T000000</td><td> 510000        </td><td>3              </td><td>2.00           </td><td>1680           </td><td>  8080         </td><td>1              </td><td>0              </td><td>...            </td><td> 8             </td><td>1680           </td><td>   0           </td><td>1987           </td><td>   0           </td><td>98074          </td><td>47.6168        </td><td>-122.045       </td><td>1800           </td><td>  7503         </td></tr>\n",
       "\t<tr><td>6              </td><td>7237550310     </td><td>20140512T000000</td><td>1225000        </td><td>4              </td><td>4.50           </td><td>5420           </td><td>101930         </td><td>1              </td><td>0              </td><td>...            </td><td>11             </td><td>3890           </td><td>1530           </td><td>2001           </td><td>   0           </td><td>98053          </td><td>47.6561        </td><td>-122.005       </td><td>4760           </td><td>101930         </td></tr>\n",
       "</tbody>\n",
       "</table>\n"
      ],
      "text/latex": [
       "\\begin{tabular}{r|llllllllllllllllllllll}\n",
       " X & id & date & price & bedrooms & bathrooms & sqft\\_living & sqft\\_lot & floors & waterfront & ... & grade & sqft\\_above & sqft\\_basement & yr\\_built & yr\\_renovated & zipcode & lat & long & sqft\\_living15 & sqft\\_lot15\\\\\n",
       "\\hline\n",
       "\t 1               & 7129300520      & 20141013T000000 &  221900         & 3               & 1.00            & 1180            &   5650          & 1               & 0               & ...             &  7              & 1180            &    0            & 1955            &    0            & 98178           & 47.5112         & -122.257        & 1340            &   5650         \\\\\n",
       "\t 2               & 6414100192      & 20141209T000000 &  538000         & 3               & 2.25            & 2570            &   7242          & 2               & 0               & ...             &  7              & 2170            &  400            & 1951            & 1991            & 98125           & 47.7210         & -122.319        & 1690            &   7639         \\\\\n",
       "\t 3               & 5631500400      & 20150225T000000 &  180000         & 2               & 1.00            &  770            &  10000          & 1               & 0               & ...             &  6              &  770            &    0            & 1933            &    0            & 98028           & 47.7379         & -122.233        & 2720            &   8062         \\\\\n",
       "\t 4               & 2487200875      & 20141209T000000 &  604000         & 4               & 3.00            & 1960            &   5000          & 1               & 0               & ...             &  7              & 1050            &  910            & 1965            &    0            & 98136           & 47.5208         & -122.393        & 1360            &   5000         \\\\\n",
       "\t 5               & 1954400510      & 20150218T000000 &  510000         & 3               & 2.00            & 1680            &   8080          & 1               & 0               & ...             &  8              & 1680            &    0            & 1987            &    0            & 98074           & 47.6168         & -122.045        & 1800            &   7503         \\\\\n",
       "\t 6               & 7237550310      & 20140512T000000 & 1225000         & 4               & 4.50            & 5420            & 101930          & 1               & 0               & ...             & 11              & 3890            & 1530            & 2001            &    0            & 98053           & 47.6561         & -122.005        & 4760            & 101930         \\\\\n",
       "\\end{tabular}\n"
      ],
      "text/markdown": [
       "\n",
       "X | id | date | price | bedrooms | bathrooms | sqft_living | sqft_lot | floors | waterfront | ... | grade | sqft_above | sqft_basement | yr_built | yr_renovated | zipcode | lat | long | sqft_living15 | sqft_lot15 | \n",
       "|---|---|---|---|---|---|\n",
       "| 1               | 7129300520      | 20141013T000000 |  221900         | 3               | 1.00            | 1180            |   5650          | 1               | 0               | ...             |  7              | 1180            |    0            | 1955            |    0            | 98178           | 47.5112         | -122.257        | 1340            |   5650          | \n",
       "| 2               | 6414100192      | 20141209T000000 |  538000         | 3               | 2.25            | 2570            |   7242          | 2               | 0               | ...             |  7              | 2170            |  400            | 1951            | 1991            | 98125           | 47.7210         | -122.319        | 1690            |   7639          | \n",
       "| 3               | 5631500400      | 20150225T000000 |  180000         | 2               | 1.00            |  770            |  10000          | 1               | 0               | ...             |  6              |  770            |    0            | 1933            |    0            | 98028           | 47.7379         | -122.233        | 2720            |   8062          | \n",
       "| 4               | 2487200875      | 20141209T000000 |  604000         | 4               | 3.00            | 1960            |   5000          | 1               | 0               | ...             |  7              | 1050            |  910            | 1965            |    0            | 98136           | 47.5208         | -122.393        | 1360            |   5000          | \n",
       "| 5               | 1954400510      | 20150218T000000 |  510000         | 3               | 2.00            | 1680            |   8080          | 1               | 0               | ...             |  8              | 1680            |    0            | 1987            |    0            | 98074           | 47.6168         | -122.045        | 1800            |   7503          | \n",
       "| 6               | 7237550310      | 20140512T000000 | 1225000         | 4               | 4.50            | 5420            | 101930          | 1               | 0               | ...             | 11              | 3890            | 1530            | 2001            |    0            | 98053           | 47.6561         | -122.005        | 4760            | 101930          | \n",
       "\n",
       "\n"
      ],
      "text/plain": [
       "  X id         date            price   bedrooms bathrooms sqft_living sqft_lot\n",
       "1 1 7129300520 20141013T000000  221900 3        1.00      1180          5650  \n",
       "2 2 6414100192 20141209T000000  538000 3        2.25      2570          7242  \n",
       "3 3 5631500400 20150225T000000  180000 2        1.00       770         10000  \n",
       "4 4 2487200875 20141209T000000  604000 4        3.00      1960          5000  \n",
       "5 5 1954400510 20150218T000000  510000 3        2.00      1680          8080  \n",
       "6 6 7237550310 20140512T000000 1225000 4        4.50      5420        101930  \n",
       "  floors waterfront ... grade sqft_above sqft_basement yr_built yr_renovated\n",
       "1 1      0          ...  7    1180          0          1955        0        \n",
       "2 2      0          ...  7    2170        400          1951     1991        \n",
       "3 1      0          ...  6     770          0          1933        0        \n",
       "4 1      0          ...  7    1050        910          1965        0        \n",
       "5 1      0          ...  8    1680          0          1987        0        \n",
       "6 1      0          ... 11    3890       1530          2001        0        \n",
       "  zipcode lat     long     sqft_living15 sqft_lot15\n",
       "1 98178   47.5112 -122.257 1340            5650    \n",
       "2 98125   47.7210 -122.319 1690            7639    \n",
       "3 98028   47.7379 -122.233 2720            8062    \n",
       "4 98136   47.5208 -122.393 1360            5000    \n",
       "5 98074   47.6168 -122.045 1800            7503    \n",
       "6 98053   47.6561 -122.005 4760          101930    "
      ]
     },
     "metadata": {},
     "output_type": "display_data"
    }
   ],
   "source": [
    "head(housing_prices)"
   ]
  },
  {
   "cell_type": "code",
   "execution_count": 3,
   "metadata": {},
   "outputs": [
    {
     "name": "stdout",
     "output_type": "stream",
     "text": [
      "'data.frame':\t21613 obs. of  22 variables:\n",
      " $ X            : int  1 2 3 4 5 6 7 8 9 10 ...\n",
      " $ id           : num  7.13e+09 6.41e+09 5.63e+09 2.49e+09 1.95e+09 ...\n",
      " $ date         : Factor w/ 372 levels \"20140502T000000\",..: 165 221 291 221 284 11 57 252 340 306 ...\n",
      " $ price        : num  221900 538000 180000 604000 510000 ...\n",
      " $ bedrooms     : int  3 3 2 4 3 4 3 3 3 3 ...\n",
      " $ bathrooms    : num  1 2.25 1 3 2 4.5 2.25 1.5 1 2.5 ...\n",
      " $ sqft_living  : int  1180 2570 770 1960 1680 5420 1715 1060 1780 1890 ...\n",
      " $ sqft_lot     : int  5650 7242 10000 5000 8080 101930 6819 9711 7470 6560 ...\n",
      " $ floors       : num  1 2 1 1 1 1 2 1 1 2 ...\n",
      " $ waterfront   : int  0 0 0 0 0 0 0 0 0 0 ...\n",
      " $ view         : int  0 0 0 0 0 0 0 0 0 0 ...\n",
      " $ condition    : int  3 3 3 5 3 3 3 3 3 3 ...\n",
      " $ grade        : int  7 7 6 7 8 11 7 7 7 7 ...\n",
      " $ sqft_above   : int  1180 2170 770 1050 1680 3890 1715 1060 1050 1890 ...\n",
      " $ sqft_basement: int  0 400 0 910 0 1530 0 0 730 0 ...\n",
      " $ yr_built     : int  1955 1951 1933 1965 1987 2001 1995 1963 1960 2003 ...\n",
      " $ yr_renovated : int  0 1991 0 0 0 0 0 0 0 0 ...\n",
      " $ zipcode      : int  98178 98125 98028 98136 98074 98053 98003 98198 98146 98038 ...\n",
      " $ lat          : num  47.5 47.7 47.7 47.5 47.6 ...\n",
      " $ long         : num  -122 -122 -122 -122 -122 ...\n",
      " $ sqft_living15: int  1340 1690 2720 1360 1800 4760 2238 1650 1780 2390 ...\n",
      " $ sqft_lot15   : int  5650 7639 8062 5000 7503 101930 6819 9711 8113 7570 ...\n"
     ]
    }
   ],
   "source": [
    "str(housing_prices)"
   ]
  },
  {
   "cell_type": "code",
   "execution_count": 5,
   "metadata": {},
   "outputs": [
    {
     "data": {
      "text/plain": [
       "       X               id                         date           price        \n",
       " Min.   :    1   Min.   :1.000e+06   20140623T000000:  142   Min.   :  75000  \n",
       " 1st Qu.: 5404   1st Qu.:2.123e+09   20140625T000000:  131   1st Qu.: 321950  \n",
       " Median :10807   Median :3.905e+09   20140626T000000:  131   Median : 450000  \n",
       " Mean   :10807   Mean   :4.580e+09   20140708T000000:  127   Mean   : 540088  \n",
       " 3rd Qu.:16210   3rd Qu.:7.309e+09   20150427T000000:  126   3rd Qu.: 645000  \n",
       " Max.   :21613   Max.   :9.900e+09   20150325T000000:  123   Max.   :7700000  \n",
       "                                     (Other)        :20833                    \n",
       "    bedrooms        bathrooms      sqft_living       sqft_lot      \n",
       " Min.   : 0.000   Min.   :0.000   Min.   :  290   Min.   :    520  \n",
       " 1st Qu.: 3.000   1st Qu.:1.750   1st Qu.: 1427   1st Qu.:   5040  \n",
       " Median : 3.000   Median :2.250   Median : 1910   Median :   7618  \n",
       " Mean   : 3.371   Mean   :2.115   Mean   : 2080   Mean   :  15107  \n",
       " 3rd Qu.: 4.000   3rd Qu.:2.500   3rd Qu.: 2550   3rd Qu.:  10688  \n",
       " Max.   :33.000   Max.   :8.000   Max.   :13540   Max.   :1651359  \n",
       "                                                                   \n",
       "     floors        waterfront            view          condition    \n",
       " Min.   :1.000   Min.   :0.000000   Min.   :0.0000   Min.   :1.000  \n",
       " 1st Qu.:1.000   1st Qu.:0.000000   1st Qu.:0.0000   1st Qu.:3.000  \n",
       " Median :1.500   Median :0.000000   Median :0.0000   Median :3.000  \n",
       " Mean   :1.494   Mean   :0.007542   Mean   :0.2343   Mean   :3.409  \n",
       " 3rd Qu.:2.000   3rd Qu.:0.000000   3rd Qu.:0.0000   3rd Qu.:4.000  \n",
       " Max.   :3.500   Max.   :1.000000   Max.   :4.0000   Max.   :5.000  \n",
       "                                                                    \n",
       "     grade          sqft_above   sqft_basement       yr_built   \n",
       " Min.   : 1.000   Min.   : 290   Min.   :   0.0   Min.   :1900  \n",
       " 1st Qu.: 7.000   1st Qu.:1190   1st Qu.:   0.0   1st Qu.:1951  \n",
       " Median : 7.000   Median :1560   Median :   0.0   Median :1975  \n",
       " Mean   : 7.657   Mean   :1788   Mean   : 291.5   Mean   :1971  \n",
       " 3rd Qu.: 8.000   3rd Qu.:2210   3rd Qu.: 560.0   3rd Qu.:1997  \n",
       " Max.   :13.000   Max.   :9410   Max.   :4820.0   Max.   :2015  \n",
       "                                                                \n",
       "  yr_renovated       zipcode           lat             long       \n",
       " Min.   :   0.0   Min.   :98001   Min.   :47.16   Min.   :-122.5  \n",
       " 1st Qu.:   0.0   1st Qu.:98033   1st Qu.:47.47   1st Qu.:-122.3  \n",
       " Median :   0.0   Median :98065   Median :47.57   Median :-122.2  \n",
       " Mean   :  84.4   Mean   :98078   Mean   :47.56   Mean   :-122.2  \n",
       " 3rd Qu.:   0.0   3rd Qu.:98118   3rd Qu.:47.68   3rd Qu.:-122.1  \n",
       " Max.   :2015.0   Max.   :98199   Max.   :47.78   Max.   :-121.3  \n",
       "                                                                  \n",
       " sqft_living15    sqft_lot15    \n",
       " Min.   : 399   Min.   :   651  \n",
       " 1st Qu.:1490   1st Qu.:  5100  \n",
       " Median :1840   Median :  7620  \n",
       " Mean   :1987   Mean   : 12768  \n",
       " 3rd Qu.:2360   3rd Qu.: 10083  \n",
       " Max.   :6210   Max.   :871200  \n",
       "                                "
      ]
     },
     "metadata": {},
     "output_type": "display_data"
    }
   ],
   "source": [
    "summary(housing_prices)"
   ]
  },
  {
   "cell_type": "code",
   "execution_count": null,
   "metadata": {
    "collapsed": true
   },
   "outputs": [],
   "source": []
  },
  {
   "cell_type": "markdown",
   "metadata": {},
   "source": [
    "We have 21613 obs. of  21 variables. For this dataset, we can see various numeric and integer components in our multivariate data. Each line in the structure above is a vector component, therefore the vector structure is (id, data, price, bedrooms, etc)."
   ]
  },
  {
   "cell_type": "markdown",
   "metadata": {},
   "source": [
    "Each variable has a different scale of values. Some range from 0 to 1 and some vary over long ranges. Bedrooms look interesting with a maximum valaue of 33. There could be possible outliers...which we'll look into shortly. \n",
    "\n",
    "For datasets such as this, we'd need to apply some cultural and domain understanding to the data. For instance, we see the zipcode is being treated as numerical value. However, we know that zipcodes are actually factors. "
   ]
  },
  {
   "cell_type": "markdown",
   "metadata": {},
   "source": [
    "## Univariate analysis\n",
    "\n",
    "Let's plot histograms for all 18 variables and look into their distribution. \n",
    "\n",
    "gridExtra = This library helps you arrange multiple grid-based plots on a page and draw tables. We are plotting 18 different histograms and arranging them in a grid. \n",
    "\n",
    "ggplot2 = Used for data visualizations. It takes care of many of the fiddly details that make plotting a hassle"
   ]
  },
  {
   "cell_type": "code",
   "execution_count": 6,
   "metadata": {
    "collapsed": true
   },
   "outputs": [],
   "source": [
    "library(gridExtra)\n",
    "library(ggplot2)"
   ]
  },
  {
   "cell_type": "code",
   "execution_count": 7,
   "metadata": {},
   "outputs": [
    {
     "data": {},
     "metadata": {},
     "output_type": "display_data"
    },
    {
     "data": {
      "image/png": "[encoded data removed]",
      "text/plain": [
       "plot without title"
      ]
     },
     "metadata": {},
     "output_type": "display_data"
    },
    {
     "data": {
      "image/png": "[encoded data removed]",
      "text/plain": [
       "plot without title"
      ]
     },
     "metadata": {},
     "output_type": "display_data"
    }
   ],
   "source": [
    "# dividing the price by 1000 to get the price in 1000 $. \n",
    "qplot(housing_prices$price/1000, bins = 20, xlab = \"Price ($k)\")\n",
    "\n",
    "grid.arrange(\n",
    "        qplot(housing_prices$bedrooms, bins = 5, xlab = \"bedrooms\"),\n",
    "        qplot(housing_prices$bathrooms, bins = 5, xlab = \"bathrooms\"),\n",
    "        qplot(housing_prices$sqft_living, bins = 25, xlab = \"sqft_living\"),\n",
    "        qplot(housing_prices$floors,bins = 4,xlab='floors'),\n",
    "        qplot(housing_prices$waterfront,bins = 4,xlab='waterfront'),\n",
    "        qplot(housing_prices$view,bins = 4,xlab='view'),\n",
    "        qplot(housing_prices$condition,bins = 10,xlab='condition'),\n",
    "        qplot(housing_prices$grade,bins = 10,xlab='grade'),\n",
    "        qplot(housing_prices$sqft_above,bins = 25,xlab='sqft_above'),\n",
    "        qplot(housing_prices$sqft_basement,bins = 25,xlab='sqft_basement'),\n",
    "        qplot(housing_prices$yr_built,bins = 10,xlab='yr_built'),\n",
    "        qplot(housing_prices$yr_renovated,bins = 10,xlab='yr_renovated'),\n",
    "        qplot(housing_prices$lat,bins = 20,xlab='lat'),\n",
    "        qplot(housing_prices$long,bins = 20,xlab='long'),\n",
    "        qplot(housing_prices$sqft_living15,bins = 25,xlab='sqft_living15'),\n",
    "        qplot(housing_prices$sqft_lot15,bins = 25,xlab='sqft_lot15'),\n",
    "        qplot(housing_prices$zipcode,bins = 10,xlab='zipcode'),\n",
    "        ncol = 3\n",
    ")"
   ]
  },
  {
   "cell_type": "markdown",
   "metadata": {},
   "source": [
    "Now, let's look at a few of the plots to see the actual histograms as a table of values using the table function"
   ]
  },
  {
   "cell_type": "code",
   "execution_count": 8,
   "metadata": {},
   "outputs": [
    {
     "data": {
      "text/plain": [
       "\n",
       "   0    1    2    3    4    5    6    7    8    9   10   11   33 \n",
       "  13  199 2760 9824 6882 1601  272   38   13    6    3    1    1 "
      ]
     },
     "metadata": {},
     "output_type": "display_data"
    }
   ],
   "source": [
    "table(housing_prices$bedrooms)"
   ]
  },
  {
   "cell_type": "code",
   "execution_count": 9,
   "metadata": {},
   "outputs": [
    {
     "data": {
      "text/plain": [
       "\n",
       "   0  0.5 0.75    1 1.25  1.5 1.75    2 2.25  2.5 2.75    3 3.25  3.5 3.75    4 \n",
       "  10    4   72 3852    9 1446 3048 1930 2047 5380 1185  753  589  731  155  136 \n",
       "4.25  4.5 4.75    5 5.25  5.5 5.75    6 6.25  6.5 6.75  7.5 7.75    8 \n",
       "  79  100   23   21   13   10    4    6    2    2    2    1    1    2 "
      ]
     },
     "metadata": {},
     "output_type": "display_data"
    }
   ],
   "source": [
    "table(housing_prices$bathrooms)"
   ]
  },
  {
   "cell_type": "code",
   "execution_count": 10,
   "metadata": {},
   "outputs": [
    {
     "data": {
      "text/plain": [
       "\n",
       "    1   1.5     2   2.5     3   3.5 \n",
       "10680  1910  8241   161   613     8 "
      ]
     },
     "metadata": {},
     "output_type": "display_data"
    }
   ],
   "source": [
    "table(housing_prices$floors)"
   ]
  },
  {
   "cell_type": "code",
   "execution_count": 11,
   "metadata": {},
   "outputs": [
    {
     "data": {
      "text/plain": [
       "\n",
       "    0     1     2     3     4 \n",
       "19489   332   963   510   319 "
      ]
     },
     "metadata": {},
     "output_type": "display_data"
    }
   ],
   "source": [
    "table(housing_prices$view)"
   ]
  },
  {
   "cell_type": "code",
   "execution_count": 12,
   "metadata": {},
   "outputs": [
    {
     "data": {
      "text/plain": [
       "\n",
       "    0  1934  1940  1944  1945  1946  1948  1950  1951  1953  1954  1955  1956 \n",
       "20699     1     2     1     3     2     1     2     1     3     1     3     3 \n",
       " 1957  1958  1959  1960  1962  1963  1964  1965  1967  1968  1969  1970  1971 \n",
       "    3     5     1     4     2     4     5     5     2     8     4     9     2 \n",
       " 1972  1973  1974  1975  1976  1977  1978  1979  1980  1981  1982  1983  1984 \n",
       "    4     5     3     6     3     8     6    10    11     5    11    18    18 \n",
       " 1985  1986  1987  1988  1989  1990  1991  1992  1993  1994  1995  1996  1997 \n",
       "   17    17    18    15    22    25    20    17    19    19    16    15    15 \n",
       " 1998  1999  2000  2001  2002  2003  2004  2005  2006  2007  2008  2009  2010 \n",
       "   19    17    35    19    22    36    26    35    24    35    18    22    18 \n",
       " 2011  2012  2013  2014  2015 \n",
       "   13    11    37    91    16 "
      ]
     },
     "metadata": {},
     "output_type": "display_data"
    }
   ],
   "source": [
    "table(housing_prices$yr_renovated)"
   ]
  },
  {
   "cell_type": "markdown",
   "metadata": {},
   "source": [
    "### Observations based on histograms\n",
    "\n",
    "* Bedrooms: bedroom variable appears to have outliers but it could be a valid value\n",
    "\n",
    "* Year renovated: not many houses are renovated. Most of the renovated houses are from the 90s/. \n",
    "\n",
    "We have to identify independent variables that are related to our response variable, \"price\". To do this, we will look for bivariate relationships. \n",
    "\n",
    "We know, culturally, that bedrooms will be a major decider in the price of a house. So, let's look at this and test our expectation with a scatterplot of the price and bedrooms. We will add a regression line to our scatterplot as well so we can estimate the correlation coefficient between the variables. "
   ]
  },
  {
   "cell_type": "code",
   "execution_count": null,
   "metadata": {
    "collapsed": true
   },
   "outputs": [],
   "source": [
    "ggplot(housing_prices, aes(x = bedrooms, y = price / 1000)) + \n",
    "    xlab(\"Bedrooms\") + \n",
    "    ylab(\"Price ($K)\") + \n",
    "    geom_point() +\n",
    "    geom_smooth(method = lm)"
   ]
  }
 ],
 "metadata": {
  "kernelspec": {
   "display_name": "R",
   "language": "R",
   "name": "ir"
  },
  "language_info": {
   "codemirror_mode": "r",
   "file_extension": ".r",
   "mimetype": "text/x-r-source",
   "name": "R",
   "pygments_lexer": "r",
   "version": "3.4.1"
  }
 },
 "nbformat": 4,
 "nbformat_minor": 2
}
