{
 "cells": [
  {
   "cell_type": "markdown",
   "metadata": {},
   "source": [
    "# Multivariate data as vectors\n",
    "\n",
    "We have done univariate analysis in the previous notebooks. All the datasets we have looked into so far were multivariate but we focused on analyzing individual variables, performing basic descriptive and inferential statistics. Afterwards, we did some bivariate analysis. However, what if you wanted to analyze more than 2 variables at once?\n",
    "\n",
    "Multivariate data can have 2 or more dimensions. Often, more than 1 variable is collected in an experiment or any observation. When considering multivariate data, we must take into account interdependencies and correlations of data vectors. \n",
    "\n",
    "For example, in the demographic study - many features such as age, sex, race, education, job, income level, etc are included in the survey. The datasets will have more than 2 quanititative variables for each row/observation. \n",
    "\n",
    "A key issue to address is that with increasingly wide datasets, it becomes increasingly more challenging to do visual exploration of the data. Visual exploration is possible when looking at a dataset of 2, 3, 4 variables as shown in the lecture/videos but anything beyond this range should be dealt with using numerical analysis. "
   ]
  },
  {
   "cell_type": "markdown",
   "metadata": {
    "collapsed": true
   },
   "source": [
    "## What is a vector?\n",
    "\n",
    "The word vector is the name that approximates the meaning of the term, \"variable\". Data scientists often use the four following words interchangably while communicating to others: variable, vector, array, and distribution. When multiple vectors (variables) are combined and stored into a dataset in R, we call it a dataframe. \n",
    "\n",
    "When R stores vectors into a dataframe, it assigns a role to indicate how the data will be used in subsequent statistical analysis. So in R dataframes, the \"logical\", \"datetime\", and \"character\" datatypes are assigned the role of factor. The \"double datatype are assigned the role of num and integers are assigned the role of int (the complex datatype is assigned the role of cpix). These roles correspond to statistical datatypes as follows:\n",
    "\n",
    "* Factor = nominal\n",
    "* int = ordinal\n",
    "* num = interval \n",
    "\n",
    "So every variable or distribution or array is a vector. Additionally, every dataum within a dataset is typically a vector of related values."
   ]
  },
  {
   "cell_type": "code",
   "execution_count": null,
   "metadata": {
    "collapsed": true
   },
   "outputs": [],
   "source": []
  }
 ],
 "metadata": {
  "kernelspec": {
   "display_name": "R",
   "language": "R",
   "name": "ir"
  },
  "language_info": {
   "codemirror_mode": "r",
   "file_extension": ".r",
   "mimetype": "text/x-r-source",
   "name": "R",
   "pygments_lexer": "r",
   "version": "3.4.1"
  }
 },
 "nbformat": 4,
 "nbformat_minor": 2
}
