{
 "cells": [
  {
   "cell_type": "markdown",
   "metadata": {},
   "source": [
    "# Multivariate data as vectors\n",
    "\n",
    "We have done univariate analysis in the previous notebooks. All the datasets we have looked into so far were multivariate but we focused on analyzing individual variables, performing basic descriptive and inferential statistics. Afterwards, we did some bivariate analysis. However, what if you wanted to analyze more than 2 variables at once?\n",
    "\n",
    "Multivariate data can have 2 or more dimensions. Often, more than 1 variable is collected in an experiment or any observation. When considering multivariate data, we must take into account interdependencies and correlations of data vectors. "
   ]
  },
  {
   "cell_type": "code",
   "execution_count": null,
   "metadata": {
    "collapsed": true
   },
   "outputs": [],
   "source": []
  }
 ],
 "metadata": {
  "kernelspec": {
   "display_name": "R",
   "language": "R",
   "name": "ir"
  },
  "language_info": {
   "codemirror_mode": "r",
   "file_extension": ".r",
   "mimetype": "text/x-r-source",
   "name": "R",
   "pygments_lexer": "r",
   "version": "3.4.1"
  }
 },
 "nbformat": 4,
 "nbformat_minor": 2
}
