{
 "cells": [
  {
   "cell_type": "markdown",
   "metadata": {},
   "source": [
    "# Multivariate Data"
   ]
  },
  {
   "cell_type": "markdown",
   "metadata": {
    "collapsed": true
   },
   "source": [
    "Let's use the bdims dataset \n",
    "https://www.openintro.org/stat/data/bdims.php"
   ]
  },
  {
   "cell_type": "code",
   "execution_count": 8,
   "metadata": {
    "collapsed": true
   },
   "outputs": [],
   "source": [
    "download.file(\"http://www.openintro.org/stat/data/bdims.RData\", destfile = \"bdims.RData\")\n",
    "load(\"bdims.RData\")"
   ]
  },
  {
   "cell_type": "code",
   "execution_count": 9,
   "metadata": {},
   "outputs": [
    {
     "data": {
      "text/html": [
       "<table>\n",
       "<thead><tr><th scope=col>bia.di</th><th scope=col>bii.di</th><th scope=col>bit.di</th><th scope=col>che.de</th><th scope=col>che.di</th><th scope=col>elb.di</th><th scope=col>wri.di</th><th scope=col>kne.di</th><th scope=col>ank.di</th><th scope=col>sho.gi</th><th scope=col>...</th><th scope=col>bic.gi</th><th scope=col>for.gi</th><th scope=col>kne.gi</th><th scope=col>cal.gi</th><th scope=col>ank.gi</th><th scope=col>wri.gi</th><th scope=col>age</th><th scope=col>wgt</th><th scope=col>hgt</th><th scope=col>sex</th></tr></thead>\n",
       "<tbody>\n",
       "\t<tr><td>42.9 </td><td>26.0 </td><td>31.5 </td><td>17.7 </td><td>28.0 </td><td>13.1 </td><td>10.4 </td><td>18.8 </td><td>14.1 </td><td>106.2</td><td>...  </td><td>32.5 </td><td>26.0 </td><td>34.5 </td><td>36.5 </td><td>23.5 </td><td>16.5 </td><td>21   </td><td>65.6 </td><td>174.0</td><td>1    </td></tr>\n",
       "\t<tr><td>43.7 </td><td>28.5 </td><td>33.5 </td><td>16.9 </td><td>30.8 </td><td>14.0 </td><td>11.8 </td><td>20.6 </td><td>15.1 </td><td>110.5</td><td>...  </td><td>34.4 </td><td>28.0 </td><td>36.5 </td><td>37.5 </td><td>24.5 </td><td>17.0 </td><td>23   </td><td>71.8 </td><td>175.3</td><td>1    </td></tr>\n",
       "\t<tr><td>40.1 </td><td>28.2 </td><td>33.3 </td><td>20.9 </td><td>31.7 </td><td>13.9 </td><td>10.9 </td><td>19.7 </td><td>14.1 </td><td>115.1</td><td>...  </td><td>33.4 </td><td>28.8 </td><td>37.0 </td><td>37.3 </td><td>21.9 </td><td>16.9 </td><td>28   </td><td>80.7 </td><td>193.5</td><td>1    </td></tr>\n",
       "\t<tr><td>44.3 </td><td>29.9 </td><td>34.0 </td><td>18.4 </td><td>28.2 </td><td>13.9 </td><td>11.2 </td><td>20.9 </td><td>15.0 </td><td>104.5</td><td>...  </td><td>31.0 </td><td>26.2 </td><td>37.0 </td><td>34.8 </td><td>23.0 </td><td>16.6 </td><td>23   </td><td>72.6 </td><td>186.5</td><td>1    </td></tr>\n",
       "\t<tr><td>42.5 </td><td>29.9 </td><td>34.0 </td><td>21.5 </td><td>29.4 </td><td>15.2 </td><td>11.6 </td><td>20.7 </td><td>14.9 </td><td>107.5</td><td>...  </td><td>32.0 </td><td>28.4 </td><td>37.7 </td><td>38.6 </td><td>24.4 </td><td>18.0 </td><td>22   </td><td>78.8 </td><td>187.2</td><td>1    </td></tr>\n",
       "\t<tr><td>43.3 </td><td>27.0 </td><td>31.5 </td><td>19.6 </td><td>31.3 </td><td>14.0 </td><td>11.5 </td><td>18.8 </td><td>13.9 </td><td>119.8</td><td>...  </td><td>33.0 </td><td>28.0 </td><td>36.6 </td><td>36.1 </td><td>23.5 </td><td>16.9 </td><td>21   </td><td>74.8 </td><td>181.5</td><td>1    </td></tr>\n",
       "</tbody>\n",
       "</table>\n"
      ],
      "text/latex": [
       "\\begin{tabular}{r|lllllllllllllllllllllllll}\n",
       " bia.di & bii.di & bit.di & che.de & che.di & elb.di & wri.di & kne.di & ank.di & sho.gi & ... & bic.gi & for.gi & kne.gi & cal.gi & ank.gi & wri.gi & age & wgt & hgt & sex\\\\\n",
       "\\hline\n",
       "\t 42.9  & 26.0  & 31.5  & 17.7  & 28.0  & 13.1  & 10.4  & 18.8  & 14.1  & 106.2 & ...   & 32.5  & 26.0  & 34.5  & 36.5  & 23.5  & 16.5  & 21    & 65.6  & 174.0 & 1    \\\\\n",
       "\t 43.7  & 28.5  & 33.5  & 16.9  & 30.8  & 14.0  & 11.8  & 20.6  & 15.1  & 110.5 & ...   & 34.4  & 28.0  & 36.5  & 37.5  & 24.5  & 17.0  & 23    & 71.8  & 175.3 & 1    \\\\\n",
       "\t 40.1  & 28.2  & 33.3  & 20.9  & 31.7  & 13.9  & 10.9  & 19.7  & 14.1  & 115.1 & ...   & 33.4  & 28.8  & 37.0  & 37.3  & 21.9  & 16.9  & 28    & 80.7  & 193.5 & 1    \\\\\n",
       "\t 44.3  & 29.9  & 34.0  & 18.4  & 28.2  & 13.9  & 11.2  & 20.9  & 15.0  & 104.5 & ...   & 31.0  & 26.2  & 37.0  & 34.8  & 23.0  & 16.6  & 23    & 72.6  & 186.5 & 1    \\\\\n",
       "\t 42.5  & 29.9  & 34.0  & 21.5  & 29.4  & 15.2  & 11.6  & 20.7  & 14.9  & 107.5 & ...   & 32.0  & 28.4  & 37.7  & 38.6  & 24.4  & 18.0  & 22    & 78.8  & 187.2 & 1    \\\\\n",
       "\t 43.3  & 27.0  & 31.5  & 19.6  & 31.3  & 14.0  & 11.5  & 18.8  & 13.9  & 119.8 & ...   & 33.0  & 28.0  & 36.6  & 36.1  & 23.5  & 16.9  & 21    & 74.8  & 181.5 & 1    \\\\\n",
       "\\end{tabular}\n"
      ],
      "text/markdown": [
       "\n",
       "bia.di | bii.di | bit.di | che.de | che.di | elb.di | wri.di | kne.di | ank.di | sho.gi | ... | bic.gi | for.gi | kne.gi | cal.gi | ank.gi | wri.gi | age | wgt | hgt | sex | \n",
       "|---|---|---|---|---|---|\n",
       "| 42.9  | 26.0  | 31.5  | 17.7  | 28.0  | 13.1  | 10.4  | 18.8  | 14.1  | 106.2 | ...   | 32.5  | 26.0  | 34.5  | 36.5  | 23.5  | 16.5  | 21    | 65.6  | 174.0 | 1     | \n",
       "| 43.7  | 28.5  | 33.5  | 16.9  | 30.8  | 14.0  | 11.8  | 20.6  | 15.1  | 110.5 | ...   | 34.4  | 28.0  | 36.5  | 37.5  | 24.5  | 17.0  | 23    | 71.8  | 175.3 | 1     | \n",
       "| 40.1  | 28.2  | 33.3  | 20.9  | 31.7  | 13.9  | 10.9  | 19.7  | 14.1  | 115.1 | ...   | 33.4  | 28.8  | 37.0  | 37.3  | 21.9  | 16.9  | 28    | 80.7  | 193.5 | 1     | \n",
       "| 44.3  | 29.9  | 34.0  | 18.4  | 28.2  | 13.9  | 11.2  | 20.9  | 15.0  | 104.5 | ...   | 31.0  | 26.2  | 37.0  | 34.8  | 23.0  | 16.6  | 23    | 72.6  | 186.5 | 1     | \n",
       "| 42.5  | 29.9  | 34.0  | 21.5  | 29.4  | 15.2  | 11.6  | 20.7  | 14.9  | 107.5 | ...   | 32.0  | 28.4  | 37.7  | 38.6  | 24.4  | 18.0  | 22    | 78.8  | 187.2 | 1     | \n",
       "| 43.3  | 27.0  | 31.5  | 19.6  | 31.3  | 14.0  | 11.5  | 18.8  | 13.9  | 119.8 | ...   | 33.0  | 28.0  | 36.6  | 36.1  | 23.5  | 16.9  | 21    | 74.8  | 181.5 | 1     | \n",
       "\n",
       "\n"
      ],
      "text/plain": [
       "  bia.di bii.di bit.di che.de che.di elb.di wri.di kne.di ank.di sho.gi ...\n",
       "1 42.9   26.0   31.5   17.7   28.0   13.1   10.4   18.8   14.1   106.2  ...\n",
       "2 43.7   28.5   33.5   16.9   30.8   14.0   11.8   20.6   15.1   110.5  ...\n",
       "3 40.1   28.2   33.3   20.9   31.7   13.9   10.9   19.7   14.1   115.1  ...\n",
       "4 44.3   29.9   34.0   18.4   28.2   13.9   11.2   20.9   15.0   104.5  ...\n",
       "5 42.5   29.9   34.0   21.5   29.4   15.2   11.6   20.7   14.9   107.5  ...\n",
       "6 43.3   27.0   31.5   19.6   31.3   14.0   11.5   18.8   13.9   119.8  ...\n",
       "  bic.gi for.gi kne.gi cal.gi ank.gi wri.gi age wgt  hgt   sex\n",
       "1 32.5   26.0   34.5   36.5   23.5   16.5   21  65.6 174.0 1  \n",
       "2 34.4   28.0   36.5   37.5   24.5   17.0   23  71.8 175.3 1  \n",
       "3 33.4   28.8   37.0   37.3   21.9   16.9   28  80.7 193.5 1  \n",
       "4 31.0   26.2   37.0   34.8   23.0   16.6   23  72.6 186.5 1  \n",
       "5 32.0   28.4   37.7   38.6   24.4   18.0   22  78.8 187.2 1  \n",
       "6 33.0   28.0   36.6   36.1   23.5   16.9   21  74.8 181.5 1  "
      ]
     },
     "metadata": {},
     "output_type": "display_data"
    }
   ],
   "source": [
    "head(bdims)"
   ]
  },
  {
   "cell_type": "code",
   "execution_count": 10,
   "metadata": {},
   "outputs": [
    {
     "data": {
      "text/html": [
       "<table>\n",
       "<thead><tr><th></th><th scope=col>1</th><th scope=col>2</th><th scope=col>3</th><th scope=col>4</th><th scope=col>5</th><th scope=col>6</th></tr></thead>\n",
       "<tbody>\n",
       "\t<tr><th scope=row>bia.di</th><td>42.9 </td><td>43.7 </td><td>40.1 </td><td>44.3 </td><td>42.5 </td><td>43.3 </td></tr>\n",
       "\t<tr><th scope=row>bii.di</th><td>26.0 </td><td>28.5 </td><td>28.2 </td><td>29.9 </td><td>29.9 </td><td>27.0 </td></tr>\n",
       "\t<tr><th scope=row>bit.di</th><td>31.5 </td><td>33.5 </td><td>33.3 </td><td>34.0 </td><td>34.0 </td><td>31.5 </td></tr>\n",
       "\t<tr><th scope=row>che.de</th><td>17.7 </td><td>16.9 </td><td>20.9 </td><td>18.4 </td><td>21.5 </td><td>19.6 </td></tr>\n",
       "\t<tr><th scope=row>che.di</th><td>28.0 </td><td>30.8 </td><td>31.7 </td><td>28.2 </td><td>29.4 </td><td>31.3 </td></tr>\n",
       "\t<tr><th scope=row>elb.di</th><td>13.1 </td><td>14.0 </td><td>13.9 </td><td>13.9 </td><td>15.2 </td><td>14.0 </td></tr>\n",
       "\t<tr><th scope=row>wri.di</th><td>10.4 </td><td>11.8 </td><td>10.9 </td><td>11.2 </td><td>11.6 </td><td>11.5 </td></tr>\n",
       "\t<tr><th scope=row>kne.di</th><td>18.8 </td><td>20.6 </td><td>19.7 </td><td>20.9 </td><td>20.7 </td><td>18.8 </td></tr>\n",
       "\t<tr><th scope=row>ank.di</th><td>14.1 </td><td>15.1 </td><td>14.1 </td><td>15.0 </td><td>14.9 </td><td>13.9 </td></tr>\n",
       "\t<tr><th scope=row>sho.gi</th><td>106.2</td><td>110.5</td><td>115.1</td><td>104.5</td><td>107.5</td><td>119.8</td></tr>\n",
       "\t<tr><th scope=row>che.gi</th><td>89.5 </td><td>97.0 </td><td>97.5 </td><td>97.0 </td><td>97.5 </td><td>99.9 </td></tr>\n",
       "\t<tr><th scope=row>wai.gi</th><td>71.5 </td><td>79.0 </td><td>83.2 </td><td>77.8 </td><td>80.0 </td><td>82.5 </td></tr>\n",
       "\t<tr><th scope=row>nav.gi</th><td>74.5 </td><td>86.5 </td><td>82.9 </td><td>78.8 </td><td>82.5 </td><td>80.1 </td></tr>\n",
       "\t<tr><th scope=row>hip.gi</th><td>93.5 </td><td>94.8 </td><td>95.0 </td><td>94.0 </td><td>98.5 </td><td>95.3 </td></tr>\n",
       "\t<tr><th scope=row>thi.gi</th><td>51.5 </td><td>51.5 </td><td>57.3 </td><td>53.0 </td><td>55.4 </td><td>57.5 </td></tr>\n",
       "\t<tr><th scope=row>bic.gi</th><td>32.5 </td><td>34.4 </td><td>33.4 </td><td>31.0 </td><td>32.0 </td><td>33.0 </td></tr>\n",
       "\t<tr><th scope=row>for.gi</th><td>26.0 </td><td>28.0 </td><td>28.8 </td><td>26.2 </td><td>28.4 </td><td>28.0 </td></tr>\n",
       "\t<tr><th scope=row>kne.gi</th><td>34.5 </td><td>36.5 </td><td>37.0 </td><td>37.0 </td><td>37.7 </td><td>36.6 </td></tr>\n",
       "\t<tr><th scope=row>cal.gi</th><td>36.5 </td><td>37.5 </td><td>37.3 </td><td>34.8 </td><td>38.6 </td><td>36.1 </td></tr>\n",
       "\t<tr><th scope=row>ank.gi</th><td>23.5 </td><td>24.5 </td><td>21.9 </td><td>23.0 </td><td>24.4 </td><td>23.5 </td></tr>\n",
       "\t<tr><th scope=row>wri.gi</th><td>16.5 </td><td>17.0 </td><td>16.9 </td><td>16.6 </td><td>18.0 </td><td>16.9 </td></tr>\n",
       "\t<tr><th scope=row>age</th><td>21   </td><td>23   </td><td>28   </td><td>23   </td><td>22   </td><td>21   </td></tr>\n",
       "\t<tr><th scope=row>wgt</th><td>65.6 </td><td>71.8 </td><td>80.7 </td><td>72.6 </td><td>78.8 </td><td>74.8 </td></tr>\n",
       "\t<tr><th scope=row>hgt</th><td>174.0</td><td>175.3</td><td>193.5</td><td>186.5</td><td>187.2</td><td>181.5</td></tr>\n",
       "\t<tr><th scope=row>sex</th><td>1    </td><td>1    </td><td>1    </td><td>1    </td><td>1    </td><td>1    </td></tr>\n",
       "</tbody>\n",
       "</table>\n"
      ],
      "text/latex": [
       "\\begin{tabular}{r|llllll}\n",
       "  & 1 & 2 & 3 & 4 & 5 & 6\\\\\n",
       "\\hline\n",
       "\tbia.di & 42.9  & 43.7  & 40.1  & 44.3  & 42.5  & 43.3 \\\\\n",
       "\tbii.di & 26.0  & 28.5  & 28.2  & 29.9  & 29.9  & 27.0 \\\\\n",
       "\tbit.di & 31.5  & 33.5  & 33.3  & 34.0  & 34.0  & 31.5 \\\\\n",
       "\tche.de & 17.7  & 16.9  & 20.9  & 18.4  & 21.5  & 19.6 \\\\\n",
       "\tche.di & 28.0  & 30.8  & 31.7  & 28.2  & 29.4  & 31.3 \\\\\n",
       "\telb.di & 13.1  & 14.0  & 13.9  & 13.9  & 15.2  & 14.0 \\\\\n",
       "\twri.di & 10.4  & 11.8  & 10.9  & 11.2  & 11.6  & 11.5 \\\\\n",
       "\tkne.di & 18.8  & 20.6  & 19.7  & 20.9  & 20.7  & 18.8 \\\\\n",
       "\tank.di & 14.1  & 15.1  & 14.1  & 15.0  & 14.9  & 13.9 \\\\\n",
       "\tsho.gi & 106.2 & 110.5 & 115.1 & 104.5 & 107.5 & 119.8\\\\\n",
       "\tche.gi & 89.5  & 97.0  & 97.5  & 97.0  & 97.5  & 99.9 \\\\\n",
       "\twai.gi & 71.5  & 79.0  & 83.2  & 77.8  & 80.0  & 82.5 \\\\\n",
       "\tnav.gi & 74.5  & 86.5  & 82.9  & 78.8  & 82.5  & 80.1 \\\\\n",
       "\thip.gi & 93.5  & 94.8  & 95.0  & 94.0  & 98.5  & 95.3 \\\\\n",
       "\tthi.gi & 51.5  & 51.5  & 57.3  & 53.0  & 55.4  & 57.5 \\\\\n",
       "\tbic.gi & 32.5  & 34.4  & 33.4  & 31.0  & 32.0  & 33.0 \\\\\n",
       "\tfor.gi & 26.0  & 28.0  & 28.8  & 26.2  & 28.4  & 28.0 \\\\\n",
       "\tkne.gi & 34.5  & 36.5  & 37.0  & 37.0  & 37.7  & 36.6 \\\\\n",
       "\tcal.gi & 36.5  & 37.5  & 37.3  & 34.8  & 38.6  & 36.1 \\\\\n",
       "\tank.gi & 23.5  & 24.5  & 21.9  & 23.0  & 24.4  & 23.5 \\\\\n",
       "\twri.gi & 16.5  & 17.0  & 16.9  & 16.6  & 18.0  & 16.9 \\\\\n",
       "\tage & 21    & 23    & 28    & 23    & 22    & 21   \\\\\n",
       "\twgt & 65.6  & 71.8  & 80.7  & 72.6  & 78.8  & 74.8 \\\\\n",
       "\thgt & 174.0 & 175.3 & 193.5 & 186.5 & 187.2 & 181.5\\\\\n",
       "\tsex & 1     & 1     & 1     & 1     & 1     & 1    \\\\\n",
       "\\end{tabular}\n"
      ],
      "text/markdown": [
       "\n",
       "| <!--/--> | 1 | 2 | 3 | 4 | 5 | 6 | \n",
       "|---|---|---|---|---|---|---|---|---|---|---|---|---|---|---|---|---|---|---|---|---|---|---|---|---|\n",
       "| bia.di | 42.9  | 43.7  | 40.1  | 44.3  | 42.5  | 43.3  | \n",
       "| bii.di | 26.0  | 28.5  | 28.2  | 29.9  | 29.9  | 27.0  | \n",
       "| bit.di | 31.5  | 33.5  | 33.3  | 34.0  | 34.0  | 31.5  | \n",
       "| che.de | 17.7  | 16.9  | 20.9  | 18.4  | 21.5  | 19.6  | \n",
       "| che.di | 28.0  | 30.8  | 31.7  | 28.2  | 29.4  | 31.3  | \n",
       "| elb.di | 13.1  | 14.0  | 13.9  | 13.9  | 15.2  | 14.0  | \n",
       "| wri.di | 10.4  | 11.8  | 10.9  | 11.2  | 11.6  | 11.5  | \n",
       "| kne.di | 18.8  | 20.6  | 19.7  | 20.9  | 20.7  | 18.8  | \n",
       "| ank.di | 14.1  | 15.1  | 14.1  | 15.0  | 14.9  | 13.9  | \n",
       "| sho.gi | 106.2 | 110.5 | 115.1 | 104.5 | 107.5 | 119.8 | \n",
       "| che.gi | 89.5  | 97.0  | 97.5  | 97.0  | 97.5  | 99.9  | \n",
       "| wai.gi | 71.5  | 79.0  | 83.2  | 77.8  | 80.0  | 82.5  | \n",
       "| nav.gi | 74.5  | 86.5  | 82.9  | 78.8  | 82.5  | 80.1  | \n",
       "| hip.gi | 93.5  | 94.8  | 95.0  | 94.0  | 98.5  | 95.3  | \n",
       "| thi.gi | 51.5  | 51.5  | 57.3  | 53.0  | 55.4  | 57.5  | \n",
       "| bic.gi | 32.5  | 34.4  | 33.4  | 31.0  | 32.0  | 33.0  | \n",
       "| for.gi | 26.0  | 28.0  | 28.8  | 26.2  | 28.4  | 28.0  | \n",
       "| kne.gi | 34.5  | 36.5  | 37.0  | 37.0  | 37.7  | 36.6  | \n",
       "| cal.gi | 36.5  | 37.5  | 37.3  | 34.8  | 38.6  | 36.1  | \n",
       "| ank.gi | 23.5  | 24.5  | 21.9  | 23.0  | 24.4  | 23.5  | \n",
       "| wri.gi | 16.5  | 17.0  | 16.9  | 16.6  | 18.0  | 16.9  | \n",
       "| age | 21    | 23    | 28    | 23    | 22    | 21    | \n",
       "| wgt | 65.6  | 71.8  | 80.7  | 72.6  | 78.8  | 74.8  | \n",
       "| hgt | 174.0 | 175.3 | 193.5 | 186.5 | 187.2 | 181.5 | \n",
       "| sex | 1     | 1     | 1     | 1     | 1     | 1     | \n",
       "\n",
       "\n"
      ],
      "text/plain": [
       "       1     2     3     4     5     6    \n",
       "bia.di 42.9  43.7  40.1  44.3  42.5  43.3 \n",
       "bii.di 26.0  28.5  28.2  29.9  29.9  27.0 \n",
       "bit.di 31.5  33.5  33.3  34.0  34.0  31.5 \n",
       "che.de 17.7  16.9  20.9  18.4  21.5  19.6 \n",
       "che.di 28.0  30.8  31.7  28.2  29.4  31.3 \n",
       "elb.di 13.1  14.0  13.9  13.9  15.2  14.0 \n",
       "wri.di 10.4  11.8  10.9  11.2  11.6  11.5 \n",
       "kne.di 18.8  20.6  19.7  20.9  20.7  18.8 \n",
       "ank.di 14.1  15.1  14.1  15.0  14.9  13.9 \n",
       "sho.gi 106.2 110.5 115.1 104.5 107.5 119.8\n",
       "che.gi 89.5  97.0  97.5  97.0  97.5  99.9 \n",
       "wai.gi 71.5  79.0  83.2  77.8  80.0  82.5 \n",
       "nav.gi 74.5  86.5  82.9  78.8  82.5  80.1 \n",
       "hip.gi 93.5  94.8  95.0  94.0  98.5  95.3 \n",
       "thi.gi 51.5  51.5  57.3  53.0  55.4  57.5 \n",
       "bic.gi 32.5  34.4  33.4  31.0  32.0  33.0 \n",
       "for.gi 26.0  28.0  28.8  26.2  28.4  28.0 \n",
       "kne.gi 34.5  36.5  37.0  37.0  37.7  36.6 \n",
       "cal.gi 36.5  37.5  37.3  34.8  38.6  36.1 \n",
       "ank.gi 23.5  24.5  21.9  23.0  24.4  23.5 \n",
       "wri.gi 16.5  17.0  16.9  16.6  18.0  16.9 \n",
       "age    21    23    28    23    22    21   \n",
       "wgt    65.6  71.8  80.7  72.6  78.8  74.8 \n",
       "hgt    174.0 175.3 193.5 186.5 187.2 181.5\n",
       "sex    1     1     1     1     1     1    "
      ]
     },
     "metadata": {},
     "output_type": "display_data"
    }
   ],
   "source": [
    "t(head(bdims))"
   ]
  },
  {
   "cell_type": "code",
   "execution_count": 11,
   "metadata": {
    "collapsed": true
   },
   "outputs": [],
   "source": [
    "# reduce to only 3 columns\n",
    "lessData <- bdims[c(\"age\", \"wgt\", \"hgt\")]"
   ]
  },
  {
   "cell_type": "code",
   "execution_count": 12,
   "metadata": {},
   "outputs": [
    {
     "data": {
      "text/html": [
       "<table>\n",
       "<thead><tr><th scope=col>age</th><th scope=col>wgt</th><th scope=col>hgt</th></tr></thead>\n",
       "<tbody>\n",
       "\t<tr><td>21   </td><td>65.6 </td><td>174.0</td></tr>\n",
       "\t<tr><td>23   </td><td>71.8 </td><td>175.3</td></tr>\n",
       "\t<tr><td>28   </td><td>80.7 </td><td>193.5</td></tr>\n",
       "\t<tr><td>23   </td><td>72.6 </td><td>186.5</td></tr>\n",
       "\t<tr><td>22   </td><td>78.8 </td><td>187.2</td></tr>\n",
       "\t<tr><td>21   </td><td>74.8 </td><td>181.5</td></tr>\n",
       "</tbody>\n",
       "</table>\n"
      ],
      "text/latex": [
       "\\begin{tabular}{r|lll}\n",
       " age & wgt & hgt\\\\\n",
       "\\hline\n",
       "\t 21    & 65.6  & 174.0\\\\\n",
       "\t 23    & 71.8  & 175.3\\\\\n",
       "\t 28    & 80.7  & 193.5\\\\\n",
       "\t 23    & 72.6  & 186.5\\\\\n",
       "\t 22    & 78.8  & 187.2\\\\\n",
       "\t 21    & 74.8  & 181.5\\\\\n",
       "\\end{tabular}\n"
      ],
      "text/markdown": [
       "\n",
       "age | wgt | hgt | \n",
       "|---|---|---|---|---|---|\n",
       "| 21    | 65.6  | 174.0 | \n",
       "| 23    | 71.8  | 175.3 | \n",
       "| 28    | 80.7  | 193.5 | \n",
       "| 23    | 72.6  | 186.5 | \n",
       "| 22    | 78.8  | 187.2 | \n",
       "| 21    | 74.8  | 181.5 | \n",
       "\n",
       "\n"
      ],
      "text/plain": [
       "  age wgt  hgt  \n",
       "1 21  65.6 174.0\n",
       "2 23  71.8 175.3\n",
       "3 28  80.7 193.5\n",
       "4 23  72.6 186.5\n",
       "5 22  78.8 187.2\n",
       "6 21  74.8 181.5"
      ]
     },
     "metadata": {},
     "output_type": "display_data"
    }
   ],
   "source": [
    "head(lessData)"
   ]
  },
  {
   "cell_type": "code",
   "execution_count": 13,
   "metadata": {},
   "outputs": [
    {
     "data": {
      "text/plain": [
       "      age             wgt              hgt       \n",
       " Min.   :18.00   Min.   : 42.00   Min.   :147.2  \n",
       " 1st Qu.:23.00   1st Qu.: 58.40   1st Qu.:163.8  \n",
       " Median :27.00   Median : 68.20   Median :170.3  \n",
       " Mean   :30.18   Mean   : 69.15   Mean   :171.1  \n",
       " 3rd Qu.:36.00   3rd Qu.: 78.85   3rd Qu.:177.8  \n",
       " Max.   :67.00   Max.   :116.40   Max.   :198.1  "
      ]
     },
     "metadata": {},
     "output_type": "display_data"
    }
   ],
   "source": [
    "summary(lessData)"
   ]
  },
  {
   "cell_type": "markdown",
   "metadata": {},
   "source": [
    "## Visual exploration\n",
    "\n",
    "Let's build out some histograms"
   ]
  },
  {
   "cell_type": "code",
   "execution_count": 14,
   "metadata": {},
   "outputs": [],
   "source": [
    "library(gridExtra) # provides grid.arrange function\n",
    "library(ggplot2) "
   ]
  },
  {
   "cell_type": "code",
   "execution_count": 15,
   "metadata": {},
   "outputs": [
    {
     "data": {
      "image/png": "[encoded data removed]",
      "text/plain": [
       "plot without title"
      ]
     },
     "metadata": {},
     "output_type": "display_data"
    }
   ],
   "source": [
    "grid.arrange(\n",
    "    \n",
    "    # use only 10 bins to group the data\n",
    "    qplot(lessData$age, bins = 10, xlab = \"Age\"),\n",
    "    \n",
    "    qplot(lessData$wgt, bins = 10, xlab = \"Weight\"),\n",
    "    \n",
    "    qplot(lessData$hgt, bins = 10, xlab = \"Height\"),\n",
    "    \n",
    "    ncol = 1\n",
    ")"
   ]
  },
  {
   "cell_type": "markdown",
   "metadata": {},
   "source": [
    "## Moving to multiple variables...multivariate\n",
    "\n",
    "The next question for multivariate statistics is to attempt to understand if there are any relationships between variables. \n",
    "\n",
    "* Covariance is the corrleated dispersion of the 2 variables. \n",
    "* Correlation measures the relative growth rates of the 2 variables. "
   ]
  },
  {
   "cell_type": "code",
   "execution_count": 16,
   "metadata": {},
   "outputs": [
    {
     "name": "stdout",
     "output_type": "stream",
     "text": [
      "[1] \"Weight and Height\"\n"
     ]
    },
    {
     "data": {
      "text/html": [
       "90.0545152840471"
      ],
      "text/latex": [
       "90.0545152840471"
      ],
      "text/markdown": [
       "90.0545152840471"
      ],
      "text/plain": [
       "[1] 90.05452"
      ]
     },
     "metadata": {},
     "output_type": "display_data"
    }
   ],
   "source": [
    "print(\"Weight and Height\")\n",
    "# cov() with 2 arguments treat them as 2 lists variables values\n",
    "cov(lessData$wgt, lessData$hgt)"
   ]
  },
  {
   "cell_type": "code",
   "execution_count": 19,
   "metadata": {},
   "outputs": [
    {
     "data": {
      "text/html": [
       "0.717301078724164"
      ],
      "text/latex": [
       "0.717301078724164"
      ],
      "text/markdown": [
       "0.717301078724164"
      ],
      "text/plain": [
       "[1] 0.7173011"
      ]
     },
     "metadata": {},
     "output_type": "display_data"
    }
   ],
   "source": [
    "cor(lessData$wgt, lessData$hgt)"
   ]
  },
  {
   "cell_type": "code",
   "execution_count": 20,
   "metadata": {},
   "outputs": [
    {
     "data": {
      "text/html": [
       "26.5781162538688"
      ],
      "text/latex": [
       "26.5781162538688"
      ],
      "text/markdown": [
       "26.5781162538688"
      ],
      "text/plain": [
       "[1] 26.57812"
      ]
     },
     "metadata": {},
     "output_type": "display_data"
    }
   ],
   "source": [
    "cov(lessData$wgt, lessData$age)"
   ]
  },
  {
   "cell_type": "code",
   "execution_count": 21,
   "metadata": {},
   "outputs": [
    {
     "data": {
      "text/html": [
       "0.207265236366444"
      ],
      "text/latex": [
       "0.207265236366444"
      ],
      "text/markdown": [
       "0.207265236366444"
      ],
      "text/plain": [
       "[1] 0.2072652"
      ]
     },
     "metadata": {},
     "output_type": "display_data"
    }
   ],
   "source": [
    "cor(lessData$wgt, lessData$age)"
   ]
  },
  {
   "cell_type": "code",
   "execution_count": 22,
   "metadata": {},
   "outputs": [
    {
     "data": {
      "text/html": [
       "6.13591224828683"
      ],
      "text/latex": [
       "6.13591224828683"
      ],
      "text/markdown": [
       "6.13591224828683"
      ],
      "text/plain": [
       "[1] 6.135912"
      ]
     },
     "metadata": {},
     "output_type": "display_data"
    }
   ],
   "source": [
    "cov(lessData$hgt, lessData$age)"
   ]
  },
  {
   "cell_type": "code",
   "execution_count": 23,
   "metadata": {},
   "outputs": [
    {
     "data": {
      "text/html": [
       "0.0678834933061811"
      ],
      "text/latex": [
       "0.0678834933061811"
      ],
      "text/markdown": [
       "0.0678834933061811"
      ],
      "text/plain": [
       "[1] 0.06788349"
      ]
     },
     "metadata": {},
     "output_type": "display_data"
    }
   ],
   "source": [
    "cor(lessData$hgt, lessData$age)"
   ]
  },
  {
   "cell_type": "code",
   "execution_count": 24,
   "metadata": {},
   "outputs": [
    {
     "data": {
      "text/html": [
       "<table>\n",
       "<thead><tr><th></th><th scope=col>age</th><th scope=col>wgt</th><th scope=col>hgt</th></tr></thead>\n",
       "<tbody>\n",
       "\t<tr><th scope=row>age</th><td>92.322739</td><td> 26.57812</td><td> 6.135912</td></tr>\n",
       "\t<tr><th scope=row>wgt</th><td>26.578116</td><td>178.10938</td><td>90.054515</td></tr>\n",
       "\t<tr><th scope=row>hgt</th><td> 6.135912</td><td> 90.05452</td><td>88.495510</td></tr>\n",
       "</tbody>\n",
       "</table>\n"
      ],
      "text/latex": [
       "\\begin{tabular}{r|lll}\n",
       "  & age & wgt & hgt\\\\\n",
       "\\hline\n",
       "\tage & 92.322739 &  26.57812 &  6.135912\\\\\n",
       "\twgt & 26.578116 & 178.10938 & 90.054515\\\\\n",
       "\thgt &  6.135912 &  90.05452 & 88.495510\\\\\n",
       "\\end{tabular}\n"
      ],
      "text/markdown": [
       "\n",
       "| <!--/--> | age | wgt | hgt | \n",
       "|---|---|---|\n",
       "| age | 92.322739 |  26.57812 |  6.135912 | \n",
       "| wgt | 26.578116 | 178.10938 | 90.054515 | \n",
       "| hgt |  6.135912 |  90.05452 | 88.495510 | \n",
       "\n",
       "\n"
      ],
      "text/plain": [
       "    age       wgt       hgt      \n",
       "age 92.322739  26.57812  6.135912\n",
       "wgt 26.578116 178.10938 90.054515\n",
       "hgt  6.135912  90.05452 88.495510"
      ]
     },
     "metadata": {},
     "output_type": "display_data"
    }
   ],
   "source": [
    "cov(lessData)"
   ]
  },
  {
   "cell_type": "code",
   "execution_count": 25,
   "metadata": {},
   "outputs": [
    {
     "data": {
      "text/html": [
       "<table>\n",
       "<thead><tr><th></th><th scope=col>age</th><th scope=col>wgt</th><th scope=col>hgt</th></tr></thead>\n",
       "<tbody>\n",
       "\t<tr><th scope=row>age</th><td>1.00000000</td><td>0.2072652 </td><td>0.06788349</td></tr>\n",
       "\t<tr><th scope=row>wgt</th><td>0.20726524</td><td>1.0000000 </td><td>0.71730108</td></tr>\n",
       "\t<tr><th scope=row>hgt</th><td>0.06788349</td><td>0.7173011 </td><td>1.00000000</td></tr>\n",
       "</tbody>\n",
       "</table>\n"
      ],
      "text/latex": [
       "\\begin{tabular}{r|lll}\n",
       "  & age & wgt & hgt\\\\\n",
       "\\hline\n",
       "\tage & 1.00000000 & 0.2072652  & 0.06788349\\\\\n",
       "\twgt & 0.20726524 & 1.0000000  & 0.71730108\\\\\n",
       "\thgt & 0.06788349 & 0.7173011  & 1.00000000\\\\\n",
       "\\end{tabular}\n"
      ],
      "text/markdown": [
       "\n",
       "| <!--/--> | age | wgt | hgt | \n",
       "|---|---|---|\n",
       "| age | 1.00000000 | 0.2072652  | 0.06788349 | \n",
       "| wgt | 0.20726524 | 1.0000000  | 0.71730108 | \n",
       "| hgt | 0.06788349 | 0.7173011  | 1.00000000 | \n",
       "\n",
       "\n"
      ],
      "text/plain": [
       "    age        wgt       hgt       \n",
       "age 1.00000000 0.2072652 0.06788349\n",
       "wgt 0.20726524 1.0000000 0.71730108\n",
       "hgt 0.06788349 0.7173011 1.00000000"
      ]
     },
     "metadata": {},
     "output_type": "display_data"
    }
   ],
   "source": [
    "cor(lessData)"
   ]
  },
  {
   "cell_type": "markdown",
   "metadata": {},
   "source": [
    "## Interpreting correlations\n",
    "\n",
    "From the above, we see the following correlations:\n",
    "\n",
    "1) Weight and Height = 0.717\n",
    "2) Weight and Age = 0.207\n",
    "3) Height and Age = 0.067\n",
    "\n",
    "These numbers tell us the following:\n",
    "\n",
    "1) There is a strong positive relationship between weight and height. The more a person weights, typically the taller they are (?)\n",
    "2) There is a weak positive relationship between weight and age\n",
    "3) There is little to no determination of height based on age. \n",
    "\n",
    "Regarding the last one...how can this be? We all know that as someone grows up, they get taller. The reason our data does not have a strong height to age correlation is because the data covers adults, not children. So, presumably they have nearly completed growing. \n",
    "\n",
    "* Postive correlation - We expect a trend from lower left toward upper right if we plot the 2 variables against each other. \n",
    "* Negative correlation - We expect a trend from upper left toward lower right if we plot the 2 variables against each other. "
   ]
  },
  {
   "cell_type": "code",
   "execution_count": 26,
   "metadata": {},
   "outputs": [
    {
     "data": {
      "image/png": "[encoded data removed]",
      "text/plain": [
       "plot without title"
      ]
     },
     "metadata": {},
     "output_type": "display_data"
    }
   ],
   "source": [
    "wh <- ggplot(lessData, aes(x = wgt, y = hgt))\n",
    "wa <- ggplot(lessData, aes(x = wgt, y = age))\n",
    "ha <- ggplot(lessData, aes(x = hgt, y = age))\n",
    "\n",
    "grid.arrange(\n",
    "    wh + geom_point(color = \"red\"),\n",
    "    wa + geom_point(color = \"blue\"),\n",
    "    ha + geom_point(), # default color is black\n",
    "    ncol = 3\n",
    ")"
   ]
  },
  {
   "cell_type": "markdown",
   "metadata": {},
   "source": [
    "## Use case: multiple regression\n",
    "\n",
    "Based on the exploration above and the discovered correlation of 0.72 between height and weight, we expect that we can use height to predict weight or weight to predict weight. This prediction is the concept of linear regression. \n",
    "\n",
    "But what if we want to use 2 variables to predict a third?\n",
    "Or even better, using 100s of variables to make a numerical prediction?!?!\n",
    "\n",
    "### Multiple Regression\n",
    "\n",
    "Multiple regression is using 2 or more predictors (independent) variables to predict the value of a dependent variable. Since we have wgt as kg and hgt as cm, we can compute thi value and add it as a column to the dataframe. \n",
    "\n",
    "Conversion of cm to m = lessData$hght/100"
   ]
  },
  {
   "cell_type": "code",
   "execution_count": null,
   "metadata": {
    "collapsed": true
   },
   "outputs": [],
   "source": []
  }
 ],
 "metadata": {
  "kernelspec": {
   "display_name": "R",
   "language": "R",
   "name": "ir"
  },
  "language_info": {
   "codemirror_mode": "r",
   "file_extension": ".r",
   "mimetype": "text/x-r-source",
   "name": "R",
   "pygments_lexer": "r",
   "version": "3.4.1"
  }
 },
 "nbformat": 4,
 "nbformat_minor": 2
}
