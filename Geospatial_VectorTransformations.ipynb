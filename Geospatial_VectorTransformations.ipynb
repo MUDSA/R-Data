{
 "cells": [
  {
   "cell_type": "markdown",
   "metadata": {},
   "source": [
    "# Vector Transformations\n",
    "\n",
    "Focus on vector transformations. Geometric dilation/contraction, convex hull, shape simplification, and vector conversions"
   ]
  },
  {
   "cell_type": "code",
   "execution_count": 2,
   "metadata": {},
   "outputs": [
    {
     "name": "stderr",
     "output_type": "stream",
     "text": [
      "Warning message:\n",
      "\"package 'rgdal' was built under R version 3.4.2\"Warning message:\n",
      "\"package 'sp' was built under R version 3.4.2\"Warning message:\n",
      "\"package 'rgeos' was built under R version 3.4.2\""
     ]
    }
   ],
   "source": [
    "# loading libraries\n",
    "\n",
    "# Load relevant R packages\n",
    "inLibraries = list('repr','rgdal','rgeos')\n",
    "for (rpack in inLibraries) {\n",
    "  if (is.element(rpack,installed.packages()[,1])){\n",
    "      #Load the library into R\n",
    "      suppressMessages(library(rpack,character.only = TRUE))\n",
    "    }\n",
    "    else {\n",
    "        print(paste(\"Warning:  \",rpack,\" is not an installed package\"))\n",
    "    }\n",
    "}\n",
    "#resize plot area\n",
    "options(repr.plot.width=6, repr.plot.height=6)"
   ]
  },
  {
   "cell_type": "markdown",
   "metadata": {},
   "source": [
    "## Vector Transformations (points, lines, polygons)\n",
    "\n",
    "There are a variety of vector transformations supported by functions in R. Let's explore a few of these using the Puerto Rico .shp file (puertorico/PuertoRicoUTM.shp) which is a set of polygons representing adminstrative areas in the territory.  First, read the shp file and then display the polygons on the screen."
   ]
  },
  {
   "cell_type": "code",
   "execution_count": 3,
   "metadata": {},
   "outputs": [
    {
     "name": "stdout",
     "output_type": "stream",
     "text": [
      "OGR data source with driver: ESRI Shapefile \n",
      "Source: \"datasets/puertorico\", layer: \"PuertoRicoUTM\"\n",
      "with 73 features\n",
      "It has 10 fields\n",
      "Integer64 fields read as strings:  ID cuerdas_07 cuerdas_02 \n"
     ]
    }
   ],
   "source": [
    "ppolys <- readOGR(\"datasets/puertorico\", \"PuertoRicoUTM\")"
   ]
  },
  {
   "cell_type": "code",
   "execution_count": 4,
   "metadata": {},
   "outputs": [
    {
     "data": {
      "text/html": [
       "<ol class=list-inline>\n",
       "\t<li>'MUNICIPALI'</li>\n",
       "\t<li>'NUM'</li>\n",
       "\t<li>'ADM'</li>\n",
       "\t<li>'ID'</li>\n",
       "\t<li>'nofarms_07'</li>\n",
       "\t<li>'nofarms_02'</li>\n",
       "\t<li>'cuerdas_07'</li>\n",
       "\t<li>'cuerdas_02'</li>\n",
       "\t<li>'area'</li>\n",
       "\t<li>'popden'</li>\n",
       "</ol>\n"
      ],
      "text/latex": [
       "\\begin{enumerate*}\n",
       "\\item 'MUNICIPALI'\n",
       "\\item 'NUM'\n",
       "\\item 'ADM'\n",
       "\\item 'ID'\n",
       "\\item 'nofarms\\_07'\n",
       "\\item 'nofarms\\_02'\n",
       "\\item 'cuerdas\\_07'\n",
       "\\item 'cuerdas\\_02'\n",
       "\\item 'area'\n",
       "\\item 'popden'\n",
       "\\end{enumerate*}\n"
      ],
      "text/markdown": [
       "1. 'MUNICIPALI'\n",
       "2. 'NUM'\n",
       "3. 'ADM'\n",
       "4. 'ID'\n",
       "5. 'nofarms_07'\n",
       "6. 'nofarms_02'\n",
       "7. 'cuerdas_07'\n",
       "8. 'cuerdas_02'\n",
       "9. 'area'\n",
       "10. 'popden'\n",
       "\n",
       "\n"
      ],
      "text/plain": [
       " [1] \"MUNICIPALI\" \"NUM\"        \"ADM\"        \"ID\"         \"nofarms_07\"\n",
       " [6] \"nofarms_02\" \"cuerdas_07\" \"cuerdas_02\" \"area\"       \"popden\"    "
      ]
     },
     "metadata": {},
     "output_type": "display_data"
    }
   ],
   "source": [
    "names(ppolys)"
   ]
  },
  {
   "cell_type": "code",
   "execution_count": 5,
   "metadata": {},
   "outputs": [
    {
     "data": {
      "image/png": "[encoded data removed]",
      "text/plain": [
       "Plot with title \"PR Admin Areas\""
      ]
     },
     "metadata": {},
     "output_type": "display_data"
    }
   ],
   "source": [
    "plot(ppolys, col = \"yellow\", main = \"PR Admin Areas\")"
   ]
  },
  {
   "cell_type": "markdown",
   "metadata": {},
   "source": [
    "## Geometric dilation/contraction - aka Buffering\n",
    "\n",
    "Whether working with points, line or polygons, one common transformation involves moving from one geometry to another. For example, a point can be transformed into a polygon by adding some radius to it; a line can be transformed to a polygon by adding width to it; a polygon can be transformed into a smaller polygon, line(s), or points by subtracting width from it. The general process at work here is geometric dialation and contraction.\n",
    "\n",
    "To examine these notions, let's select one of the administrative areas in Puerto Rico, that of Coamo."
   ]
  },
  {
   "cell_type": "code",
   "execution_count": 7,
   "metadata": {},
   "outputs": [
    {
     "data": {
      "text/html": [
       "<ol class=list-inline>\n",
       "\t<li>'MUNICIPALI'</li>\n",
       "\t<li>'NUM'</li>\n",
       "\t<li>'ADM'</li>\n",
       "\t<li>'ID'</li>\n",
       "\t<li>'nofarms_07'</li>\n",
       "\t<li>'nofarms_02'</li>\n",
       "\t<li>'cuerdas_07'</li>\n",
       "\t<li>'cuerdas_02'</li>\n",
       "\t<li>'area'</li>\n",
       "\t<li>'popden'</li>\n",
       "</ol>\n"
      ],
      "text/latex": [
       "\\begin{enumerate*}\n",
       "\\item 'MUNICIPALI'\n",
       "\\item 'NUM'\n",
       "\\item 'ADM'\n",
       "\\item 'ID'\n",
       "\\item 'nofarms\\_07'\n",
       "\\item 'nofarms\\_02'\n",
       "\\item 'cuerdas\\_07'\n",
       "\\item 'cuerdas\\_02'\n",
       "\\item 'area'\n",
       "\\item 'popden'\n",
       "\\end{enumerate*}\n"
      ],
      "text/markdown": [
       "1. 'MUNICIPALI'\n",
       "2. 'NUM'\n",
       "3. 'ADM'\n",
       "4. 'ID'\n",
       "5. 'nofarms_07'\n",
       "6. 'nofarms_02'\n",
       "7. 'cuerdas_07'\n",
       "8. 'cuerdas_02'\n",
       "9. 'area'\n",
       "10. 'popden'\n",
       "\n",
       "\n"
      ],
      "text/plain": [
       " [1] \"MUNICIPALI\" \"NUM\"        \"ADM\"        \"ID\"         \"nofarms_07\"\n",
       " [6] \"nofarms_02\" \"cuerdas_07\" \"cuerdas_02\" \"area\"       \"popden\"    "
      ]
     },
     "metadata": {},
     "output_type": "display_data"
    }
   ],
   "source": [
    "names(ppolys@data)"
   ]
  },
  {
   "cell_type": "code",
   "execution_count": 8,
   "metadata": {},
   "outputs": [
    {
     "data": {
      "text/html": [
       "<ol class=list-inline>\n",
       "\t<li>ISABELA</li>\n",
       "\t<li>AGUADILLA</li>\n",
       "\t<li>HATILLO</li>\n",
       "\t<li>CAMUY</li>\n",
       "\t<li>VEGA-BAJA</li>\n",
       "\t<li>QUEBRADILLAS</li>\n",
       "\t<li>VEGA-ALTA</li>\n",
       "\t<li>DORADO</li>\n",
       "\t<li>MOCA</li>\n",
       "\t<li>CAROLINA</li>\n",
       "\t<li>RIO-GRANDE</li>\n",
       "\t<li>TOA-ALTA</li>\n",
       "\t<li>SAN-SEBASTIAN</li>\n",
       "\t<li>LUQUILLO</li>\n",
       "\t<li>TRUJILLO-ALTO</li>\n",
       "\t<li>MOROVIS</li>\n",
       "\t<li>COROZAL</li>\n",
       "\t<li>LARES</li>\n",
       "\t<li>NARANJITO</li>\n",
       "\t<li>ANASCO</li>\n",
       "\t<li>GURABO</li>\n",
       "\t<li>AGUAS-BUENAS</li>\n",
       "\t<li>JAYUYA</li>\n",
       "\t<li>LAS-MARIAS</li>\n",
       "\t<li>COMERIO</li>\n",
       "\t<li>MAYAGUEZ</li>\n",
       "\t<li>ADJUNTAS</li>\n",
       "\t<li>MARICAO</li>\n",
       "\t<li>AIBONITO</li>\n",
       "\t<li>VILLALBA</li>\n",
       "\t<li>SAN-GERMAN</li>\n",
       "\t<li>PONCE</li>\n",
       "\t<li>CABO-ROJO</li>\n",
       "\t<li>HORMIGUEROS</li>\n",
       "\t<li>SABANA-GRANDE</li>\n",
       "\t<li>LAJAS</li>\n",
       "\t<li>TOA-BAJA</li>\n",
       "\t<li>ARECIBO</li>\n",
       "\t<li>MANATI</li>\n",
       "\t<li>SAN-JUAN/RIO-PIE</li>\n",
       "\t<li>GUAYNABO</li>\n",
       "\t<li>AGUADA</li>\n",
       "\t<li>RINCON</li>\n",
       "\t<li>CIALES</li>\n",
       "\t<li>UTUADO</li>\n",
       "\t<li>CAGUAS</li>\n",
       "\t<li>NAGUABO</li>\n",
       "\t<li>CIDRA</li>\n",
       "\t<li>SAN-LORENZO</li>\n",
       "\t<li>CAYEY</li>\n",
       "\t<li>JUANA-DIAZ</li>\n",
       "\t<li>GUANICA</li>\n",
       "\t<li>OROCOVIS</li>\n",
       "\t<li>LAS-PIEDRAS</li>\n",
       "\t<li>JUNCOS</li>\n",
       "\t<li>BARRANQUITAS</li>\n",
       "\t<li>HUMACAO</li>\n",
       "\t<li>COAMO</li>\n",
       "\t<li>GUAYANILLA</li>\n",
       "\t<li>PENUELAS</li>\n",
       "\t<li>YABUCOA</li>\n",
       "\t<li>MAUNABO</li>\n",
       "\t<li>YAUCO</li>\n",
       "\t<li>PATILLAS</li>\n",
       "\t<li>GUAYAMA</li>\n",
       "\t<li>ARROYO</li>\n",
       "\t<li>FAJARDO</li>\n",
       "\t<li>CEIBA</li>\n",
       "\t<li>SALINAS</li>\n",
       "\t<li>SANTA-ISABEL</li>\n",
       "\t<li>BARCELONETA/FLOR</li>\n",
       "\t<li>BAYAMON/CATANO</li>\n",
       "\t<li>LOIZA/CANOVANAS</li>\n",
       "</ol>\n"
      ],
      "text/latex": [
       "\\begin{enumerate*}\n",
       "\\item ISABELA\n",
       "\\item AGUADILLA\n",
       "\\item HATILLO\n",
       "\\item CAMUY\n",
       "\\item VEGA-BAJA\n",
       "\\item QUEBRADILLAS\n",
       "\\item VEGA-ALTA\n",
       "\\item DORADO\n",
       "\\item MOCA\n",
       "\\item CAROLINA\n",
       "\\item RIO-GRANDE\n",
       "\\item TOA-ALTA\n",
       "\\item SAN-SEBASTIAN\n",
       "\\item LUQUILLO\n",
       "\\item TRUJILLO-ALTO\n",
       "\\item MOROVIS\n",
       "\\item COROZAL\n",
       "\\item LARES\n",
       "\\item NARANJITO\n",
       "\\item ANASCO\n",
       "\\item GURABO\n",
       "\\item AGUAS-BUENAS\n",
       "\\item JAYUYA\n",
       "\\item LAS-MARIAS\n",
       "\\item COMERIO\n",
       "\\item MAYAGUEZ\n",
       "\\item ADJUNTAS\n",
       "\\item MARICAO\n",
       "\\item AIBONITO\n",
       "\\item VILLALBA\n",
       "\\item SAN-GERMAN\n",
       "\\item PONCE\n",
       "\\item CABO-ROJO\n",
       "\\item HORMIGUEROS\n",
       "\\item SABANA-GRANDE\n",
       "\\item LAJAS\n",
       "\\item TOA-BAJA\n",
       "\\item ARECIBO\n",
       "\\item MANATI\n",
       "\\item SAN-JUAN/RIO-PIE\n",
       "\\item GUAYNABO\n",
       "\\item AGUADA\n",
       "\\item RINCON\n",
       "\\item CIALES\n",
       "\\item UTUADO\n",
       "\\item CAGUAS\n",
       "\\item NAGUABO\n",
       "\\item CIDRA\n",
       "\\item SAN-LORENZO\n",
       "\\item CAYEY\n",
       "\\item JUANA-DIAZ\n",
       "\\item GUANICA\n",
       "\\item OROCOVIS\n",
       "\\item LAS-PIEDRAS\n",
       "\\item JUNCOS\n",
       "\\item BARRANQUITAS\n",
       "\\item HUMACAO\n",
       "\\item COAMO\n",
       "\\item GUAYANILLA\n",
       "\\item PENUELAS\n",
       "\\item YABUCOA\n",
       "\\item MAUNABO\n",
       "\\item YAUCO\n",
       "\\item PATILLAS\n",
       "\\item GUAYAMA\n",
       "\\item ARROYO\n",
       "\\item FAJARDO\n",
       "\\item CEIBA\n",
       "\\item SALINAS\n",
       "\\item SANTA-ISABEL\n",
       "\\item BARCELONETA/FLOR\n",
       "\\item BAYAMON/CATANO\n",
       "\\item LOIZA/CANOVANAS\n",
       "\\end{enumerate*}\n"
      ],
      "text/markdown": [
       "1. ISABELA\n",
       "2. AGUADILLA\n",
       "3. HATILLO\n",
       "4. CAMUY\n",
       "5. VEGA-BAJA\n",
       "6. QUEBRADILLAS\n",
       "7. VEGA-ALTA\n",
       "8. DORADO\n",
       "9. MOCA\n",
       "10. CAROLINA\n",
       "11. RIO-GRANDE\n",
       "12. TOA-ALTA\n",
       "13. SAN-SEBASTIAN\n",
       "14. LUQUILLO\n",
       "15. TRUJILLO-ALTO\n",
       "16. MOROVIS\n",
       "17. COROZAL\n",
       "18. LARES\n",
       "19. NARANJITO\n",
       "20. ANASCO\n",
       "21. GURABO\n",
       "22. AGUAS-BUENAS\n",
       "23. JAYUYA\n",
       "24. LAS-MARIAS\n",
       "25. COMERIO\n",
       "26. MAYAGUEZ\n",
       "27. ADJUNTAS\n",
       "28. MARICAO\n",
       "29. AIBONITO\n",
       "30. VILLALBA\n",
       "31. SAN-GERMAN\n",
       "32. PONCE\n",
       "33. CABO-ROJO\n",
       "34. HORMIGUEROS\n",
       "35. SABANA-GRANDE\n",
       "36. LAJAS\n",
       "37. TOA-BAJA\n",
       "38. ARECIBO\n",
       "39. MANATI\n",
       "40. SAN-JUAN/RIO-PIE\n",
       "41. GUAYNABO\n",
       "42. AGUADA\n",
       "43. RINCON\n",
       "44. CIALES\n",
       "45. UTUADO\n",
       "46. CAGUAS\n",
       "47. NAGUABO\n",
       "48. CIDRA\n",
       "49. SAN-LORENZO\n",
       "50. CAYEY\n",
       "51. JUANA-DIAZ\n",
       "52. GUANICA\n",
       "53. OROCOVIS\n",
       "54. LAS-PIEDRAS\n",
       "55. JUNCOS\n",
       "56. BARRANQUITAS\n",
       "57. HUMACAO\n",
       "58. COAMO\n",
       "59. GUAYANILLA\n",
       "60. PENUELAS\n",
       "61. YABUCOA\n",
       "62. MAUNABO\n",
       "63. YAUCO\n",
       "64. PATILLAS\n",
       "65. GUAYAMA\n",
       "66. ARROYO\n",
       "67. FAJARDO\n",
       "68. CEIBA\n",
       "69. SALINAS\n",
       "70. SANTA-ISABEL\n",
       "71. BARCELONETA/FLOR\n",
       "72. BAYAMON/CATANO\n",
       "73. LOIZA/CANOVANAS\n",
       "\n",
       "\n"
      ],
      "text/plain": [
       " [1] ISABELA          AGUADILLA        HATILLO          CAMUY           \n",
       " [5] VEGA-BAJA        QUEBRADILLAS     VEGA-ALTA        DORADO          \n",
       " [9] MOCA             CAROLINA         RIO-GRANDE       TOA-ALTA        \n",
       "[13] SAN-SEBASTIAN    LUQUILLO         TRUJILLO-ALTO    MOROVIS         \n",
       "[17] COROZAL          LARES            NARANJITO        ANASCO          \n",
       "[21] GURABO           AGUAS-BUENAS     JAYUYA           LAS-MARIAS      \n",
       "[25] COMERIO          MAYAGUEZ         ADJUNTAS         MARICAO         \n",
       "[29] AIBONITO         VILLALBA         SAN-GERMAN       PONCE           \n",
       "[33] CABO-ROJO        HORMIGUEROS      SABANA-GRANDE    LAJAS           \n",
       "[37] TOA-BAJA         ARECIBO          MANATI           SAN-JUAN/RIO-PIE\n",
       "[41] GUAYNABO         AGUADA           RINCON           CIALES          \n",
       "[45] UTUADO           CAGUAS           NAGUABO          CIDRA           \n",
       "[49] SAN-LORENZO      CAYEY            JUANA-DIAZ       GUANICA         \n",
       "[53] OROCOVIS         LAS-PIEDRAS      JUNCOS           BARRANQUITAS    \n",
       "[57] HUMACAO          COAMO            GUAYANILLA       PENUELAS        \n",
       "[61] YABUCOA          MAUNABO          YAUCO            PATILLAS        \n",
       "[65] GUAYAMA          ARROYO           FAJARDO          CEIBA           \n",
       "[69] SALINAS          SANTA-ISABEL     BARCELONETA/FLOR BAYAMON/CATANO  \n",
       "[73] LOIZA/CANOVANAS \n",
       "73 Levels: ADJUNTAS AGUADA AGUADILLA AGUAS-BUENAS AIBONITO ANASCO ... YAUCO"
      ]
     },
     "metadata": {},
     "output_type": "display_data"
    }
   ],
   "source": [
    "ppolys@data$MUNICIPALI"
   ]
  },
  {
   "cell_type": "code",
   "execution_count": 9,
   "metadata": {},
   "outputs": [
    {
     "data": {
      "image/png": "[encoded data removed]",
      "text/plain": [
       "Plot with title \"Selected Area\""
      ]
     },
     "metadata": {},
     "output_type": "display_data"
    }
   ],
   "source": [
    "# selecting a feature to examine\n",
    "FeatA <- ppolys[ppolys@data$MUNICIPALI == \"COAMO\", ]\n",
    "\n",
    "plot(ppolys, col = \"yellow\", main = \"Selected Area\")\n",
    "plot(FeatA, col = \"red\", add = TRUE)"
   ]
  },
  {
   "cell_type": "markdown",
   "metadata": {},
   "source": [
    "### Dilation\n",
    "\n",
    "Dilation (positive buffering) involves adding space to a feature. \n",
    "\n",
    "If one wished to get an idea about which other municipalities are within a certain distance of Coamo, one approach could be to buffer the polygon by that distance. The gBuffer() function (rgeos library) can be used to accomplish this task. Investigate the various parameters that can be used to populate the gBuffer() function. The distance to which the polygon is buffered in this case is controlled by the 'width' parameter. In the function below, 'FeatA' refers to the geometry to be buffered. While only one feature is selected to buffer in this case, gBuffer() can also process a set of features at the same time.\n",
    "\n",
    "It is important to note that making complex distance calculations requires the dataset be properly projected into a relevant coordinate system. In this case, the data is projected in UTM zone 20N where the linear unit of measurement is 'meters'. Why is this important? How else would you know what measurement units to enter for the 'width' parameter?"
   ]
  },
  {
   "cell_type": "code",
   "execution_count": 10,
   "metadata": {},
   "outputs": [
    {
     "data": {
      "text/html": [
       "<table>\n",
       "<thead><tr><th></th><th scope=col>MUNICIPALI</th><th scope=col>NUM</th><th scope=col>ADM</th><th scope=col>ID</th><th scope=col>nofarms_07</th><th scope=col>nofarms_02</th><th scope=col>cuerdas_07</th><th scope=col>cuerdas_02</th><th scope=col>area</th><th scope=col>popden</th></tr></thead>\n",
       "<tbody>\n",
       "\t<tr><th scope=row>57</th><td>COAMO   </td><td>20      </td><td>4       </td><td>58      </td><td>335     </td><td>351     </td><td>16768   </td><td>18549   </td><td>77.44   </td><td>239.5274</td></tr>\n",
       "</tbody>\n",
       "</table>\n"
      ],
      "text/latex": [
       "\\begin{tabular}{r|llllllllll}\n",
       "  & MUNICIPALI & NUM & ADM & ID & nofarms\\_07 & nofarms\\_02 & cuerdas\\_07 & cuerdas\\_02 & area & popden\\\\\n",
       "\\hline\n",
       "\t57 & COAMO    & 20       & 4        & 58       & 335      & 351      & 16768    & 18549    & 77.44    & 239.5274\\\\\n",
       "\\end{tabular}\n"
      ],
      "text/markdown": [
       "\n",
       "| <!--/--> | MUNICIPALI | NUM | ADM | ID | nofarms_07 | nofarms_02 | cuerdas_07 | cuerdas_02 | area | popden | \n",
       "|---|\n",
       "| 57 | COAMO    | 20       | 4        | 58       | 335      | 351      | 16768    | 18549    | 77.44    | 239.5274 | \n",
       "\n",
       "\n"
      ],
      "text/plain": [
       "   MUNICIPALI NUM ADM ID nofarms_07 nofarms_02 cuerdas_07 cuerdas_02 area \n",
       "57 COAMO      20  4   58 335        351        16768      18549      77.44\n",
       "   popden  \n",
       "57 239.5274"
      ]
     },
     "metadata": {},
     "output_type": "display_data"
    }
   ],
   "source": [
    "# compute the geometrix dilation of the selected feature\n",
    "\n",
    "FeatA.buf <- gBuffer(FeatA, \n",
    "                        byid = TRUE,\n",
    "                        id = NULL,\n",
    "                        width = 10000, \n",
    "                        quadsegs = 5,\n",
    "                        capStyle = \"ROUND\",\n",
    "                        joinStyle = \"ROUND\", \n",
    "                        mitreLimit = 1.0)\n",
    "\n",
    "FeatA.buf@data"
   ]
  },
  {
   "cell_type": "code",
   "execution_count": 14,
   "metadata": {},
   "outputs": [
    {
     "data": {
      "image/png": "[encoded data removed]",
      "text/plain": [
       "Plot with title \"Buffered Area\""
      ]
     },
     "metadata": {},
     "output_type": "display_data"
    }
   ],
   "source": [
    "plot(ppolys, col = \"lightblue\", lwd = 0.2, main = \"Buffered Area\")\n",
    "plot(FeatA, add = TRUE, col = \"red\", lwd = 0.2)\n",
    "plot(FeatA.buf, add = TRUE, lwd = 5)"
   ]
  },
  {
   "cell_type": "markdown",
   "metadata": {},
   "source": [
    "Thus, buffering the municipality by a positive amount creates a larger polygon. The gArea() function (rgeos library) can be used to query the area of the original and buffer polygons and evalute the difference in areas.  Remember, the distance units associated with the coordinate system of this dataset are in meters.  As such, the areas reported below are in what units??"
   ]
  },
  {
   "cell_type": "code",
   "execution_count": 15,
   "metadata": {},
   "outputs": [
    {
     "data": {
      "text/html": [
       "202528738.839232"
      ],
      "text/latex": [
       "202528738.839232"
      ],
      "text/markdown": [
       "202528738.839232"
      ],
      "text/plain": [
       "[1] 202528739"
      ]
     },
     "metadata": {},
     "output_type": "display_data"
    }
   ],
   "source": [
    "# area of original municipality\n",
    "featArea <- gArea(FeatA)\n",
    "featArea"
   ]
  },
  {
   "cell_type": "code",
   "execution_count": 16,
   "metadata": {},
   "outputs": [
    {
     "data": {
      "text/html": [
       "1148420690.31474"
      ],
      "text/latex": [
       "1148420690.31474"
      ],
      "text/markdown": [
       "1148420690.31474"
      ],
      "text/plain": [
       "[1] 1148420690"
      ]
     },
     "metadata": {},
     "output_type": "display_data"
    }
   ],
   "source": [
    "# area of the buffer\n",
    "bufArea <- gArea(FeatA.buf)\n",
    "bufArea"
   ]
  },
  {
   "cell_type": "code",
   "execution_count": 17,
   "metadata": {},
   "outputs": [
    {
     "data": {
      "text/html": [
       "945891951.475511"
      ],
      "text/latex": [
       "945891951.475511"
      ],
      "text/markdown": [
       "945891951.475511"
      ],
      "text/plain": [
       "[1] 945891951"
      ]
     },
     "metadata": {},
     "output_type": "display_data"
    }
   ],
   "source": [
    "# difference in the areas of the 2 polygons\n",
    "diffArea <- bufArea - featArea\n",
    "diffArea"
   ]
  },
  {
   "cell_type": "markdown",
   "metadata": {},
   "source": [
    "### Contraction\n",
    "\n",
    "Features can also be buffered by negative distances - i.e. contraction. Here, a negative buffer of -5000m is first applied followed by one of -6000m. If we were to continue decreasing the buffer, at some point the polygon would be reduced to a point."
   ]
  },
  {
   "cell_type": "code",
   "execution_count": null,
   "metadata": {
    "collapsed": true
   },
   "outputs": [],
   "source": []
  }
 ],
 "metadata": {
  "kernelspec": {
   "display_name": "R",
   "language": "R",
   "name": "ir"
  }
 },
 "nbformat": 4,
 "nbformat_minor": 2
}
