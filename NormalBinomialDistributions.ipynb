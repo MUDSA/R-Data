{
 "cells": [
  {
   "cell_type": "markdown",
   "metadata": {},
   "source": [
    "# Normal Distributions\n",
    "\n",
    "We can say a distribution, X, is normally distributed mathematically as below... \n",
    "\n",
    "$$ X ∼ norm(mean = µ, sd = σ) $$\n",
    "\n",
    "where µ(mu) is the mean of the normal distribution and σ(sigma) is the standard deviation of the distribution. \n",
    "\n",
    "The associated R function is to generate a standard normal distribution with mean 0 and standard deviation of 1 is `dnorm(x, mean = 0,sd = 1)`.\n",
    "\n",
    "The values of the distribution lie around the (sample) mean in specific proportions, \n",
    "which is commonly called 68-95-99.7 rule. \n",
    "We can see where this rule comes from using `pnorm()` function in R.\n",
    "\n",
    "`pnorm()` : Given a number or a list, \n",
    "this function calculates the probability that a normally distributed random number will be less than that number. \n",
    "Simply put, it gives the area under the standard normal curve. \n",
    "It takes mean and standard deviation as its arguments. \n",
    "If none are specified, it considers mean=0 and sd=1 by default. \n",
    "\n",
    "In the below example, the `pnorm()` function gives the probabilities of 3 numbers {1,2,3}, \n",
    "telling us where they will fall according to the 68-95-99.7 rule. \n",
    "We are not supplying the mean and standard deviation to the function. \n",
    "So, mean and sd are assumed 0 and 1, respectively, by default.\n",
    "So, what is the area below the first input value '1'? \n",
    "We know that 50% of the area under standard normal curve will be below the mean. "
   ]
  },
  {
   "cell_type": "code",
   "execution_count": 1,
   "metadata": {},
   "outputs": [
    {
     "data": {
      "text/html": [
       "0.841344746068543"
      ],
      "text/latex": [
       "0.841344746068543"
      ],
      "text/markdown": [
       "0.841344746068543"
      ],
      "text/plain": [
       "[1] 0.8413447"
      ]
     },
     "metadata": {},
     "output_type": "display_data"
    },
    {
     "data": {
      "text/html": [
       "0.977249868051821"
      ],
      "text/latex": [
       "0.977249868051821"
      ],
      "text/markdown": [
       "0.977249868051821"
      ],
      "text/plain": [
       "[1] 0.9772499"
      ]
     },
     "metadata": {},
     "output_type": "display_data"
    },
    {
     "data": {
      "text/html": [
       "0.99865010196837"
      ],
      "text/latex": [
       "0.99865010196837"
      ],
      "text/markdown": [
       "0.99865010196837"
      ],
      "text/plain": [
       "[1] 0.9986501"
      ]
     },
     "metadata": {},
     "output_type": "display_data"
    },
    {
     "data": {
      "text/html": [
       "0.999968328758167"
      ],
      "text/latex": [
       "0.999968328758167"
      ],
      "text/markdown": [
       "0.999968328758167"
      ],
      "text/plain": [
       "[1] 0.9999683"
      ]
     },
     "metadata": {},
     "output_type": "display_data"
    }
   ],
   "source": [
    "# these probabilities are for the right tail of the distribution\n",
    "pnorm(1)\n",
    "pnorm(2)\n",
    "pnorm(3)\n",
    "pnorm(4)"
   ]
  },
  {
   "cell_type": "code",
   "execution_count": null,
   "metadata": {
    "collapsed": true
   },
   "outputs": [],
   "source": []
  }
 ],
 "metadata": {
  "kernelspec": {
   "display_name": "R",
   "language": "R",
   "name": "ir"
  },
  "language_info": {
   "codemirror_mode": "r",
   "file_extension": ".r",
   "mimetype": "text/x-r-source",
   "name": "R",
   "pygments_lexer": "r",
   "version": "3.4.1"
  }
 },
 "nbformat": 4,
 "nbformat_minor": 2
}
