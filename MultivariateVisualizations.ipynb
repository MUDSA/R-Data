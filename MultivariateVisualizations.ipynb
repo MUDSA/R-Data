{
 "cells": [
  {
   "cell_type": "markdown",
   "metadata": {},
   "source": [
    "# Multivariate visualizations to statistics\n",
    "\n",
    "## Limited utility of graphing vectors\n",
    "\n",
    "Graphs are easy to understand and catchy when you want to explain something. You can convey a lot of information through a picture. However, as we saw, there is a limit to the extent of information you can show on the graph and still convey its meaning appropriately. \n",
    "\n",
    "Graphs do a good job in univariate and bivariate data analysis. They can even do a decent job in 4 dimensions by plotting 3 dimensional data points and using color as the 4th feature. However, it is hard to plot 5 features within a single plot. Even if you manage to plot 5 dimensions, it will be difficult to interpret the graph. So when you have multidimensional data, which can reach 1000s of features, you have to rely on multivariate statistics for analyzing the data before you explore visualizations. \n",
    "\n",
    "Statistics can help narrow down the list of significant features you can use for building a model. These reduced sets of features can be analyzed using graphs. Statistics will guide features or data to be visualized to gain more insights from the data. "
   ]
  },
  {
   "cell_type": "code",
   "execution_count": 1,
   "metadata": {
    "collapsed": true
   },
   "outputs": [],
   "source": [
    "housing_prices <- read.csv(\"datasets/kc_house_data.csv\")"
   ]
  },
  {
   "cell_type": "code",
   "execution_count": 3,
   "metadata": {},
   "outputs": [
    {
     "data": {
      "text/html": [
       "<table>\n",
       "<thead><tr><th></th><th scope=col>1</th><th scope=col>2</th><th scope=col>3</th><th scope=col>4</th><th scope=col>5</th><th scope=col>6</th></tr></thead>\n",
       "<tbody>\n",
       "\t<tr><th scope=row>X</th><td>1              </td><td>2              </td><td>3              </td><td>4              </td><td>5              </td><td>6              </td></tr>\n",
       "\t<tr><th scope=row>id</th><td>7129300520     </td><td>6414100192     </td><td>5631500400     </td><td>2487200875     </td><td>1954400510     </td><td>7237550310     </td></tr>\n",
       "\t<tr><th scope=row>date</th><td>20141013T000000</td><td>20141209T000000</td><td>20150225T000000</td><td>20141209T000000</td><td>20150218T000000</td><td>20140512T000000</td></tr>\n",
       "\t<tr><th scope=row>price</th><td> 221900        </td><td> 538000        </td><td> 180000        </td><td> 604000        </td><td> 510000        </td><td>1225000        </td></tr>\n",
       "\t<tr><th scope=row>bedrooms</th><td>3              </td><td>3              </td><td>2              </td><td>4              </td><td>3              </td><td>4              </td></tr>\n",
       "\t<tr><th scope=row>bathrooms</th><td>1.00           </td><td>2.25           </td><td>1.00           </td><td>3.00           </td><td>2.00           </td><td>4.50           </td></tr>\n",
       "\t<tr><th scope=row>sqft_living</th><td>1180           </td><td>2570           </td><td> 770           </td><td>1960           </td><td>1680           </td><td>5420           </td></tr>\n",
       "\t<tr><th scope=row>sqft_lot</th><td>  5650         </td><td>  7242         </td><td> 10000         </td><td>  5000         </td><td>  8080         </td><td>101930         </td></tr>\n",
       "\t<tr><th scope=row>floors</th><td>1              </td><td>2              </td><td>1              </td><td>1              </td><td>1              </td><td>1              </td></tr>\n",
       "\t<tr><th scope=row>waterfront</th><td>0              </td><td>0              </td><td>0              </td><td>0              </td><td>0              </td><td>0              </td></tr>\n",
       "\t<tr><th scope=row>view</th><td>0              </td><td>0              </td><td>0              </td><td>0              </td><td>0              </td><td>0              </td></tr>\n",
       "\t<tr><th scope=row>condition</th><td>3              </td><td>3              </td><td>3              </td><td>5              </td><td>3              </td><td>3              </td></tr>\n",
       "\t<tr><th scope=row>grade</th><td> 7             </td><td> 7             </td><td> 6             </td><td> 7             </td><td> 8             </td><td>11             </td></tr>\n",
       "\t<tr><th scope=row>sqft_above</th><td>1180           </td><td>2170           </td><td> 770           </td><td>1050           </td><td>1680           </td><td>3890           </td></tr>\n",
       "\t<tr><th scope=row>sqft_basement</th><td>   0           </td><td> 400           </td><td>   0           </td><td> 910           </td><td>   0           </td><td>1530           </td></tr>\n",
       "\t<tr><th scope=row>yr_built</th><td>1955           </td><td>1951           </td><td>1933           </td><td>1965           </td><td>1987           </td><td>2001           </td></tr>\n",
       "\t<tr><th scope=row>yr_renovated</th><td>   0           </td><td>1991           </td><td>   0           </td><td>   0           </td><td>   0           </td><td>   0           </td></tr>\n",
       "\t<tr><th scope=row>zipcode</th><td>98178          </td><td>98125          </td><td>98028          </td><td>98136          </td><td>98074          </td><td>98053          </td></tr>\n",
       "\t<tr><th scope=row>lat</th><td>47.5112        </td><td>47.7210        </td><td>47.7379        </td><td>47.5208        </td><td>47.6168        </td><td>47.6561        </td></tr>\n",
       "\t<tr><th scope=row>long</th><td>-122.257       </td><td>-122.319       </td><td>-122.233       </td><td>-122.393       </td><td>-122.045       </td><td>-122.005       </td></tr>\n",
       "\t<tr><th scope=row>sqft_living15</th><td>1340           </td><td>1690           </td><td>2720           </td><td>1360           </td><td>1800           </td><td>4760           </td></tr>\n",
       "\t<tr><th scope=row>sqft_lot15</th><td>  5650         </td><td>  7639         </td><td>  8062         </td><td>  5000         </td><td>  7503         </td><td>101930         </td></tr>\n",
       "</tbody>\n",
       "</table>\n"
      ],
      "text/latex": [
       "\\begin{tabular}{r|llllll}\n",
       "  & 1 & 2 & 3 & 4 & 5 & 6\\\\\n",
       "\\hline\n",
       "\tX & 1               & 2               & 3               & 4               & 5               & 6              \\\\\n",
       "\tid & 7129300520      & 6414100192      & 5631500400      & 2487200875      & 1954400510      & 7237550310     \\\\\n",
       "\tdate & 20141013T000000 & 20141209T000000 & 20150225T000000 & 20141209T000000 & 20150218T000000 & 20140512T000000\\\\\n",
       "\tprice &  221900         &  538000         &  180000         &  604000         &  510000         & 1225000        \\\\\n",
       "\tbedrooms & 3               & 3               & 2               & 4               & 3               & 4              \\\\\n",
       "\tbathrooms & 1.00            & 2.25            & 1.00            & 3.00            & 2.00            & 4.50           \\\\\n",
       "\tsqft\\_living & 1180            & 2570            &  770            & 1960            & 1680            & 5420           \\\\\n",
       "\tsqft\\_lot &   5650          &   7242          &  10000          &   5000          &   8080          & 101930         \\\\\n",
       "\tfloors & 1               & 2               & 1               & 1               & 1               & 1              \\\\\n",
       "\twaterfront & 0               & 0               & 0               & 0               & 0               & 0              \\\\\n",
       "\tview & 0               & 0               & 0               & 0               & 0               & 0              \\\\\n",
       "\tcondition & 3               & 3               & 3               & 5               & 3               & 3              \\\\\n",
       "\tgrade &  7              &  7              &  6              &  7              &  8              & 11             \\\\\n",
       "\tsqft\\_above & 1180            & 2170            &  770            & 1050            & 1680            & 3890           \\\\\n",
       "\tsqft\\_basement &    0            &  400            &    0            &  910            &    0            & 1530           \\\\\n",
       "\tyr\\_built & 1955            & 1951            & 1933            & 1965            & 1987            & 2001           \\\\\n",
       "\tyr\\_renovated &    0            & 1991            &    0            &    0            &    0            &    0           \\\\\n",
       "\tzipcode & 98178           & 98125           & 98028           & 98136           & 98074           & 98053          \\\\\n",
       "\tlat & 47.5112         & 47.7210         & 47.7379         & 47.5208         & 47.6168         & 47.6561        \\\\\n",
       "\tlong & -122.257        & -122.319        & -122.233        & -122.393        & -122.045        & -122.005       \\\\\n",
       "\tsqft\\_living15 & 1340            & 1690            & 2720            & 1360            & 1800            & 4760           \\\\\n",
       "\tsqft\\_lot15 &   5650          &   7639          &   8062          &   5000          &   7503          & 101930         \\\\\n",
       "\\end{tabular}\n"
      ],
      "text/markdown": [
       "\n",
       "| <!--/--> | 1 | 2 | 3 | 4 | 5 | 6 | \n",
       "|---|---|---|---|---|---|---|---|---|---|---|---|---|---|---|---|---|---|---|---|---|---|\n",
       "| X | 1               | 2               | 3               | 4               | 5               | 6               | \n",
       "| id | 7129300520      | 6414100192      | 5631500400      | 2487200875      | 1954400510      | 7237550310      | \n",
       "| date | 20141013T000000 | 20141209T000000 | 20150225T000000 | 20141209T000000 | 20150218T000000 | 20140512T000000 | \n",
       "| price |  221900         |  538000         |  180000         |  604000         |  510000         | 1225000         | \n",
       "| bedrooms | 3               | 3               | 2               | 4               | 3               | 4               | \n",
       "| bathrooms | 1.00            | 2.25            | 1.00            | 3.00            | 2.00            | 4.50            | \n",
       "| sqft_living | 1180            | 2570            |  770            | 1960            | 1680            | 5420            | \n",
       "| sqft_lot |   5650          |   7242          |  10000          |   5000          |   8080          | 101930          | \n",
       "| floors | 1               | 2               | 1               | 1               | 1               | 1               | \n",
       "| waterfront | 0               | 0               | 0               | 0               | 0               | 0               | \n",
       "| view | 0               | 0               | 0               | 0               | 0               | 0               | \n",
       "| condition | 3               | 3               | 3               | 5               | 3               | 3               | \n",
       "| grade |  7              |  7              |  6              |  7              |  8              | 11              | \n",
       "| sqft_above | 1180            | 2170            |  770            | 1050            | 1680            | 3890            | \n",
       "| sqft_basement |    0            |  400            |    0            |  910            |    0            | 1530            | \n",
       "| yr_built | 1955            | 1951            | 1933            | 1965            | 1987            | 2001            | \n",
       "| yr_renovated |    0            | 1991            |    0            |    0            |    0            |    0            | \n",
       "| zipcode | 98178           | 98125           | 98028           | 98136           | 98074           | 98053           | \n",
       "| lat | 47.5112         | 47.7210         | 47.7379         | 47.5208         | 47.6168         | 47.6561         | \n",
       "| long | -122.257        | -122.319        | -122.233        | -122.393        | -122.045        | -122.005        | \n",
       "| sqft_living15 | 1340            | 1690            | 2720            | 1360            | 1800            | 4760            | \n",
       "| sqft_lot15 |   5650          |   7639          |   8062          |   5000          |   7503          | 101930          | \n",
       "\n",
       "\n"
      ],
      "text/plain": [
       "              1               2               3               4              \n",
       "X             1               2               3               4              \n",
       "id            7129300520      6414100192      5631500400      2487200875     \n",
       "date          20141013T000000 20141209T000000 20150225T000000 20141209T000000\n",
       "price          221900          538000          180000          604000        \n",
       "bedrooms      3               3               2               4              \n",
       "bathrooms     1.00            2.25            1.00            3.00           \n",
       "sqft_living   1180            2570             770            1960           \n",
       "sqft_lot        5650            7242           10000            5000         \n",
       "floors        1               2               1               1              \n",
       "waterfront    0               0               0               0              \n",
       "view          0               0               0               0              \n",
       "condition     3               3               3               5              \n",
       "grade          7               7               6               7             \n",
       "sqft_above    1180            2170             770            1050           \n",
       "sqft_basement    0             400               0             910           \n",
       "yr_built      1955            1951            1933            1965           \n",
       "yr_renovated     0            1991               0               0           \n",
       "zipcode       98178           98125           98028           98136          \n",
       "lat           47.5112         47.7210         47.7379         47.5208        \n",
       "long          -122.257        -122.319        -122.233        -122.393       \n",
       "sqft_living15 1340            1690            2720            1360           \n",
       "sqft_lot15      5650            7639            8062            5000         \n",
       "              5               6              \n",
       "X             5               6              \n",
       "id            1954400510      7237550310     \n",
       "date          20150218T000000 20140512T000000\n",
       "price          510000         1225000        \n",
       "bedrooms      3               4              \n",
       "bathrooms     2.00            4.50           \n",
       "sqft_living   1680            5420           \n",
       "sqft_lot        8080          101930         \n",
       "floors        1               1              \n",
       "waterfront    0               0              \n",
       "view          0               0              \n",
       "condition     3               3              \n",
       "grade          8              11             \n",
       "sqft_above    1680            3890           \n",
       "sqft_basement    0            1530           \n",
       "yr_built      1987            2001           \n",
       "yr_renovated     0               0           \n",
       "zipcode       98074           98053          \n",
       "lat           47.6168         47.6561        \n",
       "long          -122.045        -122.005       \n",
       "sqft_living15 1800            4760           \n",
       "sqft_lot15      7503          101930         "
      ]
     },
     "metadata": {},
     "output_type": "display_data"
    }
   ],
   "source": [
    "t(head(housing_prices))"
   ]
  },
  {
   "cell_type": "markdown",
   "metadata": {},
   "source": [
    "Let's see how the independent variables are correlated to the dependent variable price. Before we can run cor(), we'll need to ensure all the supplied features are numeric. "
   ]
  },
  {
   "cell_type": "code",
   "execution_count": 5,
   "metadata": {},
   "outputs": [
    {
     "data": {
      "text/html": [
       "<table>\n",
       "<thead><tr><th scope=col>X</th><th scope=col>id</th><th scope=col>date</th><th scope=col>price</th><th scope=col>bedrooms</th><th scope=col>bathrooms</th><th scope=col>sqft_living</th><th scope=col>sqft_lot</th><th scope=col>floors</th><th scope=col>waterfront</th><th scope=col>...</th><th scope=col>grade</th><th scope=col>sqft_above</th><th scope=col>sqft_basement</th><th scope=col>yr_built</th><th scope=col>yr_renovated</th><th scope=col>zipcode</th><th scope=col>lat</th><th scope=col>long</th><th scope=col>sqft_living15</th><th scope=col>sqft_lot15</th></tr></thead>\n",
       "<tbody>\n",
       "\t<tr><td>integer</td><td>numeric</td><td>factor </td><td>numeric</td><td>integer</td><td>numeric</td><td>integer</td><td>integer</td><td>numeric</td><td>integer</td><td>...    </td><td>integer</td><td>integer</td><td>integer</td><td>integer</td><td>integer</td><td>integer</td><td>numeric</td><td>numeric</td><td>integer</td><td>integer</td></tr>\n",
       "</tbody>\n",
       "</table>\n"
      ],
      "text/latex": [
       "\\begin{tabular}{llllllllllllllllllllll}\n",
       " X & id & date & price & bedrooms & bathrooms & sqft\\_living & sqft\\_lot & floors & waterfront & ... & grade & sqft\\_above & sqft\\_basement & yr\\_built & yr\\_renovated & zipcode & lat & long & sqft\\_living15 & sqft\\_lot15\\\\\n",
       "\\hline\n",
       "\t integer & numeric & factor  & numeric & integer & numeric & integer & integer & numeric & integer & ...     & integer & integer & integer & integer & integer & integer & numeric & numeric & integer & integer\\\\\n",
       "\\end{tabular}\n"
      ],
      "text/markdown": [
       "\n",
       "X | id | date | price | bedrooms | bathrooms | sqft_living | sqft_lot | floors | waterfront | ... | grade | sqft_above | sqft_basement | yr_built | yr_renovated | zipcode | lat | long | sqft_living15 | sqft_lot15 | \n",
       "|---|\n",
       "| integer | numeric | factor  | numeric | integer | numeric | integer | integer | numeric | integer | ...     | integer | integer | integer | integer | integer | integer | numeric | numeric | integer | integer | \n",
       "\n",
       "\n"
      ],
      "text/plain": [
       "     X       id      date   price   bedrooms bathrooms sqft_living sqft_lot\n",
       "[1,] integer numeric factor numeric integer  numeric   integer     integer \n",
       "     floors  waterfront ... grade   sqft_above sqft_basement yr_built\n",
       "[1,] numeric integer    ... integer integer    integer       integer \n",
       "     yr_renovated zipcode lat     long    sqft_living15 sqft_lot15\n",
       "[1,] integer      integer numeric numeric integer       integer   "
      ]
     },
     "metadata": {},
     "output_type": "display_data"
    }
   ],
   "source": [
    "# sapply applies the class function to each column of housing_prices_dataframe\n",
    "t(sapply(housing_prices, class))"
   ]
  },
  {
   "cell_type": "code",
   "execution_count": 6,
   "metadata": {},
   "outputs": [
    {
     "data": {
      "text/html": [
       "<dl class=dl-horizontal>\n",
       "\t<dt>X</dt>\n",
       "\t\t<dd>'integer'</dd>\n",
       "\t<dt>id</dt>\n",
       "\t\t<dd>'numeric'</dd>\n",
       "\t<dt>date</dt>\n",
       "\t\t<dd>'factor'</dd>\n",
       "\t<dt>price</dt>\n",
       "\t\t<dd>'numeric'</dd>\n",
       "\t<dt>bedrooms</dt>\n",
       "\t\t<dd>'integer'</dd>\n",
       "\t<dt>bathrooms</dt>\n",
       "\t\t<dd>'numeric'</dd>\n",
       "\t<dt>sqft_living</dt>\n",
       "\t\t<dd>'integer'</dd>\n",
       "\t<dt>sqft_lot</dt>\n",
       "\t\t<dd>'integer'</dd>\n",
       "\t<dt>floors</dt>\n",
       "\t\t<dd>'numeric'</dd>\n",
       "\t<dt>waterfront</dt>\n",
       "\t\t<dd>'integer'</dd>\n",
       "\t<dt>view</dt>\n",
       "\t\t<dd>'integer'</dd>\n",
       "\t<dt>condition</dt>\n",
       "\t\t<dd>'integer'</dd>\n",
       "\t<dt>grade</dt>\n",
       "\t\t<dd>'integer'</dd>\n",
       "\t<dt>sqft_above</dt>\n",
       "\t\t<dd>'integer'</dd>\n",
       "\t<dt>sqft_basement</dt>\n",
       "\t\t<dd>'integer'</dd>\n",
       "\t<dt>yr_built</dt>\n",
       "\t\t<dd>'integer'</dd>\n",
       "\t<dt>yr_renovated</dt>\n",
       "\t\t<dd>'integer'</dd>\n",
       "\t<dt>zipcode</dt>\n",
       "\t\t<dd>'integer'</dd>\n",
       "\t<dt>lat</dt>\n",
       "\t\t<dd>'numeric'</dd>\n",
       "\t<dt>long</dt>\n",
       "\t\t<dd>'numeric'</dd>\n",
       "\t<dt>sqft_living15</dt>\n",
       "\t\t<dd>'integer'</dd>\n",
       "\t<dt>sqft_lot15</dt>\n",
       "\t\t<dd>'integer'</dd>\n",
       "</dl>\n"
      ],
      "text/latex": [
       "\\begin{description*}\n",
       "\\item[X] 'integer'\n",
       "\\item[id] 'numeric'\n",
       "\\item[date] 'factor'\n",
       "\\item[price] 'numeric'\n",
       "\\item[bedrooms] 'integer'\n",
       "\\item[bathrooms] 'numeric'\n",
       "\\item[sqft\\textbackslash{}\\_living] 'integer'\n",
       "\\item[sqft\\textbackslash{}\\_lot] 'integer'\n",
       "\\item[floors] 'numeric'\n",
       "\\item[waterfront] 'integer'\n",
       "\\item[view] 'integer'\n",
       "\\item[condition] 'integer'\n",
       "\\item[grade] 'integer'\n",
       "\\item[sqft\\textbackslash{}\\_above] 'integer'\n",
       "\\item[sqft\\textbackslash{}\\_basement] 'integer'\n",
       "\\item[yr\\textbackslash{}\\_built] 'integer'\n",
       "\\item[yr\\textbackslash{}\\_renovated] 'integer'\n",
       "\\item[zipcode] 'integer'\n",
       "\\item[lat] 'numeric'\n",
       "\\item[long] 'numeric'\n",
       "\\item[sqft\\textbackslash{}\\_living15] 'integer'\n",
       "\\item[sqft\\textbackslash{}\\_lot15] 'integer'\n",
       "\\end{description*}\n"
      ],
      "text/markdown": [
       "X\n",
       ":   'integer'id\n",
       ":   'numeric'date\n",
       ":   'factor'price\n",
       ":   'numeric'bedrooms\n",
       ":   'integer'bathrooms\n",
       ":   'numeric'sqft_living\n",
       ":   'integer'sqft_lot\n",
       ":   'integer'floors\n",
       ":   'numeric'waterfront\n",
       ":   'integer'view\n",
       ":   'integer'condition\n",
       ":   'integer'grade\n",
       ":   'integer'sqft_above\n",
       ":   'integer'sqft_basement\n",
       ":   'integer'yr_built\n",
       ":   'integer'yr_renovated\n",
       ":   'integer'zipcode\n",
       ":   'integer'lat\n",
       ":   'numeric'long\n",
       ":   'numeric'sqft_living15\n",
       ":   'integer'sqft_lot15\n",
       ":   'integer'\n",
       "\n"
      ],
      "text/plain": [
       "            X            id          date         price      bedrooms \n",
       "    \"integer\"     \"numeric\"      \"factor\"     \"numeric\"     \"integer\" \n",
       "    bathrooms   sqft_living      sqft_lot        floors    waterfront \n",
       "    \"numeric\"     \"integer\"     \"integer\"     \"numeric\"     \"integer\" \n",
       "         view     condition         grade    sqft_above sqft_basement \n",
       "    \"integer\"     \"integer\"     \"integer\"     \"integer\"     \"integer\" \n",
       "     yr_built  yr_renovated       zipcode           lat          long \n",
       "    \"integer\"     \"integer\"     \"integer\"     \"numeric\"     \"numeric\" \n",
       "sqft_living15    sqft_lot15 \n",
       "    \"integer\"     \"integer\" "
      ]
     },
     "metadata": {},
     "output_type": "display_data"
    }
   ],
   "source": [
    "sapply(housing_prices, class)"
   ]
  },
  {
   "cell_type": "code",
   "execution_count": null,
   "metadata": {
    "collapsed": true
   },
   "outputs": [],
   "source": []
  }
 ],
 "metadata": {
  "kernelspec": {
   "display_name": "R",
   "language": "R",
   "name": "ir"
  },
  "language_info": {
   "codemirror_mode": "r",
   "file_extension": ".r",
   "mimetype": "text/x-r-source",
   "name": "R",
   "pygments_lexer": "r",
   "version": "3.4.1"
  }
 },
 "nbformat": 4,
 "nbformat_minor": 2
}
