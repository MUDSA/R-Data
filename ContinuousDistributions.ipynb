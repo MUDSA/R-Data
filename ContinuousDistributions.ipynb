{
 "cells": [
  {
   "cell_type": "markdown",
   "metadata": {},
   "source": [
    "# Distributions - Continuous\n",
    "\n",
    "There are many types of data distributions. Many of them look similar and are hard to differentiate if one has no intuitive basis for differentiating between them. One has to understand statistical properties like moments, characteristic functions, and cumulative distributions to differentiate them. \n",
    "\n",
    "### Fitting the distribution\n",
    "\n",
    "If you want to fit a distribution to a dataset, start by answering the following questions about the data:\n",
    "* Does the data take on only discrete values or is the data continous?\n",
    "* Look at the symmetry of the data and if there is asymmetry, which direction does it lie in? In order words, are the positive and negative outliers equally likely or is one more likely than the other?\n",
    "* What are the upper or lower limits on the data? For example, salary cannot be lower than zero wheras others like grades scored by students cannot exceed a value (100%)\n",
    "* What is the likelihood of observing extreme values in the distribution? In some data, extreme values occur rarely but in others, they occur very often. "
   ]
  },
  {
   "cell_type": "markdown",
   "metadata": {},
   "source": [
    "## Are the data discrete or continuous values?\n",
    "\n",
    "Considering, for example, financial datasets about companies. Market size, market share, and profit margins are all continuous variables. However, there are some variables that can take on only discrete forms. \n",
    "\n",
    "For example, the regulatory authority may dispense one of two or more decisions which are specified up front. Another example could be the year value. Years are not encoded in partial years like 2018.5, instead of 2018. Each year is a discrete value. "
   ]
  },
  {
   "cell_type": "markdown",
   "metadata": {},
   "source": [
    "## Probability Density Functions\n",
    "\n",
    "Continuous random variables have supports that look like $$S_x = [a, b] \\quad or \\quad (a, b)$$ or unions of intervals of the above form. Examples of random variable that are often taken to be continous are:\n",
    "\n",
    "* the height or weight of an individual\n",
    "* other physical measurements such as the length or size of an object, and\n",
    "* durations of time (usually)\n",
    "\n",
    "Every continuous random variable X has a probability (PDF) denoted f(x). \n",
    "\n",
    "For example, A = [c, d], in which case\n",
    "\n",
    "$$P(X \\in A) = \\int_c^d f_x(x) dx$$\n",
    "\n",
    "It follows that the probability that X falls in a given interval is simply the area under the curve of $f_x(X)$ over the interval. "
   ]
  },
  {
   "cell_type": "markdown",
   "metadata": {},
   "source": [
    "## How symmetric is the data?\n",
    "\n",
    "There are some datasets that exhibut symmetry (ie, the upside is mirrored by the downside). The most common symmetric distribution is the normal distribution, which is shown below for a range of parameters."
   ]
  },
  {
   "cell_type": "code",
   "execution_count": 7,
   "metadata": {
    "collapsed": true
   },
   "outputs": [],
   "source": [
    "x <- seq(-10, 10, by = 0.4)\n",
    "y1 <- dnorm(x, mean = 0, sd = 1)\n",
    "y2 <- dnorm(x, mean = 0, sd = 2)\n",
    "y3 <- dnorm(x, mean = 0, sd = 5)"
   ]
  },
  {
   "cell_type": "code",
   "execution_count": 8,
   "metadata": {},
   "outputs": [
    {
     "data": {
      "text/html": [
       "<ol class=list-inline>\n",
       "\t<li>-10</li>\n",
       "\t<li>-9.6</li>\n",
       "\t<li>-9.2</li>\n",
       "\t<li>-8.8</li>\n",
       "\t<li>-8.4</li>\n",
       "\t<li>-8</li>\n",
       "</ol>\n"
      ],
      "text/latex": [
       "\\begin{enumerate*}\n",
       "\\item -10\n",
       "\\item -9.6\n",
       "\\item -9.2\n",
       "\\item -8.8\n",
       "\\item -8.4\n",
       "\\item -8\n",
       "\\end{enumerate*}\n"
      ],
      "text/markdown": [
       "1. -10\n",
       "2. -9.6\n",
       "3. -9.2\n",
       "4. -8.8\n",
       "5. -8.4\n",
       "6. -8\n",
       "\n",
       "\n"
      ],
      "text/plain": [
       "[1] -10.0  -9.6  -9.2  -8.8  -8.4  -8.0"
      ]
     },
     "metadata": {},
     "output_type": "display_data"
    }
   ],
   "source": [
    "head(x)"
   ]
  },
  {
   "cell_type": "code",
   "execution_count": 9,
   "metadata": {},
   "outputs": [
    {
     "data": {
      "text/html": [
       "<ol class=list-inline>\n",
       "\t<li>7.69459862670642e-23</li>\n",
       "\t<li>3.87811193174697e-21</li>\n",
       "\t<li>1.66558803237993e-19</li>\n",
       "\t<li>6.09575812956242e-18</li>\n",
       "\t<li>1.90108153790796e-16</li>\n",
       "\t<li>5.05227108353689e-15</li>\n",
       "</ol>\n"
      ],
      "text/latex": [
       "\\begin{enumerate*}\n",
       "\\item 7.69459862670642e-23\n",
       "\\item 3.87811193174697e-21\n",
       "\\item 1.66558803237993e-19\n",
       "\\item 6.09575812956242e-18\n",
       "\\item 1.90108153790796e-16\n",
       "\\item 5.05227108353689e-15\n",
       "\\end{enumerate*}\n"
      ],
      "text/markdown": [
       "1. 7.69459862670642e-23\n",
       "2. 3.87811193174697e-21\n",
       "3. 1.66558803237993e-19\n",
       "4. 6.09575812956242e-18\n",
       "5. 1.90108153790796e-16\n",
       "6. 5.05227108353689e-15\n",
       "\n",
       "\n"
      ],
      "text/plain": [
       "[1] 7.694599e-23 3.878112e-21 1.665588e-19 6.095758e-18 1.901082e-16\n",
       "[6] 5.052271e-15"
      ]
     },
     "metadata": {},
     "output_type": "display_data"
    }
   ],
   "source": [
    "head(y1)"
   ]
  },
  {
   "cell_type": "code",
   "execution_count": 10,
   "metadata": {},
   "outputs": [
    {
     "data": {
      "text/html": [
       "<ol class=list-inline>\n",
       "\t<li>7.43359757367149e-07</li>\n",
       "\t<li>1.98064954551604e-06</li>\n",
       "\t<li>5.07042603274338e-06</li>\n",
       "\t<li>1.24712356450268e-05</li>\n",
       "\t<li>2.94715338782699e-05</li>\n",
       "\t<li>6.69151128824427e-05</li>\n",
       "</ol>\n"
      ],
      "text/latex": [
       "\\begin{enumerate*}\n",
       "\\item 7.43359757367149e-07\n",
       "\\item 1.98064954551604e-06\n",
       "\\item 5.07042603274338e-06\n",
       "\\item 1.24712356450268e-05\n",
       "\\item 2.94715338782699e-05\n",
       "\\item 6.69151128824427e-05\n",
       "\\end{enumerate*}\n"
      ],
      "text/markdown": [
       "1. 7.43359757367149e-07\n",
       "2. 1.98064954551604e-06\n",
       "3. 5.07042603274338e-06\n",
       "4. 1.24712356450268e-05\n",
       "5. 2.94715338782699e-05\n",
       "6. 6.69151128824427e-05\n",
       "\n",
       "\n"
      ],
      "text/plain": [
       "[1] 7.433598e-07 1.980650e-06 5.070426e-06 1.247124e-05 2.947153e-05\n",
       "[6] 6.691511e-05"
      ]
     },
     "metadata": {},
     "output_type": "display_data"
    }
   ],
   "source": [
    "head(y2)"
   ]
  },
  {
   "cell_type": "code",
   "execution_count": 11,
   "metadata": {},
   "outputs": [
    {
     "data": {
      "text/html": [
       "<ol class=list-inline>\n",
       "\t<li>0.0107981933026376</li>\n",
       "\t<li>0.0126313122870397</li>\n",
       "\t<li>0.0146813625163314</li>\n",
       "\t<li>0.0169552722616044</li>\n",
       "\t<li>0.0194564538662935</li>\n",
       "\t<li>0.0221841669358911</li>\n",
       "</ol>\n"
      ],
      "text/latex": [
       "\\begin{enumerate*}\n",
       "\\item 0.0107981933026376\n",
       "\\item 0.0126313122870397\n",
       "\\item 0.0146813625163314\n",
       "\\item 0.0169552722616044\n",
       "\\item 0.0194564538662935\n",
       "\\item 0.0221841669358911\n",
       "\\end{enumerate*}\n"
      ],
      "text/markdown": [
       "1. 0.0107981933026376\n",
       "2. 0.0126313122870397\n",
       "3. 0.0146813625163314\n",
       "4. 0.0169552722616044\n",
       "5. 0.0194564538662935\n",
       "6. 0.0221841669358911\n",
       "\n",
       "\n"
      ],
      "text/plain": [
       "[1] 0.01079819 0.01263131 0.01468136 0.01695527 0.01945645 0.02218417"
      ]
     },
     "metadata": {},
     "output_type": "display_data"
    }
   ],
   "source": [
    "head(y3)"
   ]
  },
  {
   "cell_type": "code",
   "execution_count": 12,
   "metadata": {},
   "outputs": [],
   "source": [
    "df <- data.frame(x = rep(x, 3), y = c(y1, y2, y3), class = c(rep(\"y1\", 51), rep(\"y2\", 51), rep(\"y3\", 51)))"
   ]
  },
  {
   "cell_type": "code",
   "execution_count": 14,
   "metadata": {},
   "outputs": [
    {
     "data": {
      "text/html": [
       "<table>\n",
       "<thead><tr><th scope=col>x</th><th scope=col>y</th><th scope=col>class</th></tr></thead>\n",
       "<tbody>\n",
       "\t<tr><td>-10.0       </td><td>7.694599e-23</td><td>y1          </td></tr>\n",
       "\t<tr><td> -9.6       </td><td>3.878112e-21</td><td>y1          </td></tr>\n",
       "\t<tr><td> -9.2       </td><td>1.665588e-19</td><td>y1          </td></tr>\n",
       "\t<tr><td> -8.8       </td><td>6.095758e-18</td><td>y1          </td></tr>\n",
       "\t<tr><td> -8.4       </td><td>1.901082e-16</td><td>y1          </td></tr>\n",
       "\t<tr><td> -8.0       </td><td>5.052271e-15</td><td>y1          </td></tr>\n",
       "\t<tr><td> -7.6       </td><td>1.144156e-13</td><td>y1          </td></tr>\n",
       "\t<tr><td> -7.2       </td><td>2.207990e-12</td><td>y1          </td></tr>\n",
       "\t<tr><td> -6.8       </td><td>3.630962e-11</td><td>y1          </td></tr>\n",
       "\t<tr><td> -6.4       </td><td>5.088140e-10</td><td>y1          </td></tr>\n",
       "\t<tr><td> -6.0       </td><td>6.075883e-09</td><td>y1          </td></tr>\n",
       "\t<tr><td> -5.6       </td><td>6.182621e-08</td><td>y1          </td></tr>\n",
       "\t<tr><td> -5.2       </td><td>5.361035e-07</td><td>y1          </td></tr>\n",
       "\t<tr><td> -4.8       </td><td>3.961299e-06</td><td>y1          </td></tr>\n",
       "\t<tr><td> -4.4       </td><td>2.494247e-05</td><td>y1          </td></tr>\n",
       "\t<tr><td> -4.0       </td><td>1.338302e-04</td><td>y1          </td></tr>\n",
       "\t<tr><td> -3.6       </td><td>6.119019e-04</td><td>y1          </td></tr>\n",
       "\t<tr><td> -3.2       </td><td>2.384088e-03</td><td>y1          </td></tr>\n",
       "\t<tr><td> -2.8       </td><td>7.915452e-03</td><td>y1          </td></tr>\n",
       "\t<tr><td> -2.4       </td><td>2.239453e-02</td><td>y1          </td></tr>\n",
       "</tbody>\n",
       "</table>\n"
      ],
      "text/latex": [
       "\\begin{tabular}{r|lll}\n",
       " x & y & class\\\\\n",
       "\\hline\n",
       "\t -10.0        & 7.694599e-23 & y1          \\\\\n",
       "\t  -9.6        & 3.878112e-21 & y1          \\\\\n",
       "\t  -9.2        & 1.665588e-19 & y1          \\\\\n",
       "\t  -8.8        & 6.095758e-18 & y1          \\\\\n",
       "\t  -8.4        & 1.901082e-16 & y1          \\\\\n",
       "\t  -8.0        & 5.052271e-15 & y1          \\\\\n",
       "\t  -7.6        & 1.144156e-13 & y1          \\\\\n",
       "\t  -7.2        & 2.207990e-12 & y1          \\\\\n",
       "\t  -6.8        & 3.630962e-11 & y1          \\\\\n",
       "\t  -6.4        & 5.088140e-10 & y1          \\\\\n",
       "\t  -6.0        & 6.075883e-09 & y1          \\\\\n",
       "\t  -5.6        & 6.182621e-08 & y1          \\\\\n",
       "\t  -5.2        & 5.361035e-07 & y1          \\\\\n",
       "\t  -4.8        & 3.961299e-06 & y1          \\\\\n",
       "\t  -4.4        & 2.494247e-05 & y1          \\\\\n",
       "\t  -4.0        & 1.338302e-04 & y1          \\\\\n",
       "\t  -3.6        & 6.119019e-04 & y1          \\\\\n",
       "\t  -3.2        & 2.384088e-03 & y1          \\\\\n",
       "\t  -2.8        & 7.915452e-03 & y1          \\\\\n",
       "\t  -2.4        & 2.239453e-02 & y1          \\\\\n",
       "\\end{tabular}\n"
      ],
      "text/markdown": [
       "\n",
       "x | y | class | \n",
       "|---|---|---|---|---|---|---|---|---|---|---|---|---|---|---|---|---|---|---|---|\n",
       "| -10.0        | 7.694599e-23 | y1           | \n",
       "|  -9.6        | 3.878112e-21 | y1           | \n",
       "|  -9.2        | 1.665588e-19 | y1           | \n",
       "|  -8.8        | 6.095758e-18 | y1           | \n",
       "|  -8.4        | 1.901082e-16 | y1           | \n",
       "|  -8.0        | 5.052271e-15 | y1           | \n",
       "|  -7.6        | 1.144156e-13 | y1           | \n",
       "|  -7.2        | 2.207990e-12 | y1           | \n",
       "|  -6.8        | 3.630962e-11 | y1           | \n",
       "|  -6.4        | 5.088140e-10 | y1           | \n",
       "|  -6.0        | 6.075883e-09 | y1           | \n",
       "|  -5.6        | 6.182621e-08 | y1           | \n",
       "|  -5.2        | 5.361035e-07 | y1           | \n",
       "|  -4.8        | 3.961299e-06 | y1           | \n",
       "|  -4.4        | 2.494247e-05 | y1           | \n",
       "|  -4.0        | 1.338302e-04 | y1           | \n",
       "|  -3.6        | 6.119019e-04 | y1           | \n",
       "|  -3.2        | 2.384088e-03 | y1           | \n",
       "|  -2.8        | 7.915452e-03 | y1           | \n",
       "|  -2.4        | 2.239453e-02 | y1           | \n",
       "\n",
       "\n"
      ],
      "text/plain": [
       "   x     y            class\n",
       "1  -10.0 7.694599e-23 y1   \n",
       "2   -9.6 3.878112e-21 y1   \n",
       "3   -9.2 1.665588e-19 y1   \n",
       "4   -8.8 6.095758e-18 y1   \n",
       "5   -8.4 1.901082e-16 y1   \n",
       "6   -8.0 5.052271e-15 y1   \n",
       "7   -7.6 1.144156e-13 y1   \n",
       "8   -7.2 2.207990e-12 y1   \n",
       "9   -6.8 3.630962e-11 y1   \n",
       "10  -6.4 5.088140e-10 y1   \n",
       "11  -6.0 6.075883e-09 y1   \n",
       "12  -5.6 6.182621e-08 y1   \n",
       "13  -5.2 5.361035e-07 y1   \n",
       "14  -4.8 3.961299e-06 y1   \n",
       "15  -4.4 2.494247e-05 y1   \n",
       "16  -4.0 1.338302e-04 y1   \n",
       "17  -3.6 6.119019e-04 y1   \n",
       "18  -3.2 2.384088e-03 y1   \n",
       "19  -2.8 7.915452e-03 y1   \n",
       "20  -2.4 2.239453e-02 y1   "
      ]
     },
     "metadata": {},
     "output_type": "display_data"
    }
   ],
   "source": [
    "head(df, 20)"
   ]
  },
  {
   "cell_type": "code",
   "execution_count": 16,
   "metadata": {},
   "outputs": [],
   "source": [
    "library(ggplot2)"
   ]
  },
  {
   "cell_type": "code",
   "execution_count": 17,
   "metadata": {},
   "outputs": [
    {
     "data": {},
     "metadata": {},
     "output_type": "display_data"
    },
    {
     "data": {
      "image/png": "[encoded data removed]",
      "text/plain": [
       "plot without title"
      ]
     },
     "metadata": {},
     "output_type": "display_data"
    }
   ],
   "source": [
    "ggplot(df, aes(x = x, y = y, color = class)) + geom_line()"
   ]
  },
  {
   "cell_type": "markdown",
   "metadata": {},
   "source": [
    "## Normal distribution\n",
    "\n",
    "The normal distribution has several features that make it popular. First, it can be fully characterized by just 2 parameters - the mean and the standard deviation. That makes things easier. \n",
    "\n",
    "Second, the probability of any value occurring can be obtained simply by knowing how many standard deviations separate the value from the mean; the probability that a value will fall within 2 standard deviations from the mean is roughly 95%. \n",
    "\n",
    "The normal distribution is best suited for data that, at the minimum, meets the following conditions:\n",
    "\n",
    "1) There is a strong tendency for the data to take on a central value. \n",
    "2) Positive and negative deviations from this central value are equally likely (there is no skew in any one direction)\n",
    "3) The frequency of the deviations falls off rapidly as we move further away from the central value (extreme values are less likely to occur)\n",
    "\n",
    "The last 2 conditions show up when we compute the parameters of the normal distribution; the symmetry of deviations leads to zero skewness and the low probabilities of large deviations from the central value reveal themselves in no kurtosis. "
   ]
  },
  {
   "cell_type": "markdown",
   "metadata": {},
   "source": [
    "### Misinterpreting data as normally distributed\n",
    "\n",
    "Sometimes, we tend to use a normal distribution to characterize data that is non-normal. The probability estimates that we obtain will be misleading. One obvious problem is when the data is assymmetric but another potential problem is when the probabilities of large deviations from the central value do not drop off as precipitously as required by the normal distribution. This means actual distribution of the data has fatter tails than the normal. \n",
    "\n",
    "TODO: finish "
   ]
  },
  {
   "cell_type": "code",
   "execution_count": null,
   "metadata": {
    "collapsed": true
   },
   "outputs": [],
   "source": []
  },
  {
   "cell_type": "code",
   "execution_count": null,
   "metadata": {
    "collapsed": true
   },
   "outputs": [],
   "source": []
  }
 ],
 "metadata": {
  "kernelspec": {
   "display_name": "R",
   "language": "R",
   "name": "ir"
  },
  "language_info": {
   "codemirror_mode": "r",
   "file_extension": ".r",
   "mimetype": "text/x-r-source",
   "name": "R",
   "pygments_lexer": "r",
   "version": "3.4.1"
  }
 },
 "nbformat": 4,
 "nbformat_minor": 2
}
