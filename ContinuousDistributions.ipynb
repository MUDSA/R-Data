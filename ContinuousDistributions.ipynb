{
 "cells": [
  {
   "cell_type": "markdown",
   "metadata": {},
   "source": [
    "# Distributions - Continuous\n",
    "\n",
    "There are many types of data distributions. Many of them look similar and are hard to differentiate if one has no intuitive basis for differentiating between them. One has to understand statistical properties like moments, characteristic functions, and cumulative distributions to differentiate them. \n",
    "\n",
    "### Fitting the distribution\n",
    "\n",
    "If you want to fit a distribution to a dataset, start by answering the following questions about the data:\n",
    "* Does the data take on only discrete values or is the data continous?\n",
    "* Look at the symmetry of the data and if there is asymmetry, which direction does it lie in? In order words, are the positive and negative outliers equally likely or is one more likely than the other?\n",
    "* What are the upper or lower limits on the data? For example, salary cannot be lower than zero wheras others like grades scored by students cannot exceed a value (100%)\n",
    "* What is the likelihood of observing extreme values in the distribution? In some data, extreme values occur rarely but in others, they occur very often. "
   ]
  },
  {
   "cell_type": "markdown",
   "metadata": {},
   "source": [
    "## Are the data discrete or continuous values?\n",
    "\n",
    "Considering, for example, financial datasets about companies. Market size, market share, and profit margins are all continuous variables. However, there are some variables that can take on only discrete forms. \n",
    "\n",
    "For example, the regulatory authority may dispense one of two or more decisions which are specified up front. Another example could be the year value. Years are not encoded in partial years like 2018.5, instead of 2018. Each year is a discrete value. "
   ]
  },
  {
   "cell_type": "markdown",
   "metadata": {},
   "source": [
    "## Probability Density Functions\n",
    "\n",
    "Continuous random variables have supports that look like $$S_x = [a, b] \\quad or \\quad (a, b)$$ or unions of intervals of the above form. Examples of random variable that are often taken to be continous are:\n",
    "\n",
    "* the height or weight of an individual\n",
    "* other physical measurements such as the length or size of an object, and\n",
    "* durations of time (usually)\n",
    "\n",
    "Every continuous random variable X has a probability (PDF) denoted f(x). \n",
    "\n",
    "For example, A = [c, d], in which case\n",
    "\n",
    "$$P(X \\in A) = \\int_c^d f_x(x) dx$$\n",
    "\n",
    "It follows that the probability that X falls in a given interval is simply the area under the curve of $f_x(X)$ over the interval. "
   ]
  },
  {
   "cell_type": "markdown",
   "metadata": {},
   "source": [
    "## How symmetric is the data?\n",
    "\n",
    "There are some datasets that exhibut symmetry (ie, the upside is mirrored by the downside). The most common symmetric distribution is the normal distribution, which is shown below for a range of parameters."
   ]
  },
  {
   "cell_type": "code",
   "execution_count": 8,
   "metadata": {
    "collapsed": true
   },
   "outputs": [],
   "source": [
    "x <- seq(-10, 10, by = 0.4)\n",
    "y1 <- dnorm(x, mean = 0, sd = 1)\n",
    "y2 <- dnorm(x, mean = 0, sd = 2)\n",
    "y3 <- dnorm(x, mean = 0, sd = 5)"
   ]
  },
  {
   "cell_type": "code",
   "execution_count": 9,
   "metadata": {},
   "outputs": [
    {
     "data": {
      "text/html": [
       "<ol class=list-inline>\n",
       "\t<li>-10</li>\n",
       "\t<li>-9.6</li>\n",
       "\t<li>-9.2</li>\n",
       "\t<li>-8.8</li>\n",
       "\t<li>-8.4</li>\n",
       "\t<li>-8</li>\n",
       "</ol>\n"
      ],
      "text/latex": [
       "\\begin{enumerate*}\n",
       "\\item -10\n",
       "\\item -9.6\n",
       "\\item -9.2\n",
       "\\item -8.8\n",
       "\\item -8.4\n",
       "\\item -8\n",
       "\\end{enumerate*}\n"
      ],
      "text/markdown": [
       "1. -10\n",
       "2. -9.6\n",
       "3. -9.2\n",
       "4. -8.8\n",
       "5. -8.4\n",
       "6. -8\n",
       "\n",
       "\n"
      ],
      "text/plain": [
       "[1] -10.0  -9.6  -9.2  -8.8  -8.4  -8.0"
      ]
     },
     "metadata": {},
     "output_type": "display_data"
    }
   ],
   "source": [
    "head(x)"
   ]
  },
  {
   "cell_type": "code",
   "execution_count": 10,
   "metadata": {},
   "outputs": [
    {
     "data": {
      "text/html": [
       "<ol class=list-inline>\n",
       "\t<li>7.69459862670642e-23</li>\n",
       "\t<li>3.87811193174697e-21</li>\n",
       "\t<li>1.66558803237993e-19</li>\n",
       "\t<li>6.09575812956242e-18</li>\n",
       "\t<li>1.90108153790796e-16</li>\n",
       "\t<li>5.05227108353689e-15</li>\n",
       "</ol>\n"
      ],
      "text/latex": [
       "\\begin{enumerate*}\n",
       "\\item 7.69459862670642e-23\n",
       "\\item 3.87811193174697e-21\n",
       "\\item 1.66558803237993e-19\n",
       "\\item 6.09575812956242e-18\n",
       "\\item 1.90108153790796e-16\n",
       "\\item 5.05227108353689e-15\n",
       "\\end{enumerate*}\n"
      ],
      "text/markdown": [
       "1. 7.69459862670642e-23\n",
       "2. 3.87811193174697e-21\n",
       "3. 1.66558803237993e-19\n",
       "4. 6.09575812956242e-18\n",
       "5. 1.90108153790796e-16\n",
       "6. 5.05227108353689e-15\n",
       "\n",
       "\n"
      ],
      "text/plain": [
       "[1] 7.694599e-23 3.878112e-21 1.665588e-19 6.095758e-18 1.901082e-16\n",
       "[6] 5.052271e-15"
      ]
     },
     "metadata": {},
     "output_type": "display_data"
    }
   ],
   "source": [
    "head(y1)"
   ]
  },
  {
   "cell_type": "code",
   "execution_count": 11,
   "metadata": {},
   "outputs": [
    {
     "data": {
      "text/html": [
       "<ol class=list-inline>\n",
       "\t<li>7.43359757367149e-07</li>\n",
       "\t<li>1.98064954551604e-06</li>\n",
       "\t<li>5.07042603274338e-06</li>\n",
       "\t<li>1.24712356450268e-05</li>\n",
       "\t<li>2.94715338782699e-05</li>\n",
       "\t<li>6.69151128824427e-05</li>\n",
       "</ol>\n"
      ],
      "text/latex": [
       "\\begin{enumerate*}\n",
       "\\item 7.43359757367149e-07\n",
       "\\item 1.98064954551604e-06\n",
       "\\item 5.07042603274338e-06\n",
       "\\item 1.24712356450268e-05\n",
       "\\item 2.94715338782699e-05\n",
       "\\item 6.69151128824427e-05\n",
       "\\end{enumerate*}\n"
      ],
      "text/markdown": [
       "1. 7.43359757367149e-07\n",
       "2. 1.98064954551604e-06\n",
       "3. 5.07042603274338e-06\n",
       "4. 1.24712356450268e-05\n",
       "5. 2.94715338782699e-05\n",
       "6. 6.69151128824427e-05\n",
       "\n",
       "\n"
      ],
      "text/plain": [
       "[1] 7.433598e-07 1.980650e-06 5.070426e-06 1.247124e-05 2.947153e-05\n",
       "[6] 6.691511e-05"
      ]
     },
     "metadata": {},
     "output_type": "display_data"
    }
   ],
   "source": [
    "head(y2)"
   ]
  },
  {
   "cell_type": "code",
   "execution_count": 12,
   "metadata": {},
   "outputs": [
    {
     "data": {
      "text/html": [
       "<ol class=list-inline>\n",
       "\t<li>0.0107981933026376</li>\n",
       "\t<li>0.0126313122870397</li>\n",
       "\t<li>0.0146813625163314</li>\n",
       "\t<li>0.0169552722616044</li>\n",
       "\t<li>0.0194564538662935</li>\n",
       "\t<li>0.0221841669358911</li>\n",
       "</ol>\n"
      ],
      "text/latex": [
       "\\begin{enumerate*}\n",
       "\\item 0.0107981933026376\n",
       "\\item 0.0126313122870397\n",
       "\\item 0.0146813625163314\n",
       "\\item 0.0169552722616044\n",
       "\\item 0.0194564538662935\n",
       "\\item 0.0221841669358911\n",
       "\\end{enumerate*}\n"
      ],
      "text/markdown": [
       "1. 0.0107981933026376\n",
       "2. 0.0126313122870397\n",
       "3. 0.0146813625163314\n",
       "4. 0.0169552722616044\n",
       "5. 0.0194564538662935\n",
       "6. 0.0221841669358911\n",
       "\n",
       "\n"
      ],
      "text/plain": [
       "[1] 0.01079819 0.01263131 0.01468136 0.01695527 0.01945645 0.02218417"
      ]
     },
     "metadata": {},
     "output_type": "display_data"
    }
   ],
   "source": [
    "head(y3)"
   ]
  },
  {
   "cell_type": "code",
   "execution_count": 13,
   "metadata": {
    "collapsed": true
   },
   "outputs": [],
   "source": [
    "df <- data.frame(x = rep(x, 3), y = c(y1, y2, y3), class = c(rep(\"y1\", 51), rep(\"y2\", 51), rep(\"y3\", 51)))"
   ]
  },
  {
   "cell_type": "code",
   "execution_count": 14,
   "metadata": {},
   "outputs": [
    {
     "data": {
      "text/html": [
       "<table>\n",
       "<thead><tr><th scope=col>x</th><th scope=col>y</th><th scope=col>class</th></tr></thead>\n",
       "<tbody>\n",
       "\t<tr><td>-10.0       </td><td>7.694599e-23</td><td>y1          </td></tr>\n",
       "\t<tr><td> -9.6       </td><td>3.878112e-21</td><td>y1          </td></tr>\n",
       "\t<tr><td> -9.2       </td><td>1.665588e-19</td><td>y1          </td></tr>\n",
       "\t<tr><td> -8.8       </td><td>6.095758e-18</td><td>y1          </td></tr>\n",
       "\t<tr><td> -8.4       </td><td>1.901082e-16</td><td>y1          </td></tr>\n",
       "\t<tr><td> -8.0       </td><td>5.052271e-15</td><td>y1          </td></tr>\n",
       "\t<tr><td> -7.6       </td><td>1.144156e-13</td><td>y1          </td></tr>\n",
       "\t<tr><td> -7.2       </td><td>2.207990e-12</td><td>y1          </td></tr>\n",
       "\t<tr><td> -6.8       </td><td>3.630962e-11</td><td>y1          </td></tr>\n",
       "\t<tr><td> -6.4       </td><td>5.088140e-10</td><td>y1          </td></tr>\n",
       "\t<tr><td> -6.0       </td><td>6.075883e-09</td><td>y1          </td></tr>\n",
       "\t<tr><td> -5.6       </td><td>6.182621e-08</td><td>y1          </td></tr>\n",
       "\t<tr><td> -5.2       </td><td>5.361035e-07</td><td>y1          </td></tr>\n",
       "\t<tr><td> -4.8       </td><td>3.961299e-06</td><td>y1          </td></tr>\n",
       "\t<tr><td> -4.4       </td><td>2.494247e-05</td><td>y1          </td></tr>\n",
       "\t<tr><td> -4.0       </td><td>1.338302e-04</td><td>y1          </td></tr>\n",
       "\t<tr><td> -3.6       </td><td>6.119019e-04</td><td>y1          </td></tr>\n",
       "\t<tr><td> -3.2       </td><td>2.384088e-03</td><td>y1          </td></tr>\n",
       "\t<tr><td> -2.8       </td><td>7.915452e-03</td><td>y1          </td></tr>\n",
       "\t<tr><td> -2.4       </td><td>2.239453e-02</td><td>y1          </td></tr>\n",
       "</tbody>\n",
       "</table>\n"
      ],
      "text/latex": [
       "\\begin{tabular}{r|lll}\n",
       " x & y & class\\\\\n",
       "\\hline\n",
       "\t -10.0        & 7.694599e-23 & y1          \\\\\n",
       "\t  -9.6        & 3.878112e-21 & y1          \\\\\n",
       "\t  -9.2        & 1.665588e-19 & y1          \\\\\n",
       "\t  -8.8        & 6.095758e-18 & y1          \\\\\n",
       "\t  -8.4        & 1.901082e-16 & y1          \\\\\n",
       "\t  -8.0        & 5.052271e-15 & y1          \\\\\n",
       "\t  -7.6        & 1.144156e-13 & y1          \\\\\n",
       "\t  -7.2        & 2.207990e-12 & y1          \\\\\n",
       "\t  -6.8        & 3.630962e-11 & y1          \\\\\n",
       "\t  -6.4        & 5.088140e-10 & y1          \\\\\n",
       "\t  -6.0        & 6.075883e-09 & y1          \\\\\n",
       "\t  -5.6        & 6.182621e-08 & y1          \\\\\n",
       "\t  -5.2        & 5.361035e-07 & y1          \\\\\n",
       "\t  -4.8        & 3.961299e-06 & y1          \\\\\n",
       "\t  -4.4        & 2.494247e-05 & y1          \\\\\n",
       "\t  -4.0        & 1.338302e-04 & y1          \\\\\n",
       "\t  -3.6        & 6.119019e-04 & y1          \\\\\n",
       "\t  -3.2        & 2.384088e-03 & y1          \\\\\n",
       "\t  -2.8        & 7.915452e-03 & y1          \\\\\n",
       "\t  -2.4        & 2.239453e-02 & y1          \\\\\n",
       "\\end{tabular}\n"
      ],
      "text/markdown": [
       "\n",
       "x | y | class | \n",
       "|---|---|---|---|---|---|---|---|---|---|---|---|---|---|---|---|---|---|---|---|\n",
       "| -10.0        | 7.694599e-23 | y1           | \n",
       "|  -9.6        | 3.878112e-21 | y1           | \n",
       "|  -9.2        | 1.665588e-19 | y1           | \n",
       "|  -8.8        | 6.095758e-18 | y1           | \n",
       "|  -8.4        | 1.901082e-16 | y1           | \n",
       "|  -8.0        | 5.052271e-15 | y1           | \n",
       "|  -7.6        | 1.144156e-13 | y1           | \n",
       "|  -7.2        | 2.207990e-12 | y1           | \n",
       "|  -6.8        | 3.630962e-11 | y1           | \n",
       "|  -6.4        | 5.088140e-10 | y1           | \n",
       "|  -6.0        | 6.075883e-09 | y1           | \n",
       "|  -5.6        | 6.182621e-08 | y1           | \n",
       "|  -5.2        | 5.361035e-07 | y1           | \n",
       "|  -4.8        | 3.961299e-06 | y1           | \n",
       "|  -4.4        | 2.494247e-05 | y1           | \n",
       "|  -4.0        | 1.338302e-04 | y1           | \n",
       "|  -3.6        | 6.119019e-04 | y1           | \n",
       "|  -3.2        | 2.384088e-03 | y1           | \n",
       "|  -2.8        | 7.915452e-03 | y1           | \n",
       "|  -2.4        | 2.239453e-02 | y1           | \n",
       "\n",
       "\n"
      ],
      "text/plain": [
       "   x     y            class\n",
       "1  -10.0 7.694599e-23 y1   \n",
       "2   -9.6 3.878112e-21 y1   \n",
       "3   -9.2 1.665588e-19 y1   \n",
       "4   -8.8 6.095758e-18 y1   \n",
       "5   -8.4 1.901082e-16 y1   \n",
       "6   -8.0 5.052271e-15 y1   \n",
       "7   -7.6 1.144156e-13 y1   \n",
       "8   -7.2 2.207990e-12 y1   \n",
       "9   -6.8 3.630962e-11 y1   \n",
       "10  -6.4 5.088140e-10 y1   \n",
       "11  -6.0 6.075883e-09 y1   \n",
       "12  -5.6 6.182621e-08 y1   \n",
       "13  -5.2 5.361035e-07 y1   \n",
       "14  -4.8 3.961299e-06 y1   \n",
       "15  -4.4 2.494247e-05 y1   \n",
       "16  -4.0 1.338302e-04 y1   \n",
       "17  -3.6 6.119019e-04 y1   \n",
       "18  -3.2 2.384088e-03 y1   \n",
       "19  -2.8 7.915452e-03 y1   \n",
       "20  -2.4 2.239453e-02 y1   "
      ]
     },
     "metadata": {},
     "output_type": "display_data"
    }
   ],
   "source": [
    "head(df, 20)"
   ]
  },
  {
   "cell_type": "code",
   "execution_count": 15,
   "metadata": {
    "collapsed": true
   },
   "outputs": [],
   "source": [
    "library(ggplot2)"
   ]
  },
  {
   "cell_type": "code",
   "execution_count": 16,
   "metadata": {},
   "outputs": [
    {
     "data": {},
     "metadata": {},
     "output_type": "display_data"
    },
    {
     "data": {
      "image/png": "[encoded data removed]",
      "text/plain": [
       "plot without title"
      ]
     },
     "metadata": {},
     "output_type": "display_data"
    }
   ],
   "source": [
    "ggplot(df, aes(x = x, y = y, color = class)) + geom_line()"
   ]
  },
  {
   "cell_type": "markdown",
   "metadata": {},
   "source": [
    "## Normal distribution\n",
    "\n",
    "The normal distribution has several features that make it popular. First, it can be fully characterized by just 2 parameters - the mean and the standard deviation. That makes things easier. \n",
    "\n",
    "Second, the probability of any value occurring can be obtained simply by knowing how many standard deviations separate the value from the mean; the probability that a value will fall within 2 standard deviations from the mean is roughly 95%. \n",
    "\n",
    "The normal distribution is best suited for data that, at the minimum, meets the following conditions:\n",
    "\n",
    "1) There is a strong tendency for the data to take on a central value. \n",
    "2) Positive and negative deviations from this central value are equally likely (there is no skew in any one direction)\n",
    "3) The frequency of the deviations falls off rapidly as we move further away from the central value (extreme values are less likely to occur)\n",
    "\n",
    "The last 2 conditions show up when we compute the parameters of the normal distribution; the symmetry of deviations leads to zero skewness and the low probabilities of large deviations from the central value reveal themselves in no kurtosis. "
   ]
  },
  {
   "cell_type": "markdown",
   "metadata": {},
   "source": [
    "### Misinterpreting data as normally distributed\n",
    "\n",
    "Sometimes, we tend to use a normal distribution to characterize data that is non-normal. The probability estimates that we obtain will be misleading. One obvious problem is when the data is assymmetric but another potential problem is when the probabilities of large deviations from the central value do not drop off as precipitously as required by the normal distribution. This means actual distribution of the data has fatter tails than the normal. \n",
    "\n",
    "A normal distribution can have data spread in different ways, such as skewed towards a side (either left or right) but in many cases tends to be around a central value with no biases. Many scenarios in everyday life follow a normal distribution like heights of people, errors in measurements, grades on tests, etc. We can say that the data is normally distributed if the following conditions are met. \n",
    "\n",
    "A normally distributed dataset satisfies the following:\n",
    "* mean = median = mode\n",
    "* symmetry about the center\n",
    "* 50% of values are below the mean and 50% are above the mean\n",
    "\n",
    "There are many things you can do if you know that the distribution is normal. For example, if you know standard deviation of a normal distribution, you can say that any values is:\n",
    "* likely to be within 1 standard deviation (68 out of 100 should be)\n",
    "* very likely to be within 2 standard deviation (95 out of 100 should be)\n",
    "* almost certainly within 3 standard deviations (997 out of 1000 should be)"
   ]
  },
  {
   "cell_type": "markdown",
   "metadata": {
    "collapsed": true
   },
   "source": [
    "##### Example:\n",
    "\n",
    "95% of students at a certain school are between 1.1m and 1.7m tall. With how much confidence can you tell that one of your friends, who is 1.85m tall, is taller than the students at the school?\n",
    "\n",
    "* The mean is the middle (1.1 + 1.7) / 2 = 1.4\n",
    "* The standard deviation is half of 95% on either side of the mean (1.7 - 1.1) / 4 = 0.15\n",
    "\n",
    "So where does your friend's height sit in the distribution? We'd have to calculate the z-score:\n",
    "\n",
    "* z-score = (friend's height - mean height) / standard deviation\n",
    "* z-score = (1.85 - 1.4) / 0.15 = 3\n",
    "* z-score of 3 implies a confidence level of 99.9%. So with a confidence of 99%, you can say your friend (who is 1.85m tall), is taller than students at the school. "
   ]
  },
  {
   "cell_type": "markdown",
   "metadata": {
    "collapsed": true
   },
   "source": [
    "## Logistic Distribution:\n",
    "\n",
    "Logistic distributions are when the data is symmetric but with extreme values that occur more frequently than expected with a normal distribution. \n",
    "\n",
    "A logistic distribution can be written as $X ~ logis(location = \\mu; scale = \\sigma)$. \n",
    "The associated R function is `dlogis(x,location = 0, scale = 1)`. The logistic distribution comes up in differential equations as a model for population growth under certain assumptions. \n",
    "\n",
    "The mean is $\\mu$ and the variance is $\\frac{{\\pi}^2 scale^2}{3}$."
   ]
  },
  {
   "cell_type": "code",
   "execution_count": 17,
   "metadata": {
    "collapsed": true
   },
   "outputs": [],
   "source": [
    "x <- seq(-10, 10, by = 0.4)\n",
    "y1 = dlogis(x, location = 0, scale = 1)\n",
    "y2 = dlogis(x, location = 0, scale = 2)\n",
    "y3 = dlogis(x, location = 0, scale = 5)"
   ]
  },
  {
   "cell_type": "code",
   "execution_count": 18,
   "metadata": {},
   "outputs": [
    {
     "data": {
      "text/html": [
       "<ol class=list-inline>\n",
       "\t<li>4.53958077359517e-05</li>\n",
       "\t<li>6.77195630593285e-05</li>\n",
       "\t<li>0.000101018987009751</li>\n",
       "\t<li>0.000150687644447731</li>\n",
       "\t<li>0.000224766227653117</li>\n",
       "\t<li>0.000335237670756474</li>\n",
       "\t<li>0.000499950905932041</li>\n",
       "\t<li>0.000745472274815782</li>\n",
       "\t<li>0.00111129829643591</li>\n",
       "\t<li>0.00165604945915083</li>\n",
       "\t<li>0.00246650929136005</li>\n",
       "\t<li>0.00367066627579939</li>\n",
       "\t<li>0.0054561994238363</li>\n",
       "\t<li>0.0080959435853295</li>\n",
       "\t<li>0.0119813360491065</li>\n",
       "\t<li>0.0176627062132911</li>\n",
       "\t<li>0.025889593509538</li>\n",
       "\t<li>0.0376317689545714</li>\n",
       "\t<li>0.0540381147563843</li>\n",
       "\t<li>0.0762549990518523</li>\n",
       "\t<li>0.104993585403507</li>\n",
       "\t<li>0.139763791933061</li>\n",
       "\t<li>0.177894440646806</li>\n",
       "\t<li>0.213909696520295</li>\n",
       "\t<li>0.240260745741529</li>\n",
       "\t<li>0.25</li>\n",
       "\t<li>0.240260745741529</li>\n",
       "\t<li>0.213909696520294</li>\n",
       "\t<li>0.177894440646806</li>\n",
       "\t<li>0.139763791933061</li>\n",
       "\t<li>0.104993585403507</li>\n",
       "\t<li>0.0762549990518522</li>\n",
       "\t<li>0.0540381147563843</li>\n",
       "\t<li>0.0376317689545713</li>\n",
       "\t<li>0.025889593509538</li>\n",
       "\t<li>0.0176627062132911</li>\n",
       "\t<li>0.0119813360491065</li>\n",
       "\t<li>0.00809594358532949</li>\n",
       "\t<li>0.00545619942383629</li>\n",
       "\t<li>0.00367066627579939</li>\n",
       "\t<li>0.00246650929136005</li>\n",
       "\t<li>0.00165604945915083</li>\n",
       "\t<li>0.00111129829643591</li>\n",
       "\t<li>0.000745472274815782</li>\n",
       "\t<li>0.00049995090593204</li>\n",
       "\t<li>0.000335237670756474</li>\n",
       "\t<li>0.000224766227653117</li>\n",
       "\t<li>0.000150687644447731</li>\n",
       "\t<li>0.000101018987009751</li>\n",
       "\t<li>6.77195630593284e-05</li>\n",
       "\t<li>4.53958077359517e-05</li>\n",
       "</ol>\n"
      ],
      "text/latex": [
       "\\begin{enumerate*}\n",
       "\\item 4.53958077359517e-05\n",
       "\\item 6.77195630593285e-05\n",
       "\\item 0.000101018987009751\n",
       "\\item 0.000150687644447731\n",
       "\\item 0.000224766227653117\n",
       "\\item 0.000335237670756474\n",
       "\\item 0.000499950905932041\n",
       "\\item 0.000745472274815782\n",
       "\\item 0.00111129829643591\n",
       "\\item 0.00165604945915083\n",
       "\\item 0.00246650929136005\n",
       "\\item 0.00367066627579939\n",
       "\\item 0.0054561994238363\n",
       "\\item 0.0080959435853295\n",
       "\\item 0.0119813360491065\n",
       "\\item 0.0176627062132911\n",
       "\\item 0.025889593509538\n",
       "\\item 0.0376317689545714\n",
       "\\item 0.0540381147563843\n",
       "\\item 0.0762549990518523\n",
       "\\item 0.104993585403507\n",
       "\\item 0.139763791933061\n",
       "\\item 0.177894440646806\n",
       "\\item 0.213909696520295\n",
       "\\item 0.240260745741529\n",
       "\\item 0.25\n",
       "\\item 0.240260745741529\n",
       "\\item 0.213909696520294\n",
       "\\item 0.177894440646806\n",
       "\\item 0.139763791933061\n",
       "\\item 0.104993585403507\n",
       "\\item 0.0762549990518522\n",
       "\\item 0.0540381147563843\n",
       "\\item 0.0376317689545713\n",
       "\\item 0.025889593509538\n",
       "\\item 0.0176627062132911\n",
       "\\item 0.0119813360491065\n",
       "\\item 0.00809594358532949\n",
       "\\item 0.00545619942383629\n",
       "\\item 0.00367066627579939\n",
       "\\item 0.00246650929136005\n",
       "\\item 0.00165604945915083\n",
       "\\item 0.00111129829643591\n",
       "\\item 0.000745472274815782\n",
       "\\item 0.00049995090593204\n",
       "\\item 0.000335237670756474\n",
       "\\item 0.000224766227653117\n",
       "\\item 0.000150687644447731\n",
       "\\item 0.000101018987009751\n",
       "\\item 6.77195630593284e-05\n",
       "\\item 4.53958077359517e-05\n",
       "\\end{enumerate*}\n"
      ],
      "text/markdown": [
       "1. 4.53958077359517e-05\n",
       "2. 6.77195630593285e-05\n",
       "3. 0.000101018987009751\n",
       "4. 0.000150687644447731\n",
       "5. 0.000224766227653117\n",
       "6. 0.000335237670756474\n",
       "7. 0.000499950905932041\n",
       "8. 0.000745472274815782\n",
       "9. 0.00111129829643591\n",
       "10. 0.00165604945915083\n",
       "11. 0.00246650929136005\n",
       "12. 0.00367066627579939\n",
       "13. 0.0054561994238363\n",
       "14. 0.0080959435853295\n",
       "15. 0.0119813360491065\n",
       "16. 0.0176627062132911\n",
       "17. 0.025889593509538\n",
       "18. 0.0376317689545714\n",
       "19. 0.0540381147563843\n",
       "20. 0.0762549990518523\n",
       "21. 0.104993585403507\n",
       "22. 0.139763791933061\n",
       "23. 0.177894440646806\n",
       "24. 0.213909696520295\n",
       "25. 0.240260745741529\n",
       "26. 0.25\n",
       "27. 0.240260745741529\n",
       "28. 0.213909696520294\n",
       "29. 0.177894440646806\n",
       "30. 0.139763791933061\n",
       "31. 0.104993585403507\n",
       "32. 0.0762549990518522\n",
       "33. 0.0540381147563843\n",
       "34. 0.0376317689545713\n",
       "35. 0.025889593509538\n",
       "36. 0.0176627062132911\n",
       "37. 0.0119813360491065\n",
       "38. 0.00809594358532949\n",
       "39. 0.00545619942383629\n",
       "40. 0.00367066627579939\n",
       "41. 0.00246650929136005\n",
       "42. 0.00165604945915083\n",
       "43. 0.00111129829643591\n",
       "44. 0.000745472274815782\n",
       "45. 0.00049995090593204\n",
       "46. 0.000335237670756474\n",
       "47. 0.000224766227653117\n",
       "48. 0.000150687644447731\n",
       "49. 0.000101018987009751\n",
       "50. 6.77195630593284e-05\n",
       "51. 4.53958077359517e-05\n",
       "\n",
       "\n"
      ],
      "text/plain": [
       " [1] 4.539581e-05 6.771956e-05 1.010190e-04 1.506876e-04 2.247662e-04\n",
       " [6] 3.352377e-04 4.999509e-04 7.454723e-04 1.111298e-03 1.656049e-03\n",
       "[11] 2.466509e-03 3.670666e-03 5.456199e-03 8.095944e-03 1.198134e-02\n",
       "[16] 1.766271e-02 2.588959e-02 3.763177e-02 5.403811e-02 7.625500e-02\n",
       "[21] 1.049936e-01 1.397638e-01 1.778944e-01 2.139097e-01 2.402607e-01\n",
       "[26] 2.500000e-01 2.402607e-01 2.139097e-01 1.778944e-01 1.397638e-01\n",
       "[31] 1.049936e-01 7.625500e-02 5.403811e-02 3.763177e-02 2.588959e-02\n",
       "[36] 1.766271e-02 1.198134e-02 8.095944e-03 5.456199e-03 3.670666e-03\n",
       "[41] 2.466509e-03 1.656049e-03 1.111298e-03 7.454723e-04 4.999509e-04\n",
       "[46] 3.352377e-04 2.247662e-04 1.506876e-04 1.010190e-04 6.771956e-05\n",
       "[51] 4.539581e-05"
      ]
     },
     "metadata": {},
     "output_type": "display_data"
    }
   ],
   "source": [
    "y1"
   ]
  },
  {
   "cell_type": "code",
   "execution_count": 19,
   "metadata": {},
   "outputs": [
    {
     "data": {
      "text/html": [
       "<ol class=list-inline>\n",
       "\t<li>0.00332402833539508</li>\n",
       "\t<li>0.00404797179266475</li>\n",
       "\t<li>0.0049263817532531</li>\n",
       "\t<li>0.00599066802455323</li>\n",
       "\t<li>0.00727787984039961</li>\n",
       "\t<li>0.00883135310664556</li>\n",
       "\t<li>0.0107012404591751</li>\n",
       "\t<li>0.012944796754769</li>\n",
       "\t<li>0.0156262338291808</li>\n",
       "\t<li>0.0188158844772857</li>\n",
       "\t<li>0.0225883298654561</li>\n",
       "\t<li>0.0270190573781922</li>\n",
       "\t<li>0.0321791495878868</li>\n",
       "\t<li>0.0381274995259261</li>\n",
       "\t<li>0.0449001645200344</li>\n",
       "\t<li>0.0524967927017533</li>\n",
       "\t<li>0.0608646701435427</li>\n",
       "\t<li>0.0698818959665305</li>\n",
       "\t<li>0.0793424487478073</li>\n",
       "\t<li>0.0889472203234029</li>\n",
       "\t<li>0.0983059666207409</li>\n",
       "\t<li>0.106954848260147</li>\n",
       "\t<li>0.114392120228329</li>\n",
       "\t<li>0.120130372870765</li>\n",
       "\t<li>0.12375828635593</li>\n",
       "\t<li>0.125</li>\n",
       "\t<li>0.12375828635593</li>\n",
       "\t<li>0.120130372870765</li>\n",
       "\t<li>0.114392120228329</li>\n",
       "\t<li>0.106954848260147</li>\n",
       "\t<li>0.0983059666207409</li>\n",
       "\t<li>0.0889472203234028</li>\n",
       "\t<li>0.0793424487478073</li>\n",
       "\t<li>0.0698818959665305</li>\n",
       "\t<li>0.0608646701435427</li>\n",
       "\t<li>0.0524967927017533</li>\n",
       "\t<li>0.0449001645200344</li>\n",
       "\t<li>0.0381274995259261</li>\n",
       "\t<li>0.0321791495878867</li>\n",
       "\t<li>0.0270190573781921</li>\n",
       "\t<li>0.0225883298654561</li>\n",
       "\t<li>0.0188158844772857</li>\n",
       "\t<li>0.0156262338291808</li>\n",
       "\t<li>0.012944796754769</li>\n",
       "\t<li>0.0107012404591751</li>\n",
       "\t<li>0.00883135310664556</li>\n",
       "\t<li>0.0072778798403996</li>\n",
       "\t<li>0.00599066802455323</li>\n",
       "\t<li>0.00492638175325309</li>\n",
       "\t<li>0.00404797179266475</li>\n",
       "\t<li>0.00332402833539508</li>\n",
       "</ol>\n"
      ],
      "text/latex": [
       "\\begin{enumerate*}\n",
       "\\item 0.00332402833539508\n",
       "\\item 0.00404797179266475\n",
       "\\item 0.0049263817532531\n",
       "\\item 0.00599066802455323\n",
       "\\item 0.00727787984039961\n",
       "\\item 0.00883135310664556\n",
       "\\item 0.0107012404591751\n",
       "\\item 0.012944796754769\n",
       "\\item 0.0156262338291808\n",
       "\\item 0.0188158844772857\n",
       "\\item 0.0225883298654561\n",
       "\\item 0.0270190573781922\n",
       "\\item 0.0321791495878868\n",
       "\\item 0.0381274995259261\n",
       "\\item 0.0449001645200344\n",
       "\\item 0.0524967927017533\n",
       "\\item 0.0608646701435427\n",
       "\\item 0.0698818959665305\n",
       "\\item 0.0793424487478073\n",
       "\\item 0.0889472203234029\n",
       "\\item 0.0983059666207409\n",
       "\\item 0.106954848260147\n",
       "\\item 0.114392120228329\n",
       "\\item 0.120130372870765\n",
       "\\item 0.12375828635593\n",
       "\\item 0.125\n",
       "\\item 0.12375828635593\n",
       "\\item 0.120130372870765\n",
       "\\item 0.114392120228329\n",
       "\\item 0.106954848260147\n",
       "\\item 0.0983059666207409\n",
       "\\item 0.0889472203234028\n",
       "\\item 0.0793424487478073\n",
       "\\item 0.0698818959665305\n",
       "\\item 0.0608646701435427\n",
       "\\item 0.0524967927017533\n",
       "\\item 0.0449001645200344\n",
       "\\item 0.0381274995259261\n",
       "\\item 0.0321791495878867\n",
       "\\item 0.0270190573781921\n",
       "\\item 0.0225883298654561\n",
       "\\item 0.0188158844772857\n",
       "\\item 0.0156262338291808\n",
       "\\item 0.012944796754769\n",
       "\\item 0.0107012404591751\n",
       "\\item 0.00883135310664556\n",
       "\\item 0.0072778798403996\n",
       "\\item 0.00599066802455323\n",
       "\\item 0.00492638175325309\n",
       "\\item 0.00404797179266475\n",
       "\\item 0.00332402833539508\n",
       "\\end{enumerate*}\n"
      ],
      "text/markdown": [
       "1. 0.00332402833539508\n",
       "2. 0.00404797179266475\n",
       "3. 0.0049263817532531\n",
       "4. 0.00599066802455323\n",
       "5. 0.00727787984039961\n",
       "6. 0.00883135310664556\n",
       "7. 0.0107012404591751\n",
       "8. 0.012944796754769\n",
       "9. 0.0156262338291808\n",
       "10. 0.0188158844772857\n",
       "11. 0.0225883298654561\n",
       "12. 0.0270190573781922\n",
       "13. 0.0321791495878868\n",
       "14. 0.0381274995259261\n",
       "15. 0.0449001645200344\n",
       "16. 0.0524967927017533\n",
       "17. 0.0608646701435427\n",
       "18. 0.0698818959665305\n",
       "19. 0.0793424487478073\n",
       "20. 0.0889472203234029\n",
       "21. 0.0983059666207409\n",
       "22. 0.106954848260147\n",
       "23. 0.114392120228329\n",
       "24. 0.120130372870765\n",
       "25. 0.12375828635593\n",
       "26. 0.125\n",
       "27. 0.12375828635593\n",
       "28. 0.120130372870765\n",
       "29. 0.114392120228329\n",
       "30. 0.106954848260147\n",
       "31. 0.0983059666207409\n",
       "32. 0.0889472203234028\n",
       "33. 0.0793424487478073\n",
       "34. 0.0698818959665305\n",
       "35. 0.0608646701435427\n",
       "36. 0.0524967927017533\n",
       "37. 0.0449001645200344\n",
       "38. 0.0381274995259261\n",
       "39. 0.0321791495878867\n",
       "40. 0.0270190573781921\n",
       "41. 0.0225883298654561\n",
       "42. 0.0188158844772857\n",
       "43. 0.0156262338291808\n",
       "44. 0.012944796754769\n",
       "45. 0.0107012404591751\n",
       "46. 0.00883135310664556\n",
       "47. 0.0072778798403996\n",
       "48. 0.00599066802455323\n",
       "49. 0.00492638175325309\n",
       "50. 0.00404797179266475\n",
       "51. 0.00332402833539508\n",
       "\n",
       "\n"
      ],
      "text/plain": [
       " [1] 0.003324028 0.004047972 0.004926382 0.005990668 0.007277880 0.008831353\n",
       " [7] 0.010701240 0.012944797 0.015626234 0.018815884 0.022588330 0.027019057\n",
       "[13] 0.032179150 0.038127500 0.044900165 0.052496793 0.060864670 0.069881896\n",
       "[19] 0.079342449 0.088947220 0.098305967 0.106954848 0.114392120 0.120130373\n",
       "[25] 0.123758286 0.125000000 0.123758286 0.120130373 0.114392120 0.106954848\n",
       "[31] 0.098305967 0.088947220 0.079342449 0.069881896 0.060864670 0.052496793\n",
       "[37] 0.044900165 0.038127500 0.032179150 0.027019057 0.022588330 0.018815884\n",
       "[43] 0.015626234 0.012944797 0.010701240 0.008831353 0.007277880 0.005990668\n",
       "[49] 0.004926382 0.004047972 0.003324028"
      ]
     },
     "metadata": {},
     "output_type": "display_data"
    }
   ],
   "source": [
    "y2"
   ]
  },
  {
   "cell_type": "code",
   "execution_count": 20,
   "metadata": {},
   "outputs": [
    {
     "data": {
      "text/html": [
       "<ol class=list-inline>\n",
       "\t<li>0.0209987170807013</li>\n",
       "\t<li>0.0223025972355025</li>\n",
       "\t<li>0.0236536471557711</li>\n",
       "\t<li>0.0250485871884754</li>\n",
       "\t<li>0.0264832965082225</li>\n",
       "\t<li>0.0279527583866122</li>\n",
       "\t<li>0.0294510164918681</li>\n",
       "\t<li>0.0309711456011867</li>\n",
       "\t<li>0.0325052402413989</li>\n",
       "\t<li>0.0340444247597068</li>\n",
       "\t<li>0.0355788881293611</li>\n",
       "\t<li>0.0370979463833232</li>\n",
       "\t<li>0.0385901349187108</li>\n",
       "\t<li>0.0400433320156068</li>\n",
       "\t<li>0.0414449137723847</li>\n",
       "\t<li>0.0427819393040589</li>\n",
       "\t<li>0.044041363531794</li>\n",
       "\t<li>0.0452102732860737</li>\n",
       "\t<li>0.0462761408501415</li>\n",
       "\t<li>0.0472270875974651</li>\n",
       "\t<li>0.0480521491483058</li>\n",
       "\t<li>0.0487415326042083</li>\n",
       "\t<li>0.0492868560182389</li>\n",
       "\t<li>0.0496813603981832</li>\n",
       "\t<li>0.0499200852560289</li>\n",
       "\t<li>0.05</li>\n",
       "\t<li>0.0499200852560289</li>\n",
       "\t<li>0.0496813603981832</li>\n",
       "\t<li>0.0492868560182389</li>\n",
       "\t<li>0.0487415326042083</li>\n",
       "\t<li>0.0480521491483058</li>\n",
       "\t<li>0.0472270875974651</li>\n",
       "\t<li>0.0462761408501415</li>\n",
       "\t<li>0.0452102732860737</li>\n",
       "\t<li>0.044041363531794</li>\n",
       "\t<li>0.0427819393040589</li>\n",
       "\t<li>0.0414449137723847</li>\n",
       "\t<li>0.0400433320156068</li>\n",
       "\t<li>0.0385901349187108</li>\n",
       "\t<li>0.0370979463833232</li>\n",
       "\t<li>0.0355788881293611</li>\n",
       "\t<li>0.0340444247597067</li>\n",
       "\t<li>0.0325052402413989</li>\n",
       "\t<li>0.0309711456011867</li>\n",
       "\t<li>0.0294510164918681</li>\n",
       "\t<li>0.0279527583866122</li>\n",
       "\t<li>0.0264832965082225</li>\n",
       "\t<li>0.0250485871884754</li>\n",
       "\t<li>0.0236536471557711</li>\n",
       "\t<li>0.0223025972355025</li>\n",
       "\t<li>0.0209987170807013</li>\n",
       "</ol>\n"
      ],
      "text/latex": [
       "\\begin{enumerate*}\n",
       "\\item 0.0209987170807013\n",
       "\\item 0.0223025972355025\n",
       "\\item 0.0236536471557711\n",
       "\\item 0.0250485871884754\n",
       "\\item 0.0264832965082225\n",
       "\\item 0.0279527583866122\n",
       "\\item 0.0294510164918681\n",
       "\\item 0.0309711456011867\n",
       "\\item 0.0325052402413989\n",
       "\\item 0.0340444247597068\n",
       "\\item 0.0355788881293611\n",
       "\\item 0.0370979463833232\n",
       "\\item 0.0385901349187108\n",
       "\\item 0.0400433320156068\n",
       "\\item 0.0414449137723847\n",
       "\\item 0.0427819393040589\n",
       "\\item 0.044041363531794\n",
       "\\item 0.0452102732860737\n",
       "\\item 0.0462761408501415\n",
       "\\item 0.0472270875974651\n",
       "\\item 0.0480521491483058\n",
       "\\item 0.0487415326042083\n",
       "\\item 0.0492868560182389\n",
       "\\item 0.0496813603981832\n",
       "\\item 0.0499200852560289\n",
       "\\item 0.05\n",
       "\\item 0.0499200852560289\n",
       "\\item 0.0496813603981832\n",
       "\\item 0.0492868560182389\n",
       "\\item 0.0487415326042083\n",
       "\\item 0.0480521491483058\n",
       "\\item 0.0472270875974651\n",
       "\\item 0.0462761408501415\n",
       "\\item 0.0452102732860737\n",
       "\\item 0.044041363531794\n",
       "\\item 0.0427819393040589\n",
       "\\item 0.0414449137723847\n",
       "\\item 0.0400433320156068\n",
       "\\item 0.0385901349187108\n",
       "\\item 0.0370979463833232\n",
       "\\item 0.0355788881293611\n",
       "\\item 0.0340444247597067\n",
       "\\item 0.0325052402413989\n",
       "\\item 0.0309711456011867\n",
       "\\item 0.0294510164918681\n",
       "\\item 0.0279527583866122\n",
       "\\item 0.0264832965082225\n",
       "\\item 0.0250485871884754\n",
       "\\item 0.0236536471557711\n",
       "\\item 0.0223025972355025\n",
       "\\item 0.0209987170807013\n",
       "\\end{enumerate*}\n"
      ],
      "text/markdown": [
       "1. 0.0209987170807013\n",
       "2. 0.0223025972355025\n",
       "3. 0.0236536471557711\n",
       "4. 0.0250485871884754\n",
       "5. 0.0264832965082225\n",
       "6. 0.0279527583866122\n",
       "7. 0.0294510164918681\n",
       "8. 0.0309711456011867\n",
       "9. 0.0325052402413989\n",
       "10. 0.0340444247597068\n",
       "11. 0.0355788881293611\n",
       "12. 0.0370979463833232\n",
       "13. 0.0385901349187108\n",
       "14. 0.0400433320156068\n",
       "15. 0.0414449137723847\n",
       "16. 0.0427819393040589\n",
       "17. 0.044041363531794\n",
       "18. 0.0452102732860737\n",
       "19. 0.0462761408501415\n",
       "20. 0.0472270875974651\n",
       "21. 0.0480521491483058\n",
       "22. 0.0487415326042083\n",
       "23. 0.0492868560182389\n",
       "24. 0.0496813603981832\n",
       "25. 0.0499200852560289\n",
       "26. 0.05\n",
       "27. 0.0499200852560289\n",
       "28. 0.0496813603981832\n",
       "29. 0.0492868560182389\n",
       "30. 0.0487415326042083\n",
       "31. 0.0480521491483058\n",
       "32. 0.0472270875974651\n",
       "33. 0.0462761408501415\n",
       "34. 0.0452102732860737\n",
       "35. 0.044041363531794\n",
       "36. 0.0427819393040589\n",
       "37. 0.0414449137723847\n",
       "38. 0.0400433320156068\n",
       "39. 0.0385901349187108\n",
       "40. 0.0370979463833232\n",
       "41. 0.0355788881293611\n",
       "42. 0.0340444247597067\n",
       "43. 0.0325052402413989\n",
       "44. 0.0309711456011867\n",
       "45. 0.0294510164918681\n",
       "46. 0.0279527583866122\n",
       "47. 0.0264832965082225\n",
       "48. 0.0250485871884754\n",
       "49. 0.0236536471557711\n",
       "50. 0.0223025972355025\n",
       "51. 0.0209987170807013\n",
       "\n",
       "\n"
      ],
      "text/plain": [
       " [1] 0.02099872 0.02230260 0.02365365 0.02504859 0.02648330 0.02795276\n",
       " [7] 0.02945102 0.03097115 0.03250524 0.03404442 0.03557889 0.03709795\n",
       "[13] 0.03859013 0.04004333 0.04144491 0.04278194 0.04404136 0.04521027\n",
       "[19] 0.04627614 0.04722709 0.04805215 0.04874153 0.04928686 0.04968136\n",
       "[25] 0.04992009 0.05000000 0.04992009 0.04968136 0.04928686 0.04874153\n",
       "[31] 0.04805215 0.04722709 0.04627614 0.04521027 0.04404136 0.04278194\n",
       "[37] 0.04144491 0.04004333 0.03859013 0.03709795 0.03557889 0.03404442\n",
       "[43] 0.03250524 0.03097115 0.02945102 0.02795276 0.02648330 0.02504859\n",
       "[49] 0.02365365 0.02230260 0.02099872"
      ]
     },
     "metadata": {},
     "output_type": "display_data"
    }
   ],
   "source": [
    "y3"
   ]
  },
  {
   "cell_type": "code",
   "execution_count": 21,
   "metadata": {
    "collapsed": true
   },
   "outputs": [],
   "source": [
    "df <- data.frame(x = rep(x, 3), y = c(y1, y2, y3), class = c(rep(\"y1\", 51), rep(\"y2\", 51), rep(\"y3\", 51)))"
   ]
  },
  {
   "cell_type": "code",
   "execution_count": 22,
   "metadata": {},
   "outputs": [
    {
     "data": {
      "text/html": [
       "<table>\n",
       "<thead><tr><th scope=col>x</th><th scope=col>y</th><th scope=col>class</th></tr></thead>\n",
       "<tbody>\n",
       "\t<tr><td>-10.0       </td><td>4.539581e-05</td><td>y1          </td></tr>\n",
       "\t<tr><td> -9.6       </td><td>6.771956e-05</td><td>y1          </td></tr>\n",
       "\t<tr><td> -9.2       </td><td>1.010190e-04</td><td>y1          </td></tr>\n",
       "\t<tr><td> -8.8       </td><td>1.506876e-04</td><td>y1          </td></tr>\n",
       "\t<tr><td> -8.4       </td><td>2.247662e-04</td><td>y1          </td></tr>\n",
       "\t<tr><td> -8.0       </td><td>3.352377e-04</td><td>y1          </td></tr>\n",
       "</tbody>\n",
       "</table>\n"
      ],
      "text/latex": [
       "\\begin{tabular}{r|lll}\n",
       " x & y & class\\\\\n",
       "\\hline\n",
       "\t -10.0        & 4.539581e-05 & y1          \\\\\n",
       "\t  -9.6        & 6.771956e-05 & y1          \\\\\n",
       "\t  -9.2        & 1.010190e-04 & y1          \\\\\n",
       "\t  -8.8        & 1.506876e-04 & y1          \\\\\n",
       "\t  -8.4        & 2.247662e-04 & y1          \\\\\n",
       "\t  -8.0        & 3.352377e-04 & y1          \\\\\n",
       "\\end{tabular}\n"
      ],
      "text/markdown": [
       "\n",
       "x | y | class | \n",
       "|---|---|---|---|---|---|\n",
       "| -10.0        | 4.539581e-05 | y1           | \n",
       "|  -9.6        | 6.771956e-05 | y1           | \n",
       "|  -9.2        | 1.010190e-04 | y1           | \n",
       "|  -8.8        | 1.506876e-04 | y1           | \n",
       "|  -8.4        | 2.247662e-04 | y1           | \n",
       "|  -8.0        | 3.352377e-04 | y1           | \n",
       "\n",
       "\n"
      ],
      "text/plain": [
       "  x     y            class\n",
       "1 -10.0 4.539581e-05 y1   \n",
       "2  -9.6 6.771956e-05 y1   \n",
       "3  -9.2 1.010190e-04 y1   \n",
       "4  -8.8 1.506876e-04 y1   \n",
       "5  -8.4 2.247662e-04 y1   \n",
       "6  -8.0 3.352377e-04 y1   "
      ]
     },
     "metadata": {},
     "output_type": "display_data"
    }
   ],
   "source": [
    "head(df)"
   ]
  },
  {
   "cell_type": "code",
   "execution_count": 23,
   "metadata": {},
   "outputs": [
    {
     "data": {},
     "metadata": {},
     "output_type": "display_data"
    },
    {
     "data": {
      "image/png": "[encoded data removed]",
      "text/plain": [
       "plot without title"
      ]
     },
     "metadata": {},
     "output_type": "display_data"
    }
   ],
   "source": [
    "ggplot(df, aes(x = x, y = y, color = class)) + geom_line()"
   ]
  },
  {
   "cell_type": "markdown",
   "metadata": {},
   "source": [
    "Compare the tails of the above distributions with the same parameters to that of normal distributions. Logistic distributions have fatter tails. "
   ]
  },
  {
   "cell_type": "markdown",
   "metadata": {},
   "source": [
    "## Log Normal Distribution\n",
    "\n",
    "Many times, data do not exhibit symmetry and instead skew towards either very large positive or very large negative values. If the data is positively skewed, a common choice is the log normal distribution, which is typically characterized by 3 parameters: a shape (s or sigma), a scale (m or median), and a shift parameter ($\\theta$).\n",
    "\n",
    "* When m = 0 and ($\\theta$) = 1, you have the standard lognormal distribution. \n",
    "* When ($\\theta$) = 0, the distribution requires only scale and sigma parameters. \n",
    "\n",
    "As the sigma rises, the peak of the distribution shifts to the left and the skewness in the distribution increases. This is a distribution derived from the normal distribution. If we write U ~ $norm(mean =\\mu, sd = \\sigma), then \\quad X = e^u$ has PDF. We can write \n",
    "\n",
    "$$X \\sim lnorm(meanlog = \\mu, sdlog = \\sigma)$$\n",
    "\n",
    "The associated R function is `dlnorm(x, meanlog = 0, sdlog = 1)`."
   ]
  },
  {
   "cell_type": "code",
   "execution_count": 24,
   "metadata": {
    "collapsed": true
   },
   "outputs": [],
   "source": [
    "x <- seq(0, 10, by = 0.2)\n",
    "y1 <- dlnorm(x, meanlog = 0, sdlog = 1)\n",
    "y2 <- dlnorm(x, meanlog = 0, sdlog = 2)\n",
    "y3 <- dlnorm(x, meanlog = 0, sdlog = 5)"
   ]
  },
  {
   "cell_type": "code",
   "execution_count": 25,
   "metadata": {},
   "outputs": [
    {
     "data": {
      "text/html": [
       "<ol class=list-inline>\n",
       "\t<li>0</li>\n",
       "\t<li>0.54626787075818</li>\n",
       "\t<li>0.655444168060311</li>\n",
       "\t<li>0.583573822594504</li>\n",
       "\t<li>0.486415781111553</li>\n",
       "\t<li>0.398942280401433</li>\n",
       "\t<li>0.326972024074256</li>\n",
       "\t<li>0.269276228949933</li>\n",
       "\t<li>0.223265447430299</li>\n",
       "\t<li>0.186472448538908</li>\n",
       "\t<li>0.156874019278981</li>\n",
       "\t<li>0.132890686048187</li>\n",
       "\t<li>0.113309753889709</li>\n",
       "\t<li>0.0972032590242929</li>\n",
       "\t<li>0.0838592045694877</li>\n",
       "\t<li>0.0727282561399947</li>\n",
       "\t<li>0.0633836557708631</li>\n",
       "\t<li>0.0554914059289083</li>\n",
       "\t<li>0.0487881347091861</li>\n",
       "\t<li>0.043064618993389</li>\n",
       "\t<li>0.0381534565118865</li>\n",
       "\t<li>0.0339197833265838</li>\n",
       "\t<li>0.0302542356756332</li>\n",
       "\t<li>0.0270675751221884</li>\n",
       "\t<li>0.0242865543650144</li>\n",
       "\t<li>0.0218507148303272</li>\n",
       "\t<li>0.0197098889771076</li>\n",
       "\t<li>0.0178222393103492</li>\n",
       "\t<li>0.0161527089571978</li>\n",
       "\t<li>0.0146717899506988</li>\n",
       "\t<li>0.0133545383550539</li>\n",
       "\t<li>0.0121797823682754</li>\n",
       "\t<li>0.0111294821955474</li>\n",
       "\t<li>0.0101882099715284</li>\n",
       "\t<li>0.00934272516322699</li>\n",
       "\t<li>0.00858162631399637</li>\n",
       "\t<li>0.00789506413448608</li>\n",
       "\t<li>0.00727450413026931</li>\n",
       "\t<li>0.00671252941526519</li>\n",
       "\t<li>0.00620267627031285</li>\n",
       "\t<li>0.00573929649782519</li>\n",
       "\t<li>0.00531744179406917</li>\n",
       "\t<li>0.00493276628387182</li>\n",
       "\t<li>0.00458144409416065</li>\n",
       "\t<li>0.00426009942514203</li>\n",
       "\t<li>0.00396574704357276</li>\n",
       "\t<li>0.00369574149646783</li>\n",
       "\t<li>0.00344773364502164</li>\n",
       "\t<li>0.00321963336249662</li>\n",
       "\t<li>0.00300957743805559</li>\n",
       "\t<li>0.00281590189015268</li>\n",
       "</ol>\n"
      ],
      "text/latex": [
       "\\begin{enumerate*}\n",
       "\\item 0\n",
       "\\item 0.54626787075818\n",
       "\\item 0.655444168060311\n",
       "\\item 0.583573822594504\n",
       "\\item 0.486415781111553\n",
       "\\item 0.398942280401433\n",
       "\\item 0.326972024074256\n",
       "\\item 0.269276228949933\n",
       "\\item 0.223265447430299\n",
       "\\item 0.186472448538908\n",
       "\\item 0.156874019278981\n",
       "\\item 0.132890686048187\n",
       "\\item 0.113309753889709\n",
       "\\item 0.0972032590242929\n",
       "\\item 0.0838592045694877\n",
       "\\item 0.0727282561399947\n",
       "\\item 0.0633836557708631\n",
       "\\item 0.0554914059289083\n",
       "\\item 0.0487881347091861\n",
       "\\item 0.043064618993389\n",
       "\\item 0.0381534565118865\n",
       "\\item 0.0339197833265838\n",
       "\\item 0.0302542356756332\n",
       "\\item 0.0270675751221884\n",
       "\\item 0.0242865543650144\n",
       "\\item 0.0218507148303272\n",
       "\\item 0.0197098889771076\n",
       "\\item 0.0178222393103492\n",
       "\\item 0.0161527089571978\n",
       "\\item 0.0146717899506988\n",
       "\\item 0.0133545383550539\n",
       "\\item 0.0121797823682754\n",
       "\\item 0.0111294821955474\n",
       "\\item 0.0101882099715284\n",
       "\\item 0.00934272516322699\n",
       "\\item 0.00858162631399637\n",
       "\\item 0.00789506413448608\n",
       "\\item 0.00727450413026931\n",
       "\\item 0.00671252941526519\n",
       "\\item 0.00620267627031285\n",
       "\\item 0.00573929649782519\n",
       "\\item 0.00531744179406917\n",
       "\\item 0.00493276628387182\n",
       "\\item 0.00458144409416065\n",
       "\\item 0.00426009942514203\n",
       "\\item 0.00396574704357276\n",
       "\\item 0.00369574149646783\n",
       "\\item 0.00344773364502164\n",
       "\\item 0.00321963336249662\n",
       "\\item 0.00300957743805559\n",
       "\\item 0.00281590189015268\n",
       "\\end{enumerate*}\n"
      ],
      "text/markdown": [
       "1. 0\n",
       "2. 0.54626787075818\n",
       "3. 0.655444168060311\n",
       "4. 0.583573822594504\n",
       "5. 0.486415781111553\n",
       "6. 0.398942280401433\n",
       "7. 0.326972024074256\n",
       "8. 0.269276228949933\n",
       "9. 0.223265447430299\n",
       "10. 0.186472448538908\n",
       "11. 0.156874019278981\n",
       "12. 0.132890686048187\n",
       "13. 0.113309753889709\n",
       "14. 0.0972032590242929\n",
       "15. 0.0838592045694877\n",
       "16. 0.0727282561399947\n",
       "17. 0.0633836557708631\n",
       "18. 0.0554914059289083\n",
       "19. 0.0487881347091861\n",
       "20. 0.043064618993389\n",
       "21. 0.0381534565118865\n",
       "22. 0.0339197833265838\n",
       "23. 0.0302542356756332\n",
       "24. 0.0270675751221884\n",
       "25. 0.0242865543650144\n",
       "26. 0.0218507148303272\n",
       "27. 0.0197098889771076\n",
       "28. 0.0178222393103492\n",
       "29. 0.0161527089571978\n",
       "30. 0.0146717899506988\n",
       "31. 0.0133545383550539\n",
       "32. 0.0121797823682754\n",
       "33. 0.0111294821955474\n",
       "34. 0.0101882099715284\n",
       "35. 0.00934272516322699\n",
       "36. 0.00858162631399637\n",
       "37. 0.00789506413448608\n",
       "38. 0.00727450413026931\n",
       "39. 0.00671252941526519\n",
       "40. 0.00620267627031285\n",
       "41. 0.00573929649782519\n",
       "42. 0.00531744179406917\n",
       "43. 0.00493276628387182\n",
       "44. 0.00458144409416065\n",
       "45. 0.00426009942514203\n",
       "46. 0.00396574704357276\n",
       "47. 0.00369574149646783\n",
       "48. 0.00344773364502164\n",
       "49. 0.00321963336249662\n",
       "50. 0.00300957743805559\n",
       "51. 0.00281590189015268\n",
       "\n",
       "\n"
      ],
      "text/plain": [
       " [1] 0.000000000 0.546267871 0.655444168 0.583573823 0.486415781 0.398942280\n",
       " [7] 0.326972024 0.269276229 0.223265447 0.186472449 0.156874019 0.132890686\n",
       "[13] 0.113309754 0.097203259 0.083859205 0.072728256 0.063383656 0.055491406\n",
       "[19] 0.048788135 0.043064619 0.038153457 0.033919783 0.030254236 0.027067575\n",
       "[25] 0.024286554 0.021850715 0.019709889 0.017822239 0.016152709 0.014671790\n",
       "[31] 0.013354538 0.012179782 0.011129482 0.010188210 0.009342725 0.008581626\n",
       "[37] 0.007895064 0.007274504 0.006712529 0.006202676 0.005739296 0.005317442\n",
       "[43] 0.004932766 0.004581444 0.004260099 0.003965747 0.003695741 0.003447734\n",
       "[49] 0.003219633 0.003009577 0.002815902"
      ]
     },
     "metadata": {},
     "output_type": "display_data"
    }
   ],
   "source": [
    "y1"
   ]
  },
  {
   "cell_type": "code",
   "execution_count": 26,
   "metadata": {},
   "outputs": [
    {
     "data": {
      "text/html": [
       "<ol class=list-inline>\n",
       "\t<li>0</li>\n",
       "\t<li>0.721491919382454</li>\n",
       "\t<li>0.448994980739945</li>\n",
       "\t<li>0.321782977934394</li>\n",
       "\t<li>0.247791826891645</li>\n",
       "\t<li>0.199471140200716</li>\n",
       "\t<li>0.165536690426188</li>\n",
       "\t<li>0.140477261082155</li>\n",
       "\t<li>0.121274068054017</li>\n",
       "\t<li>0.106133342841149</li>\n",
       "\t<li>0.0939221040041928</li>\n",
       "\t<li>0.0838898038533268</li>\n",
       "\t<li>0.0755198200561329</li>\n",
       "\t<li>0.0684451609790857</li>\n",
       "\t<li>0.0623981501564204</li>\n",
       "\t<li>0.0571791119759746</li>\n",
       "\t<li>0.0526361833488768</li>\n",
       "\t<li>0.0486518991668386</li>\n",
       "\t<li>0.0451340423108636</li>\n",
       "\t<li>0.0420092577857162</li>\n",
       "\t<li>0.0392185048197453</li>\n",
       "\t<li>0.036713759042371</li>\n",
       "\t<li>0.0344555822090817</li>\n",
       "\t<li>0.0324113049951324</li>\n",
       "\t<li>0.0305536501623252</li>\n",
       "\t<li>0.0288596767752982</li>\n",
       "\t<li>0.0273099616616772</li>\n",
       "\t<li>0.025887958370728</li>\n",
       "\t<li>0.024579490450869</li>\n",
       "\t<li>0.0233723474433783</li>\n",
       "\t<li>0.0222559601921155</li>\n",
       "\t<li>0.021221137954924</li>\n",
       "\t<li>0.0202598540758885</li>\n",
       "\t<li>0.019365070114615</li>\n",
       "\t<li>0.0185305906550411</li>\n",
       "\t<li>0.0177509427579985</li>\n",
       "\t<li>0.017021275337449</li>\n",
       "\t<li>0.0163372747425848</li>\n",
       "\t<li>0.015695093597521</li>\n",
       "\t<li>0.0150912905455815</li>\n",
       "\t<li>0.0145227790088798</li>\n",
       "\t<li>0.0139867834375196</li>\n",
       "\t<li>0.0134808018096802</li>\n",
       "\t<li>0.0130025733716367</li>\n",
       "\t<li>0.0125500507886134</li>\n",
       "\t<li>0.0121213760233325</li>\n",
       "\t<li>0.0117148593768839</li>\n",
       "\t<li>0.0113289612220132</li>\n",
       "\t<li>0.010962276036694</li>\n",
       "\t<li>0.0106135184094801</li>\n",
       "\t<li>0.0102815107404125</li>\n",
       "</ol>\n"
      ],
      "text/latex": [
       "\\begin{enumerate*}\n",
       "\\item 0\n",
       "\\item 0.721491919382454\n",
       "\\item 0.448994980739945\n",
       "\\item 0.321782977934394\n",
       "\\item 0.247791826891645\n",
       "\\item 0.199471140200716\n",
       "\\item 0.165536690426188\n",
       "\\item 0.140477261082155\n",
       "\\item 0.121274068054017\n",
       "\\item 0.106133342841149\n",
       "\\item 0.0939221040041928\n",
       "\\item 0.0838898038533268\n",
       "\\item 0.0755198200561329\n",
       "\\item 0.0684451609790857\n",
       "\\item 0.0623981501564204\n",
       "\\item 0.0571791119759746\n",
       "\\item 0.0526361833488768\n",
       "\\item 0.0486518991668386\n",
       "\\item 0.0451340423108636\n",
       "\\item 0.0420092577857162\n",
       "\\item 0.0392185048197453\n",
       "\\item 0.036713759042371\n",
       "\\item 0.0344555822090817\n",
       "\\item 0.0324113049951324\n",
       "\\item 0.0305536501623252\n",
       "\\item 0.0288596767752982\n",
       "\\item 0.0273099616616772\n",
       "\\item 0.025887958370728\n",
       "\\item 0.024579490450869\n",
       "\\item 0.0233723474433783\n",
       "\\item 0.0222559601921155\n",
       "\\item 0.021221137954924\n",
       "\\item 0.0202598540758885\n",
       "\\item 0.019365070114615\n",
       "\\item 0.0185305906550411\n",
       "\\item 0.0177509427579985\n",
       "\\item 0.017021275337449\n",
       "\\item 0.0163372747425848\n",
       "\\item 0.015695093597521\n",
       "\\item 0.0150912905455815\n",
       "\\item 0.0145227790088798\n",
       "\\item 0.0139867834375196\n",
       "\\item 0.0134808018096802\n",
       "\\item 0.0130025733716367\n",
       "\\item 0.0125500507886134\n",
       "\\item 0.0121213760233325\n",
       "\\item 0.0117148593768839\n",
       "\\item 0.0113289612220132\n",
       "\\item 0.010962276036694\n",
       "\\item 0.0106135184094801\n",
       "\\item 0.0102815107404125\n",
       "\\end{enumerate*}\n"
      ],
      "text/markdown": [
       "1. 0\n",
       "2. 0.721491919382454\n",
       "3. 0.448994980739945\n",
       "4. 0.321782977934394\n",
       "5. 0.247791826891645\n",
       "6. 0.199471140200716\n",
       "7. 0.165536690426188\n",
       "8. 0.140477261082155\n",
       "9. 0.121274068054017\n",
       "10. 0.106133342841149\n",
       "11. 0.0939221040041928\n",
       "12. 0.0838898038533268\n",
       "13. 0.0755198200561329\n",
       "14. 0.0684451609790857\n",
       "15. 0.0623981501564204\n",
       "16. 0.0571791119759746\n",
       "17. 0.0526361833488768\n",
       "18. 0.0486518991668386\n",
       "19. 0.0451340423108636\n",
       "20. 0.0420092577857162\n",
       "21. 0.0392185048197453\n",
       "22. 0.036713759042371\n",
       "23. 0.0344555822090817\n",
       "24. 0.0324113049951324\n",
       "25. 0.0305536501623252\n",
       "26. 0.0288596767752982\n",
       "27. 0.0273099616616772\n",
       "28. 0.025887958370728\n",
       "29. 0.024579490450869\n",
       "30. 0.0233723474433783\n",
       "31. 0.0222559601921155\n",
       "32. 0.021221137954924\n",
       "33. 0.0202598540758885\n",
       "34. 0.019365070114615\n",
       "35. 0.0185305906550411\n",
       "36. 0.0177509427579985\n",
       "37. 0.017021275337449\n",
       "38. 0.0163372747425848\n",
       "39. 0.015695093597521\n",
       "40. 0.0150912905455815\n",
       "41. 0.0145227790088798\n",
       "42. 0.0139867834375196\n",
       "43. 0.0134808018096802\n",
       "44. 0.0130025733716367\n",
       "45. 0.0125500507886134\n",
       "46. 0.0121213760233325\n",
       "47. 0.0117148593768839\n",
       "48. 0.0113289612220132\n",
       "49. 0.010962276036694\n",
       "50. 0.0106135184094801\n",
       "51. 0.0102815107404125\n",
       "\n",
       "\n"
      ],
      "text/plain": [
       " [1] 0.00000000 0.72149192 0.44899498 0.32178298 0.24779183 0.19947114\n",
       " [7] 0.16553669 0.14047726 0.12127407 0.10613334 0.09392210 0.08388980\n",
       "[13] 0.07551982 0.06844516 0.06239815 0.05717911 0.05263618 0.04865190\n",
       "[19] 0.04513404 0.04200926 0.03921850 0.03671376 0.03445558 0.03241130\n",
       "[25] 0.03055365 0.02885968 0.02730996 0.02588796 0.02457949 0.02337235\n",
       "[31] 0.02225596 0.02122114 0.02025985 0.01936507 0.01853059 0.01775094\n",
       "[37] 0.01702128 0.01633727 0.01569509 0.01509129 0.01452278 0.01398678\n",
       "[43] 0.01348080 0.01300257 0.01255005 0.01212138 0.01171486 0.01132896\n",
       "[49] 0.01096228 0.01061352 0.01028151"
      ]
     },
     "metadata": {},
     "output_type": "display_data"
    }
   ],
   "source": [
    "y2"
   ]
  },
  {
   "cell_type": "code",
   "execution_count": 27,
   "metadata": {},
   "outputs": [
    {
     "data": {
      "text/html": [
       "<ol class=list-inline>\n",
       "\t<li>0</li>\n",
       "\t<li>0.37880097601201</li>\n",
       "\t<li>0.196149630935411</li>\n",
       "\t<li>0.132288560464716</li>\n",
       "\t<li>0.099636296786177</li>\n",
       "\t<li>0.0797884560802865</li>\n",
       "\t<li>0.066446190423636</li>\n",
       "\t<li>0.0568628555342163</li>\n",
       "\t<li>0.0496479517501866</li>\n",
       "\t<li>0.0440216828760132</li>\n",
       "\t<li>0.039512717910589</li>\n",
       "\t<li>0.0358193472281524</li>\n",
       "\t<li>0.032739463521674</li>\n",
       "\t<li>0.0301325910727261</li>\n",
       "\t<li>0.0278980583517252</li>\n",
       "\t<li>0.0259618347520896</li>\n",
       "\t<li>0.0242682673700518</li>\n",
       "\t<li>0.0227747137754918</li>\n",
       "\t<li>0.0214479518840105</li>\n",
       "\t<li>0.0202617163140483</li>\n",
       "\t<li>0.0191949693390305</li>\n",
       "\t<li>0.0182306629910149</li>\n",
       "\t<li>0.0173548369122154</li>\n",
       "\t<li>0.016555950317722</li>\n",
       "\t<li>0.0158243801380381</li>\n",
       "\t<li>0.0151520390404804</li>\n",
       "\t<li>0.0145320812068238</li>\n",
       "\t<li>0.0139586732184766</li>\n",
       "\t<li>0.0134268138427274</li>\n",
       "\t<li>0.0129321909651732</li>\n",
       "\t<li>0.0124710670351141</li>\n",
       "\t<li>0.0120401866097573</li>\n",
       "\t<li>0.0116367011804683</li>\n",
       "\t<li>0.0112581076277056</li>\n",
       "\t<li>0.0109021975078428</li>\n",
       "\t<li>0.0105670150121801</li>\n",
       "\t<li>0.0102508219168088</li>\n",
       "\t<li>0.0099520682043907</li>\n",
       "\t<li>0.00966936731575062</li>\n",
       "\t<li>0.00940147520233357</li>\n",
       "\t<li>0.00914727251591081</li>\n",
       "\t<li>0.00890574940106794</li>\n",
       "\t<li>0.00867599245755588</li>\n",
       "\t<li>0.00845717351993769</li>\n",
       "\t<li>0.00824853996592199</li>\n",
       "\t<li>0.00804940631597196</li>\n",
       "\t<li>0.00785914692798365</li>\n",
       "\t<li>0.00767718962416002</li>\n",
       "\t<li>0.00750301011430312</li>\n",
       "\t<li>0.00733612710187685</li>\n",
       "\t<li>0.0071760979773471</li>\n",
       "</ol>\n"
      ],
      "text/latex": [
       "\\begin{enumerate*}\n",
       "\\item 0\n",
       "\\item 0.37880097601201\n",
       "\\item 0.196149630935411\n",
       "\\item 0.132288560464716\n",
       "\\item 0.099636296786177\n",
       "\\item 0.0797884560802865\n",
       "\\item 0.066446190423636\n",
       "\\item 0.0568628555342163\n",
       "\\item 0.0496479517501866\n",
       "\\item 0.0440216828760132\n",
       "\\item 0.039512717910589\n",
       "\\item 0.0358193472281524\n",
       "\\item 0.032739463521674\n",
       "\\item 0.0301325910727261\n",
       "\\item 0.0278980583517252\n",
       "\\item 0.0259618347520896\n",
       "\\item 0.0242682673700518\n",
       "\\item 0.0227747137754918\n",
       "\\item 0.0214479518840105\n",
       "\\item 0.0202617163140483\n",
       "\\item 0.0191949693390305\n",
       "\\item 0.0182306629910149\n",
       "\\item 0.0173548369122154\n",
       "\\item 0.016555950317722\n",
       "\\item 0.0158243801380381\n",
       "\\item 0.0151520390404804\n",
       "\\item 0.0145320812068238\n",
       "\\item 0.0139586732184766\n",
       "\\item 0.0134268138427274\n",
       "\\item 0.0129321909651732\n",
       "\\item 0.0124710670351141\n",
       "\\item 0.0120401866097573\n",
       "\\item 0.0116367011804683\n",
       "\\item 0.0112581076277056\n",
       "\\item 0.0109021975078428\n",
       "\\item 0.0105670150121801\n",
       "\\item 0.0102508219168088\n",
       "\\item 0.0099520682043907\n",
       "\\item 0.00966936731575062\n",
       "\\item 0.00940147520233357\n",
       "\\item 0.00914727251591081\n",
       "\\item 0.00890574940106794\n",
       "\\item 0.00867599245755588\n",
       "\\item 0.00845717351993769\n",
       "\\item 0.00824853996592199\n",
       "\\item 0.00804940631597196\n",
       "\\item 0.00785914692798365\n",
       "\\item 0.00767718962416002\n",
       "\\item 0.00750301011430312\n",
       "\\item 0.00733612710187685\n",
       "\\item 0.0071760979773471\n",
       "\\end{enumerate*}\n"
      ],
      "text/markdown": [
       "1. 0\n",
       "2. 0.37880097601201\n",
       "3. 0.196149630935411\n",
       "4. 0.132288560464716\n",
       "5. 0.099636296786177\n",
       "6. 0.0797884560802865\n",
       "7. 0.066446190423636\n",
       "8. 0.0568628555342163\n",
       "9. 0.0496479517501866\n",
       "10. 0.0440216828760132\n",
       "11. 0.039512717910589\n",
       "12. 0.0358193472281524\n",
       "13. 0.032739463521674\n",
       "14. 0.0301325910727261\n",
       "15. 0.0278980583517252\n",
       "16. 0.0259618347520896\n",
       "17. 0.0242682673700518\n",
       "18. 0.0227747137754918\n",
       "19. 0.0214479518840105\n",
       "20. 0.0202617163140483\n",
       "21. 0.0191949693390305\n",
       "22. 0.0182306629910149\n",
       "23. 0.0173548369122154\n",
       "24. 0.016555950317722\n",
       "25. 0.0158243801380381\n",
       "26. 0.0151520390404804\n",
       "27. 0.0145320812068238\n",
       "28. 0.0139586732184766\n",
       "29. 0.0134268138427274\n",
       "30. 0.0129321909651732\n",
       "31. 0.0124710670351141\n",
       "32. 0.0120401866097573\n",
       "33. 0.0116367011804683\n",
       "34. 0.0112581076277056\n",
       "35. 0.0109021975078428\n",
       "36. 0.0105670150121801\n",
       "37. 0.0102508219168088\n",
       "38. 0.0099520682043907\n",
       "39. 0.00966936731575062\n",
       "40. 0.00940147520233357\n",
       "41. 0.00914727251591081\n",
       "42. 0.00890574940106794\n",
       "43. 0.00867599245755588\n",
       "44. 0.00845717351993769\n",
       "45. 0.00824853996592199\n",
       "46. 0.00804940631597196\n",
       "47. 0.00785914692798365\n",
       "48. 0.00767718962416002\n",
       "49. 0.00750301011430312\n",
       "50. 0.00733612710187685\n",
       "51. 0.0071760979773471\n",
       "\n",
       "\n"
      ],
      "text/plain": [
       " [1] 0.000000000 0.378800976 0.196149631 0.132288560 0.099636297 0.079788456\n",
       " [7] 0.066446190 0.056862856 0.049647952 0.044021683 0.039512718 0.035819347\n",
       "[13] 0.032739464 0.030132591 0.027898058 0.025961835 0.024268267 0.022774714\n",
       "[19] 0.021447952 0.020261716 0.019194969 0.018230663 0.017354837 0.016555950\n",
       "[25] 0.015824380 0.015152039 0.014532081 0.013958673 0.013426814 0.012932191\n",
       "[31] 0.012471067 0.012040187 0.011636701 0.011258108 0.010902198 0.010567015\n",
       "[37] 0.010250822 0.009952068 0.009669367 0.009401475 0.009147273 0.008905749\n",
       "[43] 0.008675992 0.008457174 0.008248540 0.008049406 0.007859147 0.007677190\n",
       "[49] 0.007503010 0.007336127 0.007176098"
      ]
     },
     "metadata": {},
     "output_type": "display_data"
    }
   ],
   "source": [
    "y3"
   ]
  },
  {
   "cell_type": "code",
   "execution_count": 28,
   "metadata": {
    "collapsed": true
   },
   "outputs": [],
   "source": [
    "df <- data.frame(x = rep(x, 3), y = c(y1, y2, y3), class = c(rep(\"y1\", 51), rep(\"y2\", 51), rep(\"y3\", 51)))"
   ]
  },
  {
   "cell_type": "code",
   "execution_count": 29,
   "metadata": {},
   "outputs": [
    {
     "data": {
      "text/html": [
       "<table>\n",
       "<thead><tr><th scope=col>x</th><th scope=col>y</th><th scope=col>class</th></tr></thead>\n",
       "<tbody>\n",
       "\t<tr><td>0.0      </td><td>0.0000000</td><td>y1       </td></tr>\n",
       "\t<tr><td>0.2      </td><td>0.5462679</td><td>y1       </td></tr>\n",
       "\t<tr><td>0.4      </td><td>0.6554442</td><td>y1       </td></tr>\n",
       "\t<tr><td>0.6      </td><td>0.5835738</td><td>y1       </td></tr>\n",
       "\t<tr><td>0.8      </td><td>0.4864158</td><td>y1       </td></tr>\n",
       "\t<tr><td>1.0      </td><td>0.3989423</td><td>y1       </td></tr>\n",
       "</tbody>\n",
       "</table>\n"
      ],
      "text/latex": [
       "\\begin{tabular}{r|lll}\n",
       " x & y & class\\\\\n",
       "\\hline\n",
       "\t 0.0       & 0.0000000 & y1       \\\\\n",
       "\t 0.2       & 0.5462679 & y1       \\\\\n",
       "\t 0.4       & 0.6554442 & y1       \\\\\n",
       "\t 0.6       & 0.5835738 & y1       \\\\\n",
       "\t 0.8       & 0.4864158 & y1       \\\\\n",
       "\t 1.0       & 0.3989423 & y1       \\\\\n",
       "\\end{tabular}\n"
      ],
      "text/markdown": [
       "\n",
       "x | y | class | \n",
       "|---|---|---|---|---|---|\n",
       "| 0.0       | 0.0000000 | y1        | \n",
       "| 0.2       | 0.5462679 | y1        | \n",
       "| 0.4       | 0.6554442 | y1        | \n",
       "| 0.6       | 0.5835738 | y1        | \n",
       "| 0.8       | 0.4864158 | y1        | \n",
       "| 1.0       | 0.3989423 | y1        | \n",
       "\n",
       "\n"
      ],
      "text/plain": [
       "  x   y         class\n",
       "1 0.0 0.0000000 y1   \n",
       "2 0.2 0.5462679 y1   \n",
       "3 0.4 0.6554442 y1   \n",
       "4 0.6 0.5835738 y1   \n",
       "5 0.8 0.4864158 y1   \n",
       "6 1.0 0.3989423 y1   "
      ]
     },
     "metadata": {},
     "output_type": "display_data"
    }
   ],
   "source": [
    "head(df)"
   ]
  },
  {
   "cell_type": "code",
   "execution_count": 30,
   "metadata": {},
   "outputs": [
    {
     "data": {},
     "metadata": {},
     "output_type": "display_data"
    },
    {
     "data": {
      "image/png": "[encoded data removed]",
      "text/plain": [
       "plot without title"
      ]
     },
     "metadata": {},
     "output_type": "display_data"
    }
   ],
   "source": [
    "ggplot(df, aes(x = x, y = y, color = class)) + geom_line()"
   ]
  },
  {
   "cell_type": "markdown",
   "metadata": {},
   "source": [
    "## Waiting time distributions\n",
    "\n",
    "In some experiments, the random variable being measured is the time until a certain event occurs. For example, a quality control specialist may be testing a manufactured product to see how long it takes until it fails. An efficiency expert may be recording the customer traffic at a retail store to streamline schedling of staff. \n",
    "\n",
    "### Exponential distribution\n",
    "\n",
    "We say that X has an exponential distribution and write X ~ exp(rate = $\\lambda$).\n",
    "\n",
    "$$f_x(x) = \\lambda e^{-\\lambda x},\\quad x > 0$$\n",
    "\n",
    "The associated R functions are `dexp(x, rate = 1)`, `pexp`, `qexp`, and `rexp`, \n",
    "which give the PDF, CDF, quantile function, and simulate random variates, respectively. \n",
    "The parameter $\\lambda$ measures the rate of arrivals and must be positive. \n",
    "The mean is $\\mu = 1/{\\lambda}$ and the variance is $\\sigma^2 = 1/{\\lambda^2}$."
   ]
  },
  {
   "cell_type": "code",
   "execution_count": 31,
   "metadata": {
    "collapsed": true
   },
   "outputs": [],
   "source": [
    "x <- seq(0, 5, by = 0.1)\n",
    "y1 <- dexp(x, rate = 1)\n",
    "y2 <- dexp(x, rate = 2)\n",
    "y3 <- dexp(x, rate = 5)"
   ]
  },
  {
   "cell_type": "code",
   "execution_count": 33,
   "metadata": {},
   "outputs": [],
   "source": [
    "df <- data.frame(x = rep(x, 3), y = c(y1, y2, y3), class = c(rep(\"y1\", 51), rep(\"y2\", 51), rep(\"y3\", 51)))"
   ]
  },
  {
   "cell_type": "code",
   "execution_count": 34,
   "metadata": {},
   "outputs": [
    {
     "data": {
      "text/html": [
       "<table>\n",
       "<thead><tr><th scope=col>x</th><th scope=col>y</th><th scope=col>class</th></tr></thead>\n",
       "<tbody>\n",
       "\t<tr><td>0.0      </td><td>1.0000000</td><td>y1       </td></tr>\n",
       "\t<tr><td>0.1      </td><td>0.9048374</td><td>y1       </td></tr>\n",
       "\t<tr><td>0.2      </td><td>0.8187308</td><td>y1       </td></tr>\n",
       "\t<tr><td>0.3      </td><td>0.7408182</td><td>y1       </td></tr>\n",
       "\t<tr><td>0.4      </td><td>0.6703200</td><td>y1       </td></tr>\n",
       "\t<tr><td>0.5      </td><td>0.6065307</td><td>y1       </td></tr>\n",
       "</tbody>\n",
       "</table>\n"
      ],
      "text/latex": [
       "\\begin{tabular}{r|lll}\n",
       " x & y & class\\\\\n",
       "\\hline\n",
       "\t 0.0       & 1.0000000 & y1       \\\\\n",
       "\t 0.1       & 0.9048374 & y1       \\\\\n",
       "\t 0.2       & 0.8187308 & y1       \\\\\n",
       "\t 0.3       & 0.7408182 & y1       \\\\\n",
       "\t 0.4       & 0.6703200 & y1       \\\\\n",
       "\t 0.5       & 0.6065307 & y1       \\\\\n",
       "\\end{tabular}\n"
      ],
      "text/markdown": [
       "\n",
       "x | y | class | \n",
       "|---|---|---|---|---|---|\n",
       "| 0.0       | 1.0000000 | y1        | \n",
       "| 0.1       | 0.9048374 | y1        | \n",
       "| 0.2       | 0.8187308 | y1        | \n",
       "| 0.3       | 0.7408182 | y1        | \n",
       "| 0.4       | 0.6703200 | y1        | \n",
       "| 0.5       | 0.6065307 | y1        | \n",
       "\n",
       "\n"
      ],
      "text/plain": [
       "  x   y         class\n",
       "1 0.0 1.0000000 y1   \n",
       "2 0.1 0.9048374 y1   \n",
       "3 0.2 0.8187308 y1   \n",
       "4 0.3 0.7408182 y1   \n",
       "5 0.4 0.6703200 y1   \n",
       "6 0.5 0.6065307 y1   "
      ]
     },
     "metadata": {},
     "output_type": "display_data"
    }
   ],
   "source": [
    "head(df)"
   ]
  },
  {
   "cell_type": "code",
   "execution_count": 35,
   "metadata": {},
   "outputs": [
    {
     "data": {},
     "metadata": {},
     "output_type": "display_data"
    },
    {
     "data": {
      "image/png": "[encoded data removed]",
      "text/plain": [
       "plot without title"
      ]
     },
     "metadata": {},
     "output_type": "display_data"
    }
   ],
   "source": [
    "ggplot(df, aes(x = x, y = y, color = class)) + geom_line()"
   ]
  },
  {
   "cell_type": "markdown",
   "metadata": {},
   "source": [
    "## Gamma distribution\n",
    "\n",
    "This is a generalization of the exponential distribution. We say that X has a gamma distribution and write X ~ gamma(shape = $\\alpha$; rate = $\\lambda$). \n",
    "\n",
    "The associated R functions are `dgamma(x, shape, rate = 1)`, `pgamma`, `qgamma`, and `rgamma`, \n",
    "which give the PDF, CDF, quantile function, and simulate random variates, respectively. \n",
    "If $\\alpha$ = 1 then X ~ exp(rate = $\\lambda$). \n",
    "The mean is $\\mu = \\alpha / \\lambda$ and the variance is $\\sigma^2 = \\alpha / \\lambda^2$.\n",
    "\n",
    "Gamma distribution: \n",
    "if X measures the length of time until the first event occurs in a Poisson process with rate $\\lambda$ then X ~ exp(rate = $\\lambda$). \n",
    "If we let Y measure the length of time until the $\\alpha^{th}$ event occurs then \n",
    "\n",
    "$$Y \\sim gamma(shape = \\alpha, rate = \\lambda)$$"
   ]
  },
  {
   "cell_type": "markdown",
   "metadata": {},
   "source": [
    "#### Example:\n",
    "\n",
    "At a car wash, two customers arrive per hour on the average. We decide to measure how long it takes until the third customer arrives. \n",
    "\n",
    "If Y denotes this random time then Y ~ gamma(shape = 3, rate = 1 = 2)"
   ]
  },
  {
   "cell_type": "code",
   "execution_count": 36,
   "metadata": {
    "collapsed": true
   },
   "outputs": [],
   "source": [
    "x <- seq(0, 5, by = 0.1)\n",
    "y1 <- dgamma(x, shape = 2, rate = 1)\n",
    "y2 <- dgamma(x, shape = 2, rate = 2)\n",
    "y3 <- dgamma(x, shape = 5, rate = 3)"
   ]
  },
  {
   "cell_type": "code",
   "execution_count": 37,
   "metadata": {
    "collapsed": true
   },
   "outputs": [],
   "source": [
    "df <- data.frame(x = rep(x, 3), y = c(y1, y2, y3), class = c(rep(\"y1\", 51), rep(\"y2\", 51), rep(\"y3\", 51)))"
   ]
  },
  {
   "cell_type": "code",
   "execution_count": 38,
   "metadata": {},
   "outputs": [
    {
     "data": {
      "text/html": [
       "<table>\n",
       "<thead><tr><th scope=col>x</th><th scope=col>y</th><th scope=col>class</th></tr></thead>\n",
       "<tbody>\n",
       "\t<tr><td>0.0       </td><td>0.00000000</td><td>y1        </td></tr>\n",
       "\t<tr><td>0.1       </td><td>0.09048374</td><td>y1        </td></tr>\n",
       "\t<tr><td>0.2       </td><td>0.16374615</td><td>y1        </td></tr>\n",
       "\t<tr><td>0.3       </td><td>0.22224547</td><td>y1        </td></tr>\n",
       "\t<tr><td>0.4       </td><td>0.26812802</td><td>y1        </td></tr>\n",
       "\t<tr><td>0.5       </td><td>0.30326533</td><td>y1        </td></tr>\n",
       "</tbody>\n",
       "</table>\n"
      ],
      "text/latex": [
       "\\begin{tabular}{r|lll}\n",
       " x & y & class\\\\\n",
       "\\hline\n",
       "\t 0.0        & 0.00000000 & y1        \\\\\n",
       "\t 0.1        & 0.09048374 & y1        \\\\\n",
       "\t 0.2        & 0.16374615 & y1        \\\\\n",
       "\t 0.3        & 0.22224547 & y1        \\\\\n",
       "\t 0.4        & 0.26812802 & y1        \\\\\n",
       "\t 0.5        & 0.30326533 & y1        \\\\\n",
       "\\end{tabular}\n"
      ],
      "text/markdown": [
       "\n",
       "x | y | class | \n",
       "|---|---|---|---|---|---|\n",
       "| 0.0        | 0.00000000 | y1         | \n",
       "| 0.1        | 0.09048374 | y1         | \n",
       "| 0.2        | 0.16374615 | y1         | \n",
       "| 0.3        | 0.22224547 | y1         | \n",
       "| 0.4        | 0.26812802 | y1         | \n",
       "| 0.5        | 0.30326533 | y1         | \n",
       "\n",
       "\n"
      ],
      "text/plain": [
       "  x   y          class\n",
       "1 0.0 0.00000000 y1   \n",
       "2 0.1 0.09048374 y1   \n",
       "3 0.2 0.16374615 y1   \n",
       "4 0.3 0.22224547 y1   \n",
       "5 0.4 0.26812802 y1   \n",
       "6 0.5 0.30326533 y1   "
      ]
     },
     "metadata": {},
     "output_type": "display_data"
    }
   ],
   "source": [
    "head(df)"
   ]
  },
  {
   "cell_type": "code",
   "execution_count": 39,
   "metadata": {},
   "outputs": [
    {
     "data": {},
     "metadata": {},
     "output_type": "display_data"
    },
    {
     "data": {
      "image/png": "[encoded data removed]",
      "text/plain": [
       "plot without title"
      ]
     },
     "metadata": {},
     "output_type": "display_data"
    }
   ],
   "source": [
    "ggplot(df, aes(x = x, y = y, color = class)) + geom_line()"
   ]
  },
  {
   "cell_type": "markdown",
   "metadata": {},
   "source": [
    "## Upper and lower limits on data values\n",
    "\n",
    "There are often natural limits on the values that data can take on. For example, the revenues and the market value of a firm cannot be negative and the profit margin cannot exceed 100%. Using a distribution that does not contrain the values to these limits can create problems. For instance, using a normal distribution to describe profit margins can sometimes result in profit margins that exceed 100% since the distribution has no limits on either the downside or the upside. \n",
    "\n",
    "When the data is constrained, the questions that needs to be answered are whether the constraints apply on one side of the distribution or both and if so, what the limits on the values are. Once these questions have been answered, there are 2 choices. One is to find a continuous distribution that conforms to these constraints. \n",
    "\n",
    "For instance, the log normal distribution can be used to model data, such as revenue or stock prices that are constrained to be never less than zero. \n",
    "\n",
    "For data that have both upper and lower limits, you can use the uniform distribution if the probabilities of the outcomes are even across outcomes or a triangular distribution (if the data is clustered around a central value).\n",
    "\n"
   ]
  },
  {
   "cell_type": "markdown",
   "metadata": {},
   "source": [
    "## How likely are you to see extreme values of data...relative to the middle values?\n",
    "\n",
    "A key consideration in what distribution to use to describe the data is the likelihood of extreme values for the data, relative to the middle value. In the case of the normal distribution, this likelihood is small and it increases as you move to the logistic distributions. While it may be often more realistic to use the latter to describe real world data, the benefits of a better distribution fit have to be weighed against the ease with which parameters can be estimated from the normal distribution. Consequently, it may make sense to stay with the normal distribution for symmetric data, unless the likelihood of extreme values increases above a threshold. \n",
    "\n",
    "The same considerations apply for skewed distributions, though the concern will generally be more acute for the skewed side of the distribution. In other words, with positively skewed distributions, the question of which distribution to use will depend upon how much more likely large positive values are than large negative values, with the fit ranging from the log normal to the exponential. \n",
    "\n",
    "In summary, the question of which distribution best fits data cannot be answered without looking at whether the data is discrete or continuous, symmetric or asymmetric, and where the outliers lie. "
   ]
  },
  {
   "cell_type": "markdown",
   "metadata": {},
   "source": [
    "### There are 3 types of measures to understand a distribution\n",
    "* Measures of central tendency\n",
    "* Measures of dispersion\n",
    "* Measures to describe the shape of curve"
   ]
  },
  {
   "cell_type": "markdown",
   "metadata": {},
   "source": [
    "#### Measures of central tendency:\n",
    "\n",
    "Mean, median, and mode are measures of central tendency. They help you describe a population through a single metric. For example, if you want to compare the average salary of a professor with other professions, you will compare their mean salaries. Of all 3, the mean is the one which is most affect by outliers, followed by the median, and the mode"
   ]
  },
  {
   "cell_type": "markdown",
   "metadata": {},
   "source": [
    "#### Measures of dispersion:\n",
    "\n",
    "Range, quartiles, interquartile range, variance, and standard deviations are measures of dispersion. They tell us how is the population distributed around the measures of central tendency."
   ]
  },
  {
   "cell_type": "markdown",
   "metadata": {},
   "source": [
    "#### Measures to describe the shape of distribution:\n",
    "\n",
    "* Skewness is used to measure the assymmetries of a distribution. Negatively skewed distribution has a long tail and vice-versa. \n",
    "* Kurtosis is used to measure the height of the \"peak\" of the curve. Distributions with higher peaks have positie kurtosis and vice-versa\n",
    "\n",
    "https://www.analyticsvidhya.com/blog/2014/07/statistics/"
   ]
  },
  {
   "cell_type": "code",
   "execution_count": 42,
   "metadata": {},
   "outputs": [
    {
     "data": {
      "text/html": [
       "<table>\n",
       "<thead><tr><th scope=col>bia.di</th><th scope=col>bii.di</th><th scope=col>bit.di</th><th scope=col>che.de</th><th scope=col>che.di</th><th scope=col>elb.di</th><th scope=col>wri.di</th><th scope=col>kne.di</th><th scope=col>ank.di</th><th scope=col>sho.gi</th><th scope=col>...</th><th scope=col>bic.gi</th><th scope=col>for.gi</th><th scope=col>kne.gi</th><th scope=col>cal.gi</th><th scope=col>ank.gi</th><th scope=col>wri.gi</th><th scope=col>age</th><th scope=col>wgt</th><th scope=col>hgt</th><th scope=col>sex</th></tr></thead>\n",
       "<tbody>\n",
       "\t<tr><td>42.9 </td><td>26.0 </td><td>31.5 </td><td>17.7 </td><td>28.0 </td><td>13.1 </td><td>10.4 </td><td>18.8 </td><td>14.1 </td><td>106.2</td><td>...  </td><td>32.5 </td><td>26.0 </td><td>34.5 </td><td>36.5 </td><td>23.5 </td><td>16.5 </td><td>21   </td><td>65.6 </td><td>174.0</td><td>1    </td></tr>\n",
       "\t<tr><td>43.7 </td><td>28.5 </td><td>33.5 </td><td>16.9 </td><td>30.8 </td><td>14.0 </td><td>11.8 </td><td>20.6 </td><td>15.1 </td><td>110.5</td><td>...  </td><td>34.4 </td><td>28.0 </td><td>36.5 </td><td>37.5 </td><td>24.5 </td><td>17.0 </td><td>23   </td><td>71.8 </td><td>175.3</td><td>1    </td></tr>\n",
       "\t<tr><td>40.1 </td><td>28.2 </td><td>33.3 </td><td>20.9 </td><td>31.7 </td><td>13.9 </td><td>10.9 </td><td>19.7 </td><td>14.1 </td><td>115.1</td><td>...  </td><td>33.4 </td><td>28.8 </td><td>37.0 </td><td>37.3 </td><td>21.9 </td><td>16.9 </td><td>28   </td><td>80.7 </td><td>193.5</td><td>1    </td></tr>\n",
       "\t<tr><td>44.3 </td><td>29.9 </td><td>34.0 </td><td>18.4 </td><td>28.2 </td><td>13.9 </td><td>11.2 </td><td>20.9 </td><td>15.0 </td><td>104.5</td><td>...  </td><td>31.0 </td><td>26.2 </td><td>37.0 </td><td>34.8 </td><td>23.0 </td><td>16.6 </td><td>23   </td><td>72.6 </td><td>186.5</td><td>1    </td></tr>\n",
       "\t<tr><td>42.5 </td><td>29.9 </td><td>34.0 </td><td>21.5 </td><td>29.4 </td><td>15.2 </td><td>11.6 </td><td>20.7 </td><td>14.9 </td><td>107.5</td><td>...  </td><td>32.0 </td><td>28.4 </td><td>37.7 </td><td>38.6 </td><td>24.4 </td><td>18.0 </td><td>22   </td><td>78.8 </td><td>187.2</td><td>1    </td></tr>\n",
       "\t<tr><td>43.3 </td><td>27.0 </td><td>31.5 </td><td>19.6 </td><td>31.3 </td><td>14.0 </td><td>11.5 </td><td>18.8 </td><td>13.9 </td><td>119.8</td><td>...  </td><td>33.0 </td><td>28.0 </td><td>36.6 </td><td>36.1 </td><td>23.5 </td><td>16.9 </td><td>21   </td><td>74.8 </td><td>181.5</td><td>1    </td></tr>\n",
       "</tbody>\n",
       "</table>\n"
      ],
      "text/latex": [
       "\\begin{tabular}{r|lllllllllllllllllllllllll}\n",
       " bia.di & bii.di & bit.di & che.de & che.di & elb.di & wri.di & kne.di & ank.di & sho.gi & ... & bic.gi & for.gi & kne.gi & cal.gi & ank.gi & wri.gi & age & wgt & hgt & sex\\\\\n",
       "\\hline\n",
       "\t 42.9  & 26.0  & 31.5  & 17.7  & 28.0  & 13.1  & 10.4  & 18.8  & 14.1  & 106.2 & ...   & 32.5  & 26.0  & 34.5  & 36.5  & 23.5  & 16.5  & 21    & 65.6  & 174.0 & 1    \\\\\n",
       "\t 43.7  & 28.5  & 33.5  & 16.9  & 30.8  & 14.0  & 11.8  & 20.6  & 15.1  & 110.5 & ...   & 34.4  & 28.0  & 36.5  & 37.5  & 24.5  & 17.0  & 23    & 71.8  & 175.3 & 1    \\\\\n",
       "\t 40.1  & 28.2  & 33.3  & 20.9  & 31.7  & 13.9  & 10.9  & 19.7  & 14.1  & 115.1 & ...   & 33.4  & 28.8  & 37.0  & 37.3  & 21.9  & 16.9  & 28    & 80.7  & 193.5 & 1    \\\\\n",
       "\t 44.3  & 29.9  & 34.0  & 18.4  & 28.2  & 13.9  & 11.2  & 20.9  & 15.0  & 104.5 & ...   & 31.0  & 26.2  & 37.0  & 34.8  & 23.0  & 16.6  & 23    & 72.6  & 186.5 & 1    \\\\\n",
       "\t 42.5  & 29.9  & 34.0  & 21.5  & 29.4  & 15.2  & 11.6  & 20.7  & 14.9  & 107.5 & ...   & 32.0  & 28.4  & 37.7  & 38.6  & 24.4  & 18.0  & 22    & 78.8  & 187.2 & 1    \\\\\n",
       "\t 43.3  & 27.0  & 31.5  & 19.6  & 31.3  & 14.0  & 11.5  & 18.8  & 13.9  & 119.8 & ...   & 33.0  & 28.0  & 36.6  & 36.1  & 23.5  & 16.9  & 21    & 74.8  & 181.5 & 1    \\\\\n",
       "\\end{tabular}\n"
      ],
      "text/markdown": [
       "\n",
       "bia.di | bii.di | bit.di | che.de | che.di | elb.di | wri.di | kne.di | ank.di | sho.gi | ... | bic.gi | for.gi | kne.gi | cal.gi | ank.gi | wri.gi | age | wgt | hgt | sex | \n",
       "|---|---|---|---|---|---|\n",
       "| 42.9  | 26.0  | 31.5  | 17.7  | 28.0  | 13.1  | 10.4  | 18.8  | 14.1  | 106.2 | ...   | 32.5  | 26.0  | 34.5  | 36.5  | 23.5  | 16.5  | 21    | 65.6  | 174.0 | 1     | \n",
       "| 43.7  | 28.5  | 33.5  | 16.9  | 30.8  | 14.0  | 11.8  | 20.6  | 15.1  | 110.5 | ...   | 34.4  | 28.0  | 36.5  | 37.5  | 24.5  | 17.0  | 23    | 71.8  | 175.3 | 1     | \n",
       "| 40.1  | 28.2  | 33.3  | 20.9  | 31.7  | 13.9  | 10.9  | 19.7  | 14.1  | 115.1 | ...   | 33.4  | 28.8  | 37.0  | 37.3  | 21.9  | 16.9  | 28    | 80.7  | 193.5 | 1     | \n",
       "| 44.3  | 29.9  | 34.0  | 18.4  | 28.2  | 13.9  | 11.2  | 20.9  | 15.0  | 104.5 | ...   | 31.0  | 26.2  | 37.0  | 34.8  | 23.0  | 16.6  | 23    | 72.6  | 186.5 | 1     | \n",
       "| 42.5  | 29.9  | 34.0  | 21.5  | 29.4  | 15.2  | 11.6  | 20.7  | 14.9  | 107.5 | ...   | 32.0  | 28.4  | 37.7  | 38.6  | 24.4  | 18.0  | 22    | 78.8  | 187.2 | 1     | \n",
       "| 43.3  | 27.0  | 31.5  | 19.6  | 31.3  | 14.0  | 11.5  | 18.8  | 13.9  | 119.8 | ...   | 33.0  | 28.0  | 36.6  | 36.1  | 23.5  | 16.9  | 21    | 74.8  | 181.5 | 1     | \n",
       "\n",
       "\n"
      ],
      "text/plain": [
       "  bia.di bii.di bit.di che.de che.di elb.di wri.di kne.di ank.di sho.gi ...\n",
       "1 42.9   26.0   31.5   17.7   28.0   13.1   10.4   18.8   14.1   106.2  ...\n",
       "2 43.7   28.5   33.5   16.9   30.8   14.0   11.8   20.6   15.1   110.5  ...\n",
       "3 40.1   28.2   33.3   20.9   31.7   13.9   10.9   19.7   14.1   115.1  ...\n",
       "4 44.3   29.9   34.0   18.4   28.2   13.9   11.2   20.9   15.0   104.5  ...\n",
       "5 42.5   29.9   34.0   21.5   29.4   15.2   11.6   20.7   14.9   107.5  ...\n",
       "6 43.3   27.0   31.5   19.6   31.3   14.0   11.5   18.8   13.9   119.8  ...\n",
       "  bic.gi for.gi kne.gi cal.gi ank.gi wri.gi age wgt  hgt   sex\n",
       "1 32.5   26.0   34.5   36.5   23.5   16.5   21  65.6 174.0 1  \n",
       "2 34.4   28.0   36.5   37.5   24.5   17.0   23  71.8 175.3 1  \n",
       "3 33.4   28.8   37.0   37.3   21.9   16.9   28  80.7 193.5 1  \n",
       "4 31.0   26.2   37.0   34.8   23.0   16.6   23  72.6 186.5 1  \n",
       "5 32.0   28.4   37.7   38.6   24.4   18.0   22  78.8 187.2 1  \n",
       "6 33.0   28.0   36.6   36.1   23.5   16.9   21  74.8 181.5 1  "
      ]
     },
     "metadata": {},
     "output_type": "display_data"
    }
   ],
   "source": [
    "download.file(\"http://www.openintro.org/stat/data/bdims.RData\", destfile = \"bdims.RData\")\n",
    "load(\"bdims.RData\")\n",
    "head(bdims)\n",
    "\n",
    "# body dimensions dataset"
   ]
  },
  {
   "cell_type": "markdown",
   "metadata": {},
   "source": [
    "When describing the data, we can plot a normal distribution curve on top of a histogram to see how closely the data follows a normal distribution. We will work with women's heights to illustrate this. "
   ]
  },
  {
   "cell_type": "code",
   "execution_count": 43,
   "metadata": {
    "collapsed": true
   },
   "outputs": [],
   "source": [
    "male <- subset(bdims, sex == 1)\n",
    "female <- subset(bdims, sex == 0)"
   ]
  },
  {
   "cell_type": "code",
   "execution_count": 44,
   "metadata": {
    "collapsed": true
   },
   "outputs": [],
   "source": [
    "female_hgt_mean <- mean(female$hgt)\n",
    "female_hgt_sd <- sd(female$hght)"
   ]
  },
  {
   "cell_type": "code",
   "execution_count": 45,
   "metadata": {},
   "outputs": [
    {
     "data": {
      "text/plain": [
       "   Min. 1st Qu.  Median    Mean 3rd Qu.    Max. \n",
       "  147.2   160.0   164.5   164.9   169.5   182.9 "
      ]
     },
     "metadata": {},
     "output_type": "display_data"
    }
   ],
   "source": [
    "summary(female$hgt)"
   ]
  },
  {
   "cell_type": "markdown",
   "metadata": {},
   "source": [
    "We will use a density histogram as a backdrop and use the lines function to overlay a normal probability curve. The difference between a frequency histograme and a density histogram is that while in a frequency histogram, the heights of the bars add up to the total number of observations, in a density histogram the areas of the bars add up to 1.\n",
    "\n",
    "Using a density histogram allows us to properly overlay a normal distribution curver over the histogram since the curve is a normal probability density function. Frequency and density histograms both display the same exact shape; they only differ in their y-axis. "
   ]
  },
  {
   "cell_type": "code",
   "execution_count": 52,
   "metadata": {},
   "outputs": [
    {
     "data": {
      "image/png": "[encoded data removed]",
      "text/plain": [
       "Plot with title \"Female Height Distribution\""
      ]
     },
     "metadata": {},
     "output_type": "display_data"
    }
   ],
   "source": [
    "hist(female$hgt, probability = TRUE, main = \"Female Height Distribution\", xlab = \"Female Height in cm\", ylab = \"density\")\n",
    "x <- 140:190\n",
    "y <- dnorm(x = x, mean = female_hgt_mean, sd = female_hgt_sd)\n",
    "lines(x = x, y = y, col = \"blue\")"
   ]
  },
  {
   "cell_type": "markdown",
   "metadata": {},
   "source": [
    "The first command plots the density histogram. We then create the x and y coordinates for the normal curve. x range is chosen as 140 to 190 to cover the minimum height (147.2) and the maximum height (182.9). To create y, we use dnorm to calculate the density of each of those x-values in a distribution that is normal with mean female_hgt_mean and the standard deviation female_hgt_sd. The last command draws a density curve on the existing histogram by connecting x with the corresponding values of yh. "
   ]
  },
  {
   "cell_type": "code",
   "execution_count": 53,
   "metadata": {},
   "outputs": [
    {
     "data": {
      "image/png": "[encoded data removed]",
      "text/plain": [
       "Plot with title \"female height distribution\""
      ]
     },
     "metadata": {},
     "output_type": "display_data"
    }
   ],
   "source": [
    "hist(female$hgt, probability = TRUE,main=\"female height distribution\",xlab=\"female height in cm\",ylab=\"density\",ylim = c(0, 0.06))\n",
    "x <- 140:190\n",
    "y <- dnorm(x = x, mean = female_hgt_mean, sd = female_hgt_sd)\n",
    "lines(x = x, y = y, col = \"blue\")"
   ]
  },
  {
   "cell_type": "code",
   "execution_count": null,
   "metadata": {
    "collapsed": true
   },
   "outputs": [],
   "source": []
  }
 ],
 "metadata": {
  "kernelspec": {
   "display_name": "R",
   "language": "R",
   "name": "ir"
  },
  "language_info": {
   "codemirror_mode": "r",
   "file_extension": ".r",
   "mimetype": "text/x-r-source",
   "name": "R",
   "pygments_lexer": "r",
   "version": "3.4.1"
  }
 },
 "nbformat": 4,
 "nbformat_minor": 2
}
