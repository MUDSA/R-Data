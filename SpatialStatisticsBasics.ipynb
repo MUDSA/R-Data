{
 "cells": [
  {
   "cell_type": "markdown",
   "metadata": {},
   "source": [
    "Let's generate 200 uniformly random datapoints in a rectangle. "
   ]
  },
  {
   "cell_type": "code",
   "execution_count": 20,
   "metadata": {},
   "outputs": [
    {
     "name": "stderr",
     "output_type": "stream",
     "text": [
      "Loading required package: nlme\n",
      "\n",
      "Attaching package: 'nlme'\n",
      "\n",
      "The following object is masked from 'package:dplyr':\n",
      "\n",
      "    collapse\n",
      "\n",
      "Loading required package: rpart\n",
      "\n",
      "spatstat 1.52-1       (nickname: 'Apophenia') \n",
      "For an introduction to spatstat, type 'beginner' \n",
      "\n"
     ]
    }
   ],
   "source": [
    "library(spatstat)\n",
    "library(dplyr)"
   ]
  },
  {
   "cell_type": "code",
   "execution_count": 1,
   "metadata": {
    "collapsed": true
   },
   "outputs": [],
   "source": [
    "n <- 200 \n",
    "# number of points"
   ]
  },
  {
   "cell_type": "code",
   "execution_count": 3,
   "metadata": {},
   "outputs": [],
   "source": [
    "# let's set the range\n",
    "xmin <- 0\n",
    "xmax <- 1\n",
    "\n",
    "ymin <- 0\n",
    "ymax <- 2"
   ]
  },
  {
   "cell_type": "code",
   "execution_count": 4,
   "metadata": {
    "collapsed": true
   },
   "outputs": [],
   "source": [
    "# create a uniform sample distribution\n",
    "x <- runif(n, 0, 1)\n",
    "y <- runif(n, 0, 2)"
   ]
  },
  {
   "cell_type": "code",
   "execution_count": 9,
   "metadata": {},
   "outputs": [
    {
     "data": {
      "text/html": [
       "<ol class=list-inline>\n",
       "\t<li>0.971130392979831</li>\n",
       "\t<li>0.89563384372741</li>\n",
       "\t<li>0.960901365382597</li>\n",
       "\t<li>0.869098431663588</li>\n",
       "\t<li>0.589985084952787</li>\n",
       "\t<li>0.150598306208849</li>\n",
       "</ol>\n"
      ],
      "text/latex": [
       "\\begin{enumerate*}\n",
       "\\item 0.971130392979831\n",
       "\\item 0.89563384372741\n",
       "\\item 0.960901365382597\n",
       "\\item 0.869098431663588\n",
       "\\item 0.589985084952787\n",
       "\\item 0.150598306208849\n",
       "\\end{enumerate*}\n"
      ],
      "text/markdown": [
       "1. 0.971130392979831\n",
       "2. 0.89563384372741\n",
       "3. 0.960901365382597\n",
       "4. 0.869098431663588\n",
       "5. 0.589985084952787\n",
       "6. 0.150598306208849\n",
       "\n",
       "\n"
      ],
      "text/plain": [
       "[1] 0.9711304 0.8956338 0.9609014 0.8690984 0.5899851 0.1505983"
      ]
     },
     "metadata": {},
     "output_type": "display_data"
    }
   ],
   "source": [
    "head(x)"
   ]
  },
  {
   "cell_type": "code",
   "execution_count": 10,
   "metadata": {},
   "outputs": [
    {
     "data": {
      "text/html": [
       "<ol class=list-inline>\n",
       "\t<li>1.21268616290763</li>\n",
       "\t<li>1.68308529816568</li>\n",
       "\t<li>0.17239578301087</li>\n",
       "\t<li>0.0693159159272909</li>\n",
       "\t<li>0.114315013866872</li>\n",
       "\t<li>0.930814030580223</li>\n",
       "</ol>\n"
      ],
      "text/latex": [
       "\\begin{enumerate*}\n",
       "\\item 1.21268616290763\n",
       "\\item 1.68308529816568\n",
       "\\item 0.17239578301087\n",
       "\\item 0.0693159159272909\n",
       "\\item 0.114315013866872\n",
       "\\item 0.930814030580223\n",
       "\\end{enumerate*}\n"
      ],
      "text/markdown": [
       "1. 1.21268616290763\n",
       "2. 1.68308529816568\n",
       "3. 0.17239578301087\n",
       "4. 0.0693159159272909\n",
       "5. 0.114315013866872\n",
       "6. 0.930814030580223\n",
       "\n",
       "\n"
      ],
      "text/plain": [
       "[1] 1.21268616 1.68308530 0.17239578 0.06931592 0.11431501 0.93081403"
      ]
     },
     "metadata": {},
     "output_type": "display_data"
    }
   ],
   "source": [
    "head(y)"
   ]
  },
  {
   "cell_type": "markdown",
   "metadata": {},
   "source": [
    "When plotting spatial data, make sure the one X unit is the same size as one Y unit. We don't want any misrepresentation. The Y axis scale to X axis scale is called the aspect ratio. Spatial data should be represented with an aspect ratio of 1:1. "
   ]
  },
  {
   "cell_type": "code",
   "execution_count": 12,
   "metadata": {},
   "outputs": [
    {
     "data": {
      "text/plain": [
       "n :  num 200\n",
       "x :  num [1:200] 0.971 0.896 0.961 0.869 0.59 ...\n",
       "xmax :  num 1\n",
       "xmin :  num 0\n",
       "y :  num [1:200] 1.2127 1.6831 0.1724 0.0693 0.1143 ...\n",
       "ymax :  num 2\n",
       "ymin :  num 0"
      ]
     },
     "metadata": {},
     "output_type": "display_data"
    }
   ],
   "source": [
    "ls.str() # show me previously assigned variables. "
   ]
  },
  {
   "cell_type": "code",
   "execution_count": 13,
   "metadata": {
    "collapsed": true
   },
   "outputs": [],
   "source": [
    "mapxy <- function(a = NA){\n",
    "    plot(x, y, asp = a)\n",
    "    rect(xmin, ymin, xmax, ymax)\n",
    "}"
   ]
  },
  {
   "cell_type": "code",
   "execution_count": 14,
   "metadata": {},
   "outputs": [
    {
     "data": {
      "image/png": "[encoded data removed]",
      "text/plain": [
       "plot without title"
      ]
     },
     "metadata": {},
     "output_type": "display_data"
    }
   ],
   "source": [
    "mapxy(1) # aspect ratio = 1"
   ]
  },
  {
   "cell_type": "markdown",
   "metadata": {},
   "source": [
    "Now let's create a uniform density pattern inside a circle. The spatstat libary contains the disc() function that creates a circular window for you"
   ]
  },
  {
   "cell_type": "code",
   "execution_count": 22,
   "metadata": {
    "collapsed": true
   },
   "outputs": [],
   "source": [
    "n_points <- 300\n",
    "radius <- 10"
   ]
  },
  {
   "cell_type": "code",
   "execution_count": 24,
   "metadata": {
    "collapsed": true
   },
   "outputs": [],
   "source": [
    "rSquared <- runif(n_points, 0, radius^2)"
   ]
  },
  {
   "cell_type": "code",
   "execution_count": 26,
   "metadata": {},
   "outputs": [
    {
     "data": {
      "text/html": [
       "<ol class=list-inline>\n",
       "\t<li>33.0153444083408</li>\n",
       "\t<li>50.1021551899612</li>\n",
       "\t<li>13.8689688406885</li>\n",
       "\t<li>2.68518298398703</li>\n",
       "\t<li>75.8541163057089</li>\n",
       "\t<li>71.1813677335158</li>\n",
       "</ol>\n"
      ],
      "text/latex": [
       "\\begin{enumerate*}\n",
       "\\item 33.0153444083408\n",
       "\\item 50.1021551899612\n",
       "\\item 13.8689688406885\n",
       "\\item 2.68518298398703\n",
       "\\item 75.8541163057089\n",
       "\\item 71.1813677335158\n",
       "\\end{enumerate*}\n"
      ],
      "text/markdown": [
       "1. 33.0153444083408\n",
       "2. 50.1021551899612\n",
       "3. 13.8689688406885\n",
       "4. 2.68518298398703\n",
       "5. 75.8541163057089\n",
       "6. 71.1813677335158\n",
       "\n",
       "\n"
      ],
      "text/plain": [
       "[1] 33.015344 50.102155 13.868969  2.685183 75.854116 71.181368"
      ]
     },
     "metadata": {},
     "output_type": "display_data"
    }
   ],
   "source": [
    "head(rSquared)"
   ]
  },
  {
   "cell_type": "code",
   "execution_count": 27,
   "metadata": {
    "collapsed": true
   },
   "outputs": [],
   "source": [
    "angle <- runif(n_points, 0, 2*pi)"
   ]
  },
  {
   "cell_type": "code",
   "execution_count": 28,
   "metadata": {},
   "outputs": [
    {
     "data": {
      "text/html": [
       "<ol class=list-inline>\n",
       "\t<li>2.46957329506895</li>\n",
       "\t<li>5.75644785010737</li>\n",
       "\t<li>3.95973460284021</li>\n",
       "\t<li>5.19858751748817</li>\n",
       "\t<li>4.81243946487182</li>\n",
       "\t<li>3.42364702482364</li>\n",
       "</ol>\n"
      ],
      "text/latex": [
       "\\begin{enumerate*}\n",
       "\\item 2.46957329506895\n",
       "\\item 5.75644785010737\n",
       "\\item 3.95973460284021\n",
       "\\item 5.19858751748817\n",
       "\\item 4.81243946487182\n",
       "\\item 3.42364702482364\n",
       "\\end{enumerate*}\n"
      ],
      "text/markdown": [
       "1. 2.46957329506895\n",
       "2. 5.75644785010737\n",
       "3. 3.95973460284021\n",
       "4. 5.19858751748817\n",
       "5. 4.81243946487182\n",
       "6. 3.42364702482364\n",
       "\n",
       "\n"
      ],
      "text/plain": [
       "[1] 2.469573 5.756448 3.959735 5.198588 4.812439 3.423647"
      ]
     },
     "metadata": {},
     "output_type": "display_data"
    }
   ],
   "source": [
    "head(angle)"
   ]
  },
  {
   "cell_type": "code",
   "execution_count": 29,
   "metadata": {
    "collapsed": true
   },
   "outputs": [],
   "source": [
    "x <- sqrt(rSquared) * cos(angle)"
   ]
  },
  {
   "cell_type": "code",
   "execution_count": 30,
   "metadata": {},
   "outputs": [
    {
     "data": {
      "text/html": [
       "<ol class=list-inline>\n",
       "\t<li>-4.4965448862866</li>\n",
       "\t<li>6.11883844622129</li>\n",
       "\t<li>-2.54571923007123</li>\n",
       "\t<li>0.765690571712966</li>\n",
       "\t<li>0.869929334122061</li>\n",
       "\t<li>-8.10352648169996</li>\n",
       "</ol>\n"
      ],
      "text/latex": [
       "\\begin{enumerate*}\n",
       "\\item -4.4965448862866\n",
       "\\item 6.11883844622129\n",
       "\\item -2.54571923007123\n",
       "\\item 0.765690571712966\n",
       "\\item 0.869929334122061\n",
       "\\item -8.10352648169996\n",
       "\\end{enumerate*}\n"
      ],
      "text/markdown": [
       "1. -4.4965448862866\n",
       "2. 6.11883844622129\n",
       "3. -2.54571923007123\n",
       "4. 0.765690571712966\n",
       "5. 0.869929334122061\n",
       "6. -8.10352648169996\n",
       "\n",
       "\n"
      ],
      "text/plain": [
       "[1] -4.4965449  6.1188384 -2.5457192  0.7656906  0.8699293 -8.1035265"
      ]
     },
     "metadata": {},
     "output_type": "display_data"
    }
   ],
   "source": [
    "head(x)"
   ]
  },
  {
   "cell_type": "code",
   "execution_count": 31,
   "metadata": {
    "collapsed": true
   },
   "outputs": [],
   "source": [
    "y <- sqrt(rSquared) * sin(angle)"
   ]
  },
  {
   "cell_type": "code",
   "execution_count": 32,
   "metadata": {},
   "outputs": [
    {
     "data": {
      "text/html": [
       "<ol class=list-inline>\n",
       "\t<li>3.577209596033</li>\n",
       "\t<li>-3.55836637503862</li>\n",
       "\t<li>-2.71813951855566</li>\n",
       "\t<li>-1.44875841063198</li>\n",
       "\t<li>-8.66587210033375</li>\n",
       "\t<li>-2.3482389771706</li>\n",
       "</ol>\n"
      ],
      "text/latex": [
       "\\begin{enumerate*}\n",
       "\\item 3.577209596033\n",
       "\\item -3.55836637503862\n",
       "\\item -2.71813951855566\n",
       "\\item -1.44875841063198\n",
       "\\item -8.66587210033375\n",
       "\\item -2.3482389771706\n",
       "\\end{enumerate*}\n"
      ],
      "text/markdown": [
       "1. 3.577209596033\n",
       "2. -3.55836637503862\n",
       "3. -2.71813951855566\n",
       "4. -1.44875841063198\n",
       "5. -8.66587210033375\n",
       "6. -2.3482389771706\n",
       "\n",
       "\n"
      ],
      "text/plain": [
       "[1]  3.577210 -3.558366 -2.718140 -1.448758 -8.665872 -2.348239"
      ]
     },
     "metadata": {},
     "output_type": "display_data"
    }
   ],
   "source": [
    "head(y)"
   ]
  },
  {
   "cell_type": "code",
   "execution_count": 34,
   "metadata": {},
   "outputs": [
    {
     "data": {
      "image/png": "[encoded data removed]",
      "text/plain": [
       "Plot with title \"disc(radius)\""
      ]
     },
     "metadata": {},
     "output_type": "display_data"
    }
   ],
   "source": [
    "plot(disc(radius))\n",
    "points(x, y)"
   ]
  },
  {
   "cell_type": "markdown",
   "metadata": {},
   "source": [
    "- Point = location in a planar space (x, y)\n",
    "- Event = observed data point\n",
    "\n",
    "For example: trees can be in any point but the actual locations are considered events. \n",
    "\n",
    "Spatial studies occur in a confined area called a \"window\". Events occcuring outside the \"window\" are considered unobserved. Spatial point pattern is a set of observed events and the window. Spatial point process is a random number generator for events in a window. Most spatial pattern analysis is spent making inferences about the spatial point process. \n",
    "\n",
    "- Marks = other characteristics (height, width, species, etc) about the events. Also called a \"Mark Point Pattern\".\n",
    "\n",
    "spatstats stores information in its ppp object (planar point pattern). PPPs contain the (x, y) coords, the window, the marks (optional). \n",
    "\n",
    "- Complete Spatial Randomness (CSR) = This just means that no part of the window is any more special than another. And the chance of finding an event somewhere is the same as another location. \n",
    "\n",
    "Testing a hypothesis would be interesting for a scientist since rejecting the hypothesis might show that some parts of the forest are producing more trees than others or trees are clumping together or spacing themselves out. The spatstat library has a bunch of tests:\n",
    "\n",
    "- The Quadrat Test = It can be used to check if the points are completely spatially random. The window is divided into parts (~20 squares) and the number of points in each square are counted. If the process is completely spatially random, then the number of points in the subregions follows a poisson distribution (a simple distribution for counting). The difference between the observed counts and the expected counts lead to a test statistic with a \"chi squared\" distribution. Larger/smaller values of the test statistic indicate the deviation from complete spatial randomness.\n",
    "\n",
    "### Create PPP objects and perform a Quadrat Test"
   ]
  },
  {
   "cell_type": "code",
   "execution_count": null,
   "metadata": {
    "collapsed": true
   },
   "outputs": [],
   "source": []
  }
 ],
 "metadata": {
  "kernelspec": {
   "display_name": "R",
   "language": "R",
   "name": "ir"
  },
  "language_info": {
   "codemirror_mode": "r",
   "file_extension": ".r",
   "mimetype": "text/x-r-source",
   "name": "R",
   "pygments_lexer": "r",
   "version": "3.4.1"
  }
 },
 "nbformat": 4,
 "nbformat_minor": 2
}
