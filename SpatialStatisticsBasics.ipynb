{
 "cells": [
  {
   "cell_type": "markdown",
   "metadata": {},
   "source": [
    "Let's generate 200 uniformly random datapoints in a rectangle. "
   ]
  },
  {
   "cell_type": "code",
   "execution_count": 1,
   "metadata": {
    "collapsed": true
   },
   "outputs": [],
   "source": [
    "n <- 200 \n",
    "# number of points"
   ]
  },
  {
   "cell_type": "code",
   "execution_count": 3,
   "metadata": {},
   "outputs": [],
   "source": [
    "# let's set the range\n",
    "xmin <- 0\n",
    "xmax <- 1\n",
    "\n",
    "ymin <- 0\n",
    "ymax <- 2"
   ]
  },
  {
   "cell_type": "code",
   "execution_count": 4,
   "metadata": {
    "collapsed": true
   },
   "outputs": [],
   "source": [
    "# create a uniform sample distribution\n",
    "x <- runif(n, 0, 1)\n",
    "y <- runif(n, 0, 2)"
   ]
  },
  {
   "cell_type": "code",
   "execution_count": 9,
   "metadata": {},
   "outputs": [
    {
     "data": {
      "text/html": [
       "<ol class=list-inline>\n",
       "\t<li>0.971130392979831</li>\n",
       "\t<li>0.89563384372741</li>\n",
       "\t<li>0.960901365382597</li>\n",
       "\t<li>0.869098431663588</li>\n",
       "\t<li>0.589985084952787</li>\n",
       "\t<li>0.150598306208849</li>\n",
       "</ol>\n"
      ],
      "text/latex": [
       "\\begin{enumerate*}\n",
       "\\item 0.971130392979831\n",
       "\\item 0.89563384372741\n",
       "\\item 0.960901365382597\n",
       "\\item 0.869098431663588\n",
       "\\item 0.589985084952787\n",
       "\\item 0.150598306208849\n",
       "\\end{enumerate*}\n"
      ],
      "text/markdown": [
       "1. 0.971130392979831\n",
       "2. 0.89563384372741\n",
       "3. 0.960901365382597\n",
       "4. 0.869098431663588\n",
       "5. 0.589985084952787\n",
       "6. 0.150598306208849\n",
       "\n",
       "\n"
      ],
      "text/plain": [
       "[1] 0.9711304 0.8956338 0.9609014 0.8690984 0.5899851 0.1505983"
      ]
     },
     "metadata": {},
     "output_type": "display_data"
    }
   ],
   "source": [
    "head(x)"
   ]
  },
  {
   "cell_type": "code",
   "execution_count": 10,
   "metadata": {},
   "outputs": [
    {
     "data": {
      "text/html": [
       "<ol class=list-inline>\n",
       "\t<li>1.21268616290763</li>\n",
       "\t<li>1.68308529816568</li>\n",
       "\t<li>0.17239578301087</li>\n",
       "\t<li>0.0693159159272909</li>\n",
       "\t<li>0.114315013866872</li>\n",
       "\t<li>0.930814030580223</li>\n",
       "</ol>\n"
      ],
      "text/latex": [
       "\\begin{enumerate*}\n",
       "\\item 1.21268616290763\n",
       "\\item 1.68308529816568\n",
       "\\item 0.17239578301087\n",
       "\\item 0.0693159159272909\n",
       "\\item 0.114315013866872\n",
       "\\item 0.930814030580223\n",
       "\\end{enumerate*}\n"
      ],
      "text/markdown": [
       "1. 1.21268616290763\n",
       "2. 1.68308529816568\n",
       "3. 0.17239578301087\n",
       "4. 0.0693159159272909\n",
       "5. 0.114315013866872\n",
       "6. 0.930814030580223\n",
       "\n",
       "\n"
      ],
      "text/plain": [
       "[1] 1.21268616 1.68308530 0.17239578 0.06931592 0.11431501 0.93081403"
      ]
     },
     "metadata": {},
     "output_type": "display_data"
    }
   ],
   "source": [
    "head(y)"
   ]
  },
  {
   "cell_type": "markdown",
   "metadata": {},
   "source": [
    "When plotting spatial data, make sure the one X unit is the same size as one Y unit. We don't want any misrepresentation. The Y axis scale to X axis scale is called the aspect ratio. Spatial data should be represented with an aspect ratio of 1:1. "
   ]
  },
  {
   "cell_type": "code",
   "execution_count": 12,
   "metadata": {},
   "outputs": [
    {
     "data": {
      "text/plain": [
       "n :  num 200\n",
       "x :  num [1:200] 0.971 0.896 0.961 0.869 0.59 ...\n",
       "xmax :  num 1\n",
       "xmin :  num 0\n",
       "y :  num [1:200] 1.2127 1.6831 0.1724 0.0693 0.1143 ...\n",
       "ymax :  num 2\n",
       "ymin :  num 0"
      ]
     },
     "metadata": {},
     "output_type": "display_data"
    }
   ],
   "source": [
    "ls.str() # show me previously assigned variables. "
   ]
  },
  {
   "cell_type": "code",
   "execution_count": 13,
   "metadata": {
    "collapsed": true
   },
   "outputs": [],
   "source": [
    "mapxy <- function(a = NA){\n",
    "    plot(x, y, asp = a)\n",
    "    rect(xmin, ymin, xmax, ymax)\n",
    "}"
   ]
  },
  {
   "cell_type": "code",
   "execution_count": 14,
   "metadata": {},
   "outputs": [
    {
     "data": {
      "image/png": "[encoded data removed]",
      "text/plain": [
       "plot without title"
      ]
     },
     "metadata": {},
     "output_type": "display_data"
    }
   ],
   "source": [
    "mapxy(1) # aspect ratio = 1"
   ]
  },
  {
   "cell_type": "code",
   "execution_count": null,
   "metadata": {
    "collapsed": true
   },
   "outputs": [],
   "source": []
  }
 ],
 "metadata": {
  "kernelspec": {
   "display_name": "R",
   "language": "R",
   "name": "ir"
  },
  "language_info": {
   "codemirror_mode": "r",
   "file_extension": ".r",
   "mimetype": "text/x-r-source",
   "name": "R",
   "pygments_lexer": "r",
   "version": "3.4.1"
  }
 },
 "nbformat": 4,
 "nbformat_minor": 2
}
