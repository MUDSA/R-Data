{
 "cells": [
  {
   "cell_type": "markdown",
   "metadata": {},
   "source": [
    "# Extra ways to summarize data\n",
    "\n",
    "## Summarizing vectors\n",
    "\n",
    "Vectors are summarized using measures of central tendency and variability. Let's look into other descriptive statistics for summarizing the vectors. "
   ]
  },
  {
   "cell_type": "code",
   "execution_count": 1,
   "metadata": {
    "collapsed": true
   },
   "outputs": [],
   "source": [
    "housing_prices <- read.csv(\"datasets/kc_house_data.csv\")"
   ]
  },
  {
   "cell_type": "code",
   "execution_count": 2,
   "metadata": {},
   "outputs": [
    {
     "data": {
      "text/html": [
       "<table>\n",
       "<thead><tr><th></th><th scope=col>1</th><th scope=col>2</th><th scope=col>3</th><th scope=col>4</th><th scope=col>5</th><th scope=col>6</th></tr></thead>\n",
       "<tbody>\n",
       "\t<tr><th scope=row>X</th><td>1              </td><td>2              </td><td>3              </td><td>4              </td><td>5              </td><td>6              </td></tr>\n",
       "\t<tr><th scope=row>id</th><td>7129300520     </td><td>6414100192     </td><td>5631500400     </td><td>2487200875     </td><td>1954400510     </td><td>7237550310     </td></tr>\n",
       "\t<tr><th scope=row>date</th><td>20141013T000000</td><td>20141209T000000</td><td>20150225T000000</td><td>20141209T000000</td><td>20150218T000000</td><td>20140512T000000</td></tr>\n",
       "\t<tr><th scope=row>price</th><td> 221900        </td><td> 538000        </td><td> 180000        </td><td> 604000        </td><td> 510000        </td><td>1225000        </td></tr>\n",
       "\t<tr><th scope=row>bedrooms</th><td>3              </td><td>3              </td><td>2              </td><td>4              </td><td>3              </td><td>4              </td></tr>\n",
       "\t<tr><th scope=row>bathrooms</th><td>1.00           </td><td>2.25           </td><td>1.00           </td><td>3.00           </td><td>2.00           </td><td>4.50           </td></tr>\n",
       "\t<tr><th scope=row>sqft_living</th><td>1180           </td><td>2570           </td><td> 770           </td><td>1960           </td><td>1680           </td><td>5420           </td></tr>\n",
       "\t<tr><th scope=row>sqft_lot</th><td>  5650         </td><td>  7242         </td><td> 10000         </td><td>  5000         </td><td>  8080         </td><td>101930         </td></tr>\n",
       "\t<tr><th scope=row>floors</th><td>1              </td><td>2              </td><td>1              </td><td>1              </td><td>1              </td><td>1              </td></tr>\n",
       "\t<tr><th scope=row>waterfront</th><td>0              </td><td>0              </td><td>0              </td><td>0              </td><td>0              </td><td>0              </td></tr>\n",
       "\t<tr><th scope=row>view</th><td>0              </td><td>0              </td><td>0              </td><td>0              </td><td>0              </td><td>0              </td></tr>\n",
       "\t<tr><th scope=row>condition</th><td>3              </td><td>3              </td><td>3              </td><td>5              </td><td>3              </td><td>3              </td></tr>\n",
       "\t<tr><th scope=row>grade</th><td> 7             </td><td> 7             </td><td> 6             </td><td> 7             </td><td> 8             </td><td>11             </td></tr>\n",
       "\t<tr><th scope=row>sqft_above</th><td>1180           </td><td>2170           </td><td> 770           </td><td>1050           </td><td>1680           </td><td>3890           </td></tr>\n",
       "\t<tr><th scope=row>sqft_basement</th><td>   0           </td><td> 400           </td><td>   0           </td><td> 910           </td><td>   0           </td><td>1530           </td></tr>\n",
       "\t<tr><th scope=row>yr_built</th><td>1955           </td><td>1951           </td><td>1933           </td><td>1965           </td><td>1987           </td><td>2001           </td></tr>\n",
       "\t<tr><th scope=row>yr_renovated</th><td>   0           </td><td>1991           </td><td>   0           </td><td>   0           </td><td>   0           </td><td>   0           </td></tr>\n",
       "\t<tr><th scope=row>zipcode</th><td>98178          </td><td>98125          </td><td>98028          </td><td>98136          </td><td>98074          </td><td>98053          </td></tr>\n",
       "\t<tr><th scope=row>lat</th><td>47.5112        </td><td>47.7210        </td><td>47.7379        </td><td>47.5208        </td><td>47.6168        </td><td>47.6561        </td></tr>\n",
       "\t<tr><th scope=row>long</th><td>-122.257       </td><td>-122.319       </td><td>-122.233       </td><td>-122.393       </td><td>-122.045       </td><td>-122.005       </td></tr>\n",
       "\t<tr><th scope=row>sqft_living15</th><td>1340           </td><td>1690           </td><td>2720           </td><td>1360           </td><td>1800           </td><td>4760           </td></tr>\n",
       "\t<tr><th scope=row>sqft_lot15</th><td>  5650         </td><td>  7639         </td><td>  8062         </td><td>  5000         </td><td>  7503         </td><td>101930         </td></tr>\n",
       "</tbody>\n",
       "</table>\n"
      ],
      "text/latex": [
       "\\begin{tabular}{r|llllll}\n",
       "  & 1 & 2 & 3 & 4 & 5 & 6\\\\\n",
       "\\hline\n",
       "\tX & 1               & 2               & 3               & 4               & 5               & 6              \\\\\n",
       "\tid & 7129300520      & 6414100192      & 5631500400      & 2487200875      & 1954400510      & 7237550310     \\\\\n",
       "\tdate & 20141013T000000 & 20141209T000000 & 20150225T000000 & 20141209T000000 & 20150218T000000 & 20140512T000000\\\\\n",
       "\tprice &  221900         &  538000         &  180000         &  604000         &  510000         & 1225000        \\\\\n",
       "\tbedrooms & 3               & 3               & 2               & 4               & 3               & 4              \\\\\n",
       "\tbathrooms & 1.00            & 2.25            & 1.00            & 3.00            & 2.00            & 4.50           \\\\\n",
       "\tsqft\\_living & 1180            & 2570            &  770            & 1960            & 1680            & 5420           \\\\\n",
       "\tsqft\\_lot &   5650          &   7242          &  10000          &   5000          &   8080          & 101930         \\\\\n",
       "\tfloors & 1               & 2               & 1               & 1               & 1               & 1              \\\\\n",
       "\twaterfront & 0               & 0               & 0               & 0               & 0               & 0              \\\\\n",
       "\tview & 0               & 0               & 0               & 0               & 0               & 0              \\\\\n",
       "\tcondition & 3               & 3               & 3               & 5               & 3               & 3              \\\\\n",
       "\tgrade &  7              &  7              &  6              &  7              &  8              & 11             \\\\\n",
       "\tsqft\\_above & 1180            & 2170            &  770            & 1050            & 1680            & 3890           \\\\\n",
       "\tsqft\\_basement &    0            &  400            &    0            &  910            &    0            & 1530           \\\\\n",
       "\tyr\\_built & 1955            & 1951            & 1933            & 1965            & 1987            & 2001           \\\\\n",
       "\tyr\\_renovated &    0            & 1991            &    0            &    0            &    0            &    0           \\\\\n",
       "\tzipcode & 98178           & 98125           & 98028           & 98136           & 98074           & 98053          \\\\\n",
       "\tlat & 47.5112         & 47.7210         & 47.7379         & 47.5208         & 47.6168         & 47.6561        \\\\\n",
       "\tlong & -122.257        & -122.319        & -122.233        & -122.393        & -122.045        & -122.005       \\\\\n",
       "\tsqft\\_living15 & 1340            & 1690            & 2720            & 1360            & 1800            & 4760           \\\\\n",
       "\tsqft\\_lot15 &   5650          &   7639          &   8062          &   5000          &   7503          & 101930         \\\\\n",
       "\\end{tabular}\n"
      ],
      "text/markdown": [
       "\n",
       "| <!--/--> | 1 | 2 | 3 | 4 | 5 | 6 | \n",
       "|---|---|---|---|---|---|---|---|---|---|---|---|---|---|---|---|---|---|---|---|---|---|\n",
       "| X | 1               | 2               | 3               | 4               | 5               | 6               | \n",
       "| id | 7129300520      | 6414100192      | 5631500400      | 2487200875      | 1954400510      | 7237550310      | \n",
       "| date | 20141013T000000 | 20141209T000000 | 20150225T000000 | 20141209T000000 | 20150218T000000 | 20140512T000000 | \n",
       "| price |  221900         |  538000         |  180000         |  604000         |  510000         | 1225000         | \n",
       "| bedrooms | 3               | 3               | 2               | 4               | 3               | 4               | \n",
       "| bathrooms | 1.00            | 2.25            | 1.00            | 3.00            | 2.00            | 4.50            | \n",
       "| sqft_living | 1180            | 2570            |  770            | 1960            | 1680            | 5420            | \n",
       "| sqft_lot |   5650          |   7242          |  10000          |   5000          |   8080          | 101930          | \n",
       "| floors | 1               | 2               | 1               | 1               | 1               | 1               | \n",
       "| waterfront | 0               | 0               | 0               | 0               | 0               | 0               | \n",
       "| view | 0               | 0               | 0               | 0               | 0               | 0               | \n",
       "| condition | 3               | 3               | 3               | 5               | 3               | 3               | \n",
       "| grade |  7              |  7              |  6              |  7              |  8              | 11              | \n",
       "| sqft_above | 1180            | 2170            |  770            | 1050            | 1680            | 3890            | \n",
       "| sqft_basement |    0            |  400            |    0            |  910            |    0            | 1530            | \n",
       "| yr_built | 1955            | 1951            | 1933            | 1965            | 1987            | 2001            | \n",
       "| yr_renovated |    0            | 1991            |    0            |    0            |    0            |    0            | \n",
       "| zipcode | 98178           | 98125           | 98028           | 98136           | 98074           | 98053           | \n",
       "| lat | 47.5112         | 47.7210         | 47.7379         | 47.5208         | 47.6168         | 47.6561         | \n",
       "| long | -122.257        | -122.319        | -122.233        | -122.393        | -122.045        | -122.005        | \n",
       "| sqft_living15 | 1340            | 1690            | 2720            | 1360            | 1800            | 4760            | \n",
       "| sqft_lot15 |   5650          |   7639          |   8062          |   5000          |   7503          | 101930          | \n",
       "\n",
       "\n"
      ],
      "text/plain": [
       "              1               2               3               4              \n",
       "X             1               2               3               4              \n",
       "id            7129300520      6414100192      5631500400      2487200875     \n",
       "date          20141013T000000 20141209T000000 20150225T000000 20141209T000000\n",
       "price          221900          538000          180000          604000        \n",
       "bedrooms      3               3               2               4              \n",
       "bathrooms     1.00            2.25            1.00            3.00           \n",
       "sqft_living   1180            2570             770            1960           \n",
       "sqft_lot        5650            7242           10000            5000         \n",
       "floors        1               2               1               1              \n",
       "waterfront    0               0               0               0              \n",
       "view          0               0               0               0              \n",
       "condition     3               3               3               5              \n",
       "grade          7               7               6               7             \n",
       "sqft_above    1180            2170             770            1050           \n",
       "sqft_basement    0             400               0             910           \n",
       "yr_built      1955            1951            1933            1965           \n",
       "yr_renovated     0            1991               0               0           \n",
       "zipcode       98178           98125           98028           98136          \n",
       "lat           47.5112         47.7210         47.7379         47.5208        \n",
       "long          -122.257        -122.319        -122.233        -122.393       \n",
       "sqft_living15 1340            1690            2720            1360           \n",
       "sqft_lot15      5650            7639            8062            5000         \n",
       "              5               6              \n",
       "X             5               6              \n",
       "id            1954400510      7237550310     \n",
       "date          20150218T000000 20140512T000000\n",
       "price          510000         1225000        \n",
       "bedrooms      3               4              \n",
       "bathrooms     2.00            4.50           \n",
       "sqft_living   1680            5420           \n",
       "sqft_lot        8080          101930         \n",
       "floors        1               1              \n",
       "waterfront    0               0              \n",
       "view          0               0              \n",
       "condition     3               3              \n",
       "grade          8              11             \n",
       "sqft_above    1680            3890           \n",
       "sqft_basement    0            1530           \n",
       "yr_built      1987            2001           \n",
       "yr_renovated     0               0           \n",
       "zipcode       98074           98053          \n",
       "lat           47.6168         47.6561        \n",
       "long          -122.045        -122.005       \n",
       "sqft_living15 1800            4760           \n",
       "sqft_lot15      7503          101930         "
      ]
     },
     "metadata": {},
     "output_type": "display_data"
    }
   ],
   "source": [
    "t(head(housing_prices))"
   ]
  },
  {
   "cell_type": "markdown",
   "metadata": {},
   "source": [
    "apply(), lapply(), sapply(), tapply(), ddply() are some summarizing functions that we can use to apply functions on the columns"
   ]
  },
  {
   "cell_type": "markdown",
   "metadata": {},
   "source": [
    "## APPLY()\n",
    "\n",
    "The apply function is used to apply a function to the rows or columns of a matrix. It collapses either a row or a column. 1 represents row and 2 represents column. We'll try to apply the mean function for all columns so we're using 2. "
   ]
  },
  {
   "cell_type": "code",
   "execution_count": 4,
   "metadata": {
    "collapsed": true
   },
   "outputs": [],
   "source": [
    "# Date is a factor variable so we cannot apply the mean function onto a factor variable. The id column is just an identifier. \n",
    "# Let's exclude them\n",
    "\n",
    "less_data <- housing_prices[, !names(housing_prices) %in% c(\"date\", \"id\")]"
   ]
  },
  {
   "cell_type": "code",
   "execution_count": 5,
   "metadata": {},
   "outputs": [
    {
     "data": {
      "text/html": [
       "<dl class=dl-horizontal>\n",
       "\t<dt>X</dt>\n",
       "\t\t<dd>10807</dd>\n",
       "\t<dt>price</dt>\n",
       "\t\t<dd>540088.141766529</dd>\n",
       "\t<dt>bedrooms</dt>\n",
       "\t\t<dd>3.37084162309721</dd>\n",
       "\t<dt>bathrooms</dt>\n",
       "\t\t<dd>2.11475732198214</dd>\n",
       "\t<dt>sqft_living</dt>\n",
       "\t\t<dd>2079.89973626984</dd>\n",
       "\t<dt>sqft_lot</dt>\n",
       "\t\t<dd>15106.9675658169</dd>\n",
       "\t<dt>floors</dt>\n",
       "\t\t<dd>1.49430898070606</dd>\n",
       "\t<dt>waterfront</dt>\n",
       "\t\t<dd>0.00754175727571369</dd>\n",
       "\t<dt>view</dt>\n",
       "\t\t<dd>0.234303428492111</dd>\n",
       "\t<dt>condition</dt>\n",
       "\t\t<dd>3.40942951001712</dd>\n",
       "\t<dt>grade</dt>\n",
       "\t\t<dd>7.6568731781798</dd>\n",
       "\t<dt>sqft_above</dt>\n",
       "\t\t<dd>1788.39069078795</dd>\n",
       "\t<dt>sqft_basement</dt>\n",
       "\t\t<dd>291.509045481886</dd>\n",
       "\t<dt>yr_built</dt>\n",
       "\t\t<dd>1971.0051357979</dd>\n",
       "\t<dt>yr_renovated</dt>\n",
       "\t\t<dd>84.4022579003378</dd>\n",
       "\t<dt>zipcode</dt>\n",
       "\t\t<dd>98077.9398047471</dd>\n",
       "\t<dt>lat</dt>\n",
       "\t\t<dd>47.5600525193171</dd>\n",
       "\t<dt>long</dt>\n",
       "\t\t<dd>-122.213896404941</dd>\n",
       "\t<dt>sqft_living15</dt>\n",
       "\t\t<dd>1986.55249155601</dd>\n",
       "\t<dt>sqft_lot15</dt>\n",
       "\t\t<dd>12768.4556516911</dd>\n",
       "</dl>\n"
      ],
      "text/latex": [
       "\\begin{description*}\n",
       "\\item[X] 10807\n",
       "\\item[price] 540088.141766529\n",
       "\\item[bedrooms] 3.37084162309721\n",
       "\\item[bathrooms] 2.11475732198214\n",
       "\\item[sqft\\textbackslash{}\\_living] 2079.89973626984\n",
       "\\item[sqft\\textbackslash{}\\_lot] 15106.9675658169\n",
       "\\item[floors] 1.49430898070606\n",
       "\\item[waterfront] 0.00754175727571369\n",
       "\\item[view] 0.234303428492111\n",
       "\\item[condition] 3.40942951001712\n",
       "\\item[grade] 7.6568731781798\n",
       "\\item[sqft\\textbackslash{}\\_above] 1788.39069078795\n",
       "\\item[sqft\\textbackslash{}\\_basement] 291.509045481886\n",
       "\\item[yr\\textbackslash{}\\_built] 1971.0051357979\n",
       "\\item[yr\\textbackslash{}\\_renovated] 84.4022579003378\n",
       "\\item[zipcode] 98077.9398047471\n",
       "\\item[lat] 47.5600525193171\n",
       "\\item[long] -122.213896404941\n",
       "\\item[sqft\\textbackslash{}\\_living15] 1986.55249155601\n",
       "\\item[sqft\\textbackslash{}\\_lot15] 12768.4556516911\n",
       "\\end{description*}\n"
      ],
      "text/markdown": [
       "X\n",
       ":   10807price\n",
       ":   540088.141766529bedrooms\n",
       ":   3.37084162309721bathrooms\n",
       ":   2.11475732198214sqft_living\n",
       ":   2079.89973626984sqft_lot\n",
       ":   15106.9675658169floors\n",
       ":   1.49430898070606waterfront\n",
       ":   0.00754175727571369view\n",
       ":   0.234303428492111condition\n",
       ":   3.40942951001712grade\n",
       ":   7.6568731781798sqft_above\n",
       ":   1788.39069078795sqft_basement\n",
       ":   291.509045481886yr_built\n",
       ":   1971.0051357979yr_renovated\n",
       ":   84.4022579003378zipcode\n",
       ":   98077.9398047471lat\n",
       ":   47.5600525193171long\n",
       ":   -122.213896404941sqft_living15\n",
       ":   1986.55249155601sqft_lot15\n",
       ":   12768.4556516911\n",
       "\n"
      ],
      "text/plain": [
       "            X         price      bedrooms     bathrooms   sqft_living \n",
       " 1.080700e+04  5.400881e+05  3.370842e+00  2.114757e+00  2.079900e+03 \n",
       "     sqft_lot        floors    waterfront          view     condition \n",
       " 1.510697e+04  1.494309e+00  7.541757e-03  2.343034e-01  3.409430e+00 \n",
       "        grade    sqft_above sqft_basement      yr_built  yr_renovated \n",
       " 7.656873e+00  1.788391e+03  2.915090e+02  1.971005e+03  8.440226e+01 \n",
       "      zipcode           lat          long sqft_living15    sqft_lot15 \n",
       " 9.807794e+04  4.756005e+01 -1.222139e+02  1.986552e+03  1.276846e+04 "
      ]
     },
     "metadata": {},
     "output_type": "display_data"
    }
   ],
   "source": [
    "apply(less_data, 2, mean)"
   ]
  },
  {
   "cell_type": "code",
   "execution_count": 10,
   "metadata": {},
   "outputs": [
    {
     "data": {
      "text/html": [
       "<dl class=dl-horizontal>\n",
       "\t<dt>X</dt>\n",
       "\t\t<dd>10807</dd>\n",
       "\t<dt>price</dt>\n",
       "\t\t<dd>540088.141766529</dd>\n",
       "\t<dt>bedrooms</dt>\n",
       "\t\t<dd>3.37084162309721</dd>\n",
       "\t<dt>bathrooms</dt>\n",
       "\t\t<dd>2.11475732198214</dd>\n",
       "\t<dt>sqft_living</dt>\n",
       "\t\t<dd>2079.89973626984</dd>\n",
       "\t<dt>sqft_lot</dt>\n",
       "\t\t<dd>15106.9675658169</dd>\n",
       "\t<dt>floors</dt>\n",
       "\t\t<dd>1.49430898070606</dd>\n",
       "\t<dt>waterfront</dt>\n",
       "\t\t<dd>0.00754175727571369</dd>\n",
       "\t<dt>view</dt>\n",
       "\t\t<dd>0.234303428492111</dd>\n",
       "\t<dt>condition</dt>\n",
       "\t\t<dd>3.40942951001712</dd>\n",
       "\t<dt>grade</dt>\n",
       "\t\t<dd>7.6568731781798</dd>\n",
       "\t<dt>sqft_above</dt>\n",
       "\t\t<dd>1788.39069078795</dd>\n",
       "\t<dt>sqft_basement</dt>\n",
       "\t\t<dd>291.509045481886</dd>\n",
       "\t<dt>yr_built</dt>\n",
       "\t\t<dd>1971.0051357979</dd>\n",
       "\t<dt>yr_renovated</dt>\n",
       "\t\t<dd>84.4022579003378</dd>\n",
       "\t<dt>zipcode</dt>\n",
       "\t\t<dd>98077.9398047471</dd>\n",
       "\t<dt>lat</dt>\n",
       "\t\t<dd>47.5600525193171</dd>\n",
       "\t<dt>long</dt>\n",
       "\t\t<dd>-122.213896404941</dd>\n",
       "\t<dt>sqft_living15</dt>\n",
       "\t\t<dd>1986.55249155601</dd>\n",
       "\t<dt>sqft_lot15</dt>\n",
       "\t\t<dd>12768.4556516911</dd>\n",
       "</dl>\n"
      ],
      "text/latex": [
       "\\begin{description*}\n",
       "\\item[X] 10807\n",
       "\\item[price] 540088.141766529\n",
       "\\item[bedrooms] 3.37084162309721\n",
       "\\item[bathrooms] 2.11475732198214\n",
       "\\item[sqft\\textbackslash{}\\_living] 2079.89973626984\n",
       "\\item[sqft\\textbackslash{}\\_lot] 15106.9675658169\n",
       "\\item[floors] 1.49430898070606\n",
       "\\item[waterfront] 0.00754175727571369\n",
       "\\item[view] 0.234303428492111\n",
       "\\item[condition] 3.40942951001712\n",
       "\\item[grade] 7.6568731781798\n",
       "\\item[sqft\\textbackslash{}\\_above] 1788.39069078795\n",
       "\\item[sqft\\textbackslash{}\\_basement] 291.509045481886\n",
       "\\item[yr\\textbackslash{}\\_built] 1971.0051357979\n",
       "\\item[yr\\textbackslash{}\\_renovated] 84.4022579003378\n",
       "\\item[zipcode] 98077.9398047471\n",
       "\\item[lat] 47.5600525193171\n",
       "\\item[long] -122.213896404941\n",
       "\\item[sqft\\textbackslash{}\\_living15] 1986.55249155601\n",
       "\\item[sqft\\textbackslash{}\\_lot15] 12768.4556516911\n",
       "\\end{description*}\n"
      ],
      "text/markdown": [
       "X\n",
       ":   10807price\n",
       ":   540088.141766529bedrooms\n",
       ":   3.37084162309721bathrooms\n",
       ":   2.11475732198214sqft_living\n",
       ":   2079.89973626984sqft_lot\n",
       ":   15106.9675658169floors\n",
       ":   1.49430898070606waterfront\n",
       ":   0.00754175727571369view\n",
       ":   0.234303428492111condition\n",
       ":   3.40942951001712grade\n",
       ":   7.6568731781798sqft_above\n",
       ":   1788.39069078795sqft_basement\n",
       ":   291.509045481886yr_built\n",
       ":   1971.0051357979yr_renovated\n",
       ":   84.4022579003378zipcode\n",
       ":   98077.9398047471lat\n",
       ":   47.5600525193171long\n",
       ":   -122.213896404941sqft_living15\n",
       ":   1986.55249155601sqft_lot15\n",
       ":   12768.4556516911\n",
       "\n"
      ],
      "text/plain": [
       "            X         price      bedrooms     bathrooms   sqft_living \n",
       " 1.080700e+04  5.400881e+05  3.370842e+00  2.114757e+00  2.079900e+03 \n",
       "     sqft_lot        floors    waterfront          view     condition \n",
       " 1.510697e+04  1.494309e+00  7.541757e-03  2.343034e-01  3.409430e+00 \n",
       "        grade    sqft_above sqft_basement      yr_built  yr_renovated \n",
       " 7.656873e+00  1.788391e+03  2.915090e+02  1.971005e+03  8.440226e+01 \n",
       "      zipcode           lat          long sqft_living15    sqft_lot15 \n",
       " 9.807794e+04  4.756005e+01 -1.222139e+02  1.986552e+03  1.276846e+04 "
      ]
     },
     "metadata": {},
     "output_type": "display_data"
    }
   ],
   "source": [
    "colMeans(less_data) # much faster\n",
    "\n",
    "# colMeans\n",
    "# rowMeans\n",
    "# colSums\n",
    "# rowSums"
   ]
  },
  {
   "cell_type": "markdown",
   "metadata": {},
   "source": [
    "Let's create a list using variables \"bedrooms\" and \"bathrooms\". "
   ]
  },
  {
   "cell_type": "code",
   "execution_count": 13,
   "metadata": {
    "collapsed": true
   },
   "outputs": [],
   "source": [
    "x <- list(housing_prices$bedrooms, housing_prices$bathrooms)"
   ]
  },
  {
   "cell_type": "code",
   "execution_count": 14,
   "metadata": {},
   "outputs": [
    {
     "name": "stdout",
     "output_type": "stream",
     "text": [
      "List of 2\n",
      " $ : int [1:21613] 3 3 2 4 3 4 3 3 3 3 ...\n",
      " $ : num [1:21613] 1 2.25 1 3 2 4.5 2.25 1.5 1 2.5 ...\n"
     ]
    }
   ],
   "source": [
    "str(x)"
   ]
  },
  {
   "cell_type": "markdown",
   "metadata": {},
   "source": [
    "## LAPPLY()\n",
    "\n",
    "lapply() is used when you want to apply a function to each element of a list. Hence...the L in Lapply. A list of values is returned back for every element of the list. lapply(x) returns a list of the same length of x"
   ]
  },
  {
   "cell_type": "code",
   "execution_count": 18,
   "metadata": {},
   "outputs": [
    {
     "data": {
      "text/html": [
       "<ol>\n",
       "\t<li>3.37084162309721</li>\n",
       "\t<li>2.11475732198214</li>\n",
       "</ol>\n"
      ],
      "text/latex": [
       "\\begin{enumerate}\n",
       "\\item 3.37084162309721\n",
       "\\item 2.11475732198214\n",
       "\\end{enumerate}\n"
      ],
      "text/markdown": [
       "1. 3.37084162309721\n",
       "2. 2.11475732198214\n",
       "\n",
       "\n"
      ],
      "text/plain": [
       "[[1]]\n",
       "[1] 3.370842\n",
       "\n",
       "[[2]]\n",
       "[1] 2.114757\n"
      ]
     },
     "metadata": {},
     "output_type": "display_data"
    }
   ],
   "source": [
    "res <- lapply(x, FUN = mean)\n",
    "res"
   ]
  },
  {
   "cell_type": "code",
   "execution_count": 19,
   "metadata": {},
   "outputs": [
    {
     "data": {
      "text/html": [
       "'list'"
      ],
      "text/latex": [
       "'list'"
      ],
      "text/markdown": [
       "'list'"
      ],
      "text/plain": [
       "[1] \"list\""
      ]
     },
     "metadata": {},
     "output_type": "display_data"
    }
   ],
   "source": [
    "class(res)"
   ]
  },
  {
   "cell_type": "markdown",
   "metadata": {},
   "source": [
    "## SAPPLY()\n",
    "\n",
    "sapply() is used when you want to apply a function to each element of a list. In return, you will get a vector rather than a list. lapply() and sapply() are similar except for the return type of the result. "
   ]
  },
  {
   "cell_type": "code",
   "execution_count": 21,
   "metadata": {},
   "outputs": [
    {
     "data": {
      "text/html": [
       "<dl class=dl-horizontal>\n",
       "\t<dt>X</dt>\n",
       "\t\t<dd>10807</dd>\n",
       "\t<dt>price</dt>\n",
       "\t\t<dd>540088.141766529</dd>\n",
       "\t<dt>bedrooms</dt>\n",
       "\t\t<dd>3.37084162309721</dd>\n",
       "\t<dt>bathrooms</dt>\n",
       "\t\t<dd>2.11475732198214</dd>\n",
       "\t<dt>sqft_living</dt>\n",
       "\t\t<dd>2079.89973626984</dd>\n",
       "\t<dt>sqft_lot</dt>\n",
       "\t\t<dd>15106.9675658169</dd>\n",
       "\t<dt>floors</dt>\n",
       "\t\t<dd>1.49430898070606</dd>\n",
       "\t<dt>waterfront</dt>\n",
       "\t\t<dd>0.00754175727571369</dd>\n",
       "\t<dt>view</dt>\n",
       "\t\t<dd>0.234303428492111</dd>\n",
       "\t<dt>condition</dt>\n",
       "\t\t<dd>3.40942951001712</dd>\n",
       "\t<dt>grade</dt>\n",
       "\t\t<dd>7.6568731781798</dd>\n",
       "\t<dt>sqft_above</dt>\n",
       "\t\t<dd>1788.39069078795</dd>\n",
       "\t<dt>sqft_basement</dt>\n",
       "\t\t<dd>291.509045481886</dd>\n",
       "\t<dt>yr_built</dt>\n",
       "\t\t<dd>1971.0051357979</dd>\n",
       "\t<dt>yr_renovated</dt>\n",
       "\t\t<dd>84.4022579003378</dd>\n",
       "\t<dt>zipcode</dt>\n",
       "\t\t<dd>98077.9398047471</dd>\n",
       "\t<dt>lat</dt>\n",
       "\t\t<dd>47.5600525193171</dd>\n",
       "\t<dt>long</dt>\n",
       "\t\t<dd>-122.213896404941</dd>\n",
       "\t<dt>sqft_living15</dt>\n",
       "\t\t<dd>1986.55249155601</dd>\n",
       "\t<dt>sqft_lot15</dt>\n",
       "\t\t<dd>12768.4556516911</dd>\n",
       "</dl>\n"
      ],
      "text/latex": [
       "\\begin{description*}\n",
       "\\item[X] 10807\n",
       "\\item[price] 540088.141766529\n",
       "\\item[bedrooms] 3.37084162309721\n",
       "\\item[bathrooms] 2.11475732198214\n",
       "\\item[sqft\\textbackslash{}\\_living] 2079.89973626984\n",
       "\\item[sqft\\textbackslash{}\\_lot] 15106.9675658169\n",
       "\\item[floors] 1.49430898070606\n",
       "\\item[waterfront] 0.00754175727571369\n",
       "\\item[view] 0.234303428492111\n",
       "\\item[condition] 3.40942951001712\n",
       "\\item[grade] 7.6568731781798\n",
       "\\item[sqft\\textbackslash{}\\_above] 1788.39069078795\n",
       "\\item[sqft\\textbackslash{}\\_basement] 291.509045481886\n",
       "\\item[yr\\textbackslash{}\\_built] 1971.0051357979\n",
       "\\item[yr\\textbackslash{}\\_renovated] 84.4022579003378\n",
       "\\item[zipcode] 98077.9398047471\n",
       "\\item[lat] 47.5600525193171\n",
       "\\item[long] -122.213896404941\n",
       "\\item[sqft\\textbackslash{}\\_living15] 1986.55249155601\n",
       "\\item[sqft\\textbackslash{}\\_lot15] 12768.4556516911\n",
       "\\end{description*}\n"
      ],
      "text/markdown": [
       "X\n",
       ":   10807price\n",
       ":   540088.141766529bedrooms\n",
       ":   3.37084162309721bathrooms\n",
       ":   2.11475732198214sqft_living\n",
       ":   2079.89973626984sqft_lot\n",
       ":   15106.9675658169floors\n",
       ":   1.49430898070606waterfront\n",
       ":   0.00754175727571369view\n",
       ":   0.234303428492111condition\n",
       ":   3.40942951001712grade\n",
       ":   7.6568731781798sqft_above\n",
       ":   1788.39069078795sqft_basement\n",
       ":   291.509045481886yr_built\n",
       ":   1971.0051357979yr_renovated\n",
       ":   84.4022579003378zipcode\n",
       ":   98077.9398047471lat\n",
       ":   47.5600525193171long\n",
       ":   -122.213896404941sqft_living15\n",
       ":   1986.55249155601sqft_lot15\n",
       ":   12768.4556516911\n",
       "\n"
      ],
      "text/plain": [
       "            X         price      bedrooms     bathrooms   sqft_living \n",
       " 1.080700e+04  5.400881e+05  3.370842e+00  2.114757e+00  2.079900e+03 \n",
       "     sqft_lot        floors    waterfront          view     condition \n",
       " 1.510697e+04  1.494309e+00  7.541757e-03  2.343034e-01  3.409430e+00 \n",
       "        grade    sqft_above sqft_basement      yr_built  yr_renovated \n",
       " 7.656873e+00  1.788391e+03  2.915090e+02  1.971005e+03  8.440226e+01 \n",
       "      zipcode           lat          long sqft_living15    sqft_lot15 \n",
       " 9.807794e+04  4.756005e+01 -1.222139e+02  1.986552e+03  1.276846e+04 "
      ]
     },
     "metadata": {},
     "output_type": "display_data"
    },
    {
     "data": {
      "text/html": [
       "'numeric'"
      ],
      "text/latex": [
       "'numeric'"
      ],
      "text/markdown": [
       "'numeric'"
      ],
      "text/plain": [
       "[1] \"numeric\""
      ]
     },
     "metadata": {},
     "output_type": "display_data"
    }
   ],
   "source": [
    "res <- sapply(less_data, mean)\n",
    "res\n",
    "class(res)"
   ]
  },
  {
   "cell_type": "code",
   "execution_count": 23,
   "metadata": {},
   "outputs": [
    {
     "data": {
      "text/html": [
       "<ol class=list-inline>\n",
       "\t<li>3.37084162309721</li>\n",
       "\t<li>2.11475732198214</li>\n",
       "</ol>\n"
      ],
      "text/latex": [
       "\\begin{enumerate*}\n",
       "\\item 3.37084162309721\n",
       "\\item 2.11475732198214\n",
       "\\end{enumerate*}\n"
      ],
      "text/markdown": [
       "1. 3.37084162309721\n",
       "2. 2.11475732198214\n",
       "\n",
       "\n"
      ],
      "text/plain": [
       "[1] 3.370842 2.114757"
      ]
     },
     "metadata": {},
     "output_type": "display_data"
    },
    {
     "data": {
      "text/html": [
       "'numeric'"
      ],
      "text/latex": [
       "'numeric'"
      ],
      "text/markdown": [
       "'numeric'"
      ],
      "text/plain": [
       "[1] \"numeric\""
      ]
     },
     "metadata": {},
     "output_type": "display_data"
    }
   ],
   "source": [
    "res <- sapply(x, mean)\n",
    "res\n",
    "class(res)"
   ]
  },
  {
   "cell_type": "markdown",
   "metadata": {},
   "source": [
    "## MAPPLY()\n",
    "\n",
    "mapply() is used when we have several data structures (vectors, lists, etc) and we want to apply a function to all columns in a row. The result is coerced into a vector/array as in sapply. \n",
    "\n",
    "For examples, there are different variables measuring different areas like sqft_living, sqft_lot, sqft_above, \n",
    "sqft_base, sqft_living15, sqft_lot15. If we want to find the total area of each house then we can use this function. "
   ]
  },
  {
   "cell_type": "code",
   "execution_count": 24,
   "metadata": {
    "collapsed": true
   },
   "outputs": [],
   "source": [
    "result <- mapply(sum, housing_prices$sqft_living, housing_prices$sqft_lot, housing_prices$sqft_above, housing_prices$sqft_basement, \n",
    "                    housing_prices$sqft_living15, housing_prices$sqft_lot15)\n"
   ]
  },
  {
   "cell_type": "code",
   "execution_count": 28,
   "metadata": {},
   "outputs": [
    {
     "data": {
      "text/html": [
       "<ol class=list-inline>\n",
       "\t<li>15000</li>\n",
       "\t<li>21711</li>\n",
       "\t<li>22322</li>\n",
       "\t<li>15280</li>\n",
       "\t<li>20743</li>\n",
       "\t<li>219460</li>\n",
       "\t<li>19306</li>\n",
       "\t<li>23192</li>\n",
       "\t<li>20923</li>\n",
       "\t<li>20300</li>\n",
       "</ol>\n"
      ],
      "text/latex": [
       "\\begin{enumerate*}\n",
       "\\item 15000\n",
       "\\item 21711\n",
       "\\item 22322\n",
       "\\item 15280\n",
       "\\item 20743\n",
       "\\item 219460\n",
       "\\item 19306\n",
       "\\item 23192\n",
       "\\item 20923\n",
       "\\item 20300\n",
       "\\end{enumerate*}\n"
      ],
      "text/markdown": [
       "1. 15000\n",
       "2. 21711\n",
       "3. 22322\n",
       "4. 15280\n",
       "5. 20743\n",
       "6. 219460\n",
       "7. 19306\n",
       "8. 23192\n",
       "9. 20923\n",
       "10. 20300\n",
       "\n",
       "\n"
      ],
      "text/plain": [
       " [1]  15000  21711  22322  15280  20743 219460  19306  23192  20923  20300"
      ]
     },
     "metadata": {},
     "output_type": "display_data"
    }
   ],
   "source": [
    "head(result, 10)\n",
    "# the values in the mapply() for the first row = 1500....second row = 21711"
   ]
  },
  {
   "cell_type": "code",
   "execution_count": 26,
   "metadata": {},
   "outputs": [
    {
     "data": {
      "text/html": [
       "'integer'"
      ],
      "text/latex": [
       "'integer'"
      ],
      "text/markdown": [
       "'integer'"
      ],
      "text/plain": [
       "[1] \"integer\""
      ]
     },
     "metadata": {},
     "output_type": "display_data"
    }
   ],
   "source": [
    "class(result)"
   ]
  },
  {
   "cell_type": "markdown",
   "metadata": {},
   "source": [
    "## TAPPLY()\n",
    "\n",
    "tapply() is used when you want to apply a function to subsets of a vector and the subsets are defined by some other vector, usually a factor. \n",
    "\n",
    "It is a tabular version of apply(), which means that its input argument should have a categorical variable and its argument function is applied to each group. \n",
    "\n",
    "For example, we may want to know the average price of homes for each number of bedrooms in the house\n"
   ]
  },
  {
   "cell_type": "code",
   "execution_count": 30,
   "metadata": {},
   "outputs": [
    {
     "data": {
      "text/html": [
       "<table>\n",
       "<thead><tr><th scope=col>0</th><th scope=col>1</th><th scope=col>2</th><th scope=col>3</th><th scope=col>4</th><th scope=col>5</th><th scope=col>6</th><th scope=col>7</th><th scope=col>8</th><th scope=col>9</th><th scope=col>10</th><th scope=col>11</th><th scope=col>33</th></tr></thead>\n",
       "<tbody>\n",
       "\t<tr><td>409503.8</td><td>317642.9</td><td>401372.7</td><td>466232.1</td><td>635419.5</td><td>786599.8</td><td>825520.6</td><td>951184.7</td><td>1105077 </td><td>893999.8</td><td>819333.3</td><td>520000  </td><td>640000  </td></tr>\n",
       "</tbody>\n",
       "</table>\n"
      ],
      "text/latex": [
       "\\begin{tabular}{lllllllllllll}\n",
       " 0 & 1 & 2 & 3 & 4 & 5 & 6 & 7 & 8 & 9 & 10 & 11 & 33\\\\\n",
       "\\hline\n",
       "\t 409503.8 & 317642.9 & 401372.7 & 466232.1 & 635419.5 & 786599.8 & 825520.6 & 951184.7 & 1105077  & 893999.8 & 819333.3 & 520000   & 640000  \\\\\n",
       "\\end{tabular}\n"
      ],
      "text/markdown": [
       "\n",
       "0 | 1 | 2 | 3 | 4 | 5 | 6 | 7 | 8 | 9 | 10 | 11 | 33 | \n",
       "|---|\n",
       "| 409503.8 | 317642.9 | 401372.7 | 466232.1 | 635419.5 | 786599.8 | 825520.6 | 951184.7 | 1105077  | 893999.8 | 819333.3 | 520000   | 640000   | \n",
       "\n",
       "\n"
      ],
      "text/plain": [
       "     0        1        2        3        4        5        6        7       \n",
       "[1,] 409503.8 317642.9 401372.7 466232.1 635419.5 786599.8 825520.6 951184.7\n",
       "     8       9        10       11     33    \n",
       "[1,] 1105077 893999.8 819333.3 520000 640000"
      ]
     },
     "metadata": {},
     "output_type": "display_data"
    }
   ],
   "source": [
    "t(tapply(housing_prices$price, housing_prices$bedrooms, mean))"
   ]
  },
  {
   "cell_type": "markdown",
   "metadata": {},
   "source": [
    "## BY()"
   ]
  },
  {
   "cell_type": "markdown",
   "metadata": {},
   "source": [
    "tapply() can be used to summarize one variable based on another variable. But what if we want to summarize many variables. The by function is like an extended version of tapply() command. "
   ]
  },
  {
   "cell_type": "code",
   "execution_count": 31,
   "metadata": {},
   "outputs": [
    {
     "data": {
      "text/plain": [
       "housing_prices$view: 0\n",
       "     price          sqft_living  \n",
       " Min.   :  75000   Min.   : 290  \n",
       " 1st Qu.: 311000   1st Qu.:1390  \n",
       " Median : 432500   Median :1850  \n",
       " Mean   : 496564   Mean   :1998  \n",
       " 3rd Qu.: 600000   3rd Qu.:2450  \n",
       " Max.   :5570000   Max.   :9200  \n",
       "------------------------------------------------------------ \n",
       "housing_prices$view: 1\n",
       "     price          sqft_living  \n",
       " Min.   : 217000   Min.   : 570  \n",
       " 1st Qu.: 498750   1st Qu.:1855  \n",
       " Median : 690944   Median :2420  \n",
       " Mean   : 812281   Mean   :2569  \n",
       " 3rd Qu.: 921250   3rd Qu.:3180  \n",
       " Max.   :3650000   Max.   :6300  \n",
       "------------------------------------------------------------ \n",
       "housing_prices$view: 2\n",
       "     price          sqft_living   \n",
       " Min.   : 169317   Min.   :  470  \n",
       " 1st Qu.: 485000   1st Qu.: 1842  \n",
       " Median : 675000   Median : 2470  \n",
       " Mean   : 792401   Mean   : 2655  \n",
       " 3rd Qu.: 941250   3rd Qu.: 3250  \n",
       " Max.   :7062500   Max.   :10040  \n",
       "------------------------------------------------------------ \n",
       "housing_prices$view: 3\n",
       "     price          sqft_living   \n",
       " Min.   : 154000   Min.   :  440  \n",
       " 1st Qu.: 554000   1st Qu.: 2210  \n",
       " Median : 802500   Median : 2840  \n",
       " Mean   : 971965   Mean   : 3019  \n",
       " 3rd Qu.:1256000   3rd Qu.: 3658  \n",
       " Max.   :7700000   Max.   :12050  \n",
       "------------------------------------------------------------ \n",
       "housing_prices$view: 4\n",
       "     price          sqft_living   \n",
       " Min.   : 252000   Min.   :  680  \n",
       " 1st Qu.: 817500   1st Qu.: 2425  \n",
       " Median :1185000   Median : 3050  \n",
       " Mean   :1463711   Mean   : 3351  \n",
       " 3rd Qu.:1850000   3rd Qu.: 3911  \n",
       " Max.   :6885000   Max.   :13540  "
      ]
     },
     "metadata": {},
     "output_type": "display_data"
    }
   ],
   "source": [
    "byViews <- by(housing_prices[, c(\"price\", \"sqft_living\")], housing_prices$view, summary)\n",
    "byViews"
   ]
  },
  {
   "cell_type": "markdown",
   "metadata": {},
   "source": [
    "## 2 way tables\n",
    "\n",
    "2 way tables are very informative. We have distribution of bathrooms for every count of bedrooms. It is very detailed and the sums of columns and rows are displayed which indicate number of bedrooms or bathrooms with a specific number"
   ]
  },
  {
   "cell_type": "code",
   "execution_count": 32,
   "metadata": {},
   "outputs": [
    {
     "data": {
      "text/html": [
       "<table>\n",
       "<thead><tr><th></th><th scope=col>0</th><th scope=col>0.5</th><th scope=col>0.75</th><th scope=col>1</th><th scope=col>1.25</th><th scope=col>1.5</th><th scope=col>1.75</th><th scope=col>2</th><th scope=col>2.25</th><th scope=col>2.5</th><th scope=col>...</th><th scope=col>5.5</th><th scope=col>5.75</th><th scope=col>6</th><th scope=col>6.25</th><th scope=col>6.5</th><th scope=col>6.75</th><th scope=col>7.5</th><th scope=col>7.75</th><th scope=col>8</th><th scope=col>Sum</th></tr></thead>\n",
       "<tbody>\n",
       "\t<tr><th scope=row>0</th><td> 7   </td><td>0    </td><td> 1   </td><td>   1 </td><td>0    </td><td>   1 </td><td>   0 </td><td>   0 </td><td>   0 </td><td>   3 </td><td>...  </td><td> 0   </td><td>0    </td><td>0    </td><td>0    </td><td>0    </td><td>0    </td><td>0    </td><td>0    </td><td>0    </td><td>   13</td></tr>\n",
       "\t<tr><th scope=row>1</th><td> 3   </td><td>1    </td><td>27   </td><td> 138 </td><td>2    </td><td>  12 </td><td>   4 </td><td>   6 </td><td>   4 </td><td>   2 </td><td>...  </td><td> 0   </td><td>0    </td><td>0    </td><td>0    </td><td>0    </td><td>0    </td><td>0    </td><td>0    </td><td>0    </td><td>  199</td></tr>\n",
       "\t<tr><th scope=row>2</th><td> 0   </td><td>2    </td><td>26   </td><td>1558 </td><td>3    </td><td> 294 </td><td> 304 </td><td> 216 </td><td> 118 </td><td> 197 </td><td>...  </td><td> 0   </td><td>0    </td><td>0    </td><td>0    </td><td>0    </td><td>0    </td><td>0    </td><td>0    </td><td>0    </td><td> 2760</td></tr>\n",
       "\t<tr><th scope=row>3</th><td> 0   </td><td>0    </td><td>16   </td><td>1780 </td><td>4    </td><td> 829 </td><td>1870 </td><td>1048 </td><td>1082 </td><td>2357 </td><td>...  </td><td> 0   </td><td>0    </td><td>0    </td><td>0    </td><td>0    </td><td>0    </td><td>0    </td><td>0    </td><td>0    </td><td> 9824</td></tr>\n",
       "\t<tr><th scope=row>4</th><td> 0   </td><td>1    </td><td> 2   </td><td> 325 </td><td>0    </td><td> 254 </td><td> 719 </td><td> 525 </td><td> 709 </td><td>2502 </td><td>...  </td><td> 5   </td><td>1    </td><td>0    </td><td>0    </td><td>0    </td><td>0    </td><td>0    </td><td>0    </td><td>0    </td><td> 6882</td></tr>\n",
       "\t<tr><th scope=row>5</th><td> 0   </td><td>0    </td><td> 0   </td><td>  43 </td><td>0    </td><td>  48 </td><td> 134 </td><td> 110 </td><td> 116 </td><td> 287 </td><td>...  </td><td> 4   </td><td>2    </td><td>4    </td><td>2    </td><td>1    </td><td>1    </td><td>0    </td><td>0    </td><td>0    </td><td> 1601</td></tr>\n",
       "\t<tr><th scope=row>6</th><td> 0   </td><td>0    </td><td> 0   </td><td>   6 </td><td>0    </td><td>   6 </td><td>  16 </td><td>  24 </td><td>  15 </td><td>  29 </td><td>...  </td><td> 0   </td><td>0    </td><td>1    </td><td>0    </td><td>1    </td><td>0    </td><td>0    </td><td>1    </td><td>1    </td><td>  272</td></tr>\n",
       "\t<tr><th scope=row>7</th><td> 0   </td><td>0    </td><td> 0   </td><td>   1 </td><td>0    </td><td>   2 </td><td>   0 </td><td>   0 </td><td>   3 </td><td>   2 </td><td>...  </td><td> 1   </td><td>1    </td><td>0    </td><td>0    </td><td>0    </td><td>1    </td><td>0    </td><td>0    </td><td>1    </td><td>   38</td></tr>\n",
       "\t<tr><th scope=row>8</th><td> 0   </td><td>0    </td><td> 0   </td><td>   0 </td><td>0    </td><td>   0 </td><td>   0 </td><td>   0 </td><td>   0 </td><td>   1 </td><td>...  </td><td> 0   </td><td>0    </td><td>1    </td><td>0    </td><td>0    </td><td>0    </td><td>0    </td><td>0    </td><td>0    </td><td>   13</td></tr>\n",
       "\t<tr><th scope=row>9</th><td> 0   </td><td>0    </td><td> 0   </td><td>   0 </td><td>0    </td><td>   0 </td><td>   0 </td><td>   0 </td><td>   0 </td><td>   0 </td><td>...  </td><td> 0   </td><td>0    </td><td>0    </td><td>0    </td><td>0    </td><td>0    </td><td>1    </td><td>0    </td><td>0    </td><td>    6</td></tr>\n",
       "\t<tr><th scope=row>10</th><td> 0   </td><td>0    </td><td> 0   </td><td>   0 </td><td>0    </td><td>   0 </td><td>   0 </td><td>   1 </td><td>   0 </td><td>   0 </td><td>...  </td><td> 0   </td><td>0    </td><td>0    </td><td>0    </td><td>0    </td><td>0    </td><td>0    </td><td>0    </td><td>0    </td><td>    3</td></tr>\n",
       "\t<tr><th scope=row>11</th><td> 0   </td><td>0    </td><td> 0   </td><td>   0 </td><td>0    </td><td>   0 </td><td>   0 </td><td>   0 </td><td>   0 </td><td>   0 </td><td>...  </td><td> 0   </td><td>0    </td><td>0    </td><td>0    </td><td>0    </td><td>0    </td><td>0    </td><td>0    </td><td>0    </td><td>    1</td></tr>\n",
       "\t<tr><th scope=row>33</th><td> 0   </td><td>0    </td><td> 0   </td><td>   0 </td><td>0    </td><td>   0 </td><td>   1 </td><td>   0 </td><td>   0 </td><td>   0 </td><td>...  </td><td> 0   </td><td>0    </td><td>0    </td><td>0    </td><td>0    </td><td>0    </td><td>0    </td><td>0    </td><td>0    </td><td>    1</td></tr>\n",
       "\t<tr><th scope=row>Sum</th><td>10   </td><td>4    </td><td>72   </td><td>3852 </td><td>9    </td><td>1446 </td><td>3048 </td><td>1930 </td><td>2047 </td><td>5380 </td><td>...  </td><td>10   </td><td>4    </td><td>6    </td><td>2    </td><td>2    </td><td>2    </td><td>1    </td><td>1    </td><td>2    </td><td>21613</td></tr>\n",
       "</tbody>\n",
       "</table>\n"
      ],
      "text/latex": [
       "\\begin{tabular}{r|lllllllllllllllllllllllllllllll}\n",
       "  & 0 & 0.5 & 0.75 & 1 & 1.25 & 1.5 & 1.75 & 2 & 2.25 & 2.5 & ... & 5.5 & 5.75 & 6 & 6.25 & 6.5 & 6.75 & 7.5 & 7.75 & 8 & Sum\\\\\n",
       "\\hline\n",
       "\t0 &  7    & 0     &  1    &    1  & 0     &    1  &    0  &    0  &    0  &    3  & ...   &  0    & 0     & 0     & 0     & 0     & 0     & 0     & 0     & 0     &    13\\\\\n",
       "\t1 &  3    & 1     & 27    &  138  & 2     &   12  &    4  &    6  &    4  &    2  & ...   &  0    & 0     & 0     & 0     & 0     & 0     & 0     & 0     & 0     &   199\\\\\n",
       "\t2 &  0    & 2     & 26    & 1558  & 3     &  294  &  304  &  216  &  118  &  197  & ...   &  0    & 0     & 0     & 0     & 0     & 0     & 0     & 0     & 0     &  2760\\\\\n",
       "\t3 &  0    & 0     & 16    & 1780  & 4     &  829  & 1870  & 1048  & 1082  & 2357  & ...   &  0    & 0     & 0     & 0     & 0     & 0     & 0     & 0     & 0     &  9824\\\\\n",
       "\t4 &  0    & 1     &  2    &  325  & 0     &  254  &  719  &  525  &  709  & 2502  & ...   &  5    & 1     & 0     & 0     & 0     & 0     & 0     & 0     & 0     &  6882\\\\\n",
       "\t5 &  0    & 0     &  0    &   43  & 0     &   48  &  134  &  110  &  116  &  287  & ...   &  4    & 2     & 4     & 2     & 1     & 1     & 0     & 0     & 0     &  1601\\\\\n",
       "\t6 &  0    & 0     &  0    &    6  & 0     &    6  &   16  &   24  &   15  &   29  & ...   &  0    & 0     & 1     & 0     & 1     & 0     & 0     & 1     & 1     &   272\\\\\n",
       "\t7 &  0    & 0     &  0    &    1  & 0     &    2  &    0  &    0  &    3  &    2  & ...   &  1    & 1     & 0     & 0     & 0     & 1     & 0     & 0     & 1     &    38\\\\\n",
       "\t8 &  0    & 0     &  0    &    0  & 0     &    0  &    0  &    0  &    0  &    1  & ...   &  0    & 0     & 1     & 0     & 0     & 0     & 0     & 0     & 0     &    13\\\\\n",
       "\t9 &  0    & 0     &  0    &    0  & 0     &    0  &    0  &    0  &    0  &    0  & ...   &  0    & 0     & 0     & 0     & 0     & 0     & 1     & 0     & 0     &     6\\\\\n",
       "\t10 &  0    & 0     &  0    &    0  & 0     &    0  &    0  &    1  &    0  &    0  & ...   &  0    & 0     & 0     & 0     & 0     & 0     & 0     & 0     & 0     &     3\\\\\n",
       "\t11 &  0    & 0     &  0    &    0  & 0     &    0  &    0  &    0  &    0  &    0  & ...   &  0    & 0     & 0     & 0     & 0     & 0     & 0     & 0     & 0     &     1\\\\\n",
       "\t33 &  0    & 0     &  0    &    0  & 0     &    0  &    1  &    0  &    0  &    0  & ...   &  0    & 0     & 0     & 0     & 0     & 0     & 0     & 0     & 0     &     1\\\\\n",
       "\tSum & 10    & 4     & 72    & 3852  & 9     & 1446  & 3048  & 1930  & 2047  & 5380  & ...   & 10    & 4     & 6     & 2     & 2     & 2     & 1     & 1     & 2     & 21613\\\\\n",
       "\\end{tabular}\n"
      ],
      "text/markdown": [
       "\n",
       "| <!--/--> | 0 | 0.5 | 0.75 | 1 | 1.25 | 1.5 | 1.75 | 2 | 2.25 | 2.5 | ... | 5.5 | 5.75 | 6 | 6.25 | 6.5 | 6.75 | 7.5 | 7.75 | 8 | Sum | \n",
       "|---|---|---|---|---|---|---|---|---|---|---|---|---|---|\n",
       "| 0 |  7    | 0     |  1    |    1  | 0     |    1  |    0  |    0  |    0  |    3  | ...   |  0    | 0     | 0     | 0     | 0     | 0     | 0     | 0     | 0     |    13 | \n",
       "| 1 |  3    | 1     | 27    |  138  | 2     |   12  |    4  |    6  |    4  |    2  | ...   |  0    | 0     | 0     | 0     | 0     | 0     | 0     | 0     | 0     |   199 | \n",
       "| 2 |  0    | 2     | 26    | 1558  | 3     |  294  |  304  |  216  |  118  |  197  | ...   |  0    | 0     | 0     | 0     | 0     | 0     | 0     | 0     | 0     |  2760 | \n",
       "| 3 |  0    | 0     | 16    | 1780  | 4     |  829  | 1870  | 1048  | 1082  | 2357  | ...   |  0    | 0     | 0     | 0     | 0     | 0     | 0     | 0     | 0     |  9824 | \n",
       "| 4 |  0    | 1     |  2    |  325  | 0     |  254  |  719  |  525  |  709  | 2502  | ...   |  5    | 1     | 0     | 0     | 0     | 0     | 0     | 0     | 0     |  6882 | \n",
       "| 5 |  0    | 0     |  0    |   43  | 0     |   48  |  134  |  110  |  116  |  287  | ...   |  4    | 2     | 4     | 2     | 1     | 1     | 0     | 0     | 0     |  1601 | \n",
       "| 6 |  0    | 0     |  0    |    6  | 0     |    6  |   16  |   24  |   15  |   29  | ...   |  0    | 0     | 1     | 0     | 1     | 0     | 0     | 1     | 1     |   272 | \n",
       "| 7 |  0    | 0     |  0    |    1  | 0     |    2  |    0  |    0  |    3  |    2  | ...   |  1    | 1     | 0     | 0     | 0     | 1     | 0     | 0     | 1     |    38 | \n",
       "| 8 |  0    | 0     |  0    |    0  | 0     |    0  |    0  |    0  |    0  |    1  | ...   |  0    | 0     | 1     | 0     | 0     | 0     | 0     | 0     | 0     |    13 | \n",
       "| 9 |  0    | 0     |  0    |    0  | 0     |    0  |    0  |    0  |    0  |    0  | ...   |  0    | 0     | 0     | 0     | 0     | 0     | 1     | 0     | 0     |     6 | \n",
       "| 10 |  0    | 0     |  0    |    0  | 0     |    0  |    0  |    1  |    0  |    0  | ...   |  0    | 0     | 0     | 0     | 0     | 0     | 0     | 0     | 0     |     3 | \n",
       "| 11 |  0    | 0     |  0    |    0  | 0     |    0  |    0  |    0  |    0  |    0  | ...   |  0    | 0     | 0     | 0     | 0     | 0     | 0     | 0     | 0     |     1 | \n",
       "| 33 |  0    | 0     |  0    |    0  | 0     |    0  |    1  |    0  |    0  |    0  | ...   |  0    | 0     | 0     | 0     | 0     | 0     | 0     | 0     | 0     |     1 | \n",
       "| Sum | 10    | 4     | 72    | 3852  | 9     | 1446  | 3048  | 1930  | 2047  | 5380  | ...   | 10    | 4     | 6     | 2     | 2     | 2     | 1     | 1     | 2     | 21613 | \n",
       "\n",
       "\n"
      ],
      "text/plain": [
       "    0  0.5 0.75 1    1.25 1.5  1.75 2    2.25 2.5  ... 5.5 5.75 6 6.25 6.5 6.75\n",
       "0    7 0    1      1 0       1    0    0    0    3 ...  0  0    0 0    0   0   \n",
       "1    3 1   27    138 2      12    4    6    4    2 ...  0  0    0 0    0   0   \n",
       "2    0 2   26   1558 3     294  304  216  118  197 ...  0  0    0 0    0   0   \n",
       "3    0 0   16   1780 4     829 1870 1048 1082 2357 ...  0  0    0 0    0   0   \n",
       "4    0 1    2    325 0     254  719  525  709 2502 ...  5  1    0 0    0   0   \n",
       "5    0 0    0     43 0      48  134  110  116  287 ...  4  2    4 2    1   1   \n",
       "6    0 0    0      6 0       6   16   24   15   29 ...  0  0    1 0    1   0   \n",
       "7    0 0    0      1 0       2    0    0    3    2 ...  1  1    0 0    0   1   \n",
       "8    0 0    0      0 0       0    0    0    0    1 ...  0  0    1 0    0   0   \n",
       "9    0 0    0      0 0       0    0    0    0    0 ...  0  0    0 0    0   0   \n",
       "10   0 0    0      0 0       0    0    1    0    0 ...  0  0    0 0    0   0   \n",
       "11   0 0    0      0 0       0    0    0    0    0 ...  0  0    0 0    0   0   \n",
       "33   0 0    0      0 0       0    1    0    0    0 ...  0  0    0 0    0   0   \n",
       "Sum 10 4   72   3852 9    1446 3048 1930 2047 5380 ... 10  4    6 2    2   2   \n",
       "    7.5 7.75 8 Sum  \n",
       "0   0   0    0    13\n",
       "1   0   0    0   199\n",
       "2   0   0    0  2760\n",
       "3   0   0    0  9824\n",
       "4   0   0    0  6882\n",
       "5   0   0    0  1601\n",
       "6   0   1    1   272\n",
       "7   0   0    1    38\n",
       "8   0   0    0    13\n",
       "9   1   0    0     6\n",
       "10  0   0    0     3\n",
       "11  0   0    0     1\n",
       "33  0   0    0     1\n",
       "Sum 1   1    2 21613"
      ]
     },
     "metadata": {},
     "output_type": "display_data"
    }
   ],
   "source": [
    "# produces a 2 way table with distribution count of every combination between bedrooms and bathrooms. \n",
    "# addmargins() will give the summary or sum of this counts at the end of both x and y axis. \n",
    "\n",
    "bed_vs_bath <- table(housing_prices$bedrooms, housing_prices$bathrooms)\n",
    "addmargins(bed_vs_bath)"
   ]
  },
  {
   "cell_type": "code",
   "execution_count": null,
   "metadata": {
    "collapsed": true
   },
   "outputs": [],
   "source": []
  }
 ],
 "metadata": {
  "kernelspec": {
   "display_name": "R",
   "language": "R",
   "name": "ir"
  },
  "language_info": {
   "codemirror_mode": "r",
   "file_extension": ".r",
   "mimetype": "text/x-r-source",
   "name": "R",
   "pygments_lexer": "r",
   "version": "3.4.1"
  }
 },
 "nbformat": 4,
 "nbformat_minor": 2
}
