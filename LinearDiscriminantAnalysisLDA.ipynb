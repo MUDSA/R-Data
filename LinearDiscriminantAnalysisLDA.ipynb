{
 "cells": [
  {
   "cell_type": "code",
   "execution_count": 27,
   "metadata": {},
   "outputs": [],
   "source": [
    "library(ISLR)\n",
    "library(MASS)"
   ]
  },
  {
   "cell_type": "code",
   "execution_count": 28,
   "metadata": {},
   "outputs": [
    {
     "data": {
      "text/html": [
       "<table>\n",
       "<thead><tr><th scope=col>Year</th><th scope=col>Lag1</th><th scope=col>Lag2</th><th scope=col>Lag3</th><th scope=col>Lag4</th><th scope=col>Lag5</th><th scope=col>Volume</th><th scope=col>Today</th><th scope=col>Direction</th></tr></thead>\n",
       "<tbody>\n",
       "\t<tr><td>2001  </td><td> 0.381</td><td>-0.192</td><td>-2.624</td><td>-1.055</td><td> 5.010</td><td>1.1913</td><td> 0.959</td><td>Up    </td></tr>\n",
       "\t<tr><td>2001  </td><td> 0.959</td><td> 0.381</td><td>-0.192</td><td>-2.624</td><td>-1.055</td><td>1.2965</td><td> 1.032</td><td>Up    </td></tr>\n",
       "\t<tr><td>2001  </td><td> 1.032</td><td> 0.959</td><td> 0.381</td><td>-0.192</td><td>-2.624</td><td>1.4112</td><td>-0.623</td><td>Down  </td></tr>\n",
       "\t<tr><td>2001  </td><td>-0.623</td><td> 1.032</td><td> 0.959</td><td> 0.381</td><td>-0.192</td><td>1.2760</td><td> 0.614</td><td>Up    </td></tr>\n",
       "\t<tr><td>2001  </td><td> 0.614</td><td>-0.623</td><td> 1.032</td><td> 0.959</td><td> 0.381</td><td>1.2057</td><td> 0.213</td><td>Up    </td></tr>\n",
       "\t<tr><td>2001  </td><td> 0.213</td><td> 0.614</td><td>-0.623</td><td> 1.032</td><td> 0.959</td><td>1.3491</td><td> 1.392</td><td>Up    </td></tr>\n",
       "</tbody>\n",
       "</table>\n"
      ],
      "text/latex": [
       "\\begin{tabular}{r|lllllllll}\n",
       " Year & Lag1 & Lag2 & Lag3 & Lag4 & Lag5 & Volume & Today & Direction\\\\\n",
       "\\hline\n",
       "\t 2001   &  0.381 & -0.192 & -2.624 & -1.055 &  5.010 & 1.1913 &  0.959 & Up    \\\\\n",
       "\t 2001   &  0.959 &  0.381 & -0.192 & -2.624 & -1.055 & 1.2965 &  1.032 & Up    \\\\\n",
       "\t 2001   &  1.032 &  0.959 &  0.381 & -0.192 & -2.624 & 1.4112 & -0.623 & Down  \\\\\n",
       "\t 2001   & -0.623 &  1.032 &  0.959 &  0.381 & -0.192 & 1.2760 &  0.614 & Up    \\\\\n",
       "\t 2001   &  0.614 & -0.623 &  1.032 &  0.959 &  0.381 & 1.2057 &  0.213 & Up    \\\\\n",
       "\t 2001   &  0.213 &  0.614 & -0.623 &  1.032 &  0.959 & 1.3491 &  1.392 & Up    \\\\\n",
       "\\end{tabular}\n"
      ],
      "text/markdown": [
       "\n",
       "Year | Lag1 | Lag2 | Lag3 | Lag4 | Lag5 | Volume | Today | Direction | \n",
       "|---|---|---|---|---|---|\n",
       "| 2001   |  0.381 | -0.192 | -2.624 | -1.055 |  5.010 | 1.1913 |  0.959 | Up     | \n",
       "| 2001   |  0.959 |  0.381 | -0.192 | -2.624 | -1.055 | 1.2965 |  1.032 | Up     | \n",
       "| 2001   |  1.032 |  0.959 |  0.381 | -0.192 | -2.624 | 1.4112 | -0.623 | Down   | \n",
       "| 2001   | -0.623 |  1.032 |  0.959 |  0.381 | -0.192 | 1.2760 |  0.614 | Up     | \n",
       "| 2001   |  0.614 | -0.623 |  1.032 |  0.959 |  0.381 | 1.2057 |  0.213 | Up     | \n",
       "| 2001   |  0.213 |  0.614 | -0.623 |  1.032 |  0.959 | 1.3491 |  1.392 | Up     | \n",
       "\n",
       "\n"
      ],
      "text/plain": [
       "  Year Lag1   Lag2   Lag3   Lag4   Lag5   Volume Today  Direction\n",
       "1 2001  0.381 -0.192 -2.624 -1.055  5.010 1.1913  0.959 Up       \n",
       "2 2001  0.959  0.381 -0.192 -2.624 -1.055 1.2965  1.032 Up       \n",
       "3 2001  1.032  0.959  0.381 -0.192 -2.624 1.4112 -0.623 Down     \n",
       "4 2001 -0.623  1.032  0.959  0.381 -0.192 1.2760  0.614 Up       \n",
       "5 2001  0.614 -0.623  1.032  0.959  0.381 1.2057  0.213 Up       \n",
       "6 2001  0.213  0.614 -0.623  1.032  0.959 1.3491  1.392 Up       "
      ]
     },
     "metadata": {},
     "output_type": "display_data"
    }
   ],
   "source": [
    "head(Smarket)"
   ]
  },
  {
   "cell_type": "code",
   "execution_count": 29,
   "metadata": {},
   "outputs": [
    {
     "data": {
      "text/plain": [
       "      Year           Lag1                Lag2                Lag3          \n",
       " Min.   :2001   Min.   :-4.922000   Min.   :-4.922000   Min.   :-4.922000  \n",
       " 1st Qu.:2002   1st Qu.:-0.639500   1st Qu.:-0.639500   1st Qu.:-0.640000  \n",
       " Median :2003   Median : 0.039000   Median : 0.039000   Median : 0.038500  \n",
       " Mean   :2003   Mean   : 0.003834   Mean   : 0.003919   Mean   : 0.001716  \n",
       " 3rd Qu.:2004   3rd Qu.: 0.596750   3rd Qu.: 0.596750   3rd Qu.: 0.596750  \n",
       " Max.   :2005   Max.   : 5.733000   Max.   : 5.733000   Max.   : 5.733000  \n",
       "      Lag4                Lag5              Volume           Today          \n",
       " Min.   :-4.922000   Min.   :-4.92200   Min.   :0.3561   Min.   :-4.922000  \n",
       " 1st Qu.:-0.640000   1st Qu.:-0.64000   1st Qu.:1.2574   1st Qu.:-0.639500  \n",
       " Median : 0.038500   Median : 0.03850   Median :1.4229   Median : 0.038500  \n",
       " Mean   : 0.001636   Mean   : 0.00561   Mean   :1.4783   Mean   : 0.003138  \n",
       " 3rd Qu.: 0.596750   3rd Qu.: 0.59700   3rd Qu.:1.6417   3rd Qu.: 0.596750  \n",
       " Max.   : 5.733000   Max.   : 5.73300   Max.   :3.1525   Max.   : 5.733000  \n",
       " Direction \n",
       " Down:602  \n",
       " Up  :648  \n",
       "           \n",
       "           \n",
       "           \n",
       "           "
      ]
     },
     "metadata": {},
     "output_type": "display_data"
    }
   ],
   "source": [
    "summary(Smarket)"
   ]
  },
  {
   "cell_type": "code",
   "execution_count": 30,
   "metadata": {
    "collapsed": true
   },
   "outputs": [],
   "source": [
    "train <- Smarket$Year < 2005"
   ]
  },
  {
   "cell_type": "code",
   "execution_count": 31,
   "metadata": {},
   "outputs": [
    {
     "data": {
      "text/html": [
       "<ol class=list-inline>\n",
       "\t<li>TRUE</li>\n",
       "\t<li>TRUE</li>\n",
       "\t<li>TRUE</li>\n",
       "\t<li>TRUE</li>\n",
       "\t<li>TRUE</li>\n",
       "\t<li>TRUE</li>\n",
       "\t<li>TRUE</li>\n",
       "\t<li>TRUE</li>\n",
       "\t<li>TRUE</li>\n",
       "\t<li>TRUE</li>\n",
       "</ol>\n"
      ],
      "text/latex": [
       "\\begin{enumerate*}\n",
       "\\item TRUE\n",
       "\\item TRUE\n",
       "\\item TRUE\n",
       "\\item TRUE\n",
       "\\item TRUE\n",
       "\\item TRUE\n",
       "\\item TRUE\n",
       "\\item TRUE\n",
       "\\item TRUE\n",
       "\\item TRUE\n",
       "\\end{enumerate*}\n"
      ],
      "text/markdown": [
       "1. TRUE\n",
       "2. TRUE\n",
       "3. TRUE\n",
       "4. TRUE\n",
       "5. TRUE\n",
       "6. TRUE\n",
       "7. TRUE\n",
       "8. TRUE\n",
       "9. TRUE\n",
       "10. TRUE\n",
       "\n",
       "\n"
      ],
      "text/plain": [
       " [1] TRUE TRUE TRUE TRUE TRUE TRUE TRUE TRUE TRUE TRUE"
      ]
     },
     "metadata": {},
     "output_type": "display_data"
    }
   ],
   "source": [
    "train[0:10]"
   ]
  },
  {
   "cell_type": "code",
   "execution_count": 32,
   "metadata": {},
   "outputs": [
    {
     "data": {
      "text/html": [
       "<table>\n",
       "<thead><tr><th scope=col>Year</th><th scope=col>Lag1</th><th scope=col>Lag2</th><th scope=col>Lag3</th><th scope=col>Lag4</th><th scope=col>Lag5</th><th scope=col>Volume</th><th scope=col>Today</th><th scope=col>Direction</th></tr></thead>\n",
       "<tbody>\n",
       "\t<tr><td>2001  </td><td> 0.381</td><td>-0.192</td><td>-2.624</td><td>-1.055</td><td> 5.010</td><td>1.1913</td><td> 0.959</td><td>Up    </td></tr>\n",
       "\t<tr><td>2001  </td><td> 0.959</td><td> 0.381</td><td>-0.192</td><td>-2.624</td><td>-1.055</td><td>1.2965</td><td> 1.032</td><td>Up    </td></tr>\n",
       "\t<tr><td>2001  </td><td> 1.032</td><td> 0.959</td><td> 0.381</td><td>-0.192</td><td>-2.624</td><td>1.4112</td><td>-0.623</td><td>Down  </td></tr>\n",
       "\t<tr><td>2001  </td><td>-0.623</td><td> 1.032</td><td> 0.959</td><td> 0.381</td><td>-0.192</td><td>1.2760</td><td> 0.614</td><td>Up    </td></tr>\n",
       "\t<tr><td>2001  </td><td> 0.614</td><td>-0.623</td><td> 1.032</td><td> 0.959</td><td> 0.381</td><td>1.2057</td><td> 0.213</td><td>Up    </td></tr>\n",
       "\t<tr><td>2001  </td><td> 0.213</td><td> 0.614</td><td>-0.623</td><td> 1.032</td><td> 0.959</td><td>1.3491</td><td> 1.392</td><td>Up    </td></tr>\n",
       "\t<tr><td>2001  </td><td> 1.392</td><td> 0.213</td><td> 0.614</td><td>-0.623</td><td> 1.032</td><td>1.4450</td><td>-0.403</td><td>Down  </td></tr>\n",
       "\t<tr><td>2001  </td><td>-0.403</td><td> 1.392</td><td> 0.213</td><td> 0.614</td><td>-0.623</td><td>1.4078</td><td> 0.027</td><td>Up    </td></tr>\n",
       "\t<tr><td>2001  </td><td> 0.027</td><td>-0.403</td><td> 1.392</td><td> 0.213</td><td> 0.614</td><td>1.1640</td><td> 1.303</td><td>Up    </td></tr>\n",
       "\t<tr><td>2001  </td><td> 1.303</td><td> 0.027</td><td>-0.403</td><td> 1.392</td><td> 0.213</td><td>1.2326</td><td> 0.287</td><td>Up    </td></tr>\n",
       "</tbody>\n",
       "</table>\n"
      ],
      "text/latex": [
       "\\begin{tabular}{r|lllllllll}\n",
       " Year & Lag1 & Lag2 & Lag3 & Lag4 & Lag5 & Volume & Today & Direction\\\\\n",
       "\\hline\n",
       "\t 2001   &  0.381 & -0.192 & -2.624 & -1.055 &  5.010 & 1.1913 &  0.959 & Up    \\\\\n",
       "\t 2001   &  0.959 &  0.381 & -0.192 & -2.624 & -1.055 & 1.2965 &  1.032 & Up    \\\\\n",
       "\t 2001   &  1.032 &  0.959 &  0.381 & -0.192 & -2.624 & 1.4112 & -0.623 & Down  \\\\\n",
       "\t 2001   & -0.623 &  1.032 &  0.959 &  0.381 & -0.192 & 1.2760 &  0.614 & Up    \\\\\n",
       "\t 2001   &  0.614 & -0.623 &  1.032 &  0.959 &  0.381 & 1.2057 &  0.213 & Up    \\\\\n",
       "\t 2001   &  0.213 &  0.614 & -0.623 &  1.032 &  0.959 & 1.3491 &  1.392 & Up    \\\\\n",
       "\t 2001   &  1.392 &  0.213 &  0.614 & -0.623 &  1.032 & 1.4450 & -0.403 & Down  \\\\\n",
       "\t 2001   & -0.403 &  1.392 &  0.213 &  0.614 & -0.623 & 1.4078 &  0.027 & Up    \\\\\n",
       "\t 2001   &  0.027 & -0.403 &  1.392 &  0.213 &  0.614 & 1.1640 &  1.303 & Up    \\\\\n",
       "\t 2001   &  1.303 &  0.027 & -0.403 &  1.392 &  0.213 & 1.2326 &  0.287 & Up    \\\\\n",
       "\\end{tabular}\n"
      ],
      "text/markdown": [
       "\n",
       "Year | Lag1 | Lag2 | Lag3 | Lag4 | Lag5 | Volume | Today | Direction | \n",
       "|---|---|---|---|---|---|---|---|---|---|\n",
       "| 2001   |  0.381 | -0.192 | -2.624 | -1.055 |  5.010 | 1.1913 |  0.959 | Up     | \n",
       "| 2001   |  0.959 |  0.381 | -0.192 | -2.624 | -1.055 | 1.2965 |  1.032 | Up     | \n",
       "| 2001   |  1.032 |  0.959 |  0.381 | -0.192 | -2.624 | 1.4112 | -0.623 | Down   | \n",
       "| 2001   | -0.623 |  1.032 |  0.959 |  0.381 | -0.192 | 1.2760 |  0.614 | Up     | \n",
       "| 2001   |  0.614 | -0.623 |  1.032 |  0.959 |  0.381 | 1.2057 |  0.213 | Up     | \n",
       "| 2001   |  0.213 |  0.614 | -0.623 |  1.032 |  0.959 | 1.3491 |  1.392 | Up     | \n",
       "| 2001   |  1.392 |  0.213 |  0.614 | -0.623 |  1.032 | 1.4450 | -0.403 | Down   | \n",
       "| 2001   | -0.403 |  1.392 |  0.213 |  0.614 | -0.623 | 1.4078 |  0.027 | Up     | \n",
       "| 2001   |  0.027 | -0.403 |  1.392 |  0.213 |  0.614 | 1.1640 |  1.303 | Up     | \n",
       "| 2001   |  1.303 |  0.027 | -0.403 |  1.392 |  0.213 | 1.2326 |  0.287 | Up     | \n",
       "\n",
       "\n"
      ],
      "text/plain": [
       "   Year Lag1   Lag2   Lag3   Lag4   Lag5   Volume Today  Direction\n",
       "1  2001  0.381 -0.192 -2.624 -1.055  5.010 1.1913  0.959 Up       \n",
       "2  2001  0.959  0.381 -0.192 -2.624 -1.055 1.2965  1.032 Up       \n",
       "3  2001  1.032  0.959  0.381 -0.192 -2.624 1.4112 -0.623 Down     \n",
       "4  2001 -0.623  1.032  0.959  0.381 -0.192 1.2760  0.614 Up       \n",
       "5  2001  0.614 -0.623  1.032  0.959  0.381 1.2057  0.213 Up       \n",
       "6  2001  0.213  0.614 -0.623  1.032  0.959 1.3491  1.392 Up       \n",
       "7  2001  1.392  0.213  0.614 -0.623  1.032 1.4450 -0.403 Down     \n",
       "8  2001 -0.403  1.392  0.213  0.614 -0.623 1.4078  0.027 Up       \n",
       "9  2001  0.027 -0.403  1.392  0.213  0.614 1.1640  1.303 Up       \n",
       "10 2001  1.303  0.027 -0.403  1.392  0.213 1.2326  0.287 Up       "
      ]
     },
     "metadata": {},
     "output_type": "display_data"
    }
   ],
   "source": [
    "head(Smarket, 10)"
   ]
  },
  {
   "cell_type": "code",
   "execution_count": 33,
   "metadata": {},
   "outputs": [
    {
     "data": {
      "text/html": [
       "<ol class=list-inline>\n",
       "\t<li>1250</li>\n",
       "\t<li>9</li>\n",
       "</ol>\n"
      ],
      "text/latex": [
       "\\begin{enumerate*}\n",
       "\\item 1250\n",
       "\\item 9\n",
       "\\end{enumerate*}\n"
      ],
      "text/markdown": [
       "1. 1250\n",
       "2. 9\n",
       "\n",
       "\n"
      ],
      "text/plain": [
       "[1] 1250    9"
      ]
     },
     "metadata": {},
     "output_type": "display_data"
    }
   ],
   "source": [
    "dim(Smarket)"
   ]
  },
  {
   "cell_type": "code",
   "execution_count": 34,
   "metadata": {},
   "outputs": [
    {
     "data": {
      "text/html": [
       "<table>\n",
       "<thead><tr><th></th><th scope=col>Year</th><th scope=col>Lag1</th><th scope=col>Lag2</th><th scope=col>Lag3</th><th scope=col>Lag4</th><th scope=col>Lag5</th><th scope=col>Volume</th><th scope=col>Today</th><th scope=col>Direction</th></tr></thead>\n",
       "<tbody>\n",
       "\t<tr><th scope=row>999</th><td>2005  </td><td>-0.134</td><td> 0.008</td><td>-0.007</td><td> 0.715</td><td>-0.431</td><td>0.7869</td><td>-0.812</td><td>Down  </td></tr>\n",
       "\t<tr><th scope=row>1000</th><td>2005  </td><td>-0.812</td><td>-0.134</td><td> 0.008</td><td>-0.007</td><td> 0.715</td><td>1.5108</td><td>-1.167</td><td>Down  </td></tr>\n",
       "\t<tr><th scope=row>1001</th><td>2005  </td><td>-1.167</td><td>-0.812</td><td>-0.134</td><td> 0.008</td><td>-0.007</td><td>1.7210</td><td>-0.363</td><td>Down  </td></tr>\n",
       "\t<tr><th scope=row>1002</th><td>2005  </td><td>-0.363</td><td>-1.167</td><td>-0.812</td><td>-0.134</td><td> 0.008</td><td>1.7389</td><td> 0.351</td><td>Up    </td></tr>\n",
       "\t<tr><th scope=row>1003</th><td>2005  </td><td> 0.351</td><td>-0.363</td><td>-1.167</td><td>-0.812</td><td>-0.134</td><td>1.5691</td><td>-0.143</td><td>Down  </td></tr>\n",
       "\t<tr><th scope=row>1004</th><td>2005  </td><td>-0.143</td><td> 0.351</td><td>-0.363</td><td>-1.167</td><td>-0.812</td><td>1.4779</td><td> 0.342</td><td>Up    </td></tr>\n",
       "\t<tr><th scope=row>1005</th><td>2005  </td><td> 0.342</td><td>-0.143</td><td> 0.351</td><td>-0.363</td><td>-1.167</td><td>1.4904</td><td>-0.610</td><td>Down  </td></tr>\n",
       "\t<tr><th scope=row>1006</th><td>2005  </td><td>-0.610</td><td> 0.342</td><td>-0.143</td><td> 0.351</td><td>-0.363</td><td>1.4888</td><td> 0.398</td><td>Up    </td></tr>\n",
       "\t<tr><th scope=row>1007</th><td>2005  </td><td> 0.398</td><td>-0.610</td><td> 0.342</td><td>-0.143</td><td> 0.351</td><td>1.5621</td><td>-0.863</td><td>Down  </td></tr>\n",
       "\t<tr><th scope=row>1008</th><td>2005  </td><td>-0.863</td><td> 0.398</td><td>-0.610</td><td> 0.342</td><td>-0.143</td><td>1.5103</td><td> 0.600</td><td>Up    </td></tr>\n",
       "</tbody>\n",
       "</table>\n"
      ],
      "text/latex": [
       "\\begin{tabular}{r|lllllllll}\n",
       "  & Year & Lag1 & Lag2 & Lag3 & Lag4 & Lag5 & Volume & Today & Direction\\\\\n",
       "\\hline\n",
       "\t999 & 2005   & -0.134 &  0.008 & -0.007 &  0.715 & -0.431 & 0.7869 & -0.812 & Down  \\\\\n",
       "\t1000 & 2005   & -0.812 & -0.134 &  0.008 & -0.007 &  0.715 & 1.5108 & -1.167 & Down  \\\\\n",
       "\t1001 & 2005   & -1.167 & -0.812 & -0.134 &  0.008 & -0.007 & 1.7210 & -0.363 & Down  \\\\\n",
       "\t1002 & 2005   & -0.363 & -1.167 & -0.812 & -0.134 &  0.008 & 1.7389 &  0.351 & Up    \\\\\n",
       "\t1003 & 2005   &  0.351 & -0.363 & -1.167 & -0.812 & -0.134 & 1.5691 & -0.143 & Down  \\\\\n",
       "\t1004 & 2005   & -0.143 &  0.351 & -0.363 & -1.167 & -0.812 & 1.4779 &  0.342 & Up    \\\\\n",
       "\t1005 & 2005   &  0.342 & -0.143 &  0.351 & -0.363 & -1.167 & 1.4904 & -0.610 & Down  \\\\\n",
       "\t1006 & 2005   & -0.610 &  0.342 & -0.143 &  0.351 & -0.363 & 1.4888 &  0.398 & Up    \\\\\n",
       "\t1007 & 2005   &  0.398 & -0.610 &  0.342 & -0.143 &  0.351 & 1.5621 & -0.863 & Down  \\\\\n",
       "\t1008 & 2005   & -0.863 &  0.398 & -0.610 &  0.342 & -0.143 & 1.5103 &  0.600 & Up    \\\\\n",
       "\\end{tabular}\n"
      ],
      "text/markdown": [
       "\n",
       "| <!--/--> | Year | Lag1 | Lag2 | Lag3 | Lag4 | Lag5 | Volume | Today | Direction | \n",
       "|---|---|---|---|---|---|---|---|---|---|\n",
       "| 999 | 2005   | -0.134 |  0.008 | -0.007 |  0.715 | -0.431 | 0.7869 | -0.812 | Down   | \n",
       "| 1000 | 2005   | -0.812 | -0.134 |  0.008 | -0.007 |  0.715 | 1.5108 | -1.167 | Down   | \n",
       "| 1001 | 2005   | -1.167 | -0.812 | -0.134 |  0.008 | -0.007 | 1.7210 | -0.363 | Down   | \n",
       "| 1002 | 2005   | -0.363 | -1.167 | -0.812 | -0.134 |  0.008 | 1.7389 |  0.351 | Up     | \n",
       "| 1003 | 2005   |  0.351 | -0.363 | -1.167 | -0.812 | -0.134 | 1.5691 | -0.143 | Down   | \n",
       "| 1004 | 2005   | -0.143 |  0.351 | -0.363 | -1.167 | -0.812 | 1.4779 |  0.342 | Up     | \n",
       "| 1005 | 2005   |  0.342 | -0.143 |  0.351 | -0.363 | -1.167 | 1.4904 | -0.610 | Down   | \n",
       "| 1006 | 2005   | -0.610 |  0.342 | -0.143 |  0.351 | -0.363 | 1.4888 |  0.398 | Up     | \n",
       "| 1007 | 2005   |  0.398 | -0.610 |  0.342 | -0.143 |  0.351 | 1.5621 | -0.863 | Down   | \n",
       "| 1008 | 2005   | -0.863 |  0.398 | -0.610 |  0.342 | -0.143 | 1.5103 |  0.600 | Up     | \n",
       "\n",
       "\n"
      ],
      "text/plain": [
       "     Year Lag1   Lag2   Lag3   Lag4   Lag5   Volume Today  Direction\n",
       "999  2005 -0.134  0.008 -0.007  0.715 -0.431 0.7869 -0.812 Down     \n",
       "1000 2005 -0.812 -0.134  0.008 -0.007  0.715 1.5108 -1.167 Down     \n",
       "1001 2005 -1.167 -0.812 -0.134  0.008 -0.007 1.7210 -0.363 Down     \n",
       "1002 2005 -0.363 -1.167 -0.812 -0.134  0.008 1.7389  0.351 Up       \n",
       "1003 2005  0.351 -0.363 -1.167 -0.812 -0.134 1.5691 -0.143 Down     \n",
       "1004 2005 -0.143  0.351 -0.363 -1.167 -0.812 1.4779  0.342 Up       \n",
       "1005 2005  0.342 -0.143  0.351 -0.363 -1.167 1.4904 -0.610 Down     \n",
       "1006 2005 -0.610  0.342 -0.143  0.351 -0.363 1.4888  0.398 Up       \n",
       "1007 2005  0.398 -0.610  0.342 -0.143  0.351 1.5621 -0.863 Down     \n",
       "1008 2005 -0.863  0.398 -0.610  0.342 -0.143 1.5103  0.600 Up       "
      ]
     },
     "metadata": {},
     "output_type": "display_data"
    }
   ],
   "source": [
    "Smarket.2005 <- Smarket[!train,]\n",
    "\n",
    "head(Smarket.2005, 10)"
   ]
  },
  {
   "cell_type": "code",
   "execution_count": 35,
   "metadata": {},
   "outputs": [
    {
     "data": {
      "text/html": [
       "<ol class=list-inline>\n",
       "\t<li>252</li>\n",
       "\t<li>9</li>\n",
       "</ol>\n"
      ],
      "text/latex": [
       "\\begin{enumerate*}\n",
       "\\item 252\n",
       "\\item 9\n",
       "\\end{enumerate*}\n"
      ],
      "text/markdown": [
       "1. 252\n",
       "2. 9\n",
       "\n",
       "\n"
      ],
      "text/plain": [
       "[1] 252   9"
      ]
     },
     "metadata": {},
     "output_type": "display_data"
    }
   ],
   "source": [
    "dim(Smarket.2005)"
   ]
  },
  {
   "cell_type": "code",
   "execution_count": 36,
   "metadata": {},
   "outputs": [
    {
     "data": {
      "text/html": [
       "<ol class=list-inline>\n",
       "\t<li>Down</li>\n",
       "\t<li>Down</li>\n",
       "\t<li>Down</li>\n",
       "\t<li>Up</li>\n",
       "\t<li>Down</li>\n",
       "\t<li>Up</li>\n",
       "\t<li>Down</li>\n",
       "\t<li>Up</li>\n",
       "\t<li>Down</li>\n",
       "\t<li>Up</li>\n",
       "</ol>\n"
      ],
      "text/latex": [
       "\\begin{enumerate*}\n",
       "\\item Down\n",
       "\\item Down\n",
       "\\item Down\n",
       "\\item Up\n",
       "\\item Down\n",
       "\\item Up\n",
       "\\item Down\n",
       "\\item Up\n",
       "\\item Down\n",
       "\\item Up\n",
       "\\end{enumerate*}\n"
      ],
      "text/markdown": [
       "1. Down\n",
       "2. Down\n",
       "3. Down\n",
       "4. Up\n",
       "5. Down\n",
       "6. Up\n",
       "7. Down\n",
       "8. Up\n",
       "9. Down\n",
       "10. Up\n",
       "\n",
       "\n"
      ],
      "text/plain": [
       " [1] Down Down Down Up   Down Up   Down Up   Down Up  \n",
       "Levels: Down Up"
      ]
     },
     "metadata": {},
     "output_type": "display_data"
    }
   ],
   "source": [
    "Direction.2005 <- Smarket$Direction[!train]\n",
    "\n",
    "Direction.2005[0:10]"
   ]
  },
  {
   "cell_type": "code",
   "execution_count": 37,
   "metadata": {
    "collapsed": true
   },
   "outputs": [],
   "source": [
    "lda.fit <- lda(Direction ~ Lag1 + Lag2, \n",
    "                  data = Smarket, \n",
    "                  subset = train)"
   ]
  },
  {
   "cell_type": "code",
   "execution_count": 38,
   "metadata": {},
   "outputs": [
    {
     "data": {
      "text/plain": [
       "Call:\n",
       "lda(Direction ~ Lag1 + Lag2, data = Smarket, subset = train)\n",
       "\n",
       "Prior probabilities of groups:\n",
       "    Down       Up \n",
       "0.491984 0.508016 \n",
       "\n",
       "Group means:\n",
       "            Lag1        Lag2\n",
       "Down  0.04279022  0.03389409\n",
       "Up   -0.03954635 -0.03132544\n",
       "\n",
       "Coefficients of linear discriminants:\n",
       "            LD1\n",
       "Lag1 -0.6420190\n",
       "Lag2 -0.5135293"
      ]
     },
     "metadata": {},
     "output_type": "display_data"
    }
   ],
   "source": [
    "lda.fit"
   ]
  },
  {
   "cell_type": "code",
   "execution_count": null,
   "metadata": {
    "collapsed": true
   },
   "outputs": [],
   "source": []
  }
 ],
 "metadata": {
  "kernelspec": {
   "display_name": "R",
   "language": "R",
   "name": "ir"
  },
  "language_info": {
   "codemirror_mode": "r",
   "file_extension": ".r",
   "mimetype": "text/x-r-source",
   "name": "R",
   "pygments_lexer": "r",
   "version": "3.4.1"
  }
 },
 "nbformat": 4,
 "nbformat_minor": 2
}
